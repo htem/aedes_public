{
 "cells": [
  {
   "cell_type": "code",
   "execution_count": 1,
   "id": "552a7a6f",
   "metadata": {},
   "outputs": [
    {
     "name": "stderr",
     "output_type": "stream",
     "text": [
      "INFO  : Global CATMAID instance set. Caching is ON. (pymaid)\n"
     ]
    }
   ],
   "source": [
    "import pymaid\n",
    "import navis as nv\n",
    "import pandas as pd\n",
    "import matplotlib.pyplot as plt\n",
    "import seaborn as sns\n",
    "import numpy as np\n",
    "from statistics import mean, stdev\n",
    "import scipy.stats as stats\n",
    "import scikit_posthocs as sp\n",
    "\n",
    "#connect your catmaid instance\n",
    "instance=pymaid.CatmaidInstance('https://radagast.hms.harvard.edu/catmaidaedes',\"d2a69935210ef282654219ea391094e8599c851e\")"
   ]
  },
  {
   "cell_type": "code",
   "execution_count": 2,
   "id": "f6a1455f",
   "metadata": {},
   "outputs": [],
   "source": [
    "def uPN_synapses_over_OSN_synapses(OSNid, uPNid):\n",
    "    # Feedforward synapses / total output synapses.\n",
    "    # uPN must be '295', '690', '11126' as type() == string.\n",
    "    # for OSNs, can be either type() == string or int.\n",
    "    # Only use skeleton id, NOT SKELETON NAME.\n",
    "    \n",
    "    uPNid = str(uPNid)\n",
    "    uPNdict = {'295': \"MD1\", '690': 'MD2', '11126': 'MD3'}\n",
    "    \n",
    "    # These annotations are used to get and compare OSNs with provided OSN\n",
    "    OSN_annotations = ['sensory neuron', 'left palp nerve', 'PSPs done']\n",
    "    \n",
    "    # adds annotation based on provided uPN.\n",
    "    OSN_annotations.append('innervates ' + uPNdict.get(uPNid))\n",
    "\n",
    "    # Finds all of the synapses the given OSN is presynaptic to\n",
    "    OSN_neuron = pymaid.get_neuron(OSNid)\n",
    "    df = pymaid.get_connector_details(OSN_neuron)\n",
    "    #total_OSN_synapses = len(df[df.presynaptic_to == OSNid])\n",
    "    \n",
    "    # Finds partners\n",
    "    df1 = pymaid.get_partners(OSNid).set_index('skeleton_id')\n",
    "    \n",
    "    #sum ALL outgoing synapses\n",
    "    total_OSN_synapses=sum(df1[df1.relation=='downstream'].total)\n",
    "\n",
    "    # Tries to find the given OSN and uPN connections, and finds their totals\n",
    "    try:\n",
    "        total_uPN_synapses = df1[df1.relation == 'downstream'].loc[uPNid].total\n",
    "    except:\n",
    "        return \"OSN is not connected to given uPN.\"\n",
    "    \n",
    "    # Gets skeletons by given annotations above\n",
    "    OSNs = pymaid.get_skids_by_annotation('sensory neuron', 'left palp nerve', intersect=True)\n",
    "\n",
    "    # finds the total recurrent connectivity by summing along the axis of a 1-dimensional adjacency matrix\n",
    "    total_recurrent = float(pymaid.adjacency_matrix(sources=OSNid, targets=OSNs).sum(axis=1))\n",
    "    \n",
    "    # Print statements cuz why not\n",
    "    print(f\"Total Recurrent Synapses   = {total_recurrent}\")\n",
    "    print(f\"Total Feedforward Synapses = {total_uPN_synapses}\")\n",
    "    print(f\"Total {OSNid} Synapses     = {total_OSN_synapses}\")\n",
    "    print()\n",
    "    print(\"(Recurrent / Total Output Synapses, Feedforward / Total Output Synapses)\")\n",
    "    \n",
    "    # returns dictionary of data, can be converted to DataFrame by looping over target synapses\n",
    "    return {'uPN id': uPNid, 'OSN id': OSNid, 'Recurrent Synapses': total_recurrent, 'Feedforward Synapses': total_uPN_synapses, \n",
    "            \"Total OSN Synapses (Presynaptic)\": total_OSN_synapses, \"Recurrent Fraction\": (total_recurrent / total_OSN_synapses), \n",
    "            \"Feedforward Fraction\": (total_uPN_synapses / total_OSN_synapses)}"
   ]
  },
  {
   "cell_type": "code",
   "execution_count": 3,
   "id": "d61a8a55",
   "metadata": {},
   "outputs": [
    {
     "data": {
      "application/vnd.jupyter.widget-view+json": {
       "model_id": "",
       "version_major": 2,
       "version_minor": 0
      },
      "text/plain": [
       "CN details:   0%|          | 0/1226 [00:00<?, ?it/s]"
      ]
     },
     "metadata": {},
     "output_type": "display_data"
    },
    {
     "name": "stderr",
     "output_type": "stream",
     "text": [
      "INFO  : Data for 1226 of 1226 unique connector IDs retrieved (pymaid)\n",
      "INFO  : Fetching connectivity table for 1 neurons (pymaid)\n",
      "INFO  : Done. Found 157 pre-, 441 postsynaptic and 0 gap junction-connected neurons (pymaid)\n",
      "INFO  : Cached data used. Use `pymaid.clear_cache()` to clear. (pymaid)\n"
     ]
    },
    {
     "name": "stdout",
     "output_type": "stream",
     "text": [
      "Total Recurrent Synapses   = 336.0\n",
      "Total Feedforward Synapses = 160.0\n",
      "Total 7172 Synapses     = 1854.0\n",
      "\n",
      "(Recurrent / Total Output Synapses, Feedforward / Total Output Synapses)\n"
     ]
    },
    {
     "data": {
      "application/vnd.jupyter.widget-view+json": {
       "model_id": "",
       "version_major": 2,
       "version_minor": 0
      },
      "text/plain": [
       "CN details:   0%|          | 0/739 [00:00<?, ?it/s]"
      ]
     },
     "metadata": {},
     "output_type": "display_data"
    },
    {
     "name": "stderr",
     "output_type": "stream",
     "text": [
      "INFO  : Data for 739 of 739 unique connector IDs retrieved (pymaid)\n",
      "INFO  : Fetching connectivity table for 1 neurons (pymaid)\n",
      "INFO  : Done. Found 92 pre-, 409 postsynaptic and 0 gap junction-connected neurons (pymaid)\n",
      "INFO  : Cached data used. Use `pymaid.clear_cache()` to clear. (pymaid)\n",
      "INFO  : Cached data used. Use `pymaid.clear_cache()` to clear. (pymaid)\n"
     ]
    },
    {
     "name": "stdout",
     "output_type": "stream",
     "text": [
      "Total Recurrent Synapses   = 288.0\n",
      "Total Feedforward Synapses = 158.0\n",
      "Total 7815 Synapses     = 1672.0\n",
      "\n",
      "(Recurrent / Total Output Synapses, Feedforward / Total Output Synapses)\n"
     ]
    },
    {
     "data": {
      "application/vnd.jupyter.widget-view+json": {
       "model_id": "",
       "version_major": 2,
       "version_minor": 0
      },
      "text/plain": [
       "CN details:   0%|          | 0/695 [00:00<?, ?it/s]"
      ]
     },
     "metadata": {},
     "output_type": "display_data"
    },
    {
     "name": "stderr",
     "output_type": "stream",
     "text": [
      "INFO  : Data for 695 of 695 unique connector IDs retrieved (pymaid)\n",
      "INFO  : Fetching connectivity table for 1 neurons (pymaid)\n",
      "INFO  : Done. Found 94 pre-, 310 postsynaptic and 0 gap junction-connected neurons (pymaid)\n",
      "INFO  : Cached data used. Use `pymaid.clear_cache()` to clear. (pymaid)\n",
      "INFO  : Cached data used. Use `pymaid.clear_cache()` to clear. (pymaid)\n"
     ]
    },
    {
     "name": "stdout",
     "output_type": "stream",
     "text": [
      "Total Recurrent Synapses   = 298.0\n",
      "Total Feedforward Synapses = 113.0\n",
      "Total 873 Synapses     = 1324.0\n",
      "\n",
      "(Recurrent / Total Output Synapses, Feedforward / Total Output Synapses)\n"
     ]
    },
    {
     "data": {
      "application/vnd.jupyter.widget-view+json": {
       "model_id": "",
       "version_major": 2,
       "version_minor": 0
      },
      "text/plain": [
       "CN details:   0%|          | 0/929 [00:00<?, ?it/s]"
      ]
     },
     "metadata": {},
     "output_type": "display_data"
    },
    {
     "name": "stderr",
     "output_type": "stream",
     "text": [
      "INFO  : Data for 929 of 929 unique connector IDs retrieved (pymaid)\n",
      "INFO  : Fetching connectivity table for 1 neurons (pymaid)\n",
      "INFO  : Done. Found 128 pre-, 232 postsynaptic and 0 gap junction-connected neurons (pymaid)\n",
      "INFO  : Cached data used. Use `pymaid.clear_cache()` to clear. (pymaid)\n",
      "INFO  : Cached data used. Use `pymaid.clear_cache()` to clear. (pymaid)\n"
     ]
    },
    {
     "name": "stdout",
     "output_type": "stream",
     "text": [
      "Total Recurrent Synapses   = 301.0\n",
      "Total Feedforward Synapses = 115.0\n",
      "Total 6736 Synapses     = 1292.0\n",
      "\n",
      "(Recurrent / Total Output Synapses, Feedforward / Total Output Synapses)\n"
     ]
    },
    {
     "data": {
      "application/vnd.jupyter.widget-view+json": {
       "model_id": "",
       "version_major": 2,
       "version_minor": 0
      },
      "text/plain": [
       "CN details:   0%|          | 0/1095 [00:00<?, ?it/s]"
      ]
     },
     "metadata": {},
     "output_type": "display_data"
    },
    {
     "name": "stderr",
     "output_type": "stream",
     "text": [
      "INFO  : Data for 1095 of 1095 unique connector IDs retrieved (pymaid)\n",
      "INFO  : Fetching connectivity table for 1 neurons (pymaid)\n",
      "INFO  : Done. Found 145 pre-, 340 postsynaptic and 0 gap junction-connected neurons (pymaid)\n",
      "INFO  : Cached data used. Use `pymaid.clear_cache()` to clear. (pymaid)\n",
      "INFO  : Cached data used. Use `pymaid.clear_cache()` to clear. (pymaid)\n"
     ]
    },
    {
     "name": "stdout",
     "output_type": "stream",
     "text": [
      "Total Recurrent Synapses   = 365.0\n",
      "Total Feedforward Synapses = 155.0\n",
      "Total 881 Synapses     = 1574.0\n",
      "\n",
      "(Recurrent / Total Output Synapses, Feedforward / Total Output Synapses)\n"
     ]
    },
    {
     "data": {
      "application/vnd.jupyter.widget-view+json": {
       "model_id": "",
       "version_major": 2,
       "version_minor": 0
      },
      "text/plain": [
       "CN details:   0%|          | 0/665 [00:00<?, ?it/s]"
      ]
     },
     "metadata": {},
     "output_type": "display_data"
    },
    {
     "name": "stderr",
     "output_type": "stream",
     "text": [
      "INFO  : Data for 665 of 665 unique connector IDs retrieved (pymaid)\n",
      "INFO  : Fetching connectivity table for 1 neurons (pymaid)\n",
      "INFO  : Done. Found 92 pre-, 339 postsynaptic and 0 gap junction-connected neurons (pymaid)\n",
      "INFO  : Cached data used. Use `pymaid.clear_cache()` to clear. (pymaid)\n",
      "INFO  : Cached data used. Use `pymaid.clear_cache()` to clear. (pymaid)\n"
     ]
    },
    {
     "name": "stdout",
     "output_type": "stream",
     "text": [
      "Total Recurrent Synapses   = 334.0\n",
      "Total Feedforward Synapses = 145.0\n",
      "Total 6975 Synapses     = 1523.0\n",
      "\n",
      "(Recurrent / Total Output Synapses, Feedforward / Total Output Synapses)\n"
     ]
    },
    {
     "data": {
      "application/vnd.jupyter.widget-view+json": {
       "model_id": "",
       "version_major": 2,
       "version_minor": 0
      },
      "text/plain": [
       "CN details:   0%|          | 0/1055 [00:00<?, ?it/s]"
      ]
     },
     "metadata": {},
     "output_type": "display_data"
    },
    {
     "name": "stderr",
     "output_type": "stream",
     "text": [
      "INFO  : Data for 1055 of 1055 unique connector IDs retrieved (pymaid)\n",
      "INFO  : Fetching connectivity table for 1 neurons (pymaid)\n",
      "INFO  : Done. Found 151 pre-, 418 postsynaptic and 0 gap junction-connected neurons (pymaid)\n",
      "INFO  : Cached data used. Use `pymaid.clear_cache()` to clear. (pymaid)\n",
      "INFO  : Cached data used. Use `pymaid.clear_cache()` to clear. (pymaid)\n"
     ]
    },
    {
     "name": "stdout",
     "output_type": "stream",
     "text": [
      "Total Recurrent Synapses   = 305.0\n",
      "Total Feedforward Synapses = 184.0\n",
      "Total 324409 Synapses     = 1837.0\n",
      "\n",
      "(Recurrent / Total Output Synapses, Feedforward / Total Output Synapses)\n"
     ]
    },
    {
     "data": {
      "application/vnd.jupyter.widget-view+json": {
       "model_id": "",
       "version_major": 2,
       "version_minor": 0
      },
      "text/plain": [
       "CN details:   0%|          | 0/1068 [00:00<?, ?it/s]"
      ]
     },
     "metadata": {},
     "output_type": "display_data"
    },
    {
     "name": "stderr",
     "output_type": "stream",
     "text": [
      "INFO  : Data for 1068 of 1068 unique connector IDs retrieved (pymaid)\n",
      "INFO  : Fetching connectivity table for 1 neurons (pymaid)\n",
      "INFO  : Done. Found 141 pre-, 386 postsynaptic and 0 gap junction-connected neurons (pymaid)\n",
      "INFO  : Cached data used. Use `pymaid.clear_cache()` to clear. (pymaid)\n",
      "INFO  : Cached data used. Use `pymaid.clear_cache()` to clear. (pymaid)\n"
     ]
    },
    {
     "name": "stdout",
     "output_type": "stream",
     "text": [
      "Total Recurrent Synapses   = 309.0\n",
      "Total Feedforward Synapses = 151.0\n",
      "Total 953 Synapses     = 1584.0\n",
      "\n",
      "(Recurrent / Total Output Synapses, Feedforward / Total Output Synapses)\n"
     ]
    },
    {
     "data": {
      "application/vnd.jupyter.widget-view+json": {
       "model_id": "",
       "version_major": 2,
       "version_minor": 0
      },
      "text/plain": [
       "CN details:   0%|          | 0/388 [00:00<?, ?it/s]"
      ]
     },
     "metadata": {},
     "output_type": "display_data"
    },
    {
     "name": "stderr",
     "output_type": "stream",
     "text": [
      "INFO  : Data for 388 of 388 unique connector IDs retrieved (pymaid)\n",
      "INFO  : Fetching connectivity table for 1 neurons (pymaid)\n",
      "INFO  : Done. Found 68 pre-, 231 postsynaptic and 0 gap junction-connected neurons (pymaid)\n",
      "INFO  : Cached data used. Use `pymaid.clear_cache()` to clear. (pymaid)\n",
      "INFO  : Cached data used. Use `pymaid.clear_cache()` to clear. (pymaid)\n"
     ]
    },
    {
     "name": "stdout",
     "output_type": "stream",
     "text": [
      "Total Recurrent Synapses   = 148.0\n",
      "Total Feedforward Synapses = 89.0\n",
      "Total 5021 Synapses     = 800.0\n",
      "\n",
      "(Recurrent / Total Output Synapses, Feedforward / Total Output Synapses)\n"
     ]
    },
    {
     "data": {
      "application/vnd.jupyter.widget-view+json": {
       "model_id": "",
       "version_major": 2,
       "version_minor": 0
      },
      "text/plain": [
       "CN details:   0%|          | 0/1107 [00:00<?, ?it/s]"
      ]
     },
     "metadata": {},
     "output_type": "display_data"
    },
    {
     "name": "stderr",
     "output_type": "stream",
     "text": [
      "INFO  : Data for 1107 of 1107 unique connector IDs retrieved (pymaid)\n",
      "INFO  : Fetching connectivity table for 1 neurons (pymaid)\n",
      "INFO  : Done. Found 160 pre-, 487 postsynaptic and 0 gap junction-connected neurons (pymaid)\n",
      "INFO  : Cached data used. Use `pymaid.clear_cache()` to clear. (pymaid)\n",
      "INFO  : Cached data used. Use `pymaid.clear_cache()` to clear. (pymaid)\n"
     ]
    },
    {
     "name": "stdout",
     "output_type": "stream",
     "text": [
      "Total Recurrent Synapses   = 267.0\n",
      "Total Feedforward Synapses = 132.0\n",
      "Total 671 Synapses     = 1670.0\n",
      "\n",
      "(Recurrent / Total Output Synapses, Feedforward / Total Output Synapses)\n",
      "[0.08629989212513485, 0.09449760765550239, 0.08534743202416918, 0.0890092879256966, 0.09847522236340533, 0.09520682862770848, 0.10016330974414807, 0.09532828282828283, 0.11125, 0.07904191616766468]\n",
      "[0.18122977346278318, 0.1722488038277512, 0.22507552870090636, 0.23297213622291021, 0.23189326556543838, 0.21930400525279053, 0.16603157321720197, 0.19507575757575757, 0.185, 0.1598802395209581]\n"
     ]
    }
   ],
   "source": [
    "MD1_OSNs = pymaid.get_skids_by_annotation(['sensory neuron', 'left palp nerve', 'PSPs done', 'innervates MD1'], \n",
    "                                                intersect=True)\n",
    "\n",
    "MD1_OSNs = [uPN_synapses_over_OSN_synapses(i, '295') for i in MD1_OSNs]\n",
    "\n",
    "MD1_OSNs = pd.DataFrame(MD1_OSNs).set_index('OSN id')\n",
    "\n",
    "md1_feedforward=MD1_OSNs['Feedforward Fraction'].tolist()\n",
    "print(md1_feedforward)\n",
    "md1_recurrent=MD1_OSNs['Recurrent Fraction'].tolist()\n",
    "print(md1_recurrent)"
   ]
  },
  {
   "cell_type": "code",
   "execution_count": 4,
   "id": "c78982ae",
   "metadata": {},
   "outputs": [
    {
     "name": "stderr",
     "output_type": "stream",
     "text": [
      "INFO  : Cached data used. Use `pymaid.clear_cache()` to clear. (pymaid)\n"
     ]
    },
    {
     "data": {
      "application/vnd.jupyter.widget-view+json": {
       "model_id": "",
       "version_major": 2,
       "version_minor": 0
      },
      "text/plain": [
       "CN details:   0%|          | 0/310 [00:00<?, ?it/s]"
      ]
     },
     "metadata": {},
     "output_type": "display_data"
    },
    {
     "name": "stderr",
     "output_type": "stream",
     "text": [
      "INFO  : Data for 310 of 310 unique connector IDs retrieved (pymaid)\n",
      "INFO  : Fetching connectivity table for 1 neurons (pymaid)\n",
      "INFO  : Done. Found 86 pre-, 222 postsynaptic and 0 gap junction-connected neurons (pymaid)\n",
      "INFO  : Cached data used. Use `pymaid.clear_cache()` to clear. (pymaid)\n",
      "INFO  : Cached data used. Use `pymaid.clear_cache()` to clear. (pymaid)\n"
     ]
    },
    {
     "name": "stdout",
     "output_type": "stream",
     "text": [
      "Total Recurrent Synapses   = 60.0\n",
      "Total Feedforward Synapses = 103.0\n",
      "Total 9064 Synapses     = 506.0\n",
      "\n",
      "(Recurrent / Total Output Synapses, Feedforward / Total Output Synapses)\n"
     ]
    },
    {
     "data": {
      "application/vnd.jupyter.widget-view+json": {
       "model_id": "",
       "version_major": 2,
       "version_minor": 0
      },
      "text/plain": [
       "CN details:   0%|          | 0/270 [00:00<?, ?it/s]"
      ]
     },
     "metadata": {},
     "output_type": "display_data"
    },
    {
     "name": "stderr",
     "output_type": "stream",
     "text": [
      "INFO  : Data for 270 of 270 unique connector IDs retrieved (pymaid)\n",
      "INFO  : Fetching connectivity table for 1 neurons (pymaid)\n",
      "INFO  : Done. Found 66 pre-, 200 postsynaptic and 0 gap junction-connected neurons (pymaid)\n",
      "INFO  : Cached data used. Use `pymaid.clear_cache()` to clear. (pymaid)\n",
      "INFO  : Cached data used. Use `pymaid.clear_cache()` to clear. (pymaid)\n"
     ]
    },
    {
     "name": "stdout",
     "output_type": "stream",
     "text": [
      "Total Recurrent Synapses   = 86.0\n",
      "Total Feedforward Synapses = 112.0\n",
      "Total 7209 Synapses     = 514.0\n",
      "\n",
      "(Recurrent / Total Output Synapses, Feedforward / Total Output Synapses)\n"
     ]
    },
    {
     "data": {
      "application/vnd.jupyter.widget-view+json": {
       "model_id": "",
       "version_major": 2,
       "version_minor": 0
      },
      "text/plain": [
       "CN details:   0%|          | 0/223 [00:00<?, ?it/s]"
      ]
     },
     "metadata": {},
     "output_type": "display_data"
    },
    {
     "name": "stderr",
     "output_type": "stream",
     "text": [
      "INFO  : Data for 223 of 223 unique connector IDs retrieved (pymaid)\n",
      "INFO  : Fetching connectivity table for 1 neurons (pymaid)\n",
      "INFO  : Done. Found 44 pre-, 177 postsynaptic and 0 gap junction-connected neurons (pymaid)\n",
      "INFO  : Cached data used. Use `pymaid.clear_cache()` to clear. (pymaid)\n",
      "INFO  : Cached data used. Use `pymaid.clear_cache()` to clear. (pymaid)\n"
     ]
    },
    {
     "name": "stdout",
     "output_type": "stream",
     "text": [
      "Total Recurrent Synapses   = 73.0\n",
      "Total Feedforward Synapses = 100.0\n",
      "Total 718 Synapses     = 425.0\n",
      "\n",
      "(Recurrent / Total Output Synapses, Feedforward / Total Output Synapses)\n"
     ]
    },
    {
     "data": {
      "application/vnd.jupyter.widget-view+json": {
       "model_id": "",
       "version_major": 2,
       "version_minor": 0
      },
      "text/plain": [
       "CN details:   0%|          | 0/219 [00:00<?, ?it/s]"
      ]
     },
     "metadata": {},
     "output_type": "display_data"
    },
    {
     "name": "stderr",
     "output_type": "stream",
     "text": [
      "INFO  : Data for 219 of 219 unique connector IDs retrieved (pymaid)\n",
      "INFO  : Fetching connectivity table for 1 neurons (pymaid)\n",
      "INFO  : Done. Found 51 pre-, 199 postsynaptic and 0 gap junction-connected neurons (pymaid)\n",
      "INFO  : Cached data used. Use `pymaid.clear_cache()` to clear. (pymaid)\n",
      "INFO  : Cached data used. Use `pymaid.clear_cache()` to clear. (pymaid)\n"
     ]
    },
    {
     "name": "stdout",
     "output_type": "stream",
     "text": [
      "Total Recurrent Synapses   = 50.0\n",
      "Total Feedforward Synapses = 111.0\n",
      "Total 7983 Synapses     = 499.0\n",
      "\n",
      "(Recurrent / Total Output Synapses, Feedforward / Total Output Synapses)\n"
     ]
    },
    {
     "data": {
      "application/vnd.jupyter.widget-view+json": {
       "model_id": "",
       "version_major": 2,
       "version_minor": 0
      },
      "text/plain": [
       "CN details:   0%|          | 0/219 [00:00<?, ?it/s]"
      ]
     },
     "metadata": {},
     "output_type": "display_data"
    },
    {
     "name": "stderr",
     "output_type": "stream",
     "text": [
      "INFO  : Data for 219 of 219 unique connector IDs retrieved (pymaid)\n",
      "INFO  : Fetching connectivity table for 1 neurons (pymaid)\n",
      "INFO  : Done. Found 44 pre-, 223 postsynaptic and 0 gap junction-connected neurons (pymaid)\n",
      "INFO  : Cached data used. Use `pymaid.clear_cache()` to clear. (pymaid)\n",
      "INFO  : Cached data used. Use `pymaid.clear_cache()` to clear. (pymaid)\n"
     ]
    },
    {
     "name": "stdout",
     "output_type": "stream",
     "text": [
      "Total Recurrent Synapses   = 69.0\n",
      "Total Feedforward Synapses = 95.0\n",
      "Total 947 Synapses     = 525.0\n",
      "\n",
      "(Recurrent / Total Output Synapses, Feedforward / Total Output Synapses)\n"
     ]
    },
    {
     "data": {
      "application/vnd.jupyter.widget-view+json": {
       "model_id": "",
       "version_major": 2,
       "version_minor": 0
      },
      "text/plain": [
       "CN details:   0%|          | 0/229 [00:00<?, ?it/s]"
      ]
     },
     "metadata": {},
     "output_type": "display_data"
    },
    {
     "name": "stderr",
     "output_type": "stream",
     "text": [
      "INFO  : Data for 229 of 229 unique connector IDs retrieved (pymaid)\n",
      "INFO  : Fetching connectivity table for 1 neurons (pymaid)\n",
      "INFO  : Done. Found 55 pre-, 195 postsynaptic and 0 gap junction-connected neurons (pymaid)\n",
      "INFO  : Cached data used. Use `pymaid.clear_cache()` to clear. (pymaid)\n",
      "INFO  : Cached data used. Use `pymaid.clear_cache()` to clear. (pymaid)\n"
     ]
    },
    {
     "name": "stdout",
     "output_type": "stream",
     "text": [
      "Total Recurrent Synapses   = 63.0\n",
      "Total Feedforward Synapses = 112.0\n",
      "Total 7325 Synapses     = 498.0\n",
      "\n",
      "(Recurrent / Total Output Synapses, Feedforward / Total Output Synapses)\n"
     ]
    },
    {
     "data": {
      "application/vnd.jupyter.widget-view+json": {
       "model_id": "",
       "version_major": 2,
       "version_minor": 0
      },
      "text/plain": [
       "CN details:   0%|          | 0/199 [00:00<?, ?it/s]"
      ]
     },
     "metadata": {},
     "output_type": "display_data"
    },
    {
     "name": "stderr",
     "output_type": "stream",
     "text": [
      "INFO  : Data for 199 of 199 unique connector IDs retrieved (pymaid)\n",
      "INFO  : Fetching connectivity table for 1 neurons (pymaid)\n",
      "INFO  : Done. Found 48 pre-, 187 postsynaptic and 0 gap junction-connected neurons (pymaid)\n",
      "INFO  : Cached data used. Use `pymaid.clear_cache()` to clear. (pymaid)\n",
      "INFO  : Cached data used. Use `pymaid.clear_cache()` to clear. (pymaid)\n"
     ]
    },
    {
     "name": "stdout",
     "output_type": "stream",
     "text": [
      "Total Recurrent Synapses   = 62.0\n",
      "Total Feedforward Synapses = 117.0\n",
      "Total 728 Synapses     = 461.0\n",
      "\n",
      "(Recurrent / Total Output Synapses, Feedforward / Total Output Synapses)\n"
     ]
    },
    {
     "data": {
      "application/vnd.jupyter.widget-view+json": {
       "model_id": "",
       "version_major": 2,
       "version_minor": 0
      },
      "text/plain": [
       "CN details:   0%|          | 0/222 [00:00<?, ?it/s]"
      ]
     },
     "metadata": {},
     "output_type": "display_data"
    },
    {
     "name": "stderr",
     "output_type": "stream",
     "text": [
      "INFO  : Data for 222 of 222 unique connector IDs retrieved (pymaid)\n",
      "INFO  : Fetching connectivity table for 1 neurons (pymaid)\n",
      "INFO  : Done. Found 58 pre-, 211 postsynaptic and 0 gap junction-connected neurons (pymaid)\n",
      "INFO  : Cached data used. Use `pymaid.clear_cache()` to clear. (pymaid)\n",
      "INFO  : Cached data used. Use `pymaid.clear_cache()` to clear. (pymaid)\n"
     ]
    },
    {
     "name": "stdout",
     "output_type": "stream",
     "text": [
      "Total Recurrent Synapses   = 59.0\n",
      "Total Feedforward Synapses = 103.0\n",
      "Total 7353 Synapses     = 471.0\n",
      "\n",
      "(Recurrent / Total Output Synapses, Feedforward / Total Output Synapses)\n"
     ]
    },
    {
     "data": {
      "application/vnd.jupyter.widget-view+json": {
       "model_id": "",
       "version_major": 2,
       "version_minor": 0
      },
      "text/plain": [
       "CN details:   0%|          | 0/250 [00:00<?, ?it/s]"
      ]
     },
     "metadata": {},
     "output_type": "display_data"
    },
    {
     "name": "stderr",
     "output_type": "stream",
     "text": [
      "INFO  : Data for 250 of 250 unique connector IDs retrieved (pymaid)\n",
      "INFO  : Fetching connectivity table for 1 neurons (pymaid)\n",
      "INFO  : Done. Found 68 pre-, 245 postsynaptic and 0 gap junction-connected neurons (pymaid)\n",
      "INFO  : Cached data used. Use `pymaid.clear_cache()` to clear. (pymaid)\n",
      "INFO  : Cached data used. Use `pymaid.clear_cache()` to clear. (pymaid)\n"
     ]
    },
    {
     "name": "stdout",
     "output_type": "stream",
     "text": [
      "Total Recurrent Synapses   = 78.0\n",
      "Total Feedforward Synapses = 114.0\n",
      "Total 7197 Synapses     = 520.0\n",
      "\n",
      "(Recurrent / Total Output Synapses, Feedforward / Total Output Synapses)\n"
     ]
    },
    {
     "data": {
      "application/vnd.jupyter.widget-view+json": {
       "model_id": "",
       "version_major": 2,
       "version_minor": 0
      },
      "text/plain": [
       "CN details:   0%|          | 0/143 [00:00<?, ?it/s]"
      ]
     },
     "metadata": {},
     "output_type": "display_data"
    },
    {
     "name": "stderr",
     "output_type": "stream",
     "text": [
      "INFO  : Data for 143 of 143 unique connector IDs retrieved (pymaid)\n",
      "INFO  : Fetching connectivity table for 1 neurons (pymaid)\n",
      "INFO  : Done. Found 52 pre-, 112 postsynaptic and 0 gap junction-connected neurons (pymaid)\n",
      "INFO  : Cached data used. Use `pymaid.clear_cache()` to clear. (pymaid)\n",
      "INFO  : Cached data used. Use `pymaid.clear_cache()` to clear. (pymaid)\n"
     ]
    },
    {
     "name": "stdout",
     "output_type": "stream",
     "text": [
      "Total Recurrent Synapses   = 28.0\n",
      "Total Feedforward Synapses = 51.0\n",
      "Total 7135 Synapses     = 251.0\n",
      "\n",
      "(Recurrent / Total Output Synapses, Feedforward / Total Output Synapses)\n",
      "[0.20355731225296442, 0.2178988326848249, 0.23529411764705882, 0.22244488977955912, 0.18095238095238095, 0.2248995983935743, 0.25379609544468545, 0.21868365180467092, 0.21923076923076923, 0.20318725099601595]\n",
      "[0.11857707509881422, 0.16731517509727625, 0.17176470588235293, 0.10020040080160321, 0.13142857142857142, 0.12650602409638553, 0.13449023861171366, 0.12526539278131635, 0.15, 0.11155378486055777]\n"
     ]
    }
   ],
   "source": [
    "MD2_OSNs = pymaid.get_skids_by_annotation(['sensory neuron', 'left palp nerve', 'PSPs done', 'innervates MD2'], \n",
    "                                                intersect=True)\n",
    "\n",
    "MD2_OSNs = [uPN_synapses_over_OSN_synapses(i, '690') for i in MD2_OSNs]\n",
    "\n",
    "MD2_OSNs = pd.DataFrame(MD2_OSNs).set_index('OSN id')\n",
    "\n",
    "md2_feedforward=MD2_OSNs['Feedforward Fraction'].tolist()\n",
    "print(md2_feedforward)\n",
    "md2_recurrent=MD2_OSNs['Recurrent Fraction'].tolist()\n",
    "print(md2_recurrent)"
   ]
  },
  {
   "cell_type": "code",
   "execution_count": 5,
   "id": "e7760a8d",
   "metadata": {},
   "outputs": [
    {
     "name": "stderr",
     "output_type": "stream",
     "text": [
      "INFO  : Cached data used. Use `pymaid.clear_cache()` to clear. (pymaid)\n"
     ]
    },
    {
     "data": {
      "application/vnd.jupyter.widget-view+json": {
       "model_id": "",
       "version_major": 2,
       "version_minor": 0
      },
      "text/plain": [
       "CN details:   0%|          | 0/354 [00:00<?, ?it/s]"
      ]
     },
     "metadata": {},
     "output_type": "display_data"
    },
    {
     "name": "stderr",
     "output_type": "stream",
     "text": [
      "INFO  : Data for 354 of 354 unique connector IDs retrieved (pymaid)\n",
      "INFO  : Fetching connectivity table for 1 neurons (pymaid)\n",
      "INFO  : Done. Found 77 pre-, 166 postsynaptic and 0 gap junction-connected neurons (pymaid)\n",
      "INFO  : Cached data used. Use `pymaid.clear_cache()` to clear. (pymaid)\n",
      "INFO  : Cached data used. Use `pymaid.clear_cache()` to clear. (pymaid)\n"
     ]
    },
    {
     "name": "stdout",
     "output_type": "stream",
     "text": [
      "Total Recurrent Synapses   = 88.0\n",
      "Total Feedforward Synapses = 152.0\n",
      "Total 8961 Synapses     = 527.0\n",
      "\n",
      "(Recurrent / Total Output Synapses, Feedforward / Total Output Synapses)\n"
     ]
    },
    {
     "data": {
      "application/vnd.jupyter.widget-view+json": {
       "model_id": "",
       "version_major": 2,
       "version_minor": 0
      },
      "text/plain": [
       "CN details:   0%|          | 0/295 [00:00<?, ?it/s]"
      ]
     },
     "metadata": {},
     "output_type": "display_data"
    },
    {
     "name": "stderr",
     "output_type": "stream",
     "text": [
      "INFO  : Data for 295 of 295 unique connector IDs retrieved (pymaid)\n",
      "INFO  : Fetching connectivity table for 1 neurons (pymaid)\n",
      "INFO  : Done. Found 72 pre-, 170 postsynaptic and 0 gap junction-connected neurons (pymaid)\n",
      "INFO  : Cached data used. Use `pymaid.clear_cache()` to clear. (pymaid)\n",
      "INFO  : Cached data used. Use `pymaid.clear_cache()` to clear. (pymaid)\n"
     ]
    },
    {
     "name": "stdout",
     "output_type": "stream",
     "text": [
      "Total Recurrent Synapses   = 68.0\n",
      "Total Feedforward Synapses = 166.0\n",
      "Total 7075 Synapses     = 525.0\n",
      "\n",
      "(Recurrent / Total Output Synapses, Feedforward / Total Output Synapses)\n"
     ]
    },
    {
     "data": {
      "application/vnd.jupyter.widget-view+json": {
       "model_id": "",
       "version_major": 2,
       "version_minor": 0
      },
      "text/plain": [
       "CN details:   0%|          | 0/262 [00:00<?, ?it/s]"
      ]
     },
     "metadata": {},
     "output_type": "display_data"
    },
    {
     "name": "stderr",
     "output_type": "stream",
     "text": [
      "INFO  : Data for 262 of 262 unique connector IDs retrieved (pymaid)\n",
      "INFO  : Fetching connectivity table for 1 neurons (pymaid)\n",
      "INFO  : Done. Found 52 pre-, 150 postsynaptic and 0 gap junction-connected neurons (pymaid)\n",
      "INFO  : Cached data used. Use `pymaid.clear_cache()` to clear. (pymaid)\n",
      "INFO  : Cached data used. Use `pymaid.clear_cache()` to clear. (pymaid)\n"
     ]
    },
    {
     "name": "stdout",
     "output_type": "stream",
     "text": [
      "Total Recurrent Synapses   = 62.0\n",
      "Total Feedforward Synapses = 140.0\n",
      "Total 7270 Synapses     = 466.0\n",
      "\n",
      "(Recurrent / Total Output Synapses, Feedforward / Total Output Synapses)\n"
     ]
    },
    {
     "data": {
      "application/vnd.jupyter.widget-view+json": {
       "model_id": "",
       "version_major": 2,
       "version_minor": 0
      },
      "text/plain": [
       "CN details:   0%|          | 0/304 [00:00<?, ?it/s]"
      ]
     },
     "metadata": {},
     "output_type": "display_data"
    },
    {
     "name": "stderr",
     "output_type": "stream",
     "text": [
      "INFO  : Data for 304 of 304 unique connector IDs retrieved (pymaid)\n",
      "INFO  : Fetching connectivity table for 1 neurons (pymaid)\n",
      "INFO  : Done. Found 57 pre-, 218 postsynaptic and 0 gap junction-connected neurons (pymaid)\n",
      "INFO  : Cached data used. Use `pymaid.clear_cache()` to clear. (pymaid)\n",
      "INFO  : Cached data used. Use `pymaid.clear_cache()` to clear. (pymaid)\n"
     ]
    },
    {
     "name": "stdout",
     "output_type": "stream",
     "text": [
      "Total Recurrent Synapses   = 88.0\n",
      "Total Feedforward Synapses = 180.0\n",
      "Total 7787 Synapses     = 643.0\n",
      "\n",
      "(Recurrent / Total Output Synapses, Feedforward / Total Output Synapses)\n"
     ]
    },
    {
     "data": {
      "application/vnd.jupyter.widget-view+json": {
       "model_id": "",
       "version_major": 2,
       "version_minor": 0
      },
      "text/plain": [
       "CN details:   0%|          | 0/266 [00:00<?, ?it/s]"
      ]
     },
     "metadata": {},
     "output_type": "display_data"
    },
    {
     "name": "stderr",
     "output_type": "stream",
     "text": [
      "INFO  : Data for 266 of 266 unique connector IDs retrieved (pymaid)\n",
      "INFO  : Fetching connectivity table for 1 neurons (pymaid)\n",
      "INFO  : Done. Found 48 pre-, 157 postsynaptic and 0 gap junction-connected neurons (pymaid)\n",
      "INFO  : Cached data used. Use `pymaid.clear_cache()` to clear. (pymaid)\n",
      "INFO  : Cached data used. Use `pymaid.clear_cache()` to clear. (pymaid)\n"
     ]
    },
    {
     "name": "stdout",
     "output_type": "stream",
     "text": [
      "Total Recurrent Synapses   = 81.0\n",
      "Total Feedforward Synapses = 146.0\n",
      "Total 1101 Synapses     = 514.0\n",
      "\n",
      "(Recurrent / Total Output Synapses, Feedforward / Total Output Synapses)\n"
     ]
    },
    {
     "data": {
      "application/vnd.jupyter.widget-view+json": {
       "model_id": "",
       "version_major": 2,
       "version_minor": 0
      },
      "text/plain": [
       "CN details:   0%|          | 0/284 [00:00<?, ?it/s]"
      ]
     },
     "metadata": {},
     "output_type": "display_data"
    },
    {
     "name": "stderr",
     "output_type": "stream",
     "text": [
      "INFO  : Data for 284 of 284 unique connector IDs retrieved (pymaid)\n",
      "INFO  : Fetching connectivity table for 1 neurons (pymaid)\n",
      "INFO  : Done. Found 53 pre-, 191 postsynaptic and 0 gap junction-connected neurons (pymaid)\n",
      "INFO  : Cached data used. Use `pymaid.clear_cache()` to clear. (pymaid)\n",
      "INFO  : Cached data used. Use `pymaid.clear_cache()` to clear. (pymaid)\n"
     ]
    },
    {
     "name": "stdout",
     "output_type": "stream",
     "text": [
      "Total Recurrent Synapses   = 89.0\n",
      "Total Feedforward Synapses = 148.0\n",
      "Total 8399 Synapses     = 570.0\n",
      "\n",
      "(Recurrent / Total Output Synapses, Feedforward / Total Output Synapses)\n"
     ]
    },
    {
     "data": {
      "application/vnd.jupyter.widget-view+json": {
       "model_id": "",
       "version_major": 2,
       "version_minor": 0
      },
      "text/plain": [
       "CN details:   0%|          | 0/238 [00:00<?, ?it/s]"
      ]
     },
     "metadata": {},
     "output_type": "display_data"
    },
    {
     "name": "stderr",
     "output_type": "stream",
     "text": [
      "INFO  : Data for 238 of 238 unique connector IDs retrieved (pymaid)\n",
      "INFO  : Fetching connectivity table for 1 neurons (pymaid)\n",
      "INFO  : Done. Found 51 pre-, 152 postsynaptic and 0 gap junction-connected neurons (pymaid)\n",
      "INFO  : Cached data used. Use `pymaid.clear_cache()` to clear. (pymaid)\n",
      "INFO  : Cached data used. Use `pymaid.clear_cache()` to clear. (pymaid)\n"
     ]
    },
    {
     "name": "stdout",
     "output_type": "stream",
     "text": [
      "Total Recurrent Synapses   = 71.0\n",
      "Total Feedforward Synapses = 145.0\n",
      "Total 7089 Synapses     = 489.0\n",
      "\n",
      "(Recurrent / Total Output Synapses, Feedforward / Total Output Synapses)\n"
     ]
    },
    {
     "data": {
      "application/vnd.jupyter.widget-view+json": {
       "model_id": "",
       "version_major": 2,
       "version_minor": 0
      },
      "text/plain": [
       "CN details:   0%|          | 0/286 [00:00<?, ?it/s]"
      ]
     },
     "metadata": {},
     "output_type": "display_data"
    },
    {
     "name": "stderr",
     "output_type": "stream",
     "text": [
      "INFO  : Data for 286 of 286 unique connector IDs retrieved (pymaid)\n",
      "INFO  : Fetching connectivity table for 1 neurons (pymaid)\n",
      "INFO  : Done. Found 60 pre-, 176 postsynaptic and 0 gap junction-connected neurons (pymaid)\n",
      "INFO  : Cached data used. Use `pymaid.clear_cache()` to clear. (pymaid)\n",
      "INFO  : Cached data used. Use `pymaid.clear_cache()` to clear. (pymaid)\n"
     ]
    },
    {
     "name": "stdout",
     "output_type": "stream",
     "text": [
      "Total Recurrent Synapses   = 98.0\n",
      "Total Feedforward Synapses = 159.0\n",
      "Total 7769 Synapses     = 577.0\n",
      "\n",
      "(Recurrent / Total Output Synapses, Feedforward / Total Output Synapses)\n"
     ]
    },
    {
     "data": {
      "application/vnd.jupyter.widget-view+json": {
       "model_id": "",
       "version_major": 2,
       "version_minor": 0
      },
      "text/plain": [
       "CN details:   0%|          | 0/272 [00:00<?, ?it/s]"
      ]
     },
     "metadata": {},
     "output_type": "display_data"
    },
    {
     "name": "stderr",
     "output_type": "stream",
     "text": [
      "INFO  : Data for 272 of 272 unique connector IDs retrieved (pymaid)\n",
      "INFO  : Fetching connectivity table for 1 neurons (pymaid)\n",
      "INFO  : Done. Found 65 pre-, 195 postsynaptic and 0 gap junction-connected neurons (pymaid)\n",
      "INFO  : Cached data used. Use `pymaid.clear_cache()` to clear. (pymaid)\n",
      "INFO  : Cached data used. Use `pymaid.clear_cache()` to clear. (pymaid)\n"
     ]
    },
    {
     "name": "stdout",
     "output_type": "stream",
     "text": [
      "Total Recurrent Synapses   = 77.0\n",
      "Total Feedforward Synapses = 167.0\n",
      "Total 7230 Synapses     = 581.0\n",
      "\n",
      "(Recurrent / Total Output Synapses, Feedforward / Total Output Synapses)\n"
     ]
    },
    {
     "data": {
      "application/vnd.jupyter.widget-view+json": {
       "model_id": "",
       "version_major": 2,
       "version_minor": 0
      },
      "text/plain": [
       "CN details:   0%|          | 0/262 [00:00<?, ?it/s]"
      ]
     },
     "metadata": {},
     "output_type": "display_data"
    },
    {
     "name": "stderr",
     "output_type": "stream",
     "text": [
      "INFO  : Data for 262 of 262 unique connector IDs retrieved (pymaid)\n",
      "INFO  : Fetching connectivity table for 1 neurons (pymaid)\n",
      "INFO  : Done. Found 56 pre-, 179 postsynaptic and 0 gap junction-connected neurons (pymaid)\n",
      "INFO  : Cached data used. Use `pymaid.clear_cache()` to clear. (pymaid)\n",
      "INFO  : Cached data used. Use `pymaid.clear_cache()` to clear. (pymaid)\n"
     ]
    },
    {
     "name": "stdout",
     "output_type": "stream",
     "text": [
      "Total Recurrent Synapses   = 81.0\n",
      "Total Feedforward Synapses = 154.0\n",
      "Total 7775 Synapses     = 517.0\n",
      "\n",
      "(Recurrent / Total Output Synapses, Feedforward / Total Output Synapses)\n",
      "[0.2884250474383302, 0.3161904761904762, 0.30042918454935624, 0.27993779160186627, 0.2840466926070039, 0.2596491228070175, 0.2965235173824131, 0.2755632582322357, 0.2874354561101549, 0.2978723404255319]\n",
      "[0.16698292220113853, 0.1295238095238095, 0.13304721030042918, 0.1368584758942457, 0.1575875486381323, 0.156140350877193, 0.14519427402862986, 0.16984402079722705, 0.13253012048192772, 0.15667311411992263]\n"
     ]
    }
   ],
   "source": [
    "MD3_OSNs = pymaid.get_skids_by_annotation(['sensory neuron', 'left palp nerve', 'PSPs done', 'innervates MD3'], \n",
    "                                                intersect=True)\n",
    "\n",
    "MD3_OSNs = [uPN_synapses_over_OSN_synapses(i, '11126') for i in MD3_OSNs]\n",
    "\n",
    "MD3_OSNs = pd.DataFrame(MD3_OSNs).set_index('OSN id')\n",
    "\n",
    "md3_feedforward=MD3_OSNs['Feedforward Fraction'].tolist()\n",
    "print(md3_feedforward)\n",
    "md3_recurrent=MD3_OSNs['Recurrent Fraction'].tolist()\n",
    "print(md3_recurrent)"
   ]
  },
  {
   "cell_type": "code",
   "execution_count": 6,
   "id": "be620927",
   "metadata": {},
   "outputs": [],
   "source": [
    "from seaborn.categorical import _ViolinPlotter\n",
    "class MyVPlot(_ViolinPlotter):\n",
    "    def draw_quartiles(self, ax, data, support, density, center, split=False, color='k'):\n",
    "        \"\"\"Draw the quartiles as lines at width of density.\"\"\"\n",
    "        q50 = np.mean(data)\n",
    "        self.draw_to_density(ax, center, q50, support, density, split,\n",
    "                             linewidth=self.linewidth, color=color)\n",
    "\n",
    "def my_violinplot2(x=None, y=None, hue=None, data=None, order=None, hue_order=None,\n",
    "                  bw=\"scott\", cut=0, scale=\"area\", scale_hue=True, gridsize=100,\n",
    "                  width=.8, inner=\"quartiles\", split=False, dodge=True, orient=None,\n",
    "                  linewidth=None, color=None, palette=None, saturation=.75,alpha=1,\n",
    "                  ax=None, edgecolor=None, **kwargs):\n",
    "\n",
    "    plotter = MyVPlot(x, y, hue, data, order, hue_order,\n",
    "                      bw, cut, scale, scale_hue, gridsize,\n",
    "                      width, inner, split, dodge, orient, linewidth,\n",
    "                      color, palette, saturation)\n",
    "    if ax is None:\n",
    "        ax = plt.gca()\n",
    "\n",
    "    plotter.plot(ax)\n",
    "    # change outlines\n",
    "    colors=[\"violet\", \"#0000FF\", 'mediumspringgreen']\n",
    "    for idx, violin in enumerate(ax.collections):\n",
    "        violin.set_edgecolor(colors[idx])\n",
    "    for l in ax.lines:\n",
    "        l.set_linestyle('-')\n",
    "        l.set_color('k')\n",
    "    return ax"
   ]
  },
  {
   "cell_type": "code",
   "execution_count": 7,
   "id": "c1f8b82d",
   "metadata": {},
   "outputs": [
    {
     "data": {
      "text/html": [
       "<div>\n",
       "<style scoped>\n",
       "    .dataframe tbody tr th:only-of-type {\n",
       "        vertical-align: middle;\n",
       "    }\n",
       "\n",
       "    .dataframe tbody tr th {\n",
       "        vertical-align: top;\n",
       "    }\n",
       "\n",
       "    .dataframe thead th {\n",
       "        text-align: right;\n",
       "    }\n",
       "</style>\n",
       "<table border=\"1\" class=\"dataframe\">\n",
       "  <thead>\n",
       "    <tr style=\"text-align: right;\">\n",
       "      <th></th>\n",
       "      <th>Glomerulus</th>\n",
       "      <th>OSN → uPN synapses as proportion of OSN → X synapses</th>\n",
       "    </tr>\n",
       "  </thead>\n",
       "  <tbody>\n",
       "    <tr>\n",
       "      <th>0</th>\n",
       "      <td>1</td>\n",
       "      <td>0.086300</td>\n",
       "    </tr>\n",
       "    <tr>\n",
       "      <th>1</th>\n",
       "      <td>1</td>\n",
       "      <td>0.094498</td>\n",
       "    </tr>\n",
       "    <tr>\n",
       "      <th>2</th>\n",
       "      <td>1</td>\n",
       "      <td>0.085347</td>\n",
       "    </tr>\n",
       "    <tr>\n",
       "      <th>3</th>\n",
       "      <td>1</td>\n",
       "      <td>0.089009</td>\n",
       "    </tr>\n",
       "    <tr>\n",
       "      <th>4</th>\n",
       "      <td>1</td>\n",
       "      <td>0.098475</td>\n",
       "    </tr>\n",
       "    <tr>\n",
       "      <th>5</th>\n",
       "      <td>1</td>\n",
       "      <td>0.095207</td>\n",
       "    </tr>\n",
       "    <tr>\n",
       "      <th>6</th>\n",
       "      <td>1</td>\n",
       "      <td>0.100163</td>\n",
       "    </tr>\n",
       "    <tr>\n",
       "      <th>7</th>\n",
       "      <td>1</td>\n",
       "      <td>0.095328</td>\n",
       "    </tr>\n",
       "    <tr>\n",
       "      <th>8</th>\n",
       "      <td>1</td>\n",
       "      <td>0.111250</td>\n",
       "    </tr>\n",
       "    <tr>\n",
       "      <th>9</th>\n",
       "      <td>1</td>\n",
       "      <td>0.079042</td>\n",
       "    </tr>\n",
       "    <tr>\n",
       "      <th>10</th>\n",
       "      <td>2</td>\n",
       "      <td>0.203557</td>\n",
       "    </tr>\n",
       "    <tr>\n",
       "      <th>11</th>\n",
       "      <td>2</td>\n",
       "      <td>0.217899</td>\n",
       "    </tr>\n",
       "    <tr>\n",
       "      <th>12</th>\n",
       "      <td>2</td>\n",
       "      <td>0.235294</td>\n",
       "    </tr>\n",
       "    <tr>\n",
       "      <th>13</th>\n",
       "      <td>2</td>\n",
       "      <td>0.222445</td>\n",
       "    </tr>\n",
       "    <tr>\n",
       "      <th>14</th>\n",
       "      <td>2</td>\n",
       "      <td>0.180952</td>\n",
       "    </tr>\n",
       "    <tr>\n",
       "      <th>15</th>\n",
       "      <td>2</td>\n",
       "      <td>0.224900</td>\n",
       "    </tr>\n",
       "    <tr>\n",
       "      <th>16</th>\n",
       "      <td>2</td>\n",
       "      <td>0.253796</td>\n",
       "    </tr>\n",
       "    <tr>\n",
       "      <th>17</th>\n",
       "      <td>2</td>\n",
       "      <td>0.218684</td>\n",
       "    </tr>\n",
       "    <tr>\n",
       "      <th>18</th>\n",
       "      <td>2</td>\n",
       "      <td>0.219231</td>\n",
       "    </tr>\n",
       "    <tr>\n",
       "      <th>19</th>\n",
       "      <td>2</td>\n",
       "      <td>0.203187</td>\n",
       "    </tr>\n",
       "    <tr>\n",
       "      <th>20</th>\n",
       "      <td>3</td>\n",
       "      <td>0.288425</td>\n",
       "    </tr>\n",
       "    <tr>\n",
       "      <th>21</th>\n",
       "      <td>3</td>\n",
       "      <td>0.316190</td>\n",
       "    </tr>\n",
       "    <tr>\n",
       "      <th>22</th>\n",
       "      <td>3</td>\n",
       "      <td>0.300429</td>\n",
       "    </tr>\n",
       "    <tr>\n",
       "      <th>23</th>\n",
       "      <td>3</td>\n",
       "      <td>0.279938</td>\n",
       "    </tr>\n",
       "    <tr>\n",
       "      <th>24</th>\n",
       "      <td>3</td>\n",
       "      <td>0.284047</td>\n",
       "    </tr>\n",
       "    <tr>\n",
       "      <th>25</th>\n",
       "      <td>3</td>\n",
       "      <td>0.259649</td>\n",
       "    </tr>\n",
       "    <tr>\n",
       "      <th>26</th>\n",
       "      <td>3</td>\n",
       "      <td>0.296524</td>\n",
       "    </tr>\n",
       "    <tr>\n",
       "      <th>27</th>\n",
       "      <td>3</td>\n",
       "      <td>0.275563</td>\n",
       "    </tr>\n",
       "    <tr>\n",
       "      <th>28</th>\n",
       "      <td>3</td>\n",
       "      <td>0.287435</td>\n",
       "    </tr>\n",
       "    <tr>\n",
       "      <th>29</th>\n",
       "      <td>3</td>\n",
       "      <td>0.297872</td>\n",
       "    </tr>\n",
       "  </tbody>\n",
       "</table>\n",
       "</div>"
      ],
      "text/plain": [
       "   Glomerulus  OSN → uPN synapses as proportion of OSN → X synapses\n",
       "0           1                                           0.086300   \n",
       "1           1                                           0.094498   \n",
       "2           1                                           0.085347   \n",
       "3           1                                           0.089009   \n",
       "4           1                                           0.098475   \n",
       "5           1                                           0.095207   \n",
       "6           1                                           0.100163   \n",
       "7           1                                           0.095328   \n",
       "8           1                                           0.111250   \n",
       "9           1                                           0.079042   \n",
       "10          2                                           0.203557   \n",
       "11          2                                           0.217899   \n",
       "12          2                                           0.235294   \n",
       "13          2                                           0.222445   \n",
       "14          2                                           0.180952   \n",
       "15          2                                           0.224900   \n",
       "16          2                                           0.253796   \n",
       "17          2                                           0.218684   \n",
       "18          2                                           0.219231   \n",
       "19          2                                           0.203187   \n",
       "20          3                                           0.288425   \n",
       "21          3                                           0.316190   \n",
       "22          3                                           0.300429   \n",
       "23          3                                           0.279938   \n",
       "24          3                                           0.284047   \n",
       "25          3                                           0.259649   \n",
       "26          3                                           0.296524   \n",
       "27          3                                           0.275563   \n",
       "28          3                                           0.287435   \n",
       "29          3                                           0.297872   "
      ]
     },
     "execution_count": 7,
     "metadata": {},
     "output_type": "execute_result"
    }
   ],
   "source": [
    "#make dataframe for feedforward fraction\n",
    "\n",
    "data_dict = {\"1\": md1_feedforward, \"2\": md2_feedforward, \"3\": md3_feedforward}\n",
    "pre_df = {\"Glomerulus\": [], \"OSN → uPN synapses as proportion of OSN → X synapses\": []}\n",
    "for glom, dists in data_dict.items():\n",
    "    glom_list = [glom,]*len(dists)\n",
    "    pre_df[\"Glomerulus\"].extend(glom_list)    \n",
    "    pre_df[\"OSN → uPN synapses as proportion of OSN → X synapses\"].extend(dists)\n",
    "\n",
    "df = pd.DataFrame.from_dict(pre_df)\n",
    "df"
   ]
  },
  {
   "cell_type": "code",
   "execution_count": 8,
   "id": "cfd36b03",
   "metadata": {},
   "outputs": [
    {
     "name": "stderr",
     "output_type": "stream",
     "text": [
      "findfont: Font family ['Liberation Sans'] not found. Falling back to DejaVu Sans.\n"
     ]
    },
    {
     "data": {
      "image/png": "[encoded data removed]",
      "text/plain": [
       "<Figure size 432x288 with 1 Axes>"
      ]
     },
     "metadata": {
      "needs_background": "light"
     },
     "output_type": "display_data"
    }
   ],
   "source": [
    "x = \"Glomerulus\"\n",
    "y = \"OSN → uPN synapses as proportion of OSN → X synapses\"\n",
    "order = ['1', '2', '3']\n",
    "ax = my_violinplot2(data=df, x=x, y=y, order=order, color=\"1\")\n",
    "ax = sns.stripplot(data=df, x=x, y=y, order=order, palette=[\"violet\", \"#0000FF\", \"mediumspringgreen\"])\n",
    "ax.set_xlabel('Glomerulus', size=12, fontname=\"Liberation Sans\")\n",
    "ax.set_ylabel('Fraction of total synapses', size=12, fontname=\"Liberation Sans\")\n",
    "ax.set_aspect(16)\n",
    "plt.ylim(0,0.35)\n",
    "plt.tick_params(axis='x', which='both', bottom=False, top=False)\n",
    "plt.tick_params(axis='y', which='both', left=True, right=False)\n",
    "sns.despine(fig=None, ax=None, top=True, right=True, left=False, bottom=True, offset=None, trim=False)\n",
    "\n",
    "plt.savefig('../svg/feedforward_proportion.svg', format=\"svg\")\n",
    "plt.show()"
   ]
  },
  {
   "cell_type": "code",
   "execution_count": 9,
   "id": "5d1255ee",
   "metadata": {},
   "outputs": [
    {
     "name": "stdout",
     "output_type": "stream",
     "text": [
      "KruskalResult(statistic=25.80645161290323, pvalue=2.49000508218493e-06)\n"
     ]
    }
   ],
   "source": [
    "#feedforward statistics\n",
    "kruskal=stats.kruskal(md1_feedforward, md2_feedforward, md3_feedforward)\n",
    "print(kruskal)"
   ]
  },
  {
   "cell_type": "code",
   "execution_count": 10,
   "id": "9de44fc3",
   "metadata": {},
   "outputs": [
    {
     "data": {
      "text/html": [
       "<div>\n",
       "<style scoped>\n",
       "    .dataframe tbody tr th:only-of-type {\n",
       "        vertical-align: middle;\n",
       "    }\n",
       "\n",
       "    .dataframe tbody tr th {\n",
       "        vertical-align: top;\n",
       "    }\n",
       "\n",
       "    .dataframe thead th {\n",
       "        text-align: right;\n",
       "    }\n",
       "</style>\n",
       "<table border=\"1\" class=\"dataframe\">\n",
       "  <thead>\n",
       "    <tr style=\"text-align: right;\">\n",
       "      <th></th>\n",
       "      <th>1</th>\n",
       "      <th>2</th>\n",
       "      <th>3</th>\n",
       "    </tr>\n",
       "  </thead>\n",
       "  <tbody>\n",
       "    <tr>\n",
       "      <th>1</th>\n",
       "      <td>1.000000</td>\n",
       "      <td>0.033255</td>\n",
       "      <td>0.000001</td>\n",
       "    </tr>\n",
       "    <tr>\n",
       "      <th>2</th>\n",
       "      <td>0.033255</td>\n",
       "      <td>1.000000</td>\n",
       "      <td>0.033255</td>\n",
       "    </tr>\n",
       "    <tr>\n",
       "      <th>3</th>\n",
       "      <td>0.000001</td>\n",
       "      <td>0.033255</td>\n",
       "      <td>1.000000</td>\n",
       "    </tr>\n",
       "  </tbody>\n",
       "</table>\n",
       "</div>"
      ],
      "text/plain": [
       "          1         2         3\n",
       "1  1.000000  0.033255  0.000001\n",
       "2  0.033255  1.000000  0.033255\n",
       "3  0.000001  0.033255  1.000000"
      ]
     },
     "execution_count": 10,
     "metadata": {},
     "output_type": "execute_result"
    }
   ],
   "source": [
    "sp.posthoc_dunn([md1_feedforward, md2_feedforward, md3_feedforward], p_adjust = 'bonferroni')"
   ]
  },
  {
   "cell_type": "code",
   "execution_count": 11,
   "id": "4d9a260a",
   "metadata": {},
   "outputs": [
    {
     "data": {
      "text/html": [
       "<div>\n",
       "<style scoped>\n",
       "    .dataframe tbody tr th:only-of-type {\n",
       "        vertical-align: middle;\n",
       "    }\n",
       "\n",
       "    .dataframe tbody tr th {\n",
       "        vertical-align: top;\n",
       "    }\n",
       "\n",
       "    .dataframe thead th {\n",
       "        text-align: right;\n",
       "    }\n",
       "</style>\n",
       "<table border=\"1\" class=\"dataframe\">\n",
       "  <thead>\n",
       "    <tr style=\"text-align: right;\">\n",
       "      <th></th>\n",
       "      <th>Glomerulus</th>\n",
       "      <th>OSN → OSN synapses as proportion of OSN → X synapses</th>\n",
       "    </tr>\n",
       "  </thead>\n",
       "  <tbody>\n",
       "    <tr>\n",
       "      <th>0</th>\n",
       "      <td>1</td>\n",
       "      <td>0.181230</td>\n",
       "    </tr>\n",
       "    <tr>\n",
       "      <th>1</th>\n",
       "      <td>1</td>\n",
       "      <td>0.172249</td>\n",
       "    </tr>\n",
       "    <tr>\n",
       "      <th>2</th>\n",
       "      <td>1</td>\n",
       "      <td>0.225076</td>\n",
       "    </tr>\n",
       "    <tr>\n",
       "      <th>3</th>\n",
       "      <td>1</td>\n",
       "      <td>0.232972</td>\n",
       "    </tr>\n",
       "    <tr>\n",
       "      <th>4</th>\n",
       "      <td>1</td>\n",
       "      <td>0.231893</td>\n",
       "    </tr>\n",
       "    <tr>\n",
       "      <th>5</th>\n",
       "      <td>1</td>\n",
       "      <td>0.219304</td>\n",
       "    </tr>\n",
       "    <tr>\n",
       "      <th>6</th>\n",
       "      <td>1</td>\n",
       "      <td>0.166032</td>\n",
       "    </tr>\n",
       "    <tr>\n",
       "      <th>7</th>\n",
       "      <td>1</td>\n",
       "      <td>0.195076</td>\n",
       "    </tr>\n",
       "    <tr>\n",
       "      <th>8</th>\n",
       "      <td>1</td>\n",
       "      <td>0.185000</td>\n",
       "    </tr>\n",
       "    <tr>\n",
       "      <th>9</th>\n",
       "      <td>1</td>\n",
       "      <td>0.159880</td>\n",
       "    </tr>\n",
       "    <tr>\n",
       "      <th>10</th>\n",
       "      <td>2</td>\n",
       "      <td>0.118577</td>\n",
       "    </tr>\n",
       "    <tr>\n",
       "      <th>11</th>\n",
       "      <td>2</td>\n",
       "      <td>0.167315</td>\n",
       "    </tr>\n",
       "    <tr>\n",
       "      <th>12</th>\n",
       "      <td>2</td>\n",
       "      <td>0.171765</td>\n",
       "    </tr>\n",
       "    <tr>\n",
       "      <th>13</th>\n",
       "      <td>2</td>\n",
       "      <td>0.100200</td>\n",
       "    </tr>\n",
       "    <tr>\n",
       "      <th>14</th>\n",
       "      <td>2</td>\n",
       "      <td>0.131429</td>\n",
       "    </tr>\n",
       "    <tr>\n",
       "      <th>15</th>\n",
       "      <td>2</td>\n",
       "      <td>0.126506</td>\n",
       "    </tr>\n",
       "    <tr>\n",
       "      <th>16</th>\n",
       "      <td>2</td>\n",
       "      <td>0.134490</td>\n",
       "    </tr>\n",
       "    <tr>\n",
       "      <th>17</th>\n",
       "      <td>2</td>\n",
       "      <td>0.125265</td>\n",
       "    </tr>\n",
       "    <tr>\n",
       "      <th>18</th>\n",
       "      <td>2</td>\n",
       "      <td>0.150000</td>\n",
       "    </tr>\n",
       "    <tr>\n",
       "      <th>19</th>\n",
       "      <td>2</td>\n",
       "      <td>0.111554</td>\n",
       "    </tr>\n",
       "    <tr>\n",
       "      <th>20</th>\n",
       "      <td>3</td>\n",
       "      <td>0.166983</td>\n",
       "    </tr>\n",
       "    <tr>\n",
       "      <th>21</th>\n",
       "      <td>3</td>\n",
       "      <td>0.129524</td>\n",
       "    </tr>\n",
       "    <tr>\n",
       "      <th>22</th>\n",
       "      <td>3</td>\n",
       "      <td>0.133047</td>\n",
       "    </tr>\n",
       "    <tr>\n",
       "      <th>23</th>\n",
       "      <td>3</td>\n",
       "      <td>0.136858</td>\n",
       "    </tr>\n",
       "    <tr>\n",
       "      <th>24</th>\n",
       "      <td>3</td>\n",
       "      <td>0.157588</td>\n",
       "    </tr>\n",
       "    <tr>\n",
       "      <th>25</th>\n",
       "      <td>3</td>\n",
       "      <td>0.156140</td>\n",
       "    </tr>\n",
       "    <tr>\n",
       "      <th>26</th>\n",
       "      <td>3</td>\n",
       "      <td>0.145194</td>\n",
       "    </tr>\n",
       "    <tr>\n",
       "      <th>27</th>\n",
       "      <td>3</td>\n",
       "      <td>0.169844</td>\n",
       "    </tr>\n",
       "    <tr>\n",
       "      <th>28</th>\n",
       "      <td>3</td>\n",
       "      <td>0.132530</td>\n",
       "    </tr>\n",
       "    <tr>\n",
       "      <th>29</th>\n",
       "      <td>3</td>\n",
       "      <td>0.156673</td>\n",
       "    </tr>\n",
       "  </tbody>\n",
       "</table>\n",
       "</div>"
      ],
      "text/plain": [
       "   Glomerulus  OSN → OSN synapses as proportion of OSN → X synapses\n",
       "0           1                                           0.181230   \n",
       "1           1                                           0.172249   \n",
       "2           1                                           0.225076   \n",
       "3           1                                           0.232972   \n",
       "4           1                                           0.231893   \n",
       "5           1                                           0.219304   \n",
       "6           1                                           0.166032   \n",
       "7           1                                           0.195076   \n",
       "8           1                                           0.185000   \n",
       "9           1                                           0.159880   \n",
       "10          2                                           0.118577   \n",
       "11          2                                           0.167315   \n",
       "12          2                                           0.171765   \n",
       "13          2                                           0.100200   \n",
       "14          2                                           0.131429   \n",
       "15          2                                           0.126506   \n",
       "16          2                                           0.134490   \n",
       "17          2                                           0.125265   \n",
       "18          2                                           0.150000   \n",
       "19          2                                           0.111554   \n",
       "20          3                                           0.166983   \n",
       "21          3                                           0.129524   \n",
       "22          3                                           0.133047   \n",
       "23          3                                           0.136858   \n",
       "24          3                                           0.157588   \n",
       "25          3                                           0.156140   \n",
       "26          3                                           0.145194   \n",
       "27          3                                           0.169844   \n",
       "28          3                                           0.132530   \n",
       "29          3                                           0.156673   "
      ]
     },
     "execution_count": 11,
     "metadata": {},
     "output_type": "execute_result"
    }
   ],
   "source": [
    "#make dataframe for recurrent fraction\n",
    "\n",
    "data_dict = {\"1\": md1_recurrent, \"2\": md2_recurrent, \"3\": md3_recurrent}\n",
    "pre_df = {\"Glomerulus\": [], \"OSN → OSN synapses as proportion of OSN → X synapses\": []}\n",
    "for glom, dists in data_dict.items():\n",
    "    glom_list = [glom,]*len(dists)\n",
    "    pre_df[\"Glomerulus\"].extend(glom_list)    \n",
    "    pre_df[\"OSN → OSN synapses as proportion of OSN → X synapses\"].extend(dists)\n",
    "\n",
    "df = pd.DataFrame.from_dict(pre_df)\n",
    "df"
   ]
  },
  {
   "cell_type": "code",
   "execution_count": 12,
   "id": "3c3c5a08",
   "metadata": {},
   "outputs": [
    {
     "data": {
      "image/png": "[encoded data removed]",
      "text/plain": [
       "<Figure size 432x288 with 1 Axes>"
      ]
     },
     "metadata": {
      "needs_background": "light"
     },
     "output_type": "display_data"
    }
   ],
   "source": [
    "#make violinplot\n",
    "x = \"Glomerulus\"\n",
    "y = \"OSN → OSN synapses as proportion of OSN → X synapses\"\n",
    "order = ['1', '2', '3']\n",
    "ax = my_violinplot2(data=df, x=x, y=y, order=order, color=\"1\")\n",
    "ax = sns.stripplot(data=df, x=x, y=y, order=order, palette=[\"violet\", \"#0000FF\", \"mediumspringgreen\"])\n",
    "ax.set_xlabel('Glomerulus', size=12, fontname=\"Liberation Sans\")\n",
    "ax.set_ylabel('Fraction of total synapses', size=12, fontname=\"Liberation Sans\")\n",
    "plt.ylim(0,0.26)\n",
    "ax.set_aspect(25)\n",
    "plt.tick_params(axis='x', which='both', bottom=False, top=False)\n",
    "plt.tick_params(axis='y', which='both', left=True, right=False)\n",
    "sns.despine(fig=None, ax=None, top=True, right=True, left=False, bottom=True, offset=None, trim=False)\n",
    "\n",
    "plt.savefig('../svg/recurrent_proportion.svg', format=\"svg\")\n",
    "plt.show()"
   ]
  },
  {
   "cell_type": "code",
   "execution_count": 13,
   "id": "637b3894",
   "metadata": {},
   "outputs": [
    {
     "name": "stdout",
     "output_type": "stream",
     "text": [
      "KruskalResult(statistic=17.63096774193548, pvalue=0.00014841711985688947)\n"
     ]
    }
   ],
   "source": [
    "#recurrent statistics\n",
    "kruskalr=stats.kruskal(md1_recurrent, md2_recurrent, md3_recurrent)\n",
    "print(kruskalr)"
   ]
  },
  {
   "cell_type": "code",
   "execution_count": 14,
   "id": "ee76aa72",
   "metadata": {},
   "outputs": [
    {
     "data": {
      "text/html": [
       "<div>\n",
       "<style scoped>\n",
       "    .dataframe tbody tr th:only-of-type {\n",
       "        vertical-align: middle;\n",
       "    }\n",
       "\n",
       "    .dataframe tbody tr th {\n",
       "        vertical-align: top;\n",
       "    }\n",
       "\n",
       "    .dataframe thead th {\n",
       "        text-align: right;\n",
       "    }\n",
       "</style>\n",
       "<table border=\"1\" class=\"dataframe\">\n",
       "  <thead>\n",
       "    <tr style=\"text-align: right;\">\n",
       "      <th></th>\n",
       "      <th>1</th>\n",
       "      <th>2</th>\n",
       "      <th>3</th>\n",
       "    </tr>\n",
       "  </thead>\n",
       "  <tbody>\n",
       "    <tr>\n",
       "      <th>1</th>\n",
       "      <td>1.000000</td>\n",
       "      <td>0.000145</td>\n",
       "      <td>0.009645</td>\n",
       "    </tr>\n",
       "    <tr>\n",
       "      <th>2</th>\n",
       "      <td>0.000145</td>\n",
       "      <td>1.000000</td>\n",
       "      <td>0.791212</td>\n",
       "    </tr>\n",
       "    <tr>\n",
       "      <th>3</th>\n",
       "      <td>0.009645</td>\n",
       "      <td>0.791212</td>\n",
       "      <td>1.000000</td>\n",
       "    </tr>\n",
       "  </tbody>\n",
       "</table>\n",
       "</div>"
      ],
      "text/plain": [
       "          1         2         3\n",
       "1  1.000000  0.000145  0.009645\n",
       "2  0.000145  1.000000  0.791212\n",
       "3  0.009645  0.791212  1.000000"
      ]
     },
     "execution_count": 14,
     "metadata": {},
     "output_type": "execute_result"
    }
   ],
   "source": [
    "sp.posthoc_dunn([md1_recurrent, md2_recurrent, md3_recurrent], p_adjust = 'bonferroni')"
   ]
  },
  {
   "cell_type": "code",
   "execution_count": null,
   "id": "2b58ae2b",
   "metadata": {},
   "outputs": [],
   "source": []
  }
 ],
 "metadata": {
  "kernelspec": {
   "display_name": "Python 3 (ipykernel)",
   "language": "python",
   "name": "python3"
  },
  "language_info": {
   "codemirror_mode": {
    "name": "ipython",
    "version": 3
   },
   "file_extension": ".py",
   "mimetype": "text/x-python",
   "name": "python",
   "nbconvert_exporter": "python",
   "pygments_lexer": "ipython3",
   "version": "3.9.10"
  }
 },
 "nbformat": 4,
 "nbformat_minor": 5
}
