{
 "cells": [
  {
   "cell_type": "code",
   "execution_count": 2,
   "metadata": {},
   "outputs": [],
   "source": [
    "import pymaid\n",
    "import navis as nv\n",
    "import matplotlib.pyplot as plt\n",
    "from mpl_toolkits.axes_grid1.anchored_artists import AnchoredSizeBar\n",
    "import matplotlib.axes as axx\n",
    "import matplotlib.font_manager as fm\n",
    "fontprops = fm.FontProperties(size=18)\n",
    "import time\n",
    "from navis.interfaces import neuprint as nvneu\n",
    "from neuroboom import dendrogram as nbd\n",
    "import neuroboom as nb\n",
    "import seaborn as sns"
   ]
  },
  {
   "cell_type": "code",
   "execution_count": 3,
   "metadata": {},
   "outputs": [
    {
     "name": "stderr",
     "output_type": "stream",
     "text": [
      "INFO  : Global CATMAID instance set. Caching is ON. (pymaid)\n"
     ]
    }
   ],
   "source": [
    "#connect your catmaid instance\n",
    "instance=pymaid.CatmaidInstance('https://radagast.hms.harvard.edu/catmaidaedes',\"<token>\")"
   ]
  },
  {
   "cell_type": "code",
   "execution_count": 4,
   "metadata": {},
   "outputs": [],
   "source": [
    "#get PNs\n",
    "md1upn = pymaid.get_neuron(295)\n",
    "MD1uPN = md1upn.id\n",
    "MD2uPN = pymaid.get_neuron(690)\n",
    "MD3uPN = pymaid.get_neuron(11126)"
   ]
  },
  {
   "cell_type": "code",
   "execution_count": 5,
   "metadata": {},
   "outputs": [
    {
     "data": {
      "application/vnd.jupyter.widget-view+json": {
       "model_id": "274460ed136148e9905f5bc8087f4476",
       "version_major": 2,
       "version_minor": 0
      },
      "text/plain": [
       "Fetch neurons:   0%|          | 0/45 [00:00<?, ?it/s]"
      ]
     },
     "metadata": {},
     "output_type": "display_data"
    },
    {
     "data": {
      "application/vnd.jupyter.widget-view+json": {
       "model_id": "4a193540654a41b48e025059a0434118",
       "version_major": 2,
       "version_minor": 0
      },
      "text/plain": [
       "Make nrn:   0%|          | 0/45 [00:00<?, ?it/s]"
      ]
     },
     "metadata": {},
     "output_type": "display_data"
    },
    {
     "data": {
      "application/vnd.jupyter.widget-view+json": {
       "model_id": "97c39dc076874d33b8963c4f1924621a",
       "version_major": 2,
       "version_minor": 0
      },
      "text/plain": [
       "CN details:   0%|          | 0/6870 [00:00<?, ?it/s]"
      ]
     },
     "metadata": {},
     "output_type": "display_data"
    },
    {
     "name": "stderr",
     "output_type": "stream",
     "text": [
      "INFO  : Data for 6870 of 6870 unique connector IDs retrieved (pymaid)\n"
     ]
    }
   ],
   "source": [
    "#define OSNs\n",
    "MD2OSNs = pymaid.get_skids_by_annotation(['innervates MD2', 'left palp nerve', 'sensory neuron'], allow_partial = False, intersect = True)\n",
    "MD2osns=pymaid.get_neuron(MD2OSNs)\n",
    "\n",
    "#get connector IDs\n",
    "con_details = pymaid.get_connector_details(MD2uPN)\n",
    "con_details_explode=con_details.explode(\"postsynaptic_to\")\n",
    "con_details_sub=con_details_explode[con_details_explode[\"postsynaptic_to\"].isin(MD2OSNs)].copy()\n",
    "\n",
    "#color dictionary\n",
    "feedforward_color=sns.color_palette('bwr', 1)*46\n",
    "feedforward_id_to_color= dict(zip(MD2OSNs, feedforward_color))\n",
    "\n",
    "#map to the neuron\n",
    "connector_id_to_neuron = dict(zip(con_details_sub.connector_id, con_details_sub.postsynaptic_to))\n",
    "connector_id_to_color = {i : feedforward_id_to_color[connector_id_to_neuron[i]] for i in con_details_sub.connector_id}"
   ]
  },
  {
   "cell_type": "code",
   "execution_count": 6,
   "metadata": {},
   "outputs": [
    {
     "name": "stdout",
     "output_type": "stream",
     "text": [
      "Calculating cable length...\n"
     ]
    }
   ],
   "source": [
    "#md2upn\n",
    "plt.clf()\n",
    "fig, ax= plt.subplots(figsize = (12,12))\n",
    "nbd.plot_dendrogram(MD2uPN, fragment='true', prog='neato',linewidth=1.5, highlight_connectors = connector_id_to_color, highlight_connector_size=20)\n",
    "#scalebar\n",
    "scalebar = AnchoredSizeBar(ax.transData, 1200, '100 µm', 'lower left', pad=0.1, color='black', frameon=False, size_vertical=100, fontproperties=fontprops)\n",
    "ax.add_artist(scalebar)\n",
    "plt.savefig('/home/jb534/pymaid_scripts/aedes/aedes/svg/axograms/axogram_md2_uPN_3.svg', format=\"svg\")\n",
    "plt.savefig('/home/jb534/pymaid_scripts/aedes/aedes/svg/axograms/axogram_md2_uPN_3.png', format=\"png\")\n",
    "plt.show()"
   ]
  }
 ],
 "metadata": {
  "kernelspec": {
   "display_name": "Python 3.9.15 ('wuzzy')",
   "language": "python",
   "name": "python3"
  },
  "language_info": {
   "codemirror_mode": {
    "name": "ipython",
    "version": 3
   },
   "file_extension": ".py",
   "mimetype": "text/x-python",
   "name": "python",
   "nbconvert_exporter": "python",
   "pygments_lexer": "ipython3",
   "version": "3.9.15"
  },
  "orig_nbformat": 4,
  "vscode": {
   "interpreter": {
    "hash": "bbc61e08eb74b41ad38e0e06b5d47af793336d408360cccbd7d9a84e8f2bb674"
   }
  }
 },
 "nbformat": 4,
 "nbformat_minor": 2
}
