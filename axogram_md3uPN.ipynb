{
 "cells": [
  {
   "cell_type": "code",
   "execution_count": 2,
   "metadata": {},
   "outputs": [],
   "source": [
    "import pymaid\n",
    "import navis as nv\n",
    "import matplotlib.pyplot as plt\n",
    "from mpl_toolkits.axes_grid1.anchored_artists import AnchoredSizeBar\n",
    "import matplotlib.axes as axx\n",
    "import matplotlib.font_manager as fm\n",
    "fontprops = fm.FontProperties(size=18)\n",
    "import time\n",
    "from navis.interfaces import neuprint as nvneu\n",
    "from neuroboom import dendrogram as nbd\n",
    "import neuroboom as nb\n",
    "import seaborn as sns"
   ]
  },
  {
   "cell_type": "code",
   "execution_count": 3,
   "metadata": {},
   "outputs": [
    {
     "name": "stderr",
     "output_type": "stream",
     "text": [
      "INFO  : Global CATMAID instance set. Caching is ON. (pymaid)\n"
     ]
    }
   ],
   "source": [
    "#connect your catmaid instance\n",
    "instance=pymaid.CatmaidInstance('https://radagast.hms.harvard.edu/catmaidaedes',\"\")"
   ]
  },
  {
   "cell_type": "code",
   "execution_count": 4,
   "metadata": {},
   "outputs": [],
   "source": [
    "#get PNs\n",
    "md1upn = pymaid.get_neuron(295)\n",
    "MD1uPN = md1upn.id\n",
    "MD2uPN = pymaid.get_neuron(690)\n",
    "MD3uPN = pymaid.get_neuron(11126)"
   ]
  },
  {
   "cell_type": "code",
   "execution_count": 6,
   "metadata": {},
   "outputs": [
    {
     "name": "stderr",
     "output_type": "stream",
     "text": [
      "INFO  : Cached data used. Use `pymaid.clear_cache()` to clear. (pymaid)\n"
     ]
    },
    {
     "data": {
      "application/vnd.jupyter.widget-view+json": {
       "model_id": "0acdf6a4f28a40518fb09c35781cbefd",
       "version_major": 2,
       "version_minor": 0
      },
      "text/plain": [
       "Fetch neurons:   0%|          | 0/46 [00:00<?, ?it/s]"
      ]
     },
     "metadata": {},
     "output_type": "display_data"
    },
    {
     "data": {
      "application/vnd.jupyter.widget-view+json": {
       "model_id": "a61396edc3db4cdba55693993afd01b0",
       "version_major": 2,
       "version_minor": 0
      },
      "text/plain": [
       "Make nrn:   0%|          | 0/46 [00:00<?, ?it/s]"
      ]
     },
     "metadata": {},
     "output_type": "display_data"
    },
    {
     "data": {
      "application/vnd.jupyter.widget-view+json": {
       "model_id": "53c08ce6c4384a04aef67b92814a8526",
       "version_major": 2,
       "version_minor": 0
      },
      "text/plain": [
       "CN details:   0%|          | 0/5677 [00:00<?, ?it/s]"
      ]
     },
     "metadata": {},
     "output_type": "display_data"
    },
    {
     "name": "stderr",
     "output_type": "stream",
     "text": [
      "INFO  : Data for 5677 of 5677 unique connector IDs retrieved (pymaid)\n"
     ]
    }
   ],
   "source": [
    "#define OSNs\n",
    "MD3OSNs = pymaid.get_skids_by_annotation(['innervates MD3', 'left palp nerve', 'sensory neuron'], allow_partial = False, intersect = True)\n",
    "MD3osns=pymaid.get_neuron(MD3OSNs)\n",
    "\n",
    "#get connector IDs\n",
    "con_details = pymaid.get_connector_details(MD3uPN)\n",
    "con_details_explode=con_details.explode(\"postsynaptic_to\")\n",
    "con_details_sub=con_details_explode[con_details_explode[\"postsynaptic_to\"].isin(MD3OSNs)].copy()\n",
    "\n",
    "#color dictionary\n",
    "feedforward_color=sns.color_palette('Greens', 1)*46\n",
    "feedforward_id_to_color= dict(zip(MD3OSNs, feedforward_color))\n",
    "\n",
    "#map to the neuron\n",
    "connector_id_to_neuron = dict(zip(con_details_sub.connector_id, con_details_sub.postsynaptic_to))\n",
    "connector_id_to_color = {i : feedforward_id_to_color[connector_id_to_neuron[i]] for i in con_details_sub.connector_id}"
   ]
  },
  {
   "cell_type": "code",
   "execution_count": null,
   "metadata": {},
   "outputs": [],
   "source": [
    "#plot the MD3 uPN dendrogram\n",
    "plt.clf()\n",
    "fig, ax= plt.subplots(figsize = (10,10))\n",
    "nbd.plot_dendrogram(md3upn, fragment='true', prog='neato', downsample_neuron=10,linewidth=1.5, highlight_connectors = connector_id_to_color, highlight_connector_size=40)\n",
    "plt.savefig('/home/jb534/pymaid_scripts/figs/axogram_md3_uPN.svg', format=\"svg\")\n",
    "plt.show()"
   ]
  }
 ],
 "metadata": {
  "kernelspec": {
   "display_name": "Python 3.9.15 ('wuzzy')",
   "language": "python",
   "name": "python3"
  },
  "language_info": {
   "codemirror_mode": {
    "name": "ipython",
    "version": 3
   },
   "file_extension": ".py",
   "mimetype": "text/x-python",
   "name": "python",
   "nbconvert_exporter": "python",
   "pygments_lexer": "ipython3",
   "version": "3.9.15"
  },
  "orig_nbformat": 4,
  "vscode": {
   "interpreter": {
    "hash": "bbc61e08eb74b41ad38e0e06b5d47af793336d408360cccbd7d9a84e8f2bb674"
   }
  }
 },
 "nbformat": 4,
 "nbformat_minor": 2
}
