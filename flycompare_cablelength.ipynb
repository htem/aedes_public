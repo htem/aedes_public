{
 "cells": [
  {
   "cell_type": "code",
   "execution_count": 4,
   "metadata": {},
   "outputs": [
    {
     "data": {
      "text/html": [
       "<div>\n",
       "<style scoped>\n",
       "    .dataframe tbody tr th:only-of-type {\n",
       "        vertical-align: middle;\n",
       "    }\n",
       "\n",
       "    .dataframe tbody tr th {\n",
       "        vertical-align: top;\n",
       "    }\n",
       "\n",
       "    .dataframe thead th {\n",
       "        text-align: right;\n",
       "    }\n",
       "</style>\n",
       "<table border=\"1\" class=\"dataframe\">\n",
       "  <thead>\n",
       "    <tr style=\"text-align: right;\">\n",
       "      <th></th>\n",
       "      <th>status</th>\n",
       "      <th>is_merged</th>\n",
       "      <th>id</th>\n",
       "      <th>time_stamp</th>\n",
       "      <th>expires_on</th>\n",
       "      <th>valid</th>\n",
       "      <th>datastack</th>\n",
       "      <th>version</th>\n",
       "    </tr>\n",
       "  </thead>\n",
       "  <tbody>\n",
       "    <tr>\n",
       "      <th>0</th>\n",
       "      <td>AVAILABLE</td>\n",
       "      <td>True</td>\n",
       "      <td>557</td>\n",
       "      <td>2023-01-03 08:10:00</td>\n",
       "      <td>2023-01-05 07:10:00</td>\n",
       "      <td>True</td>\n",
       "      <td>flywire_fafb_production</td>\n",
       "      <td>568</td>\n",
       "    </tr>\n",
       "    <tr>\n",
       "      <th>1</th>\n",
       "      <td>AVAILABLE</td>\n",
       "      <td>True</td>\n",
       "      <td>556</td>\n",
       "      <td>2023-01-02 08:10:00</td>\n",
       "      <td>2023-01-09 07:10:00</td>\n",
       "      <td>True</td>\n",
       "      <td>flywire_fafb_production</td>\n",
       "      <td>567</td>\n",
       "    </tr>\n",
       "    <tr>\n",
       "      <th>2</th>\n",
       "      <td>AVAILABLE</td>\n",
       "      <td>True</td>\n",
       "      <td>554</td>\n",
       "      <td>2022-12-30 08:10:00</td>\n",
       "      <td>2023-01-06 07:10:00</td>\n",
       "      <td>True</td>\n",
       "      <td>flywire_fafb_production</td>\n",
       "      <td>565</td>\n",
       "    </tr>\n",
       "    <tr>\n",
       "      <th>3</th>\n",
       "      <td>AVAILABLE</td>\n",
       "      <td>True</td>\n",
       "      <td>547</td>\n",
       "      <td>2022-12-21 08:10:00</td>\n",
       "      <td>2023-01-18 07:10:00</td>\n",
       "      <td>True</td>\n",
       "      <td>flywire_fafb_production</td>\n",
       "      <td>558</td>\n",
       "    </tr>\n",
       "    <tr>\n",
       "      <th>4</th>\n",
       "      <td>AVAILABLE</td>\n",
       "      <td>True</td>\n",
       "      <td>534</td>\n",
       "      <td>2022-12-07 08:10:00</td>\n",
       "      <td>2023-01-11 07:10:00</td>\n",
       "      <td>True</td>\n",
       "      <td>flywire_fafb_production</td>\n",
       "      <td>545</td>\n",
       "    </tr>\n",
       "    <tr>\n",
       "      <th>5</th>\n",
       "      <td>AVAILABLE</td>\n",
       "      <td>True</td>\n",
       "      <td>515</td>\n",
       "      <td>2022-11-17 08:10:00</td>\n",
       "      <td>2121-11-10 07:10:00</td>\n",
       "      <td>True</td>\n",
       "      <td>flywire_fafb_production</td>\n",
       "      <td>526</td>\n",
       "    </tr>\n",
       "    <tr>\n",
       "      <th>6</th>\n",
       "      <td>AVAILABLE</td>\n",
       "      <td>True</td>\n",
       "      <td>436</td>\n",
       "      <td>2022-08-15 08:10:00</td>\n",
       "      <td>2121-02-18 08:10:00</td>\n",
       "      <td>True</td>\n",
       "      <td>flywire_fafb_production</td>\n",
       "      <td>447</td>\n",
       "    </tr>\n",
       "    <tr>\n",
       "      <th>7</th>\n",
       "      <td>AVAILABLE</td>\n",
       "      <td>True</td>\n",
       "      <td>247</td>\n",
       "      <td>2022-01-17 08:10:00</td>\n",
       "      <td>2121-02-18 08:10:00</td>\n",
       "      <td>True</td>\n",
       "      <td>flywire_fafb_production</td>\n",
       "      <td>258</td>\n",
       "    </tr>\n",
       "  </tbody>\n",
       "</table>\n",
       "</div>"
      ],
      "text/plain": [
       "      status  is_merged   id  ... valid                datastack  version\n",
       "0  AVAILABLE       True  557  ...  True  flywire_fafb_production      568\n",
       "1  AVAILABLE       True  556  ...  True  flywire_fafb_production      567\n",
       "2  AVAILABLE       True  554  ...  True  flywire_fafb_production      565\n",
       "3  AVAILABLE       True  547  ...  True  flywire_fafb_production      558\n",
       "4  AVAILABLE       True  534  ...  True  flywire_fafb_production      545\n",
       "5  AVAILABLE       True  515  ...  True  flywire_fafb_production      526\n",
       "6  AVAILABLE       True  436  ...  True  flywire_fafb_production      447\n",
       "7  AVAILABLE       True  247  ...  True  flywire_fafb_production      258\n",
       "\n",
       "[8 rows x 8 columns]"
      ]
     },
     "execution_count": 4,
     "metadata": {},
     "output_type": "execute_result"
    }
   ],
   "source": [
    "import numpy as np\n",
    "import matplotlib.pyplot as plt\n",
    "import pandas as pd\n",
    "import scipy.stats as stats\n",
    "import seaborn as sns\n",
    "import scikit_posthocs as sp\n",
    "from fafbseg import flywire\n",
    "\n",
    "#fafbseg.flywire.set_chunkedgraph_secret(\"\")\n",
    "flywire.get_materialization_versions()"
   ]
  },
  {
   "cell_type": "code",
   "execution_count": 5,
   "metadata": {},
   "outputs": [
    {
     "ename": "IndexError",
     "evalue": "No mesh fragments found for segment 720575940627890231",
     "output_type": "error",
     "traceback": [
      "\u001b[0;31m---------------------------------------------------------------------------\u001b[0m",
      "\u001b[0;31mIndexError\u001b[0m                                Traceback (most recent call last)",
      "Cell \u001b[0;32mIn[5], line 12\u001b[0m\n\u001b[1;32m     10\u001b[0m grn10 \u001b[39m=\u001b[39m flywire\u001b[39m.\u001b[39mskeletonize_neuron(\u001b[39m720575940606769931\u001b[39m, progress\u001b[39m=\u001b[39m\u001b[39mFalse\u001b[39;00m)\n\u001b[1;32m     11\u001b[0m grn11 \u001b[39m=\u001b[39m flywire\u001b[39m.\u001b[39mskeletonize_neuron(\u001b[39m720575940614923037\u001b[39m, progress\u001b[39m=\u001b[39m\u001b[39mFalse\u001b[39;00m)\n\u001b[0;32m---> 12\u001b[0m grn12 \u001b[39m=\u001b[39m flywire\u001b[39m.\u001b[39;49mskeletonize_neuron(\u001b[39m720575940627890231\u001b[39;49m, progress\u001b[39m=\u001b[39;49m\u001b[39mFalse\u001b[39;49;00m)\n\u001b[1;32m     13\u001b[0m grn13 \u001b[39m=\u001b[39m flywire\u001b[39m.\u001b[39mskeletonize_neuron(\u001b[39m720575940614037533\u001b[39m, progress\u001b[39m=\u001b[39m\u001b[39mFalse\u001b[39;00m)\n\u001b[1;32m     14\u001b[0m grn14 \u001b[39m=\u001b[39m flywire\u001b[39m.\u001b[39mskeletonize_neuron(\u001b[39m720575940633509949\u001b[39m, progress\u001b[39m=\u001b[39m\u001b[39mFalse\u001b[39;00m)\n",
      "File \u001b[0;32m~/miniconda3/envs/wuzzy/lib/python3.9/site-packages/fafbseg/flywire/skeletonize.py:144\u001b[0m, in \u001b[0;36mskeletonize_neuron\u001b[0;34m(x, shave_skeleton, remove_soma_hairball, assert_id_match, dataset, threads, progress, **kwargs)\u001b[0m\n\u001b[1;32m    142\u001b[0m     old_parallel \u001b[39m=\u001b[39m vol\u001b[39m.\u001b[39mparallel\n\u001b[1;32m    143\u001b[0m     vol\u001b[39m.\u001b[39mparallel \u001b[39m=\u001b[39m threads\n\u001b[0;32m--> 144\u001b[0m     mesh \u001b[39m=\u001b[39m vol\u001b[39m.\u001b[39;49mmesh\u001b[39m.\u001b[39;49mget(\u001b[39mid\u001b[39;49m, deduplicate_chunk_boundaries\u001b[39m=\u001b[39;49m\u001b[39mFalse\u001b[39;49;00m,\n\u001b[1;32m    145\u001b[0m                         remove_duplicate_vertices\u001b[39m=\u001b[39;49m\u001b[39mTrue\u001b[39;49;00m)[\u001b[39mid\u001b[39m]\n\u001b[1;32m    146\u001b[0m \u001b[39mexcept\u001b[39;00m \u001b[39mBaseException\u001b[39;00m:\n\u001b[1;32m    147\u001b[0m     \u001b[39mraise\u001b[39;00m\n",
      "File \u001b[0;32m~/miniconda3/envs/wuzzy/lib/python3.9/site-packages/cloudvolume/datasource/graphene/mesh/unsharded.py:213\u001b[0m, in \u001b[0;36mGrapheneUnshardedMeshSource.get\u001b[0;34m(self, segids, remove_duplicate_vertices, fuse, bounding_box, bypass, use_byte_offsets, deduplicate_chunk_boundaries, allow_missing)\u001b[0m\n\u001b[1;32m    211\u001b[0m level \u001b[39m=\u001b[39m meta\u001b[39m.\u001b[39mdecode_layer_id(seg_id)\n\u001b[1;32m    212\u001b[0m \u001b[39mtry\u001b[39;00m:\n\u001b[0;32m--> 213\u001b[0m   mesh, is_draco \u001b[39m=\u001b[39m \u001b[39mself\u001b[39;49m\u001b[39m.\u001b[39;49mdownload_segid(\n\u001b[1;32m    214\u001b[0m     seg_id, bounding_box, bypass, use_byte_offsets\n\u001b[1;32m    215\u001b[0m   )\n\u001b[1;32m    216\u001b[0m \u001b[39mexcept\u001b[39;00m exceptions:\n\u001b[1;32m    217\u001b[0m   \u001b[39mcontinue\u001b[39;00m\n",
      "File \u001b[0;32m~/miniconda3/envs/wuzzy/lib/python3.9/site-packages/cloudvolume/datasource/graphene/mesh/unsharded.py:163\u001b[0m, in \u001b[0;36mGrapheneUnshardedMeshSource.download_segid\u001b[0;34m(self, seg_id, bounding_box, bypass, use_byte_offsets)\u001b[0m\n\u001b[1;32m    161\u001b[0m fragments \u001b[39m=\u001b[39m [ f \u001b[39mfor\u001b[39;00m f \u001b[39min\u001b[39;00m fragments \u001b[39mif\u001b[39;00m f \u001b[39mis\u001b[39;00m \u001b[39mnot\u001b[39;00m \u001b[39mNone\u001b[39;00m ] \n\u001b[1;32m    162\u001b[0m \u001b[39mif\u001b[39;00m \u001b[39mlen\u001b[39m(fragments) \u001b[39m==\u001b[39m \u001b[39m0\u001b[39m:\n\u001b[0;32m--> 163\u001b[0m   \u001b[39mraise\u001b[39;00m \u001b[39mIndexError\u001b[39;00m(\u001b[39m'\u001b[39m\u001b[39mNo mesh fragments found for segment \u001b[39m\u001b[39m{}\u001b[39;00m\u001b[39m'\u001b[39m\u001b[39m.\u001b[39mformat(seg_id))\n\u001b[1;32m    165\u001b[0m mesh \u001b[39m=\u001b[39m Mesh\u001b[39m.\u001b[39mconcatenate(\u001b[39m*\u001b[39mfragments)\n\u001b[1;32m    166\u001b[0m mesh\u001b[39m.\u001b[39msegid \u001b[39m=\u001b[39m seg_id\n",
      "\u001b[0;31mIndexError\u001b[0m: No mesh fragments found for segment 720575940627890231"
     ]
    }
   ],
   "source": [
    "grn1 = flywire.skeletonize_neuron(720575940633509949, progress=False)\n",
    "grn2 = flywire.skeletonize_neuron(720575940633817405, progress=False)\n",
    "grn3 = flywire.skeletonize_neuron(720575940614548253, progress=False)\n",
    "grn4 = flywire.skeletonize_neuron(720575940609119698, progress=False)\n",
    "grn5 = flywire.skeletonize_neuron(720575940614037533, progress=False)\n",
    "grn6 = flywire.skeletonize_neuron(720575940633802045, progress=False)\n",
    "grn7 = flywire.skeletonize_neuron(720575940616248617, progress=False)\n",
    "grn8 = flywire.skeletonize_neuron(720575940633832765, progress=False)\n",
    "grn9 = flywire.skeletonize_neuron(720575940617989417, progress=False)\n",
    "grn10 = flywire.skeletonize_neuron(720575940606769931, progress=False)\n",
    "grn11 = flywire.skeletonize_neuron(720575940614923037, progress=False)\n",
    "grn12 = flywire.skeletonize_neuron(720575940627890231, progress=False)\n",
    "grn13 = flywire.skeletonize_neuron(720575940614037533, progress=False)\n",
    "grn14 = flywire.skeletonize_neuron(720575940633509949, progress=False)\n",
    "grn15 = flywire.skeletonize_neuron(720575940629424195, progress=False)\n",
    "grn16 = flywire.skeletonize_neuron(720575940614037533, progress=False)\n",
    "grn17 = flywire.skeletonize_neuron(720575940633802045, progress=False)\n",
    "grn18 = flywire.skeletonize_neuron(720575940633802045, progress=False)\n",
    "grn19 = flywire.skeletonize_neuron(720575940633832765, progress=False)\n",
    "grn20 = flywire.skeletonize_neuron(720575940619143533, progress=False)\n",
    "grn21 = flywire.skeletonize_neuron(720575940616248617, progress=False)\n",
    "grn22 = flywire.skeletonize_neuron(720575940614923037, progress=False)\n",
    "grn23 = flywire.skeletonize_neuron(720575940614053149, progress=False)\n",
    "grn24 = flywire.skeletonize_neuron(720575940627817260, progress=False)\n",
    "grn25 = flywire.skeletonize_neuron(720575940633834557, progress=False)\n",
    "grn26 = flywire.skeletonize_neuron(720575940617981481, progress=False)\n",
    "grn27 = flywire.skeletonize_neuron(720575940614053405, progress=False)\n",
    "grn28 = flywire.skeletonize_neuron(720575940616923945, progress=False)\n",
    "grn29 = flywire.skeletonize_neuron(720575940614548765, progress=False)\n",
    "grn31 = flywire.skeletonize_neuron(720575940614053149, progress=False)\n",
    "grn32 = flywire.skeletonize_neuron(720575940617989417, progress=False)\n",
    "grn33 = flywire.skeletonize_neuron(720575940627817260, progress=False)\n",
    "grn34 = flywire.skeletonize_neuron(720575940607239947, progress=False)\n",
    "grn35 = flywire.skeletonize_neuron(720575940612700450, progress=False)\n",
    "grn36 = flywire.skeletonize_neuron(720575940625162515, progress=False)\n",
    "grn37 = flywire.skeletonize_neuron(720575940613422994, progress=False)\n",
    "grn38 = flywire.skeletonize_neuron(720575940629424195, progress=False)\n",
    "grn39 = flywire.skeletonize_neuron(720575940629424195, progress=False)\n",
    "grn40 = flywire.skeletonize_neuron(720575940606203421, progress=False)\n",
    "grn41 = flywire.skeletonize_neuron(720575940614649122, progress=False)\n",
    "leftgrns = [grn1, grn2, grn3, grn4, grn5, grn6, grn7, grn8, grn9, grn10, grn11,\n",
    "        grn12, grn13, grn14, grn15, grn16, grn17, grn18, grn19, grn20, grn21,\n",
    "        grn22, grn23, grn24, grn25, grn26, grn27, grn28, grn29, grn30, grn31,\n",
    "        grn32, grn33, grn34, grn35, grn36, grn37, grn38, grn39, grn40, grn41]\n",
    "for n in leftgrns:\n",
    "    length=n.cable_length\n",
    "    print(length)"
   ]
  },
  {
   "cell_type": "code",
   "execution_count": 11,
   "metadata": {},
   "outputs": [
    {
     "name": "stdout",
     "output_type": "stream",
     "text": [
      "             V         DM1         MD1\n",
      "0   299.919232  599.570070  435.410471\n",
      "1   262.587834  581.451450  431.312776\n",
      "2   260.639029  505.788536  415.186017\n",
      "3   260.248546  596.599684  476.692907\n",
      "4   269.802833  669.748751  481.574595\n",
      "5   267.672526  567.698575  352.311396\n",
      "6   290.211244  588.175209  351.984205\n",
      "7   259.485148  617.122632  354.485729\n",
      "8   251.612464  576.942474  263.050044\n",
      "9   282.577024  633.834990  501.678377\n",
      "10  267.102493  544.271221  306.580112\n",
      "11  266.690703  573.811353  691.314931\n",
      "12  269.802833  603.702047  508.528971\n",
      "13  299.919232  482.556368  398.102981\n",
      "14  314.166177  493.010623  372.942503\n",
      "15  269.802833  530.201619  444.218861\n",
      "16  267.672526  546.930713  298.834821\n",
      "17  267.672526  701.101905  508.364873\n",
      "18  259.485148  555.896243  458.894744\n",
      "19  262.961824  537.494029  413.996442\n",
      "20  290.211244  512.884273  495.509998\n",
      "21  267.102493  558.551023  477.480226\n",
      "22  280.024263  585.244559  483.108778\n",
      "23  287.061186  572.219445  363.885769\n",
      "24  358.151472  620.398353  424.290860\n",
      "25  306.979380  578.956314  260.669694\n",
      "26  263.198962  579.132650  394.282165\n",
      "27         NaN  390.423351  565.287619\n",
      "28         NaN  601.079946  447.026666\n",
      "29         NaN  581.451450  396.030563\n",
      "30         NaN  590.093486  391.606258\n",
      "31         NaN  577.299295  425.941771\n",
      "32         NaN  579.132650  576.264298\n",
      "33         NaN  390.423351  500.578279\n",
      "34         NaN  573.811353  226.341383\n",
      "35         NaN  617.122632  578.176358\n",
      "36         NaN  590.093486  450.684385\n",
      "37         NaN  272.954540  642.048235\n",
      "38         NaN  555.896243  289.527388\n",
      "39         NaN         NaN  380.799525\n",
      "40         NaN         NaN  448.257968\n",
      "41         NaN         NaN  457.387517\n",
      "42         NaN         NaN  460.519279\n",
      "43         NaN         NaN  414.384487\n",
      "44         NaN         NaN  507.326142\n"
     ]
    }
   ],
   "source": [
    "df=pd.read_csv(\"/Users/karenbao/Documents/mosquito analyses/cablelengthmdv.csv\")\n",
    "print(df)\n",
    "\n",
    "#data from both glomeruli is from LEFT side of brain!"
   ]
  },
  {
   "cell_type": "code",
   "execution_count": 12,
   "metadata": {},
   "outputs": [
    {
     "name": "stdout",
     "output_type": "stream",
     "text": [
      "[435.41047050000003, 431.31277620000003, 415.18601739999997, 476.69290650000005, 481.5745951, 352.3113963, 351.98420510000005, 354.4857293, 263.0500436, 501.6783767, 306.5801123, 691.3149312999999, 508.5289705, 398.1029806, 372.9425027, 444.2188611, 298.8348211, 508.3648732, 458.8947441000001, 413.9964417, 495.50999800000005, 477.48022649999996, 483.10877769999996, 363.88576939999996, 424.2908602, 260.6696945, 394.28216519999995, 565.2876194, 447.0266658, 396.030563, 391.60625810000005, 425.941771, 576.2642977999999, 500.5782785, 226.34138340000004, 578.1763577, 450.68438530000003, 642.0482352999999, 289.5273881, 380.7995245, 448.2579682, 457.38751669999994, 460.51927939999996, 414.3844871, 507.3261418000001]\n",
      "[299.91923199999997, 262.587834, 260.6390294, 260.24854550000003, 269.80283310000004, 267.6725255, 290.21124419999995, 259.4851479, 251.61246400000002, 282.57702439999997, 267.1024933, 266.6907026, 269.80283310000004, 299.91923199999997, 314.1661765, 269.80283310000004, 267.6725255, 267.6725255, 259.4851479, 262.9618239, 290.21124419999995, 267.1024933, 280.0242633, 287.0611856, 358.15147189999993, 306.9793798, 263.1989618]\n",
      "[599.5700697000001, 581.4514496, 505.78853619999995, 596.5996838, 669.7487507000001, 567.6985746, 588.1752087, 617.1226318, 576.9424740000001, 633.8349900000001, 544.2712207999999, 573.8113533, 603.7020474999999, 482.5563682, 493.0106226, 530.2016195, 546.9307126, 701.1019048999999, 555.8962431, 537.4940291, 512.884273, 558.5510232, 585.2445594999999, 572.2194448, 620.3983529, 578.9563138999999, 579.1326497, 390.42335089999995, 601.0799463999999, 581.4514496, 590.0934862, 577.299295, 579.1326497, 390.42335089999995, 573.8113533, 617.1226318, 590.0934862, 272.9545402, 555.8962431]\n"
     ]
    }
   ],
   "source": [
    "md1 = df['MD1'].values.tolist()\n",
    "MD1 = [x for x in md1 if np.isnan(x) == False]\n",
    "glomv = df['V'].values.tolist()\n",
    "GlomV = [x for x in glomv if np.isnan(x) == False]\n",
    "dm1 = df['DM1'].values.tolist()\n",
    "DM1 = [x for x in dm1 if np.isnan(x) == False]\n",
    "\n",
    "print(MD1)\n",
    "print(GlomV)\n",
    "print(DM1)"
   ]
  },
  {
   "cell_type": "code",
   "execution_count": 14,
   "metadata": {},
   "outputs": [
    {
     "data": {
      "image/png": "[encoded data removed]",
      "text/plain": [
       "<Figure size 432x288 with 1 Axes>"
      ]
     },
     "metadata": {
      "needs_background": "light"
     },
     "output_type": "display_data"
    }
   ],
   "source": [
    "ax = sns.violinplot(data=df, color=\".9\")\n",
    "ax = sns.stripplot(data=df, palette=[\"purple\",\"gold\", \"fuchsia\"] )\n",
    "ax.set_xlabel('Glomerulus', size=12)\n",
    "ax.set_ylabel('Cable length (µm)', size=12)\n",
    "plt.savefig('/Users/karenbao/Documents/mosquito analyses/md1glomv_cablelength.svg', format=\"svg\")"
   ]
  },
  {
   "cell_type": "code",
   "execution_count": 16,
   "metadata": {},
   "outputs": [
    {
     "data": {
      "text/plain": [
       "KruskalResult(statistic=71.95342037042603, pvalue=2.374178072119271e-16)"
      ]
     },
     "execution_count": 16,
     "metadata": {},
     "output_type": "execute_result"
    }
   ],
   "source": [
    "stats.kruskal(MD1, GlomV, DM1)"
   ]
  },
  {
   "cell_type": "code",
   "execution_count": 18,
   "metadata": {},
   "outputs": [
    {
     "data": {
      "text/html": [
       "<div>\n",
       "<style scoped>\n",
       "    .dataframe tbody tr th:only-of-type {\n",
       "        vertical-align: middle;\n",
       "    }\n",
       "\n",
       "    .dataframe tbody tr th {\n",
       "        vertical-align: top;\n",
       "    }\n",
       "\n",
       "    .dataframe thead th {\n",
       "        text-align: right;\n",
       "    }\n",
       "</style>\n",
       "<table border=\"1\" class=\"dataframe\">\n",
       "  <thead>\n",
       "    <tr style=\"text-align: right;\">\n",
       "      <th></th>\n",
       "      <th>1</th>\n",
       "      <th>2</th>\n",
       "      <th>3</th>\n",
       "    </tr>\n",
       "  </thead>\n",
       "  <tbody>\n",
       "    <tr>\n",
       "      <th>1</th>\n",
       "      <td>1.000000</td>\n",
       "      <td>1.543170e-05</td>\n",
       "      <td>1.275733e-05</td>\n",
       "    </tr>\n",
       "    <tr>\n",
       "      <th>2</th>\n",
       "      <td>0.000015</td>\n",
       "      <td>1.000000e+00</td>\n",
       "      <td>8.639112e-17</td>\n",
       "    </tr>\n",
       "    <tr>\n",
       "      <th>3</th>\n",
       "      <td>0.000013</td>\n",
       "      <td>8.639112e-17</td>\n",
       "      <td>1.000000e+00</td>\n",
       "    </tr>\n",
       "  </tbody>\n",
       "</table>\n",
       "</div>"
      ],
      "text/plain": [
       "          1             2             3\n",
       "1  1.000000  1.543170e-05  1.275733e-05\n",
       "2  0.000015  1.000000e+00  8.639112e-17\n",
       "3  0.000013  8.639112e-17  1.000000e+00"
      ]
     },
     "execution_count": 18,
     "metadata": {},
     "output_type": "execute_result"
    }
   ],
   "source": [
    "#post-hoc\n",
    "sp.posthoc_dunn([MD1, GlomV, DM1], p_adjust = 'bonferroni')"
   ]
  },
  {
   "cell_type": "code",
   "execution_count": null,
   "metadata": {},
   "outputs": [],
   "source": []
  }
 ],
 "metadata": {
  "kernelspec": {
   "display_name": "Python 3.9.15 ('wuzzy')",
   "language": "python",
   "name": "python3"
  },
  "language_info": {
   "codemirror_mode": {
    "name": "ipython",
    "version": 3
   },
   "file_extension": ".py",
   "mimetype": "text/x-python",
   "name": "python",
   "nbconvert_exporter": "python",
   "pygments_lexer": "ipython3",
   "version": "3.9.15"
  },
  "vscode": {
   "interpreter": {
    "hash": "bbc61e08eb74b41ad38e0e06b5d47af793336d408360cccbd7d9a84e8f2bb674"
   }
  }
 },
 "nbformat": 4,
 "nbformat_minor": 2
}
