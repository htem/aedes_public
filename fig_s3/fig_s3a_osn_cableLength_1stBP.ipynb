{
 "cells": [
  {
   "cell_type": "code",
   "execution_count": 1,
   "id": "21aec82c",
   "metadata": {},
   "outputs": [
    {
     "name": "stderr",
     "output_type": "stream",
     "text": [
      "INFO  : Global CATMAID instance set. Caching is ON. (pymaid)\n"
     ]
    }
   ],
   "source": [
    "import numpy as np\n",
    "import matplotlib.pyplot as plt\n",
    "import pandas as pd\n",
    "import scipy.stats as stats\n",
    "import seaborn as sns\n",
    "import pymaid\n",
    "import navis\n",
    "import scikit_posthocs as sp\n",
    "\n",
    "#connect your catmaid instance\n",
    "instance=pymaid.CatmaidInstance('https://radagast.hms.harvard.edu/catmaidaedes',\"<token>\")"
   ]
  },
  {
   "cell_type": "code",
   "execution_count": 2,
   "id": "9129d1c1",
   "metadata": {},
   "outputs": [],
   "source": [
    "df= pd.DataFrame(columns=['glomerulus','id', 'cable length in glom'])\n",
    "\n",
    "integer=1000 # to micrometers from nm"
   ]
  },
  {
   "cell_type": "code",
   "execution_count": 3,
   "id": "5c3cdb0c",
   "metadata": {},
   "outputs": [
    {
     "data": {
      "application/vnd.jupyter.widget-view+json": {
       "model_id": "",
       "version_major": 2,
       "version_minor": 0
      },
      "text/plain": [
       "Fetch neurons:   0%|          | 0/10 [00:00<?, ?it/s]"
      ]
     },
     "metadata": {},
     "output_type": "display_data"
    },
    {
     "data": {
      "application/vnd.jupyter.widget-view+json": {
       "model_id": "",
       "version_major": 2,
       "version_minor": 0
      },
      "text/plain": [
       "Make nrn:   0%|          | 0/10 [00:00<?, ?it/s]"
      ]
     },
     "metadata": {},
     "output_type": "display_data"
    },
    {
     "name": "stderr",
     "output_type": "stream",
     "text": [
      "/var/folders/bs/bt3x67kj3zs_156m1s0x72r40000gp/T/ipykernel_48562/1126699847.py:24: FutureWarning: The frame.append method is deprecated and will be removed from pandas in a future version. Use pandas.concat instead.\n",
      "  df=df.append({'glomerulus': '1', 'id':n.id,'cable length in glom':dlength}, ignore_index=True)\n",
      "INFO  : Cached data used. Use `pymaid.clear_cache()` to clear. (pymaid)\n",
      "/var/folders/bs/bt3x67kj3zs_156m1s0x72r40000gp/T/ipykernel_48562/1126699847.py:24: FutureWarning: The frame.append method is deprecated and will be removed from pandas in a future version. Use pandas.concat instead.\n",
      "  df=df.append({'glomerulus': '1', 'id':n.id,'cable length in glom':dlength}, ignore_index=True)\n",
      "INFO  : Cached data used. Use `pymaid.clear_cache()` to clear. (pymaid)\n",
      "/var/folders/bs/bt3x67kj3zs_156m1s0x72r40000gp/T/ipykernel_48562/1126699847.py:24: FutureWarning: The frame.append method is deprecated and will be removed from pandas in a future version. Use pandas.concat instead.\n",
      "  df=df.append({'glomerulus': '1', 'id':n.id,'cable length in glom':dlength}, ignore_index=True)\n",
      "INFO  : Cached data used. Use `pymaid.clear_cache()` to clear. (pymaid)\n",
      "/var/folders/bs/bt3x67kj3zs_156m1s0x72r40000gp/T/ipykernel_48562/1126699847.py:24: FutureWarning: The frame.append method is deprecated and will be removed from pandas in a future version. Use pandas.concat instead.\n",
      "  df=df.append({'glomerulus': '1', 'id':n.id,'cable length in glom':dlength}, ignore_index=True)\n",
      "INFO  : Cached data used. Use `pymaid.clear_cache()` to clear. (pymaid)\n",
      "/var/folders/bs/bt3x67kj3zs_156m1s0x72r40000gp/T/ipykernel_48562/1126699847.py:24: FutureWarning: The frame.append method is deprecated and will be removed from pandas in a future version. Use pandas.concat instead.\n",
      "  df=df.append({'glomerulus': '1', 'id':n.id,'cable length in glom':dlength}, ignore_index=True)\n",
      "INFO  : Cached data used. Use `pymaid.clear_cache()` to clear. (pymaid)\n",
      "/var/folders/bs/bt3x67kj3zs_156m1s0x72r40000gp/T/ipykernel_48562/1126699847.py:24: FutureWarning: The frame.append method is deprecated and will be removed from pandas in a future version. Use pandas.concat instead.\n",
      "  df=df.append({'glomerulus': '1', 'id':n.id,'cable length in glom':dlength}, ignore_index=True)\n",
      "INFO  : Cached data used. Use `pymaid.clear_cache()` to clear. (pymaid)\n",
      "/var/folders/bs/bt3x67kj3zs_156m1s0x72r40000gp/T/ipykernel_48562/1126699847.py:24: FutureWarning: The frame.append method is deprecated and will be removed from pandas in a future version. Use pandas.concat instead.\n",
      "  df=df.append({'glomerulus': '1', 'id':n.id,'cable length in glom':dlength}, ignore_index=True)\n",
      "INFO  : Cached data used. Use `pymaid.clear_cache()` to clear. (pymaid)\n",
      "/var/folders/bs/bt3x67kj3zs_156m1s0x72r40000gp/T/ipykernel_48562/1126699847.py:24: FutureWarning: The frame.append method is deprecated and will be removed from pandas in a future version. Use pandas.concat instead.\n",
      "  df=df.append({'glomerulus': '1', 'id':n.id,'cable length in glom':dlength}, ignore_index=True)\n",
      "INFO  : Cached data used. Use `pymaid.clear_cache()` to clear. (pymaid)\n",
      "/var/folders/bs/bt3x67kj3zs_156m1s0x72r40000gp/T/ipykernel_48562/1126699847.py:24: FutureWarning: The frame.append method is deprecated and will be removed from pandas in a future version. Use pandas.concat instead.\n",
      "  df=df.append({'glomerulus': '1', 'id':n.id,'cable length in glom':dlength}, ignore_index=True)\n",
      "INFO  : Cached data used. Use `pymaid.clear_cache()` to clear. (pymaid)\n",
      "/var/folders/bs/bt3x67kj3zs_156m1s0x72r40000gp/T/ipykernel_48562/1126699847.py:24: FutureWarning: The frame.append method is deprecated and will be removed from pandas in a future version. Use pandas.concat instead.\n",
      "  df=df.append({'glomerulus': '1', 'id':n.id,'cable length in glom':dlength}, ignore_index=True)\n"
     ]
    }
   ],
   "source": [
    "#fetch MD1 neurons\n",
    "MD1OSNs = pymaid.get_skids_by_annotation(['innervates MD1', 'left palp nerve', 'sensory neuron', 'PSPs done'], allow_partial = False, intersect = True)\n",
    "MD1neurons = pymaid.get_neuron(MD1OSNs)\n",
    "\n",
    "#loop through all the neurons and append cable length to a dataframe\n",
    "for n in MD1neurons:\n",
    "    skeletonid=n.skeleton_id\n",
    "    skelid=int(skeletonid)\n",
    "    labels = pymaid.get_label_list()\n",
    "    neuronlabels=labels[labels.skeleton_id==skelid]\n",
    "    branchpoint=neuronlabels[neuronlabels.tag=='first branch point']\n",
    "\n",
    "    if len(branchpoint) !=1:\n",
    "        print('error, neuron skelid=%i does not have exactly 1 branchpoint tag'% skelid)\n",
    "    else: bpnode=branchpoint.node_id.values[0]\n",
    "\n",
    "    #cut the neuron\n",
    "    dist,prox=navis.cut_skeleton(n, bpnode)\n",
    "    dlength=dist.cable_length\n",
    "    dlength=dlength/integer\n",
    "    #plength=prox.cable_length\n",
    "\n",
    "    #append to dataframe\n",
    "    df=df.append({'glomerulus': '1', 'id':n.id,'cable length in glom':dlength}, ignore_index=True)"
   ]
  },
  {
   "cell_type": "code",
   "execution_count": 4,
   "id": "cd49b2c2",
   "metadata": {},
   "outputs": [
    {
     "name": "stderr",
     "output_type": "stream",
     "text": [
      "INFO  : Cached data used. Use `pymaid.clear_cache()` to clear. (pymaid)\n"
     ]
    },
    {
     "data": {
      "application/vnd.jupyter.widget-view+json": {
       "model_id": "",
       "version_major": 2,
       "version_minor": 0
      },
      "text/plain": [
       "Fetch neurons:   0%|          | 0/10 [00:00<?, ?it/s]"
      ]
     },
     "metadata": {},
     "output_type": "display_data"
    },
    {
     "data": {
      "application/vnd.jupyter.widget-view+json": {
       "model_id": "",
       "version_major": 2,
       "version_minor": 0
      },
      "text/plain": [
       "Make nrn:   0%|          | 0/10 [00:00<?, ?it/s]"
      ]
     },
     "metadata": {},
     "output_type": "display_data"
    },
    {
     "name": "stderr",
     "output_type": "stream",
     "text": [
      "INFO  : Cached data used. Use `pymaid.clear_cache()` to clear. (pymaid)\n",
      "/var/folders/bs/bt3x67kj3zs_156m1s0x72r40000gp/T/ipykernel_48562/4261758231.py:24: FutureWarning: The frame.append method is deprecated and will be removed from pandas in a future version. Use pandas.concat instead.\n",
      "  df=df.append({'glomerulus': '2', 'id':n.id,'cable length in glom':dlength}, ignore_index=True)\n",
      "INFO  : Cached data used. Use `pymaid.clear_cache()` to clear. (pymaid)\n",
      "/var/folders/bs/bt3x67kj3zs_156m1s0x72r40000gp/T/ipykernel_48562/4261758231.py:24: FutureWarning: The frame.append method is deprecated and will be removed from pandas in a future version. Use pandas.concat instead.\n",
      "  df=df.append({'glomerulus': '2', 'id':n.id,'cable length in glom':dlength}, ignore_index=True)\n",
      "INFO  : Cached data used. Use `pymaid.clear_cache()` to clear. (pymaid)\n",
      "/var/folders/bs/bt3x67kj3zs_156m1s0x72r40000gp/T/ipykernel_48562/4261758231.py:24: FutureWarning: The frame.append method is deprecated and will be removed from pandas in a future version. Use pandas.concat instead.\n",
      "  df=df.append({'glomerulus': '2', 'id':n.id,'cable length in glom':dlength}, ignore_index=True)\n",
      "INFO  : Cached data used. Use `pymaid.clear_cache()` to clear. (pymaid)\n",
      "/var/folders/bs/bt3x67kj3zs_156m1s0x72r40000gp/T/ipykernel_48562/4261758231.py:24: FutureWarning: The frame.append method is deprecated and will be removed from pandas in a future version. Use pandas.concat instead.\n",
      "  df=df.append({'glomerulus': '2', 'id':n.id,'cable length in glom':dlength}, ignore_index=True)\n",
      "INFO  : Cached data used. Use `pymaid.clear_cache()` to clear. (pymaid)\n",
      "/var/folders/bs/bt3x67kj3zs_156m1s0x72r40000gp/T/ipykernel_48562/4261758231.py:24: FutureWarning: The frame.append method is deprecated and will be removed from pandas in a future version. Use pandas.concat instead.\n",
      "  df=df.append({'glomerulus': '2', 'id':n.id,'cable length in glom':dlength}, ignore_index=True)\n",
      "INFO  : Cached data used. Use `pymaid.clear_cache()` to clear. (pymaid)\n",
      "/var/folders/bs/bt3x67kj3zs_156m1s0x72r40000gp/T/ipykernel_48562/4261758231.py:24: FutureWarning: The frame.append method is deprecated and will be removed from pandas in a future version. Use pandas.concat instead.\n",
      "  df=df.append({'glomerulus': '2', 'id':n.id,'cable length in glom':dlength}, ignore_index=True)\n",
      "INFO  : Cached data used. Use `pymaid.clear_cache()` to clear. (pymaid)\n",
      "/var/folders/bs/bt3x67kj3zs_156m1s0x72r40000gp/T/ipykernel_48562/4261758231.py:24: FutureWarning: The frame.append method is deprecated and will be removed from pandas in a future version. Use pandas.concat instead.\n",
      "  df=df.append({'glomerulus': '2', 'id':n.id,'cable length in glom':dlength}, ignore_index=True)\n",
      "INFO  : Cached data used. Use `pymaid.clear_cache()` to clear. (pymaid)\n",
      "/var/folders/bs/bt3x67kj3zs_156m1s0x72r40000gp/T/ipykernel_48562/4261758231.py:24: FutureWarning: The frame.append method is deprecated and will be removed from pandas in a future version. Use pandas.concat instead.\n",
      "  df=df.append({'glomerulus': '2', 'id':n.id,'cable length in glom':dlength}, ignore_index=True)\n",
      "INFO  : Cached data used. Use `pymaid.clear_cache()` to clear. (pymaid)\n",
      "/var/folders/bs/bt3x67kj3zs_156m1s0x72r40000gp/T/ipykernel_48562/4261758231.py:24: FutureWarning: The frame.append method is deprecated and will be removed from pandas in a future version. Use pandas.concat instead.\n",
      "  df=df.append({'glomerulus': '2', 'id':n.id,'cable length in glom':dlength}, ignore_index=True)\n",
      "INFO  : Cached data used. Use `pymaid.clear_cache()` to clear. (pymaid)\n",
      "/var/folders/bs/bt3x67kj3zs_156m1s0x72r40000gp/T/ipykernel_48562/4261758231.py:24: FutureWarning: The frame.append method is deprecated and will be removed from pandas in a future version. Use pandas.concat instead.\n",
      "  df=df.append({'glomerulus': '2', 'id':n.id,'cable length in glom':dlength}, ignore_index=True)\n"
     ]
    }
   ],
   "source": [
    "#fetch MD2 neurons\n",
    "MD2OSNs = pymaid.get_skids_by_annotation(['innervates MD2', 'left palp nerve', 'sensory neuron', 'PSPs done'], allow_partial = False, intersect = True)\n",
    "MD2neurons = pymaid.get_neuron(MD2OSNs)\n",
    "\n",
    "#loop through all the neurons and append cable length to a dataframe\n",
    "for n in MD2neurons:\n",
    "    skeletonid=n.skeleton_id\n",
    "    skelid=int(skeletonid)\n",
    "    labels = pymaid.get_label_list()\n",
    "    neuronlabels=labels[labels.skeleton_id==skelid]\n",
    "    branchpoint=neuronlabels[neuronlabels.tag=='first branch point']\n",
    "\n",
    "    if len(branchpoint) !=1:\n",
    "        print('error, neuron skelid=%i does not have exactly 1 branchpoint tag'% skelid)\n",
    "    else: bpnode=branchpoint.node_id.values[0]\n",
    "\n",
    "    #cut the neuron\n",
    "    dist,prox=navis.cut_skeleton(n, bpnode)\n",
    "    dlength=dist.cable_length\n",
    "    dlength=dlength/integer\n",
    "    #plength=prox.cable_length\n",
    "\n",
    "    #append to dataframe\n",
    "    df=df.append({'glomerulus': '2', 'id':n.id,'cable length in glom':dlength}, ignore_index=True)"
   ]
  },
  {
   "cell_type": "code",
   "execution_count": 5,
   "id": "5f4b9d79",
   "metadata": {},
   "outputs": [
    {
     "name": "stderr",
     "output_type": "stream",
     "text": [
      "INFO  : Cached data used. Use `pymaid.clear_cache()` to clear. (pymaid)\n"
     ]
    },
    {
     "data": {
      "application/vnd.jupyter.widget-view+json": {
       "model_id": "",
       "version_major": 2,
       "version_minor": 0
      },
      "text/plain": [
       "Fetch neurons:   0%|          | 0/10 [00:00<?, ?it/s]"
      ]
     },
     "metadata": {},
     "output_type": "display_data"
    },
    {
     "data": {
      "application/vnd.jupyter.widget-view+json": {
       "model_id": "",
       "version_major": 2,
       "version_minor": 0
      },
      "text/plain": [
       "Make nrn:   0%|          | 0/10 [00:00<?, ?it/s]"
      ]
     },
     "metadata": {},
     "output_type": "display_data"
    },
    {
     "name": "stderr",
     "output_type": "stream",
     "text": [
      "INFO  : Cached data used. Use `pymaid.clear_cache()` to clear. (pymaid)\n",
      "/var/folders/bs/bt3x67kj3zs_156m1s0x72r40000gp/T/ipykernel_48562/2233091749.py:24: FutureWarning: The frame.append method is deprecated and will be removed from pandas in a future version. Use pandas.concat instead.\n",
      "  df=df.append({'glomerulus': '3', 'id':n.id,'cable length in glom':dlength}, ignore_index=True)\n",
      "INFO  : Cached data used. Use `pymaid.clear_cache()` to clear. (pymaid)\n"
     ]
    },
    {
     "name": "stdout",
     "output_type": "stream",
     "text": [
      "8961\n",
      "7075\n"
     ]
    },
    {
     "name": "stderr",
     "output_type": "stream",
     "text": [
      "/var/folders/bs/bt3x67kj3zs_156m1s0x72r40000gp/T/ipykernel_48562/2233091749.py:24: FutureWarning: The frame.append method is deprecated and will be removed from pandas in a future version. Use pandas.concat instead.\n",
      "  df=df.append({'glomerulus': '3', 'id':n.id,'cable length in glom':dlength}, ignore_index=True)\n",
      "INFO  : Cached data used. Use `pymaid.clear_cache()` to clear. (pymaid)\n",
      "/var/folders/bs/bt3x67kj3zs_156m1s0x72r40000gp/T/ipykernel_48562/2233091749.py:24: FutureWarning: The frame.append method is deprecated and will be removed from pandas in a future version. Use pandas.concat instead.\n",
      "  df=df.append({'glomerulus': '3', 'id':n.id,'cable length in glom':dlength}, ignore_index=True)\n",
      "INFO  : Cached data used. Use `pymaid.clear_cache()` to clear. (pymaid)\n"
     ]
    },
    {
     "name": "stdout",
     "output_type": "stream",
     "text": [
      "7270\n",
      "7787\n"
     ]
    },
    {
     "name": "stderr",
     "output_type": "stream",
     "text": [
      "/var/folders/bs/bt3x67kj3zs_156m1s0x72r40000gp/T/ipykernel_48562/2233091749.py:24: FutureWarning: The frame.append method is deprecated and will be removed from pandas in a future version. Use pandas.concat instead.\n",
      "  df=df.append({'glomerulus': '3', 'id':n.id,'cable length in glom':dlength}, ignore_index=True)\n",
      "INFO  : Cached data used. Use `pymaid.clear_cache()` to clear. (pymaid)\n",
      "/var/folders/bs/bt3x67kj3zs_156m1s0x72r40000gp/T/ipykernel_48562/2233091749.py:24: FutureWarning: The frame.append method is deprecated and will be removed from pandas in a future version. Use pandas.concat instead.\n",
      "  df=df.append({'glomerulus': '3', 'id':n.id,'cable length in glom':dlength}, ignore_index=True)\n",
      "INFO  : Cached data used. Use `pymaid.clear_cache()` to clear. (pymaid)\n"
     ]
    },
    {
     "name": "stdout",
     "output_type": "stream",
     "text": [
      "1101\n",
      "8399\n"
     ]
    },
    {
     "name": "stderr",
     "output_type": "stream",
     "text": [
      "/var/folders/bs/bt3x67kj3zs_156m1s0x72r40000gp/T/ipykernel_48562/2233091749.py:24: FutureWarning: The frame.append method is deprecated and will be removed from pandas in a future version. Use pandas.concat instead.\n",
      "  df=df.append({'glomerulus': '3', 'id':n.id,'cable length in glom':dlength}, ignore_index=True)\n",
      "INFO  : Cached data used. Use `pymaid.clear_cache()` to clear. (pymaid)\n",
      "/var/folders/bs/bt3x67kj3zs_156m1s0x72r40000gp/T/ipykernel_48562/2233091749.py:24: FutureWarning: The frame.append method is deprecated and will be removed from pandas in a future version. Use pandas.concat instead.\n",
      "  df=df.append({'glomerulus': '3', 'id':n.id,'cable length in glom':dlength}, ignore_index=True)\n",
      "INFO  : Cached data used. Use `pymaid.clear_cache()` to clear. (pymaid)\n"
     ]
    },
    {
     "name": "stdout",
     "output_type": "stream",
     "text": [
      "7089\n",
      "7769\n"
     ]
    },
    {
     "name": "stderr",
     "output_type": "stream",
     "text": [
      "/var/folders/bs/bt3x67kj3zs_156m1s0x72r40000gp/T/ipykernel_48562/2233091749.py:24: FutureWarning: The frame.append method is deprecated and will be removed from pandas in a future version. Use pandas.concat instead.\n",
      "  df=df.append({'glomerulus': '3', 'id':n.id,'cable length in glom':dlength}, ignore_index=True)\n",
      "INFO  : Cached data used. Use `pymaid.clear_cache()` to clear. (pymaid)\n",
      "/var/folders/bs/bt3x67kj3zs_156m1s0x72r40000gp/T/ipykernel_48562/2233091749.py:24: FutureWarning: The frame.append method is deprecated and will be removed from pandas in a future version. Use pandas.concat instead.\n",
      "  df=df.append({'glomerulus': '3', 'id':n.id,'cable length in glom':dlength}, ignore_index=True)\n",
      "INFO  : Cached data used. Use `pymaid.clear_cache()` to clear. (pymaid)\n"
     ]
    },
    {
     "name": "stdout",
     "output_type": "stream",
     "text": [
      "7230\n",
      "7775\n"
     ]
    },
    {
     "name": "stderr",
     "output_type": "stream",
     "text": [
      "/var/folders/bs/bt3x67kj3zs_156m1s0x72r40000gp/T/ipykernel_48562/2233091749.py:24: FutureWarning: The frame.append method is deprecated and will be removed from pandas in a future version. Use pandas.concat instead.\n",
      "  df=df.append({'glomerulus': '3', 'id':n.id,'cable length in glom':dlength}, ignore_index=True)\n"
     ]
    }
   ],
   "source": [
    "#fetch MD3 neurons\n",
    "MD3OSNs = pymaid.get_skids_by_annotation(['innervates MD3', 'left palp nerve', 'sensory neuron', 'PSPs done'], allow_partial = False, intersect = True)\n",
    "MD3neurons = pymaid.get_neuron(MD3OSNs)\n",
    "\n",
    "#loop through all the neurons and append cable length to a dataframe\n",
    "for n in MD3neurons:\n",
    "    skeletonid=n.skeleton_id\n",
    "    skelid=int(skeletonid)\n",
    "    print(skelid)\n",
    "    labels = pymaid.get_label_list()\n",
    "    neuronlabels=labels[labels.skeleton_id==skelid]\n",
    "    branchpoint=neuronlabels[neuronlabels.tag=='first branch point']\n",
    "\n",
    "    if len(branchpoint) !=1:\n",
    "        print('error, neuron skelid=%i does not have exactly 1 branchpoint tag'% skelid)\n",
    "    else: bpnode=branchpoint.node_id.values[0]\n",
    "\n",
    "    #cut the neuron\n",
    "    dist,prox=navis.cut_skeleton(n, bpnode)\n",
    "    dlength=dist.cable_length\n",
    "    dlength=dlength/integer\n",
    "\n",
    "    #append to dataframe\n",
    "    df=df.append({'glomerulus': '3', 'id':n.id,'cable length in glom':dlength}, ignore_index=True)"
   ]
  },
  {
   "cell_type": "code",
   "execution_count": 6,
   "id": "194ca308",
   "metadata": {
    "scrolled": true
   },
   "outputs": [
    {
     "data": {
      "text/html": [
       "<div>\n",
       "<style scoped>\n",
       "    .dataframe tbody tr th:only-of-type {\n",
       "        vertical-align: middle;\n",
       "    }\n",
       "\n",
       "    .dataframe tbody tr th {\n",
       "        vertical-align: top;\n",
       "    }\n",
       "\n",
       "    .dataframe thead th {\n",
       "        text-align: right;\n",
       "    }\n",
       "</style>\n",
       "<table border=\"1\" class=\"dataframe\">\n",
       "  <thead>\n",
       "    <tr style=\"text-align: right;\">\n",
       "      <th></th>\n",
       "      <th>glomerulus</th>\n",
       "      <th>id</th>\n",
       "      <th>cable length in glom</th>\n",
       "    </tr>\n",
       "  </thead>\n",
       "  <tbody>\n",
       "    <tr>\n",
       "      <th>0</th>\n",
       "      <td>1</td>\n",
       "      <td>7172</td>\n",
       "      <td>453.680437</td>\n",
       "    </tr>\n",
       "    <tr>\n",
       "      <th>1</th>\n",
       "      <td>1</td>\n",
       "      <td>7815</td>\n",
       "      <td>406.781813</td>\n",
       "    </tr>\n",
       "    <tr>\n",
       "      <th>2</th>\n",
       "      <td>1</td>\n",
       "      <td>873</td>\n",
       "      <td>569.447625</td>\n",
       "    </tr>\n",
       "    <tr>\n",
       "      <th>3</th>\n",
       "      <td>1</td>\n",
       "      <td>6736</td>\n",
       "      <td>445.835</td>\n",
       "    </tr>\n",
       "    <tr>\n",
       "      <th>4</th>\n",
       "      <td>1</td>\n",
       "      <td>881</td>\n",
       "      <td>506.129</td>\n",
       "    </tr>\n",
       "    <tr>\n",
       "      <th>5</th>\n",
       "      <td>1</td>\n",
       "      <td>6975</td>\n",
       "      <td>391.274063</td>\n",
       "    </tr>\n",
       "    <tr>\n",
       "      <th>6</th>\n",
       "      <td>1</td>\n",
       "      <td>324409</td>\n",
       "      <td>416.095</td>\n",
       "    </tr>\n",
       "    <tr>\n",
       "      <th>7</th>\n",
       "      <td>1</td>\n",
       "      <td>953</td>\n",
       "      <td>529.873438</td>\n",
       "    </tr>\n",
       "    <tr>\n",
       "      <th>8</th>\n",
       "      <td>1</td>\n",
       "      <td>5021</td>\n",
       "      <td>284.710375</td>\n",
       "    </tr>\n",
       "    <tr>\n",
       "      <th>9</th>\n",
       "      <td>1</td>\n",
       "      <td>671</td>\n",
       "      <td>629.597125</td>\n",
       "    </tr>\n",
       "    <tr>\n",
       "      <th>10</th>\n",
       "      <td>2</td>\n",
       "      <td>9064</td>\n",
       "      <td>204.651906</td>\n",
       "    </tr>\n",
       "    <tr>\n",
       "      <th>11</th>\n",
       "      <td>2</td>\n",
       "      <td>7209</td>\n",
       "      <td>141.502656</td>\n",
       "    </tr>\n",
       "    <tr>\n",
       "      <th>12</th>\n",
       "      <td>2</td>\n",
       "      <td>718</td>\n",
       "      <td>138.635312</td>\n",
       "    </tr>\n",
       "    <tr>\n",
       "      <th>13</th>\n",
       "      <td>2</td>\n",
       "      <td>7983</td>\n",
       "      <td>152.818125</td>\n",
       "    </tr>\n",
       "    <tr>\n",
       "      <th>14</th>\n",
       "      <td>2</td>\n",
       "      <td>947</td>\n",
       "      <td>167.905391</td>\n",
       "    </tr>\n",
       "    <tr>\n",
       "      <th>15</th>\n",
       "      <td>2</td>\n",
       "      <td>7325</td>\n",
       "      <td>140.428687</td>\n",
       "    </tr>\n",
       "    <tr>\n",
       "      <th>16</th>\n",
       "      <td>2</td>\n",
       "      <td>728</td>\n",
       "      <td>102.887844</td>\n",
       "    </tr>\n",
       "    <tr>\n",
       "      <th>17</th>\n",
       "      <td>2</td>\n",
       "      <td>7353</td>\n",
       "      <td>195.558469</td>\n",
       "    </tr>\n",
       "    <tr>\n",
       "      <th>18</th>\n",
       "      <td>2</td>\n",
       "      <td>7197</td>\n",
       "      <td>164.012031</td>\n",
       "    </tr>\n",
       "    <tr>\n",
       "      <th>19</th>\n",
       "      <td>2</td>\n",
       "      <td>7135</td>\n",
       "      <td>167.272219</td>\n",
       "    </tr>\n",
       "    <tr>\n",
       "      <th>20</th>\n",
       "      <td>3</td>\n",
       "      <td>8961</td>\n",
       "      <td>170.986031</td>\n",
       "    </tr>\n",
       "    <tr>\n",
       "      <th>21</th>\n",
       "      <td>3</td>\n",
       "      <td>7075</td>\n",
       "      <td>150.195016</td>\n",
       "    </tr>\n",
       "    <tr>\n",
       "      <th>22</th>\n",
       "      <td>3</td>\n",
       "      <td>7270</td>\n",
       "      <td>156.733625</td>\n",
       "    </tr>\n",
       "    <tr>\n",
       "      <th>23</th>\n",
       "      <td>3</td>\n",
       "      <td>7787</td>\n",
       "      <td>188.369719</td>\n",
       "    </tr>\n",
       "    <tr>\n",
       "      <th>24</th>\n",
       "      <td>3</td>\n",
       "      <td>1101</td>\n",
       "      <td>133.558531</td>\n",
       "    </tr>\n",
       "    <tr>\n",
       "      <th>25</th>\n",
       "      <td>3</td>\n",
       "      <td>8399</td>\n",
       "      <td>138.479781</td>\n",
       "    </tr>\n",
       "    <tr>\n",
       "      <th>26</th>\n",
       "      <td>3</td>\n",
       "      <td>7089</td>\n",
       "      <td>108.313906</td>\n",
       "    </tr>\n",
       "    <tr>\n",
       "      <th>27</th>\n",
       "      <td>3</td>\n",
       "      <td>7769</td>\n",
       "      <td>144.739156</td>\n",
       "    </tr>\n",
       "    <tr>\n",
       "      <th>28</th>\n",
       "      <td>3</td>\n",
       "      <td>7230</td>\n",
       "      <td>107.448977</td>\n",
       "    </tr>\n",
       "    <tr>\n",
       "      <th>29</th>\n",
       "      <td>3</td>\n",
       "      <td>7775</td>\n",
       "      <td>123.889953</td>\n",
       "    </tr>\n",
       "  </tbody>\n",
       "</table>\n",
       "</div>"
      ],
      "text/plain": [
       "   glomerulus      id cable length in glom\n",
       "0           1    7172           453.680437\n",
       "1           1    7815           406.781813\n",
       "2           1     873           569.447625\n",
       "3           1    6736              445.835\n",
       "4           1     881              506.129\n",
       "5           1    6975           391.274063\n",
       "6           1  324409              416.095\n",
       "7           1     953           529.873438\n",
       "8           1    5021           284.710375\n",
       "9           1     671           629.597125\n",
       "10          2    9064           204.651906\n",
       "11          2    7209           141.502656\n",
       "12          2     718           138.635312\n",
       "13          2    7983           152.818125\n",
       "14          2     947           167.905391\n",
       "15          2    7325           140.428687\n",
       "16          2     728           102.887844\n",
       "17          2    7353           195.558469\n",
       "18          2    7197           164.012031\n",
       "19          2    7135           167.272219\n",
       "20          3    8961           170.986031\n",
       "21          3    7075           150.195016\n",
       "22          3    7270           156.733625\n",
       "23          3    7787           188.369719\n",
       "24          3    1101           133.558531\n",
       "25          3    8399           138.479781\n",
       "26          3    7089           108.313906\n",
       "27          3    7769           144.739156\n",
       "28          3    7230           107.448977\n",
       "29          3    7775           123.889953"
      ]
     },
     "execution_count": 6,
     "metadata": {},
     "output_type": "execute_result"
    }
   ],
   "source": [
    "df"
   ]
  },
  {
   "cell_type": "code",
   "execution_count": 7,
   "id": "a82cea8b",
   "metadata": {},
   "outputs": [],
   "source": [
    "# lists\n",
    "md1=df[df[\"glomerulus\"]==\"1\"]\n",
    "md1=md1[\"cable length in glom\"].values.tolist()\n",
    "md2=df[df['glomerulus']=='2']\n",
    "md2=md2[\"cable length in glom\"].values.tolist()\n",
    "md3=df[df['glomerulus']=='3']\n",
    "md3=md3['cable length in glom'].values.tolist()"
   ]
  },
  {
   "cell_type": "code",
   "execution_count": 8,
   "id": "b8febe26",
   "metadata": {},
   "outputs": [
    {
     "data": {
      "text/html": [
       "<div>\n",
       "<style scoped>\n",
       "    .dataframe tbody tr th:only-of-type {\n",
       "        vertical-align: middle;\n",
       "    }\n",
       "\n",
       "    .dataframe tbody tr th {\n",
       "        vertical-align: top;\n",
       "    }\n",
       "\n",
       "    .dataframe thead th {\n",
       "        text-align: right;\n",
       "    }\n",
       "</style>\n",
       "<table border=\"1\" class=\"dataframe\">\n",
       "  <thead>\n",
       "    <tr style=\"text-align: right;\">\n",
       "      <th></th>\n",
       "      <th>glomerulus</th>\n",
       "      <th>cable length in glom</th>\n",
       "    </tr>\n",
       "  </thead>\n",
       "  <tbody>\n",
       "    <tr>\n",
       "      <th>0</th>\n",
       "      <td>1</td>\n",
       "      <td>453.680437</td>\n",
       "    </tr>\n",
       "    <tr>\n",
       "      <th>1</th>\n",
       "      <td>1</td>\n",
       "      <td>406.781813</td>\n",
       "    </tr>\n",
       "    <tr>\n",
       "      <th>2</th>\n",
       "      <td>1</td>\n",
       "      <td>569.447625</td>\n",
       "    </tr>\n",
       "    <tr>\n",
       "      <th>3</th>\n",
       "      <td>1</td>\n",
       "      <td>445.835000</td>\n",
       "    </tr>\n",
       "    <tr>\n",
       "      <th>4</th>\n",
       "      <td>1</td>\n",
       "      <td>506.129000</td>\n",
       "    </tr>\n",
       "    <tr>\n",
       "      <th>5</th>\n",
       "      <td>1</td>\n",
       "      <td>391.274063</td>\n",
       "    </tr>\n",
       "    <tr>\n",
       "      <th>6</th>\n",
       "      <td>1</td>\n",
       "      <td>416.095000</td>\n",
       "    </tr>\n",
       "    <tr>\n",
       "      <th>7</th>\n",
       "      <td>1</td>\n",
       "      <td>529.873438</td>\n",
       "    </tr>\n",
       "    <tr>\n",
       "      <th>8</th>\n",
       "      <td>1</td>\n",
       "      <td>284.710375</td>\n",
       "    </tr>\n",
       "    <tr>\n",
       "      <th>9</th>\n",
       "      <td>1</td>\n",
       "      <td>629.597125</td>\n",
       "    </tr>\n",
       "    <tr>\n",
       "      <th>10</th>\n",
       "      <td>2</td>\n",
       "      <td>204.651906</td>\n",
       "    </tr>\n",
       "    <tr>\n",
       "      <th>11</th>\n",
       "      <td>2</td>\n",
       "      <td>141.502656</td>\n",
       "    </tr>\n",
       "    <tr>\n",
       "      <th>12</th>\n",
       "      <td>2</td>\n",
       "      <td>138.635312</td>\n",
       "    </tr>\n",
       "    <tr>\n",
       "      <th>13</th>\n",
       "      <td>2</td>\n",
       "      <td>152.818125</td>\n",
       "    </tr>\n",
       "    <tr>\n",
       "      <th>14</th>\n",
       "      <td>2</td>\n",
       "      <td>167.905391</td>\n",
       "    </tr>\n",
       "    <tr>\n",
       "      <th>15</th>\n",
       "      <td>2</td>\n",
       "      <td>140.428687</td>\n",
       "    </tr>\n",
       "    <tr>\n",
       "      <th>16</th>\n",
       "      <td>2</td>\n",
       "      <td>102.887844</td>\n",
       "    </tr>\n",
       "    <tr>\n",
       "      <th>17</th>\n",
       "      <td>2</td>\n",
       "      <td>195.558469</td>\n",
       "    </tr>\n",
       "    <tr>\n",
       "      <th>18</th>\n",
       "      <td>2</td>\n",
       "      <td>164.012031</td>\n",
       "    </tr>\n",
       "    <tr>\n",
       "      <th>19</th>\n",
       "      <td>2</td>\n",
       "      <td>167.272219</td>\n",
       "    </tr>\n",
       "    <tr>\n",
       "      <th>20</th>\n",
       "      <td>3</td>\n",
       "      <td>170.986031</td>\n",
       "    </tr>\n",
       "    <tr>\n",
       "      <th>21</th>\n",
       "      <td>3</td>\n",
       "      <td>150.195016</td>\n",
       "    </tr>\n",
       "    <tr>\n",
       "      <th>22</th>\n",
       "      <td>3</td>\n",
       "      <td>156.733625</td>\n",
       "    </tr>\n",
       "    <tr>\n",
       "      <th>23</th>\n",
       "      <td>3</td>\n",
       "      <td>188.369719</td>\n",
       "    </tr>\n",
       "    <tr>\n",
       "      <th>24</th>\n",
       "      <td>3</td>\n",
       "      <td>133.558531</td>\n",
       "    </tr>\n",
       "    <tr>\n",
       "      <th>25</th>\n",
       "      <td>3</td>\n",
       "      <td>138.479781</td>\n",
       "    </tr>\n",
       "    <tr>\n",
       "      <th>26</th>\n",
       "      <td>3</td>\n",
       "      <td>108.313906</td>\n",
       "    </tr>\n",
       "    <tr>\n",
       "      <th>27</th>\n",
       "      <td>3</td>\n",
       "      <td>144.739156</td>\n",
       "    </tr>\n",
       "    <tr>\n",
       "      <th>28</th>\n",
       "      <td>3</td>\n",
       "      <td>107.448977</td>\n",
       "    </tr>\n",
       "    <tr>\n",
       "      <th>29</th>\n",
       "      <td>3</td>\n",
       "      <td>123.889953</td>\n",
       "    </tr>\n",
       "  </tbody>\n",
       "</table>\n",
       "</div>"
      ],
      "text/plain": [
       "   glomerulus  cable length in glom\n",
       "0           1            453.680437\n",
       "1           1            406.781813\n",
       "2           1            569.447625\n",
       "3           1            445.835000\n",
       "4           1            506.129000\n",
       "5           1            391.274063\n",
       "6           1            416.095000\n",
       "7           1            529.873438\n",
       "8           1            284.710375\n",
       "9           1            629.597125\n",
       "10          2            204.651906\n",
       "11          2            141.502656\n",
       "12          2            138.635312\n",
       "13          2            152.818125\n",
       "14          2            167.905391\n",
       "15          2            140.428687\n",
       "16          2            102.887844\n",
       "17          2            195.558469\n",
       "18          2            164.012031\n",
       "19          2            167.272219\n",
       "20          3            170.986031\n",
       "21          3            150.195016\n",
       "22          3            156.733625\n",
       "23          3            188.369719\n",
       "24          3            133.558531\n",
       "25          3            138.479781\n",
       "26          3            108.313906\n",
       "27          3            144.739156\n",
       "28          3            107.448977\n",
       "29          3            123.889953"
      ]
     },
     "execution_count": 8,
     "metadata": {},
     "output_type": "execute_result"
    }
   ],
   "source": [
    "# make dataframe for plotting\n",
    "\n",
    "data_dict = {\"1\": md1, \"2\": md2, \"3\": md3}\n",
    "pre_df = {\"glomerulus\": [], \"cable length in glom\": []}\n",
    "for glom, dists in data_dict.items():\n",
    "    glom_list = [glom,]*len(dists)\n",
    "    pre_df[\"glomerulus\"].extend(glom_list)    \n",
    "    pre_df[\"cable length in glom\"].extend(dists)\n",
    "\n",
    "df = pd.DataFrame.from_dict(pre_df)\n",
    "df"
   ]
  },
  {
   "cell_type": "code",
   "execution_count": 9,
   "id": "06b11205",
   "metadata": {},
   "outputs": [],
   "source": [
    "from seaborn.categorical import _ViolinPlotter\n",
    "class MyVPlot(_ViolinPlotter):\n",
    "    def draw_quartiles(self, ax, data, support, density, center, split=False, color='k'):\n",
    "        \"\"\"Draw the quartiles as lines at width of density.\"\"\"\n",
    "        q50 = np.mean(data)\n",
    "        self.draw_to_density(ax, center, q50, support, density, split,\n",
    "                             linewidth=self.linewidth, color=color)\n",
    "\n",
    "def my_violinplot2(x=None, y=None, hue=None, data=None, order=None, hue_order=None,\n",
    "                  bw=\"scott\", cut=0, scale=\"area\", scale_hue=True, gridsize=100,\n",
    "                  width=.8, inner=\"quartiles\", split=False, dodge=True, orient=None,\n",
    "                  linewidth=None, color=None, palette=None, saturation=.75,alpha=1,\n",
    "                  ax=None, edgecolor=None, **kwargs):\n",
    "\n",
    "    plotter = MyVPlot(x, y, hue, data, order, hue_order,\n",
    "                      bw, cut, scale, scale_hue, gridsize,\n",
    "                      width, inner, split, dodge, orient, linewidth,\n",
    "                      color, palette, saturation)\n",
    "    if ax is None:\n",
    "        ax = plt.gca()\n",
    "\n",
    "    plotter.plot(ax)\n",
    "    # change outlines\n",
    "    colors=[\"violet\", \"#0000FF\", 'mediumspringgreen']\n",
    "    for idx, violin in enumerate(ax.collections):\n",
    "        violin.set_edgecolor(colors[idx])\n",
    "    for l in ax.lines:\n",
    "        l.set_linestyle('-')\n",
    "        l.set_color('k')\n",
    "    return ax"
   ]
  },
  {
   "cell_type": "code",
   "execution_count": 10,
   "id": "e915e319",
   "metadata": {},
   "outputs": [
    {
     "name": "stderr",
     "output_type": "stream",
     "text": [
      "findfont: Font family ['Liberation Sans'] not found. Falling back to DejaVu Sans.\n"
     ]
    },
    {
     "data": {
      "image/png": "[encoded data removed]",
      "text/plain": [
       "<Figure size 432x288 with 1 Axes>"
      ]
     },
     "metadata": {
      "needs_background": "light"
     },
     "output_type": "display_data"
    }
   ],
   "source": [
    "#make plot with annotations, from dataframe\n",
    "x = \"glomerulus\"\n",
    "y = \"cable length in glom\"\n",
    "order = ['1', '2', '3']\n",
    "ax = my_violinplot2(data=df, x=x, y=y, order=order, color=\"1\")\n",
    "ax = sns.stripplot(data=df, x=x, y=y, order=order, palette=[\"violet\", \"#0000FF\", \"mediumspringgreen\"])\n",
    "ax.set_xlabel('Glomerulus', size=12, fontname=\"Liberation Sans\")\n",
    "ax.set_ylabel('OSN cable length in glomerulus (µm)', size=12, fontname=\"Liberation Sans\")\n",
    "ax.set_aspect(0.01)\n",
    "plt.ylim(0,700)\n",
    "plt.tick_params(axis='x', which='both', bottom=False, top=False)\n",
    "plt.tick_params(axis='y', which='both', left=True, right=False)\n",
    "sns.despine(fig=None, ax=None, top=True, right=True, left=False, bottom=True, offset=None, trim=False)\n",
    "\n",
    "plt.savefig('../svg/cablelength_inGlom.svg', format=\"svg\")\n",
    "plt.show()"
   ]
  },
  {
   "cell_type": "code",
   "execution_count": 11,
   "id": "0ea2a724",
   "metadata": {},
   "outputs": [
    {
     "data": {
      "text/plain": [
       "KruskalResult(statistic=20.015483870967756, pvalue=4.5049803511521976e-05)"
      ]
     },
     "execution_count": 11,
     "metadata": {},
     "output_type": "execute_result"
    }
   ],
   "source": [
    "stats.kruskal(md1, md2, md3) # non-parametric anova"
   ]
  },
  {
   "cell_type": "code",
   "execution_count": 12,
   "id": "4066c2c8",
   "metadata": {},
   "outputs": [
    {
     "data": {
      "text/html": [
       "<div>\n",
       "<style scoped>\n",
       "    .dataframe tbody tr th:only-of-type {\n",
       "        vertical-align: middle;\n",
       "    }\n",
       "\n",
       "    .dataframe tbody tr th {\n",
       "        vertical-align: top;\n",
       "    }\n",
       "\n",
       "    .dataframe thead th {\n",
       "        text-align: right;\n",
       "    }\n",
       "</style>\n",
       "<table border=\"1\" class=\"dataframe\">\n",
       "  <thead>\n",
       "    <tr style=\"text-align: right;\">\n",
       "      <th></th>\n",
       "      <th>1</th>\n",
       "      <th>2</th>\n",
       "      <th>3</th>\n",
       "    </tr>\n",
       "  </thead>\n",
       "  <tbody>\n",
       "    <tr>\n",
       "      <th>1</th>\n",
       "      <td>1.000000</td>\n",
       "      <td>0.001995</td>\n",
       "      <td>0.000074</td>\n",
       "    </tr>\n",
       "    <tr>\n",
       "      <th>2</th>\n",
       "      <td>0.001995</td>\n",
       "      <td>1.000000</td>\n",
       "      <td>1.000000</td>\n",
       "    </tr>\n",
       "    <tr>\n",
       "      <th>3</th>\n",
       "      <td>0.000074</td>\n",
       "      <td>1.000000</td>\n",
       "      <td>1.000000</td>\n",
       "    </tr>\n",
       "  </tbody>\n",
       "</table>\n",
       "</div>"
      ],
      "text/plain": [
       "          1         2         3\n",
       "1  1.000000  0.001995  0.000074\n",
       "2  0.001995  1.000000  1.000000\n",
       "3  0.000074  1.000000  1.000000"
      ]
     },
     "execution_count": 12,
     "metadata": {},
     "output_type": "execute_result"
    }
   ],
   "source": [
    "sp.posthoc_dunn(df,'cable length in glom','glomerulus','bonferroni')"
   ]
  },
  {
   "cell_type": "code",
   "execution_count": null,
   "id": "219aba2a",
   "metadata": {},
   "outputs": [],
   "source": []
  }
 ],
 "metadata": {
  "kernelspec": {
   "display_name": "Python 3 (ipykernel)",
   "language": "python",
   "name": "python3"
  },
  "language_info": {
   "codemirror_mode": {
    "name": "ipython",
    "version": 3
   },
   "file_extension": ".py",
   "mimetype": "text/x-python",
   "name": "python",
   "nbconvert_exporter": "python",
   "pygments_lexer": "ipython3",
   "version": "3.9.10"
  }
 },
 "nbformat": 4,
 "nbformat_minor": 5
}
