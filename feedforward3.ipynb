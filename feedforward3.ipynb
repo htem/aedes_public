{
 "cells": [
  {
   "cell_type": "code",
   "execution_count": 1,
   "metadata": {},
   "outputs": [
    {
     "name": "stderr",
     "output_type": "stream",
     "text": [
      "INFO  : Global CATMAID instance set. Caching is ON. (pymaid)\n"
     ]
    }
   ],
   "source": [
    "import numpy as np\n",
    "import matplotlib.pyplot as plt\n",
    "import pandas as pd\n",
    "import scipy.stats as stats\n",
    "import seaborn as sns\n",
    "import scikit_posthocs as sp\n",
    "from matplotlib.ticker import PercentFormatter\n",
    "from math import sqrt\n",
    "from statistics import mean, stdev\n",
    "from matplotlib.ticker import PercentFormatter\n",
    "from statsmodels.stats.power import TTestPower, TTestIndPower\n",
    "import pymaid\n",
    "import matplotlib.font_manager as fm\n",
    "from statannot import add_stat_annotation\n",
    "\n",
    "#connect your catmaid instance\n",
    "instance=pymaid.CatmaidInstance('https://radagast.hms.harvard.edu/catmaidaedes',\"\")"
   ]
  },
  {
   "cell_type": "code",
   "execution_count": 2,
   "metadata": {},
   "outputs": [
    {
     "name": "stdout",
     "output_type": "stream",
     "text": [
      "/home/jb534/miniconda3/envs/wuzzy/lib/python3.9/site-packages/matplotlib/mpl-data/matplotlibrc\n"
     ]
    }
   ],
   "source": [
    "import matplotlib\n",
    "print(matplotlib.matplotlib_fname())"
   ]
  },
  {
   "cell_type": "code",
   "execution_count": 3,
   "metadata": {},
   "outputs": [
    {
     "data": {
      "application/vnd.jupyter.widget-view+json": {
       "model_id": "448cdda4a2e445e1be7e614879355c1b",
       "version_major": 2,
       "version_minor": 0
      },
      "text/plain": [
       "Fetch neurons:   0%|          | 0/11 [00:00<?, ?it/s]"
      ]
     },
     "metadata": {},
     "output_type": "display_data"
    },
    {
     "data": {
      "application/vnd.jupyter.widget-view+json": {
       "model_id": "f8283b09b768485ea4509df14854003b",
       "version_major": 2,
       "version_minor": 0
      },
      "text/plain": [
       "Make nrn:   0%|          | 0/11 [00:00<?, ?it/s]"
      ]
     },
     "metadata": {},
     "output_type": "display_data"
    },
    {
     "name": "stdout",
     "output_type": "stream",
     "text": [
      "[160, 158, 131, 113, 115, 155, 145, 184, 151, 89, 132]\n",
      "[7172, 7815, 1608, 873, 6736, 881, 6975, 324409, 953, 5021, 671]\n"
     ]
    }
   ],
   "source": [
    "MD1OSNs = pymaid.get_skids_by_annotation(['innervates MD1', 'left palp nerve', 'sensory neuron', 'PSPs done'], allow_partial = False, intersect = True)\n",
    "MD1osns=pymaid.get_neuron(MD1OSNs)\n",
    "dfmd1 = pymaid.adjacency_matrix(MD1OSNs, targets=295)\n",
    "md1list=dfmd1.values.tolist()\n",
    "import itertools\n",
    "md1biglist=(list(itertools.chain.from_iterable(md1list)))\n",
    "print(md1biglist)\n",
    "print(MD1OSNs)\n"
   ]
  },
  {
   "cell_type": "code",
   "execution_count": 4,
   "metadata": {},
   "outputs": [
    {
     "data": {
      "text/html": [
       "<div>\n",
       "<style scoped>\n",
       "    .dataframe tbody tr th:only-of-type {\n",
       "        vertical-align: middle;\n",
       "    }\n",
       "\n",
       "    .dataframe tbody tr th {\n",
       "        vertical-align: top;\n",
       "    }\n",
       "\n",
       "    .dataframe thead th {\n",
       "        text-align: right;\n",
       "    }\n",
       "</style>\n",
       "<table border=\"1\" class=\"dataframe\">\n",
       "  <thead>\n",
       "    <tr style=\"text-align: right;\">\n",
       "      <th>targets</th>\n",
       "      <th>295</th>\n",
       "    </tr>\n",
       "    <tr>\n",
       "      <th>sources</th>\n",
       "      <th></th>\n",
       "    </tr>\n",
       "  </thead>\n",
       "  <tbody>\n",
       "    <tr>\n",
       "      <th>5021</th>\n",
       "      <td>89</td>\n",
       "    </tr>\n",
       "  </tbody>\n",
       "</table>\n",
       "</div>"
      ],
      "text/plain": [
       "targets  295\n",
       "sources     \n",
       "5021      89"
      ]
     },
     "execution_count": 4,
     "metadata": {},
     "output_type": "execute_result"
    }
   ],
   "source": [
    "pymaid.adjacency_matrix(5021, targets=295)"
   ]
  },
  {
   "cell_type": "code",
   "execution_count": 5,
   "metadata": {},
   "outputs": [
    {
     "name": "stderr",
     "output_type": "stream",
     "text": [
      "INFO  : Cached data used. Use `pymaid.clear_cache()` to clear. (pymaid)\n"
     ]
    },
    {
     "data": {
      "application/vnd.jupyter.widget-view+json": {
       "model_id": "902d9300ae4840c987a7491167e1a398",
       "version_major": 2,
       "version_minor": 0
      },
      "text/plain": [
       "Fetch neurons:   0%|          | 0/10 [00:00<?, ?it/s]"
      ]
     },
     "metadata": {},
     "output_type": "display_data"
    },
    {
     "data": {
      "application/vnd.jupyter.widget-view+json": {
       "model_id": "514a0fdcbc6a4211b6f936a93bbdb692",
       "version_major": 2,
       "version_minor": 0
      },
      "text/plain": [
       "Make nrn:   0%|          | 0/10 [00:00<?, ?it/s]"
      ]
     },
     "metadata": {},
     "output_type": "display_data"
    },
    {
     "name": "stdout",
     "output_type": "stream",
     "text": [
      "[103, 112, 100, 111, 95, 112, 117, 103, 114, 51]\n",
      "[9064, 7209, 718, 7983, 947, 7325, 728, 7353, 7197, 7135]\n"
     ]
    }
   ],
   "source": [
    "MD2OSNs = pymaid.get_skids_by_annotation(['innervates MD2', 'left palp nerve', 'sensory neuron', 'PSPs done'], allow_partial = False, intersect = True)\n",
    "MD2osns=pymaid.get_neuron(MD2OSNs)\n",
    "dfmd2 = pymaid.adjacency_matrix(MD2OSNs, targets=690)\n",
    "md2list=dfmd2.values.tolist()\n",
    "md2biglist=(list(itertools.chain.from_iterable(md2list)))\n",
    "print(md2biglist)\n",
    "print(MD2OSNs)\n"
   ]
  },
  {
   "cell_type": "code",
   "execution_count": 6,
   "metadata": {},
   "outputs": [
    {
     "name": "stderr",
     "output_type": "stream",
     "text": [
      "INFO  : Cached data used. Use `pymaid.clear_cache()` to clear. (pymaid)\n"
     ]
    },
    {
     "data": {
      "application/vnd.jupyter.widget-view+json": {
       "model_id": "815f5ea8668d4018904da037ba576791",
       "version_major": 2,
       "version_minor": 0
      },
      "text/plain": [
       "Fetch neurons:   0%|          | 0/10 [00:00<?, ?it/s]"
      ]
     },
     "metadata": {},
     "output_type": "display_data"
    },
    {
     "data": {
      "application/vnd.jupyter.widget-view+json": {
       "model_id": "b6fa78d159fc4c31bbfe0fba4681963c",
       "version_major": 2,
       "version_minor": 0
      },
      "text/plain": [
       "Make nrn:   0%|          | 0/10 [00:00<?, ?it/s]"
      ]
     },
     "metadata": {},
     "output_type": "display_data"
    },
    {
     "name": "stdout",
     "output_type": "stream",
     "text": [
      "[151, 163, 137, 179, 142, 147, 146, 156, 166, 154]\n"
     ]
    }
   ],
   "source": [
    "MD3OSNs = pymaid.get_skids_by_annotation(['innervates MD3', 'left palp nerve', 'sensory neuron', 'PSPs done'], allow_partial = False, intersect = True)\n",
    "MD3osns=pymaid.get_neuron(MD3OSNs)\n",
    "dfmd3 = pymaid.adjacency_matrix(MD3OSNs, targets=11126)\n",
    "md3list=dfmd3.values.tolist()\n",
    "md3biglist=(list(itertools.chain.from_iterable(md3list)))\n",
    "print(md3biglist)"
   ]
  },
  {
   "cell_type": "code",
   "execution_count": 7,
   "metadata": {},
   "outputs": [
    {
     "data": {
      "text/html": [
       "<div>\n",
       "<style scoped>\n",
       "    .dataframe tbody tr th:only-of-type {\n",
       "        vertical-align: middle;\n",
       "    }\n",
       "\n",
       "    .dataframe tbody tr th {\n",
       "        vertical-align: top;\n",
       "    }\n",
       "\n",
       "    .dataframe thead th {\n",
       "        text-align: right;\n",
       "    }\n",
       "</style>\n",
       "<table border=\"1\" class=\"dataframe\">\n",
       "  <thead>\n",
       "    <tr style=\"text-align: right;\">\n",
       "      <th></th>\n",
       "      <th>Glomerulus</th>\n",
       "      <th>OSN → uPN synapses</th>\n",
       "    </tr>\n",
       "  </thead>\n",
       "  <tbody>\n",
       "    <tr>\n",
       "      <th>0</th>\n",
       "      <td>1</td>\n",
       "      <td>160</td>\n",
       "    </tr>\n",
       "    <tr>\n",
       "      <th>1</th>\n",
       "      <td>1</td>\n",
       "      <td>158</td>\n",
       "    </tr>\n",
       "    <tr>\n",
       "      <th>2</th>\n",
       "      <td>1</td>\n",
       "      <td>131</td>\n",
       "    </tr>\n",
       "    <tr>\n",
       "      <th>3</th>\n",
       "      <td>1</td>\n",
       "      <td>113</td>\n",
       "    </tr>\n",
       "    <tr>\n",
       "      <th>4</th>\n",
       "      <td>1</td>\n",
       "      <td>115</td>\n",
       "    </tr>\n",
       "    <tr>\n",
       "      <th>5</th>\n",
       "      <td>1</td>\n",
       "      <td>155</td>\n",
       "    </tr>\n",
       "    <tr>\n",
       "      <th>6</th>\n",
       "      <td>1</td>\n",
       "      <td>145</td>\n",
       "    </tr>\n",
       "    <tr>\n",
       "      <th>7</th>\n",
       "      <td>1</td>\n",
       "      <td>184</td>\n",
       "    </tr>\n",
       "    <tr>\n",
       "      <th>8</th>\n",
       "      <td>1</td>\n",
       "      <td>151</td>\n",
       "    </tr>\n",
       "    <tr>\n",
       "      <th>9</th>\n",
       "      <td>1</td>\n",
       "      <td>89</td>\n",
       "    </tr>\n",
       "    <tr>\n",
       "      <th>10</th>\n",
       "      <td>1</td>\n",
       "      <td>132</td>\n",
       "    </tr>\n",
       "    <tr>\n",
       "      <th>11</th>\n",
       "      <td>2</td>\n",
       "      <td>103</td>\n",
       "    </tr>\n",
       "    <tr>\n",
       "      <th>12</th>\n",
       "      <td>2</td>\n",
       "      <td>112</td>\n",
       "    </tr>\n",
       "    <tr>\n",
       "      <th>13</th>\n",
       "      <td>2</td>\n",
       "      <td>100</td>\n",
       "    </tr>\n",
       "    <tr>\n",
       "      <th>14</th>\n",
       "      <td>2</td>\n",
       "      <td>111</td>\n",
       "    </tr>\n",
       "    <tr>\n",
       "      <th>15</th>\n",
       "      <td>2</td>\n",
       "      <td>95</td>\n",
       "    </tr>\n",
       "    <tr>\n",
       "      <th>16</th>\n",
       "      <td>2</td>\n",
       "      <td>112</td>\n",
       "    </tr>\n",
       "    <tr>\n",
       "      <th>17</th>\n",
       "      <td>2</td>\n",
       "      <td>117</td>\n",
       "    </tr>\n",
       "    <tr>\n",
       "      <th>18</th>\n",
       "      <td>2</td>\n",
       "      <td>103</td>\n",
       "    </tr>\n",
       "    <tr>\n",
       "      <th>19</th>\n",
       "      <td>2</td>\n",
       "      <td>114</td>\n",
       "    </tr>\n",
       "    <tr>\n",
       "      <th>20</th>\n",
       "      <td>2</td>\n",
       "      <td>51</td>\n",
       "    </tr>\n",
       "    <tr>\n",
       "      <th>21</th>\n",
       "      <td>3</td>\n",
       "      <td>151</td>\n",
       "    </tr>\n",
       "    <tr>\n",
       "      <th>22</th>\n",
       "      <td>3</td>\n",
       "      <td>163</td>\n",
       "    </tr>\n",
       "    <tr>\n",
       "      <th>23</th>\n",
       "      <td>3</td>\n",
       "      <td>137</td>\n",
       "    </tr>\n",
       "    <tr>\n",
       "      <th>24</th>\n",
       "      <td>3</td>\n",
       "      <td>179</td>\n",
       "    </tr>\n",
       "    <tr>\n",
       "      <th>25</th>\n",
       "      <td>3</td>\n",
       "      <td>142</td>\n",
       "    </tr>\n",
       "    <tr>\n",
       "      <th>26</th>\n",
       "      <td>3</td>\n",
       "      <td>147</td>\n",
       "    </tr>\n",
       "    <tr>\n",
       "      <th>27</th>\n",
       "      <td>3</td>\n",
       "      <td>146</td>\n",
       "    </tr>\n",
       "    <tr>\n",
       "      <th>28</th>\n",
       "      <td>3</td>\n",
       "      <td>156</td>\n",
       "    </tr>\n",
       "    <tr>\n",
       "      <th>29</th>\n",
       "      <td>3</td>\n",
       "      <td>166</td>\n",
       "    </tr>\n",
       "    <tr>\n",
       "      <th>30</th>\n",
       "      <td>3</td>\n",
       "      <td>154</td>\n",
       "    </tr>\n",
       "  </tbody>\n",
       "</table>\n",
       "</div>"
      ],
      "text/plain": [
       "   Glomerulus  OSN → uPN synapses\n",
       "0           1                 160\n",
       "1           1                 158\n",
       "2           1                 131\n",
       "3           1                 113\n",
       "4           1                 115\n",
       "5           1                 155\n",
       "6           1                 145\n",
       "7           1                 184\n",
       "8           1                 151\n",
       "9           1                  89\n",
       "10          1                 132\n",
       "11          2                 103\n",
       "12          2                 112\n",
       "13          2                 100\n",
       "14          2                 111\n",
       "15          2                  95\n",
       "16          2                 112\n",
       "17          2                 117\n",
       "18          2                 103\n",
       "19          2                 114\n",
       "20          2                  51\n",
       "21          3                 151\n",
       "22          3                 163\n",
       "23          3                 137\n",
       "24          3                 179\n",
       "25          3                 142\n",
       "26          3                 147\n",
       "27          3                 146\n",
       "28          3                 156\n",
       "29          3                 166\n",
       "30          3                 154"
      ]
     },
     "execution_count": 7,
     "metadata": {},
     "output_type": "execute_result"
    }
   ],
   "source": [
    "#make dataframe\n",
    "\n",
    "data_dict = {\"1\": md1biglist, \"2\": md2biglist, \"3\": md3biglist}\n",
    "pre_df = {\"Glomerulus\": [], \"OSN → uPN synapses\": []}\n",
    "for glom, dists in data_dict.items():\n",
    "    glom_list = [glom,]*len(dists)\n",
    "    pre_df[\"Glomerulus\"].extend(glom_list)    \n",
    "    pre_df[\"OSN → uPN synapses\"].extend(dists)\n",
    "\n",
    "df = pd.DataFrame.from_dict(pre_df)\n",
    "df"
   ]
  },
  {
   "cell_type": "code",
   "execution_count": 8,
   "metadata": {},
   "outputs": [],
   "source": [
    "from seaborn.categorical import _ViolinPlotter\n",
    "class MyVPlot(_ViolinPlotter):\n",
    "    def draw_quartiles(self, ax, data, support, density, center, split=False, color='k'):\n",
    "        \"\"\"Draw the quartiles as lines at width of density.\"\"\"\n",
    "        q50 = np.mean(data)\n",
    "        self.draw_to_density(ax, center, q50, support, density, split,\n",
    "                             linewidth=self.linewidth, color=color)\n",
    "\n",
    "def my_violinplot2(x=None, y=None, hue=None, data=None, order=None, hue_order=None,\n",
    "                  bw=\"scott\", cut=0, scale=\"area\", scale_hue=True, gridsize=100,\n",
    "                  width=.8, inner=\"quartiles\", split=False, dodge=True, orient=None,\n",
    "                  linewidth=None, color=None, palette=None, saturation=.75,alpha=1,\n",
    "                  ax=None, edgecolor=None, **kwargs):\n",
    "\n",
    "    plotter = MyVPlot(x, y, hue, data, order, hue_order,\n",
    "                      bw, cut, scale, scale_hue, gridsize,\n",
    "                      width, inner, split, dodge, orient, linewidth,\n",
    "                      color, palette, saturation)\n",
    "    if ax is None:\n",
    "        ax = plt.gca()\n",
    "\n",
    "    plotter.plot(ax)\n",
    "    # change outlines\n",
    "    colors=[\"violet\", \"#0000FF\", 'mediumspringgreen']\n",
    "    for idx, violin in enumerate(ax.collections):\n",
    "        violin.set_edgecolor(colors[idx])\n",
    "    for l in ax.lines:\n",
    "        l.set_linestyle('-')\n",
    "        l.set_color('k')\n",
    "    return ax"
   ]
  },
  {
   "cell_type": "code",
   "execution_count": 9,
   "metadata": {},
   "outputs": [
    {
     "data": {
      "image/png": "[encoded data removed]",
      "text/plain": [
       "<Figure size 640x480 with 1 Axes>"
      ]
     },
     "metadata": {},
     "output_type": "display_data"
    }
   ],
   "source": [
    "ax = my_violinplot2(data=[md1biglist, md2biglist, md3biglist], color = \"1\")\n",
    "ax = sns.stripplot(data=[md1biglist, md2biglist, md3biglist], palette=[\"violet\", \"#0000FF\", \"mediumspringgreen\"])\n",
    "labels = ['MD1', 'MD2', 'MD3']\n",
    "sns.despine(fig=None, ax=None, top=True, right=True, left=False, bottom=True, offset=None, trim=False)\n",
    "ax.set_aspect(0.04)\n",
    "plt.ylim([20,120])\n",
    "ax.set_xticklabels(labels,rotation = 10)\n",
    "ax.set_xlabel('Glomerulus', size=14, fontname=\"Liberation Sans\")\n",
    "ax.set_ylabel('OSN → uPN synapses', size=14, fontname=\"Liberation Sans\")\n",
    "plt.tick_params(axis='x', which='both', bottom=False, top=False)\n",
    "plt.tick_params(axis='y', which='both', left=True, right=False)\n",
    "plt.savefig('/home/jb534/pymaid_scripts/aedes/aedes/svg/feedforward.svg', format=\"svg\")\n",
    "plt.show()\n",
    "\n"
   ]
  },
  {
   "cell_type": "code",
   "execution_count": 10,
   "metadata": {},
   "outputs": [
    {
     "name": "stderr",
     "output_type": "stream",
     "text": [
      "/tmp/ipykernel_35660/2792385832.py:6: FutureWarning: Passing `palette` without assigning `hue` is deprecated.\n",
      "  ax = sns.stripplot(data=df, x=x, y=y, order=order, palette=[\"violet\", \"#0000FF\", \"mediumspringgreen\"])\n"
     ]
    },
    {
     "name": "stdout",
     "output_type": "stream",
     "text": [
      "1 v.s. 2: Mann-Whitney-Wilcoxon test two-sided with Bonferroni correction, P_val=8.241e-03 U_stat=9.800e+01\n",
      "2 v.s. 3: Mann-Whitney-Wilcoxon test two-sided with Bonferroni correction, P_val=5.419e-04 U_stat=0.000e+00\n",
      "1 v.s. 3: Mann-Whitney-Wilcoxon test two-sided with Bonferroni correction, P_val=6.145e-01 U_stat=3.650e+01\n"
     ]
    },
    {
     "data": {
      "image/png": "[encoded data removed]",
      "text/plain": [
       "<Figure size 640x480 with 1 Axes>"
      ]
     },
     "metadata": {},
     "output_type": "display_data"
    }
   ],
   "source": [
    "#make plot with annotations, from dataframe\n",
    "x = \"Glomerulus\"\n",
    "y = \"OSN → uPN synapses\"\n",
    "order = ['1', '2', '3']\n",
    "ax = my_violinplot2(data=df, x=x, y=y, order=order, color=\"1\")\n",
    "ax = sns.stripplot(data=df, x=x, y=y, order=order, palette=[\"violet\", \"#0000FF\", \"mediumspringgreen\"])\n",
    "ax.set_xlabel('Glomerulus', size=12, fontname=\"Liberation Sans\")\n",
    "ax.set_ylabel('Synapse # (total per OSN)', size=12, fontname=\"Liberation Sans\")\n",
    "ax.set_aspect(0.03)\n",
    "plt.ylim(0,190)\n",
    "plt.tick_params(axis='x', which='both', bottom=False, top=False)\n",
    "plt.tick_params(axis='y', which='both', left=True, right=False)\n",
    "sns.despine(fig=None, ax=None, top=True, right=True, left=False, bottom=True, offset=None, trim=False)\n",
    "add_stat_annotation(ax, data=df, x=x, y=y, order=order,\n",
    "                    box_pairs=[(\"1\", \"2\"), (\"1\", \"3\"), (\"2\", \"3\")],\n",
    "                    test='Mann-Whitney', text_format='simple', loc='outside', verbose=2)\n",
    "plt.savefig('/home/jb534/pymaid_scripts/aedes/aedes/svg/feedforward.svg', format=\"svg\")\n",
    "plt.show()"
   ]
  },
  {
   "cell_type": "code",
   "execution_count": 11,
   "metadata": {},
   "outputs": [
    {
     "data": {
      "text/plain": [
       "KruskalResult(statistic=16.808874502540025, pvalue=0.0002238717418171187)"
      ]
     },
     "execution_count": 11,
     "metadata": {},
     "output_type": "execute_result"
    }
   ],
   "source": [
    "stats.kruskal(md1biglist, md2biglist, md3biglist)\n"
   ]
  },
  {
   "cell_type": "code",
   "execution_count": 12,
   "metadata": {},
   "outputs": [
    {
     "name": "stdout",
     "output_type": "stream",
     "text": [
      "139.36363636363637\n",
      "25.453246720114926\n",
      "101.8\n",
      "18.18130908378162\n",
      "154.1\n",
      "11.869709347747316\n"
     ]
    }
   ],
   "source": [
    "print(np.mean(md1biglist))\n",
    "print(np.std(md1biglist))\n",
    "print(np.mean(md2biglist))\n",
    "print(np.std(md2biglist))\n",
    "print(np.mean(md3biglist))\n",
    "print(np.std(md3biglist))"
   ]
  },
  {
   "cell_type": "code",
   "execution_count": 14,
   "metadata": {},
   "outputs": [
    {
     "data": {
      "text/html": [
       "<div>\n",
       "<style scoped>\n",
       "    .dataframe tbody tr th:only-of-type {\n",
       "        vertical-align: middle;\n",
       "    }\n",
       "\n",
       "    .dataframe tbody tr th {\n",
       "        vertical-align: top;\n",
       "    }\n",
       "\n",
       "    .dataframe thead th {\n",
       "        text-align: right;\n",
       "    }\n",
       "</style>\n",
       "<table border=\"1\" class=\"dataframe\">\n",
       "  <thead>\n",
       "    <tr style=\"text-align: right;\">\n",
       "      <th></th>\n",
       "      <th>1</th>\n",
       "      <th>2</th>\n",
       "      <th>3</th>\n",
       "    </tr>\n",
       "  </thead>\n",
       "  <tbody>\n",
       "    <tr>\n",
       "      <th>1</th>\n",
       "      <td>1.000000</td>\n",
       "      <td>0.011104</td>\n",
       "      <td>0.733278</td>\n",
       "    </tr>\n",
       "    <tr>\n",
       "      <th>2</th>\n",
       "      <td>0.011104</td>\n",
       "      <td>1.000000</td>\n",
       "      <td>0.000213</td>\n",
       "    </tr>\n",
       "    <tr>\n",
       "      <th>3</th>\n",
       "      <td>0.733278</td>\n",
       "      <td>0.000213</td>\n",
       "      <td>1.000000</td>\n",
       "    </tr>\n",
       "  </tbody>\n",
       "</table>\n",
       "</div>"
      ],
      "text/plain": [
       "          1         2         3\n",
       "1  1.000000  0.011104  0.733278\n",
       "2  0.011104  1.000000  0.000213\n",
       "3  0.733278  0.000213  1.000000"
      ]
     },
     "execution_count": 14,
     "metadata": {},
     "output_type": "execute_result"
    }
   ],
   "source": [
    "sp.posthoc_dunn([md1biglist, md2biglist, md3biglist], p_adjust = 'bonferroni')"
   ]
  },
  {
   "cell_type": "code",
   "execution_count": null,
   "metadata": {},
   "outputs": [
    {
     "name": "stderr",
     "output_type": "stream",
     "text": [
      "INFO  : Cached data used. Use `pymaid.clear_cache()` to clear. (pymaid)\n",
      "INFO  : Cached data used. Use `pymaid.clear_cache()` to clear. (pymaid)\n"
     ]
    },
    {
     "data": {
      "application/vnd.jupyter.widget-view+json": {
       "model_id": "d7f007e3dbea4dc89df36e9af9cea0a3",
       "version_major": 2,
       "version_minor": 0
      },
      "text/plain": [
       "Fetch neurons:   0%|          | 0/11 [00:00<?, ?it/s]"
      ]
     },
     "metadata": {},
     "output_type": "display_data"
    },
    {
     "name": "stderr",
     "output_type": "stream",
     "text": [
      "INFO  : Cached data used. Use `pymaid.clear_cache()` to clear. (pymaid)\n",
      "INFO  : Cached data used. Use `pymaid.clear_cache()` to clear. (pymaid)\n"
     ]
    },
    {
     "data": {
      "application/vnd.jupyter.widget-view+json": {
       "model_id": "634e2b21de2548a6aea61d744faaa41c",
       "version_major": 2,
       "version_minor": 0
      },
      "text/plain": [
       "Make nrn:   0%|          | 0/11 [00:00<?, ?it/s]"
      ]
     },
     "metadata": {},
     "output_type": "display_data"
    },
    {
     "name": "stderr",
     "output_type": "stream",
     "text": [
      "INFO  : Cached data used. Use `pymaid.clear_cache()` to clear. (pymaid)\n"
     ]
    },
    {
     "name": "stdout",
     "output_type": "stream",
     "text": [
      "[160, 158, 131, 113, 115, 155, 145, 184, 151, 89, 132]\n",
      "1533\n"
     ]
    }
   ],
   "source": [
    "#total feedforward synapses onto each uPN\n",
    "MD1OSNs_all = pymaid.get_skids_by_annotation(['innervates MD1', 'left palp nerve', 'sensory neuron', 'PSPs done'], allow_partial = False, intersect = True)\n",
    "MD1osnsall=pymaid.get_neuron(MD1OSNs_all)\n",
    "dfmd1 = pymaid.adjacency_matrix(MD1OSNs_all, targets=295)\n",
    "md1listall=dfmd1.values.tolist()\n",
    "md1biglistall=(list(itertools.chain.from_iterable(md1listall)))\n",
    "print(md1biglistall)\n",
    "print(sum(md1biglistall))"
   ]
  },
  {
   "cell_type": "code",
   "execution_count": null,
   "metadata": {},
   "outputs": [
    {
     "name": "stderr",
     "output_type": "stream",
     "text": [
      "INFO  : Cached data used. Use `pymaid.clear_cache()` to clear. (pymaid)\n",
      "INFO  : Cached data used. Use `pymaid.clear_cache()` to clear. (pymaid)\n"
     ]
    },
    {
     "data": {
      "application/vnd.jupyter.widget-view+json": {
       "model_id": "32bd9915891d4ab8a585bfd93df41cb5",
       "version_major": 2,
       "version_minor": 0
      },
      "text/plain": [
       "Fetch neurons:   0%|          | 0/10 [00:00<?, ?it/s]"
      ]
     },
     "metadata": {},
     "output_type": "display_data"
    },
    {
     "name": "stderr",
     "output_type": "stream",
     "text": [
      "INFO  : Cached data used. Use `pymaid.clear_cache()` to clear. (pymaid)\n",
      "INFO  : Cached data used. Use `pymaid.clear_cache()` to clear. (pymaid)\n"
     ]
    },
    {
     "data": {
      "application/vnd.jupyter.widget-view+json": {
       "model_id": "54acb4d350a44934b76990c073f505e5",
       "version_major": 2,
       "version_minor": 0
      },
      "text/plain": [
       "Make nrn:   0%|          | 0/10 [00:00<?, ?it/s]"
      ]
     },
     "metadata": {},
     "output_type": "display_data"
    },
    {
     "name": "stderr",
     "output_type": "stream",
     "text": [
      "INFO  : Cached data used. Use `pymaid.clear_cache()` to clear. (pymaid)\n"
     ]
    },
    {
     "name": "stdout",
     "output_type": "stream",
     "text": [
      "[103, 112, 100, 111, 95, 112, 117, 103, 114, 51]\n",
      "1018\n"
     ]
    }
   ],
   "source": [
    "#total feedforward synapses onto each uPN\n",
    "MD2OSNs_all = pymaid.get_skids_by_annotation(['innervates MD2', 'left palp nerve', 'sensory neuron', 'PSPs done'], allow_partial = False, intersect = True)\n",
    "MD2osnsall=pymaid.get_neuron(MD2OSNs_all)\n",
    "dfmd2all = pymaid.adjacency_matrix(MD2OSNs_all, targets=690)\n",
    "md2listall=dfmd2all.values.tolist()\n",
    "md2biglistall=(list(itertools.chain.from_iterable(md2listall)))\n",
    "print(md2biglistall)\n",
    "print(sum(md2biglistall))"
   ]
  },
  {
   "cell_type": "code",
   "execution_count": null,
   "metadata": {},
   "outputs": [
    {
     "name": "stderr",
     "output_type": "stream",
     "text": [
      "INFO  : Cached data used. Use `pymaid.clear_cache()` to clear. (pymaid)\n",
      "INFO  : Cached data used. Use `pymaid.clear_cache()` to clear. (pymaid)\n"
     ]
    },
    {
     "data": {
      "application/vnd.jupyter.widget-view+json": {
       "model_id": "42c4dee555ef4ebdad02b0d704ec07e9",
       "version_major": 2,
       "version_minor": 0
      },
      "text/plain": [
       "Fetch neurons:   0%|          | 0/10 [00:00<?, ?it/s]"
      ]
     },
     "metadata": {},
     "output_type": "display_data"
    },
    {
     "name": "stderr",
     "output_type": "stream",
     "text": [
      "INFO  : Cached data used. Use `pymaid.clear_cache()` to clear. (pymaid)\n",
      "INFO  : Cached data used. Use `pymaid.clear_cache()` to clear. (pymaid)\n"
     ]
    },
    {
     "data": {
      "application/vnd.jupyter.widget-view+json": {
       "model_id": "089ddb76bd154554aa5e8fb3e172d30d",
       "version_major": 2,
       "version_minor": 0
      },
      "text/plain": [
       "Make nrn:   0%|          | 0/10 [00:00<?, ?it/s]"
      ]
     },
     "metadata": {},
     "output_type": "display_data"
    },
    {
     "name": "stderr",
     "output_type": "stream",
     "text": [
      "INFO  : Cached data used. Use `pymaid.clear_cache()` to clear. (pymaid)\n"
     ]
    },
    {
     "name": "stdout",
     "output_type": "stream",
     "text": [
      "[152, 158, 132, 174, 140, 143, 143, 151, 163, 150]\n",
      "1506\n"
     ]
    }
   ],
   "source": [
    "#total feedforward synapses onto each uPN\n",
    "MD3OSNs_all = pymaid.get_skids_by_annotation(['innervates MD3', 'left palp nerve', 'sensory neuron', 'PSPs done'], allow_partial = False, intersect = True)\n",
    "MD3osnsall=pymaid.get_neuron(MD3OSNs_all)\n",
    "dfmd3all = pymaid.adjacency_matrix(MD3OSNs_all, targets=11126)\n",
    "md3listall=dfmd3all.values.tolist()\n",
    "md3biglistall=(list(itertools.chain.from_iterable(md3listall)))\n",
    "print(md3biglistall)\n",
    "print(sum(md3biglistall))"
   ]
  },
  {
   "cell_type": "code",
   "execution_count": null,
   "metadata": {},
   "outputs": [
    {
     "name": "stdout",
     "output_type": "stream",
     "text": [
      "1.2328978266286221\n",
      "Sample size/Number needed in each group: 11.373\n"
     ]
    }
   ],
   "source": [
    "#Power analysis\n",
    "\n",
    "#find cohen's effect size\n",
    "cohens_d = (mean(md1biglist) - mean(md2biglist)) / (sqrt((stdev(md1biglist) ** 2 + stdev(md2biglist) ** 2) / 2))\n",
    "print(cohens_d)\n",
    "\n",
    "# perform power analysis to find sample size for given effect\n",
    "obj = TTestIndPower()\n",
    "n = obj.solve_power(effect_size=cohens_d, alpha=0.05, power=0.8, ratio=1, alternative='two-sided')\n",
    "  \n",
    "print('Sample size/Number needed in each group: {:.3f}'.format(n))"
   ]
  }
 ],
 "metadata": {
  "kernelspec": {
   "display_name": "Python 3.9.15 ('wuzzy')",
   "language": "python",
   "name": "python3"
  },
  "language_info": {
   "codemirror_mode": {
    "name": "ipython",
    "version": 3
   },
   "file_extension": ".py",
   "mimetype": "text/x-python",
   "name": "python",
   "nbconvert_exporter": "python",
   "pygments_lexer": "ipython3",
   "version": "3.9.15"
  },
  "vscode": {
   "interpreter": {
    "hash": "bbc61e08eb74b41ad38e0e06b5d47af793336d408360cccbd7d9a84e8f2bb674"
   }
  }
 },
 "nbformat": 4,
 "nbformat_minor": 2
}
