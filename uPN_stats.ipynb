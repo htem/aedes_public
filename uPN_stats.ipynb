{
 "cells": [
  {
   "cell_type": "code",
   "execution_count": 1,
   "metadata": {},
   "outputs": [
    {
     "name": "stderr",
     "output_type": "stream",
     "text": [
      "INFO  : Global CATMAID instance set. Caching is ON. (pymaid)\n"
     ]
    }
   ],
   "source": [
    "import numpy as np\n",
    "import matplotlib.pyplot as plt\n",
    "from matplotlib.ticker import PercentFormatter\n",
    "import pandas as pd\n",
    "import scipy.stats as stats\n",
    "import seaborn as sns\n",
    "import pymaid\n",
    "import navis\n",
    "\n",
    "#connect your catmaid instance\n",
    "instance=pymaid.CatmaidInstance('https://radagast.hms.harvard.edu/catmaidaedes',\"\")"
   ]
  },
  {
   "cell_type": "code",
   "execution_count": 2,
   "metadata": {},
   "outputs": [
    {
     "name": "stdout",
     "output_type": "stream",
     "text": [
      "3912779.5472117057\n"
     ]
    }
   ],
   "source": [
    "md2mesh = pymaid.get_volume('MD2 2022')\n",
    "md2volume=md2mesh.volume/1000000\n",
    "print(md2volume)"
   ]
  },
  {
   "cell_type": "code",
   "execution_count": 3,
   "metadata": {},
   "outputs": [
    {
     "name": "stderr",
     "output_type": "stream",
     "text": [
      "INFO  : Cached data used. Use `pymaid.clear_cache()` to clear. (pymaid)\n"
     ]
    },
    {
     "name": "stdout",
     "output_type": "stream",
     "text": [
      "21317210.61555305\n",
      "21317210615553.05\n"
     ]
    }
   ],
   "source": [
    "md1mesh = pymaid.get_volume('MD1 04/06/21')\n",
    "md1volume=md1mesh.volume/1000000\n",
    "print(md1volume)\n",
    "print(md1mesh.volume)"
   ]
  },
  {
   "cell_type": "code",
   "execution_count": 4,
   "metadata": {},
   "outputs": [
    {
     "name": "stderr",
     "output_type": "stream",
     "text": [
      "INFO  : Cached data used. Use `pymaid.clear_cache()` to clear. (pymaid)\n"
     ]
    },
    {
     "name": "stdout",
     "output_type": "stream",
     "text": [
      "6989599.9033365315\n"
     ]
    }
   ],
   "source": [
    "md3mesh = pymaid.get_volume('MD3 2022')\n",
    "md3volume=md3mesh.volume/1000000\n",
    "print(md3volume)"
   ]
  },
  {
   "cell_type": "code",
   "execution_count": 5,
   "metadata": {},
   "outputs": [],
   "source": [
    "def cablelength(neuron):\n",
    "    \n",
    "    uPNdict = {'295': \"MD1\", '690': 'MD2', '11126': 'MD3'}\n",
    "    \n",
    "    neuron = pymaid.get_neuron(neuron)\n",
    "    \n",
    "    cablelength=neuron.cable_length\n",
    "    return cablelength"
   ]
  },
  {
   "cell_type": "code",
   "execution_count": 6,
   "metadata": {},
   "outputs": [],
   "source": [
    "MD1length=cablelength(295)\n",
    "MD2length=cablelength(690)\n",
    "MD3length=cablelength(11126)"
   ]
  },
  {
   "cell_type": "code",
   "execution_count": 7,
   "metadata": {},
   "outputs": [],
   "source": [
    "def cabledensity(neuron, volume_name):\n",
    "    \n",
    "    uPNdict = {'295': \"MD1\", '690': 'MD2', '11126': 'MD3'}\n",
    "    \n",
    "    neuron = pymaid.get_neuron(neuron)\n",
    "    volume = pymaid.get_volume(volume_name)\n",
    "    #neuron_adjusted = neuron.prune_by_volume(v=volume, mode='IN', inplace=False)\n",
    "    \n",
    "    cablelength=neuron.cable_length\n",
    "\n",
    "    volume_cube_µm = (volume.volume)/1000000\n",
    "    \n",
    "    return cablelength/volume_cube_µm"
   ]
  },
  {
   "cell_type": "code",
   "execution_count": 8,
   "metadata": {},
   "outputs": [
    {
     "name": "stderr",
     "output_type": "stream",
     "text": [
      "INFO  : Cached data used. Use `pymaid.clear_cache()` to clear. (pymaid)\n",
      "INFO  : Cached data used. Use `pymaid.clear_cache()` to clear. (pymaid)\n",
      "INFO  : Cached data used. Use `pymaid.clear_cache()` to clear. (pymaid)\n",
      "INFO  : Cached data used. Use `pymaid.clear_cache()` to clear. (pymaid)\n",
      "INFO  : Cached data used. Use `pymaid.clear_cache()` to clear. (pymaid)\n",
      "INFO  : Cached data used. Use `pymaid.clear_cache()` to clear. (pymaid)\n",
      "INFO  : Cached data used. Use `pymaid.clear_cache()` to clear. (pymaid)\n",
      "INFO  : Cached data used. Use `pymaid.clear_cache()` to clear. (pymaid)\n",
      "INFO  : Cached data used. Use `pymaid.clear_cache()` to clear. (pymaid)\n",
      "INFO  : Cached data used. Use `pymaid.clear_cache()` to clear. (pymaid)\n",
      "INFO  : Cached data used. Use `pymaid.clear_cache()` to clear. (pymaid)\n",
      "INFO  : Cached data used. Use `pymaid.clear_cache()` to clear. (pymaid)\n"
     ]
    },
    {
     "data": {
      "text/html": [
       "<div>\n",
       "<style scoped>\n",
       "    .dataframe tbody tr th:only-of-type {\n",
       "        vertical-align: middle;\n",
       "    }\n",
       "\n",
       "    .dataframe tbody tr th {\n",
       "        vertical-align: top;\n",
       "    }\n",
       "\n",
       "    .dataframe thead th {\n",
       "        text-align: right;\n",
       "    }\n",
       "</style>\n",
       "<table border=\"1\" class=\"dataframe\">\n",
       "  <thead>\n",
       "    <tr style=\"text-align: right;\">\n",
       "      <th></th>\n",
       "      <th>Glomerulus</th>\n",
       "      <th>Cable Length</th>\n",
       "      <th>Volune</th>\n",
       "      <th>Cable Density (µm/µm^3)</th>\n",
       "    </tr>\n",
       "  </thead>\n",
       "  <tbody>\n",
       "    <tr>\n",
       "      <th>0</th>\n",
       "      <td>MD1</td>\n",
       "      <td>10376309.0</td>\n",
       "      <td>2.131721e+07</td>\n",
       "      <td>0.486757</td>\n",
       "    </tr>\n",
       "    <tr>\n",
       "      <th>1</th>\n",
       "      <td>MD2</td>\n",
       "      <td>5321331.5</td>\n",
       "      <td>3.912780e+06</td>\n",
       "      <td>1.359988</td>\n",
       "    </tr>\n",
       "    <tr>\n",
       "      <th>2</th>\n",
       "      <td>MD3</td>\n",
       "      <td>8878500.0</td>\n",
       "      <td>6.989600e+06</td>\n",
       "      <td>1.270244</td>\n",
       "    </tr>\n",
       "  </tbody>\n",
       "</table>\n",
       "</div>"
      ],
      "text/plain": [
       "  Glomerulus  Cable Length        Volune  Cable Density (µm/µm^3)\n",
       "0        MD1    10376309.0  2.131721e+07                 0.486757\n",
       "1        MD2     5321331.5  3.912780e+06                 1.359988\n",
       "2        MD3     8878500.0  6.989600e+06                 1.270244"
      ]
     },
     "execution_count": 8,
     "metadata": {},
     "output_type": "execute_result"
    }
   ],
   "source": [
    "MD1_density = cabledensity('295', 'MD1 04/06/21')\n",
    "MD2_density = cabledensity('690', 'MD2 2022')\n",
    "MD3_density = cabledensity('11126', 'MD3 2022')\n",
    "\n",
    "cable_density = pd.DataFrame({'Glomerulus':['MD1', 'MD2', 'MD3'], 'Cable Length': [MD1length, MD2length, MD3length], 'Volune': [md1volume, md2volume, md3volume], 'Cable Density (µm/µm^3)':[MD1_density, MD2_density, MD3_density]})\n",
    "\n",
    "#sns.barplot(data=cable_density,x = 'Glomerulus', y = 'Cable Density (µm/µm^3)')\n",
    "cable_density\n"
   ]
  },
  {
   "cell_type": "code",
   "execution_count": 9,
   "metadata": {},
   "outputs": [
    {
     "name": "stdout",
     "output_type": "stream",
     "text": [
      "  Glomerulus  Cable Length        Volune  Cable Density (µm/µm^3)\n",
      "0        MD1    10376309.0  2.131721e+07                 0.486757\n",
      "1        MD2     5321331.5  3.912780e+06                 1.359988\n",
      "2        MD3     8878500.0  6.989600e+06                 1.270244\n"
     ]
    }
   ],
   "source": [
    "\n"
   ]
  },
  {
   "cell_type": "markdown",
   "metadata": {},
   "source": []
  },
  {
   "cell_type": "code",
   "execution_count": 10,
   "metadata": {},
   "outputs": [
    {
     "name": "stderr",
     "output_type": "stream",
     "text": [
      "INFO  : Cached data used. Use `pymaid.clear_cache()` to clear. (pymaid)\n",
      "INFO  : Cached data used. Use `pymaid.clear_cache()` to clear. (pymaid)\n"
     ]
    },
    {
     "data": {
      "text/plain": [
       "21317210615553.05"
      ]
     },
     "execution_count": 10,
     "metadata": {},
     "output_type": "execute_result"
    }
   ],
   "source": [
    "md1mesh = pymaid.get_volume('MD1 04/06/21')\n",
    "md1mesh.volume"
   ]
  }
 ],
 "metadata": {
  "kernelspec": {
   "display_name": "Python 3.9.15 ('wuzzy')",
   "language": "python",
   "name": "python3"
  },
  "language_info": {
   "codemirror_mode": {
    "name": "ipython",
    "version": 3
   },
   "file_extension": ".py",
   "mimetype": "text/x-python",
   "name": "python",
   "nbconvert_exporter": "python",
   "pygments_lexer": "ipython3",
   "version": "3.9.15"
  },
  "orig_nbformat": 4,
  "vscode": {
   "interpreter": {
    "hash": "bbc61e08eb74b41ad38e0e06b5d47af793336d408360cccbd7d9a84e8f2bb674"
   }
  }
 },
 "nbformat": 4,
 "nbformat_minor": 2
}
