{
 "cells": [
  {
   "cell_type": "code",
   "execution_count": 201,
   "metadata": {},
   "outputs": [],
   "source": [
    "import pymaid\n",
    "import navis\n",
    "import matplotlib.pyplot as plt\n",
    "import pandas as pd\n",
    "import numpy as np\n",
    "import scipy.stats as stats\n",
    "import seaborn as sns\n",
    "import scikit_posthocs as sp\n",
    "from statannot import add_stat_annotation\n",
    "\n",
    "from matplotlib.ticker import PercentFormatter"
   ]
  },
  {
   "cell_type": "code",
   "execution_count": 202,
   "metadata": {},
   "outputs": [
    {
     "name": "stderr",
     "output_type": "stream",
     "text": [
      "INFO  : Global CATMAID instance set. Caching is ON. (pymaid)\n"
     ]
    }
   ],
   "source": [
    "#connect your catmaid instance\n",
    "instance=pymaid.CatmaidInstance('https://radagast.hms.harvard.edu/catmaidaedes',\"\")"
   ]
  },
  {
   "cell_type": "code",
   "execution_count": 203,
   "metadata": {},
   "outputs": [],
   "source": [
    "#initialize an empty dataframe\n",
    "glomcontrol=pd.DataFrame(columns=['glomerulus','id', 'path length in glom', 'total recurrent connections', 'recurrent connections in glom', 'recurrent connections density'])\n"
   ]
  },
  {
   "cell_type": "code",
   "execution_count": 204,
   "metadata": {},
   "outputs": [
    {
     "data": {
      "application/vnd.jupyter.widget-view+json": {
       "model_id": "79cd1b4cc65f477bbfd3dc636fdcfa41",
       "version_major": 2,
       "version_minor": 0
      },
      "text/plain": [
       "Fetch neurons:   0%|          | 0/10 [00:00<?, ?it/s]"
      ]
     },
     "metadata": {},
     "output_type": "display_data"
    },
    {
     "data": {
      "application/vnd.jupyter.widget-view+json": {
       "model_id": "4378c03b35cb454dab3a1a1cad9aded4",
       "version_major": 2,
       "version_minor": 0
      },
      "text/plain": [
       "Make nrn:   0%|          | 0/10 [00:00<?, ?it/s]"
      ]
     },
     "metadata": {},
     "output_type": "display_data"
    }
   ],
   "source": [
    "#fetch a group of neurons\n",
    "MD1OSNs = pymaid.get_skids_by_annotation(['innervates MD1', 'left palp nerve', 'sensory neuron', 'PSPs done'], allow_partial = False, intersect = True)\n",
    "MD1neurons = pymaid.get_neuron(MD1OSNs)"
   ]
  },
  {
   "cell_type": "code",
   "execution_count": 205,
   "metadata": {},
   "outputs": [
    {
     "name": "stdout",
     "output_type": "stream",
     "text": [
      "453680.44\n"
     ]
    },
    {
     "data": {
      "application/vnd.jupyter.widget-view+json": {
       "model_id": "ae6dbc8b89ae4a2ab40e2e5b5eb4af37",
       "version_major": 2,
       "version_minor": 0
      },
      "text/plain": [
       "Regenerating:   0%|          | 0/10 [00:00<?, ?it/s]"
      ]
     },
     "metadata": {},
     "output_type": "display_data"
    },
    {
     "name": "stderr",
     "output_type": "stream",
     "text": [
      "INFO  : Cached data used. Use `pymaid.clear_cache()` to clear. (pymaid)\n",
      "INFO  : Cached data used. Use `pymaid.clear_cache()` to clear. (pymaid)\n",
      "INFO  : Cached data used. Use `pymaid.clear_cache()` to clear. (pymaid)\n",
      "INFO  : Cached data used. Use `pymaid.clear_cache()` to clear. (pymaid)\n"
     ]
    },
    {
     "name": "stdout",
     "output_type": "stream",
     "text": [
      "406781.8\n"
     ]
    },
    {
     "data": {
      "application/vnd.jupyter.widget-view+json": {
       "model_id": "e8e75c32747e4904913fc99f3e3623b4",
       "version_major": 2,
       "version_minor": 0
      },
      "text/plain": [
       "Regenerating:   0%|          | 0/9 [00:00<?, ?it/s]"
      ]
     },
     "metadata": {},
     "output_type": "display_data"
    },
    {
     "name": "stderr",
     "output_type": "stream",
     "text": [
      "INFO  : Cached data used. Use `pymaid.clear_cache()` to clear. (pymaid)\n",
      "INFO  : Cached data used. Use `pymaid.clear_cache()` to clear. (pymaid)\n",
      "INFO  : Cached data used. Use `pymaid.clear_cache()` to clear. (pymaid)\n",
      "INFO  : Cached data used. Use `pymaid.clear_cache()` to clear. (pymaid)\n"
     ]
    },
    {
     "name": "stdout",
     "output_type": "stream",
     "text": [
      "569447.6\n"
     ]
    },
    {
     "data": {
      "application/vnd.jupyter.widget-view+json": {
       "model_id": "3de75255694445b3b1131041be10254e",
       "version_major": 2,
       "version_minor": 0
      },
      "text/plain": [
       "Regenerating:   0%|          | 0/10 [00:00<?, ?it/s]"
      ]
     },
     "metadata": {},
     "output_type": "display_data"
    },
    {
     "name": "stderr",
     "output_type": "stream",
     "text": [
      "INFO  : Cached data used. Use `pymaid.clear_cache()` to clear. (pymaid)\n",
      "INFO  : Cached data used. Use `pymaid.clear_cache()` to clear. (pymaid)\n",
      "INFO  : Cached data used. Use `pymaid.clear_cache()` to clear. (pymaid)\n",
      "INFO  : Cached data used. Use `pymaid.clear_cache()` to clear. (pymaid)\n"
     ]
    },
    {
     "name": "stdout",
     "output_type": "stream",
     "text": [
      "445835.0\n"
     ]
    },
    {
     "data": {
      "application/vnd.jupyter.widget-view+json": {
       "model_id": "e7a2bee913f84c1c998b30967df7f455",
       "version_major": 2,
       "version_minor": 0
      },
      "text/plain": [
       "Regenerating:   0%|          | 0/9 [00:00<?, ?it/s]"
      ]
     },
     "metadata": {},
     "output_type": "display_data"
    },
    {
     "name": "stderr",
     "output_type": "stream",
     "text": [
      "INFO  : Cached data used. Use `pymaid.clear_cache()` to clear. (pymaid)\n",
      "INFO  : Cached data used. Use `pymaid.clear_cache()` to clear. (pymaid)\n",
      "INFO  : Cached data used. Use `pymaid.clear_cache()` to clear. (pymaid)\n",
      "INFO  : Cached data used. Use `pymaid.clear_cache()` to clear. (pymaid)\n"
     ]
    },
    {
     "name": "stdout",
     "output_type": "stream",
     "text": [
      "506129.03\n"
     ]
    },
    {
     "data": {
      "application/vnd.jupyter.widget-view+json": {
       "model_id": "5e68903ede8040ab8a926efdf675f623",
       "version_major": 2,
       "version_minor": 0
      },
      "text/plain": [
       "Regenerating:   0%|          | 0/9 [00:00<?, ?it/s]"
      ]
     },
     "metadata": {},
     "output_type": "display_data"
    },
    {
     "name": "stderr",
     "output_type": "stream",
     "text": [
      "INFO  : Cached data used. Use `pymaid.clear_cache()` to clear. (pymaid)\n",
      "INFO  : Cached data used. Use `pymaid.clear_cache()` to clear. (pymaid)\n",
      "INFO  : Cached data used. Use `pymaid.clear_cache()` to clear. (pymaid)\n",
      "INFO  : Cached data used. Use `pymaid.clear_cache()` to clear. (pymaid)\n"
     ]
    },
    {
     "name": "stdout",
     "output_type": "stream",
     "text": [
      "391274.1\n"
     ]
    },
    {
     "data": {
      "application/vnd.jupyter.widget-view+json": {
       "model_id": "6676fde1ab7f406db04cf14626a5967e",
       "version_major": 2,
       "version_minor": 0
      },
      "text/plain": [
       "Regenerating:   0%|          | 0/10 [00:00<?, ?it/s]"
      ]
     },
     "metadata": {},
     "output_type": "display_data"
    },
    {
     "name": "stderr",
     "output_type": "stream",
     "text": [
      "INFO  : Cached data used. Use `pymaid.clear_cache()` to clear. (pymaid)\n",
      "INFO  : Cached data used. Use `pymaid.clear_cache()` to clear. (pymaid)\n",
      "INFO  : Cached data used. Use `pymaid.clear_cache()` to clear. (pymaid)\n",
      "INFO  : Cached data used. Use `pymaid.clear_cache()` to clear. (pymaid)\n"
     ]
    },
    {
     "name": "stdout",
     "output_type": "stream",
     "text": [
      "416095.0\n"
     ]
    },
    {
     "data": {
      "application/vnd.jupyter.widget-view+json": {
       "model_id": "f10e112b58c144d1859c080ce52dec9e",
       "version_major": 2,
       "version_minor": 0
      },
      "text/plain": [
       "Regenerating:   0%|          | 0/9 [00:00<?, ?it/s]"
      ]
     },
     "metadata": {},
     "output_type": "display_data"
    },
    {
     "name": "stderr",
     "output_type": "stream",
     "text": [
      "INFO  : Cached data used. Use `pymaid.clear_cache()` to clear. (pymaid)\n",
      "INFO  : Cached data used. Use `pymaid.clear_cache()` to clear. (pymaid)\n",
      "INFO  : Cached data used. Use `pymaid.clear_cache()` to clear. (pymaid)\n",
      "INFO  : Cached data used. Use `pymaid.clear_cache()` to clear. (pymaid)\n"
     ]
    },
    {
     "name": "stdout",
     "output_type": "stream",
     "text": [
      "529455.4\n"
     ]
    },
    {
     "data": {
      "application/vnd.jupyter.widget-view+json": {
       "model_id": "2a90070cb0d54b08911220d54e013ffc",
       "version_major": 2,
       "version_minor": 0
      },
      "text/plain": [
       "Regenerating:   0%|          | 0/10 [00:00<?, ?it/s]"
      ]
     },
     "metadata": {},
     "output_type": "display_data"
    },
    {
     "name": "stderr",
     "output_type": "stream",
     "text": [
      "INFO  : Cached data used. Use `pymaid.clear_cache()` to clear. (pymaid)\n",
      "INFO  : Cached data used. Use `pymaid.clear_cache()` to clear. (pymaid)\n",
      "INFO  : Cached data used. Use `pymaid.clear_cache()` to clear. (pymaid)\n",
      "INFO  : Cached data used. Use `pymaid.clear_cache()` to clear. (pymaid)\n"
     ]
    },
    {
     "name": "stdout",
     "output_type": "stream",
     "text": [
      "284735.88\n"
     ]
    },
    {
     "data": {
      "application/vnd.jupyter.widget-view+json": {
       "model_id": "f9ff392080004960873d011abad02e3a",
       "version_major": 2,
       "version_minor": 0
      },
      "text/plain": [
       "Regenerating:   0%|          | 0/10 [00:00<?, ?it/s]"
      ]
     },
     "metadata": {},
     "output_type": "display_data"
    },
    {
     "name": "stderr",
     "output_type": "stream",
     "text": [
      "INFO  : Cached data used. Use `pymaid.clear_cache()` to clear. (pymaid)\n",
      "INFO  : Cached data used. Use `pymaid.clear_cache()` to clear. (pymaid)\n",
      "INFO  : Cached data used. Use `pymaid.clear_cache()` to clear. (pymaid)\n",
      "INFO  : Cached data used. Use `pymaid.clear_cache()` to clear. (pymaid)\n"
     ]
    },
    {
     "name": "stdout",
     "output_type": "stream",
     "text": [
      "629597.1\n"
     ]
    },
    {
     "data": {
      "application/vnd.jupyter.widget-view+json": {
       "model_id": "ec1317c9bc704c208f071365688fb3b2",
       "version_major": 2,
       "version_minor": 0
      },
      "text/plain": [
       "Regenerating:   0%|          | 0/8 [00:00<?, ?it/s]"
      ]
     },
     "metadata": {},
     "output_type": "display_data"
    }
   ],
   "source": [
    "for n in MD1neurons:\n",
    "    skeletonid=n.skeleton_id\n",
    "    skelid=int(skeletonid)\n",
    "    labels = pymaid.get_label_list()\n",
    "    neuronlabels=labels[labels.skeleton_id==skelid]\n",
    "    branchpoint=neuronlabels[neuronlabels.tag=='first branch point']\n",
    "\n",
    "    if len(branchpoint) !=1:\n",
    "        print('error, neuron skelid=%i does not have exactly 1 branchpoint tag'% skelid)\n",
    "    else: bpnode=branchpoint.node_id.values[0]\n",
    "\n",
    "    #cut the neuron\n",
    "    dist,prox=navis.cut_skeleton(n, bpnode)\n",
    "    dlength=dist.cable_length\n",
    "    plength=prox.cable_length\n",
    "    print(dlength)\n",
    "    #pymaid.clear_cache()\n",
    "\n",
    "    #get connectivity from OSNs to PN in volume\n",
    "    connectivity = pymaid.adjacency_matrix(n, targets=MD1neurons)\n",
    "    glom_connectivity=pymaid.filter_connectivity(connectivity, restrict_to='MD1 04/06/21')\n",
    "    connect= list(connectivity.loc[int(n.id),:])\n",
    "    sumconnect = sum(connect)\n",
    "    glomconnect=list(glom_connectivity.loc[n.id,:])\n",
    "    sumglomconnect=sum(glomconnect)\n",
    "\n",
    "    #divide connectivity by length within glomerulus\n",
    "    control= sumglomconnect/dlength\n",
    "    glomcontrol=glomcontrol.append({'glomerulus': 'md1', 'id':int(n.id),'path length in glom':dlength, 'total recurrent connections':sumconnect, 'recurrent connections in glom':sumglomconnect, 'recurrent connections density':control}, ignore_index=True)"
   ]
  },
  {
   "cell_type": "code",
   "execution_count": 206,
   "metadata": {},
   "outputs": [
    {
     "name": "stdout",
     "output_type": "stream",
     "text": [
      "  glomerulus      id  path length in glom total recurrent connections  \\\n",
      "0        md1    7172         453680.43750                          93   \n",
      "1        md1    7815         406781.81250                          51   \n",
      "2        md1     873         569447.62500                          68   \n",
      "3        md1    6736         445835.00000                          56   \n",
      "4        md1     881         506129.03125                          74   \n",
      "5        md1    6975         391274.09375                          82   \n",
      "6        md1  324409         416095.00000                          77   \n",
      "7        md1     953         529455.37500                          71   \n",
      "8        md1    5021         284735.87500                          41   \n",
      "9        md1     671         629597.12500                          77   \n",
      "\n",
      "   recurrent connections in glom  recurrent connections density  \n",
      "0                           93.0                       0.000205  \n",
      "1                           51.0                       0.000125  \n",
      "2                           67.0                       0.000118  \n",
      "3                           55.0                       0.000123  \n",
      "4                           71.0                       0.000140  \n",
      "5                           82.0                       0.000210  \n",
      "6                           77.0                       0.000185  \n",
      "7                           67.0                       0.000127  \n",
      "8                           40.0                       0.000140  \n",
      "9                           71.0                       0.000113  \n"
     ]
    }
   ],
   "source": [
    "print(glomcontrol)"
   ]
  },
  {
   "cell_type": "code",
   "execution_count": 207,
   "metadata": {},
   "outputs": [
    {
     "name": "stderr",
     "output_type": "stream",
     "text": [
      "INFO  : Cached data used. Use `pymaid.clear_cache()` to clear. (pymaid)\n"
     ]
    },
    {
     "data": {
      "application/vnd.jupyter.widget-view+json": {
       "model_id": "1c955644abc040fcbbf3ec21a95b2d83",
       "version_major": 2,
       "version_minor": 0
      },
      "text/plain": [
       "Fetch neurons:   0%|          | 0/10 [00:00<?, ?it/s]"
      ]
     },
     "metadata": {},
     "output_type": "display_data"
    },
    {
     "data": {
      "application/vnd.jupyter.widget-view+json": {
       "model_id": "04e74a06ab024d36b8a12b244d08c47a",
       "version_major": 2,
       "version_minor": 0
      },
      "text/plain": [
       "Make nrn:   0%|          | 0/10 [00:00<?, ?it/s]"
      ]
     },
     "metadata": {},
     "output_type": "display_data"
    }
   ],
   "source": [
    "#fetch a group of neurons\n",
    "MD2OSNs = pymaid.get_skids_by_annotation(['innervates MD2', 'left palp nerve', 'sensory neuron', 'PSPs done'], allow_partial = False, intersect = True)\n",
    "MD2neurons = pymaid.get_neuron(MD2OSNs)"
   ]
  },
  {
   "cell_type": "code",
   "execution_count": 208,
   "metadata": {},
   "outputs": [
    {
     "name": "stderr",
     "output_type": "stream",
     "text": [
      "INFO  : Cached data used. Use `pymaid.clear_cache()` to clear. (pymaid)\n",
      "INFO  : Cached data used. Use `pymaid.clear_cache()` to clear. (pymaid)\n"
     ]
    },
    {
     "name": "stdout",
     "output_type": "stream",
     "text": [
      "204651.92\n"
     ]
    },
    {
     "data": {
      "application/vnd.jupyter.widget-view+json": {
       "model_id": "3451f037bcad4599bd8427d88ed6b4d1",
       "version_major": 2,
       "version_minor": 0
      },
      "text/plain": [
       "Regenerating:   0%|          | 0/6 [00:00<?, ?it/s]"
      ]
     },
     "metadata": {},
     "output_type": "display_data"
    },
    {
     "name": "stderr",
     "output_type": "stream",
     "text": [
      "INFO  : Cached data used. Use `pymaid.clear_cache()` to clear. (pymaid)\n",
      "INFO  : Cached data used. Use `pymaid.clear_cache()` to clear. (pymaid)\n"
     ]
    },
    {
     "name": "stdout",
     "output_type": "stream",
     "text": [
      "139823.97\n"
     ]
    },
    {
     "data": {
      "application/vnd.jupyter.widget-view+json": {
       "model_id": "abb1c6d775464601bad0722d5b496750",
       "version_major": 2,
       "version_minor": 0
      },
      "text/plain": [
       "Regenerating:   0%|          | 0/5 [00:00<?, ?it/s]"
      ]
     },
     "metadata": {},
     "output_type": "display_data"
    },
    {
     "name": "stderr",
     "output_type": "stream",
     "text": [
      "INFO  : Cached data used. Use `pymaid.clear_cache()` to clear. (pymaid)\n",
      "INFO  : Cached data used. Use `pymaid.clear_cache()` to clear. (pymaid)\n"
     ]
    },
    {
     "name": "stdout",
     "output_type": "stream",
     "text": [
      "138637.03\n"
     ]
    },
    {
     "data": {
      "application/vnd.jupyter.widget-view+json": {
       "model_id": "6b3ad9d51f3f4a24938c9dd2deb0f321",
       "version_major": 2,
       "version_minor": 0
      },
      "text/plain": [
       "Regenerating:   0%|          | 0/5 [00:00<?, ?it/s]"
      ]
     },
     "metadata": {},
     "output_type": "display_data"
    },
    {
     "name": "stderr",
     "output_type": "stream",
     "text": [
      "INFO  : Cached data used. Use `pymaid.clear_cache()` to clear. (pymaid)\n",
      "INFO  : Cached data used. Use `pymaid.clear_cache()` to clear. (pymaid)\n"
     ]
    },
    {
     "name": "stdout",
     "output_type": "stream",
     "text": [
      "151320.84\n"
     ]
    },
    {
     "data": {
      "application/vnd.jupyter.widget-view+json": {
       "model_id": "562218dc38c44522b195869725ce2006",
       "version_major": 2,
       "version_minor": 0
      },
      "text/plain": [
       "Regenerating:   0%|          | 0/3 [00:00<?, ?it/s]"
      ]
     },
     "metadata": {},
     "output_type": "display_data"
    },
    {
     "name": "stderr",
     "output_type": "stream",
     "text": [
      "INFO  : Cached data used. Use `pymaid.clear_cache()` to clear. (pymaid)\n",
      "INFO  : Cached data used. Use `pymaid.clear_cache()` to clear. (pymaid)\n"
     ]
    },
    {
     "name": "stdout",
     "output_type": "stream",
     "text": [
      "165390.64\n"
     ]
    },
    {
     "data": {
      "application/vnd.jupyter.widget-view+json": {
       "model_id": "3b3029e4e38f4cb8bb22c1014a88a237",
       "version_major": 2,
       "version_minor": 0
      },
      "text/plain": [
       "Regenerating:   0%|          | 0/5 [00:00<?, ?it/s]"
      ]
     },
     "metadata": {},
     "output_type": "display_data"
    },
    {
     "name": "stderr",
     "output_type": "stream",
     "text": [
      "INFO  : Cached data used. Use `pymaid.clear_cache()` to clear. (pymaid)\n",
      "INFO  : Cached data used. Use `pymaid.clear_cache()` to clear. (pymaid)\n"
     ]
    },
    {
     "name": "stdout",
     "output_type": "stream",
     "text": [
      "139452.69\n"
     ]
    },
    {
     "data": {
      "application/vnd.jupyter.widget-view+json": {
       "model_id": "abb62ef661794c4f905478b5268d11b7",
       "version_major": 2,
       "version_minor": 0
      },
      "text/plain": [
       "Regenerating:   0%|          | 0/6 [00:00<?, ?it/s]"
      ]
     },
     "metadata": {},
     "output_type": "display_data"
    },
    {
     "name": "stderr",
     "output_type": "stream",
     "text": [
      "INFO  : Cached data used. Use `pymaid.clear_cache()` to clear. (pymaid)\n",
      "INFO  : Cached data used. Use `pymaid.clear_cache()` to clear. (pymaid)\n"
     ]
    },
    {
     "name": "stdout",
     "output_type": "stream",
     "text": [
      "101146.766\n"
     ]
    },
    {
     "data": {
      "application/vnd.jupyter.widget-view+json": {
       "model_id": "a7155d2f1ba443f6ad7c27c51c741d0e",
       "version_major": 2,
       "version_minor": 0
      },
      "text/plain": [
       "Regenerating:   0%|          | 0/4 [00:00<?, ?it/s]"
      ]
     },
     "metadata": {},
     "output_type": "display_data"
    },
    {
     "name": "stderr",
     "output_type": "stream",
     "text": [
      "INFO  : Cached data used. Use `pymaid.clear_cache()` to clear. (pymaid)\n",
      "INFO  : Cached data used. Use `pymaid.clear_cache()` to clear. (pymaid)\n"
     ]
    },
    {
     "name": "stdout",
     "output_type": "stream",
     "text": [
      "190179.62\n"
     ]
    },
    {
     "data": {
      "application/vnd.jupyter.widget-view+json": {
       "model_id": "1604b4e24f204e4ba4ffac33a4e53fc3",
       "version_major": 2,
       "version_minor": 0
      },
      "text/plain": [
       "Regenerating:   0%|          | 0/3 [00:00<?, ?it/s]"
      ]
     },
     "metadata": {},
     "output_type": "display_data"
    },
    {
     "name": "stderr",
     "output_type": "stream",
     "text": [
      "INFO  : Cached data used. Use `pymaid.clear_cache()` to clear. (pymaid)\n",
      "INFO  : Cached data used. Use `pymaid.clear_cache()` to clear. (pymaid)\n"
     ]
    },
    {
     "name": "stdout",
     "output_type": "stream",
     "text": [
      "161357.25\n"
     ]
    },
    {
     "data": {
      "application/vnd.jupyter.widget-view+json": {
       "model_id": "2292b487a8b14c6aa8b545ee488e835c",
       "version_major": 2,
       "version_minor": 0
      },
      "text/plain": [
       "Regenerating:   0%|          | 0/6 [00:00<?, ?it/s]"
      ]
     },
     "metadata": {},
     "output_type": "display_data"
    },
    {
     "name": "stderr",
     "output_type": "stream",
     "text": [
      "INFO  : Cached data used. Use `pymaid.clear_cache()` to clear. (pymaid)\n",
      "INFO  : Cached data used. Use `pymaid.clear_cache()` to clear. (pymaid)\n"
     ]
    },
    {
     "name": "stdout",
     "output_type": "stream",
     "text": [
      "167272.23\n"
     ]
    },
    {
     "data": {
      "application/vnd.jupyter.widget-view+json": {
       "model_id": "2187733ea8794343a41b7930db2002d0",
       "version_major": 2,
       "version_minor": 0
      },
      "text/plain": [
       "Regenerating:   0%|          | 0/4 [00:00<?, ?it/s]"
      ]
     },
     "metadata": {},
     "output_type": "display_data"
    }
   ],
   "source": [
    "for n in MD2neurons:\n",
    "    skeletonid=n.skeleton_id\n",
    "    skelid=int(skeletonid)\n",
    "    labels = pymaid.get_label_list()\n",
    "    neuronlabels=labels[labels.skeleton_id==skelid]\n",
    "    branchpoint=neuronlabels[neuronlabels.tag=='first branch point']\n",
    "\n",
    "    if len(branchpoint) !=1:\n",
    "        print('error, neuron skelid=%i does not have exactly 1 branchpoint tag'% skelid)\n",
    "    else: bpnode=branchpoint.node_id.values[0]\n",
    "\n",
    "    #cut the neuron\n",
    "    dist,prox=navis.cut_skeleton(n, bpnode)\n",
    "    dlength=dist.cable_length\n",
    "    plength=prox.cable_length\n",
    "    print(dlength)\n",
    "    #pymaid.clear_cache()\n",
    "\n",
    "    #get connectivity from OSNs to PN in volume\n",
    "    connectivity = pymaid.adjacency_matrix(n, targets=MD2neurons)\n",
    "    glom_connectivity=pymaid.filter_connectivity(connectivity, restrict_to=MD2neurons)\n",
    "    connect= list(connectivity.loc[int(n.id),:])\n",
    "    sumconnect = sum(connect)\n",
    "    glomconnect=list(glom_connectivity.loc[n.id,:])\n",
    "    sumglomconnect=sum(glomconnect)\n",
    "\n",
    "    #divide connectivity by length within glomerulus\n",
    "    control= sumglomconnect/dlength\n",
    "    glomcontrol=glomcontrol.append({'glomerulus': 'md2', 'id':int(n.id),'path length in glom':dlength, 'total recurrent connections':sumconnect, 'recurrent connections in glom':sumglomconnect, 'recurrent connections density':control}, ignore_index=True)"
   ]
  },
  {
   "cell_type": "code",
   "execution_count": 209,
   "metadata": {},
   "outputs": [
    {
     "name": "stderr",
     "output_type": "stream",
     "text": [
      "INFO  : Cached data used. Use `pymaid.clear_cache()` to clear. (pymaid)\n"
     ]
    },
    {
     "data": {
      "application/vnd.jupyter.widget-view+json": {
       "model_id": "a42ef637f55344338ee266302176ef42",
       "version_major": 2,
       "version_minor": 0
      },
      "text/plain": [
       "Fetch neurons:   0%|          | 0/10 [00:00<?, ?it/s]"
      ]
     },
     "metadata": {},
     "output_type": "display_data"
    },
    {
     "data": {
      "application/vnd.jupyter.widget-view+json": {
       "model_id": "d70f518d462549aca815d0cf743509d6",
       "version_major": 2,
       "version_minor": 0
      },
      "text/plain": [
       "Make nrn:   0%|          | 0/10 [00:00<?, ?it/s]"
      ]
     },
     "metadata": {},
     "output_type": "display_data"
    }
   ],
   "source": [
    "#fetch a group of neurons\n",
    "MD3OSNs = pymaid.get_skids_by_annotation(['innervates MD3', 'left palp nerve', 'sensory neuron', 'PSPs done'], allow_partial = False, intersect = True)\n",
    "MD3neurons = pymaid.get_neuron(MD3OSNs)"
   ]
  },
  {
   "cell_type": "code",
   "execution_count": 210,
   "metadata": {},
   "outputs": [
    {
     "name": "stderr",
     "output_type": "stream",
     "text": [
      "INFO  : Cached data used. Use `pymaid.clear_cache()` to clear. (pymaid)\n",
      "INFO  : Cached data used. Use `pymaid.clear_cache()` to clear. (pymaid)\n"
     ]
    },
    {
     "name": "stdout",
     "output_type": "stream",
     "text": [
      "170278.0\n"
     ]
    },
    {
     "data": {
      "application/vnd.jupyter.widget-view+json": {
       "model_id": "4da52f813f0d45ce881b075418f9d600",
       "version_major": 2,
       "version_minor": 0
      },
      "text/plain": [
       "Regenerating:   0%|          | 0/7 [00:00<?, ?it/s]"
      ]
     },
     "metadata": {},
     "output_type": "display_data"
    },
    {
     "name": "stderr",
     "output_type": "stream",
     "text": [
      "INFO  : Cached data used. Use `pymaid.clear_cache()` to clear. (pymaid)\n",
      "INFO  : Cached data used. Use `pymaid.clear_cache()` to clear. (pymaid)\n"
     ]
    },
    {
     "name": "stdout",
     "output_type": "stream",
     "text": [
      "150266.17\n"
     ]
    },
    {
     "data": {
      "application/vnd.jupyter.widget-view+json": {
       "model_id": "db6c937734394e348a468bab947998e5",
       "version_major": 2,
       "version_minor": 0
      },
      "text/plain": [
       "Regenerating:   0%|          | 0/9 [00:00<?, ?it/s]"
      ]
     },
     "metadata": {},
     "output_type": "display_data"
    },
    {
     "name": "stderr",
     "output_type": "stream",
     "text": [
      "INFO  : Cached data used. Use `pymaid.clear_cache()` to clear. (pymaid)\n",
      "INFO  : Cached data used. Use `pymaid.clear_cache()` to clear. (pymaid)\n"
     ]
    },
    {
     "name": "stdout",
     "output_type": "stream",
     "text": [
      "155520.5\n"
     ]
    },
    {
     "data": {
      "application/vnd.jupyter.widget-view+json": {
       "model_id": "6303f26fb5014dde9204e54956013d5b",
       "version_major": 2,
       "version_minor": 0
      },
      "text/plain": [
       "Regenerating:   0%|          | 0/5 [00:00<?, ?it/s]"
      ]
     },
     "metadata": {},
     "output_type": "display_data"
    },
    {
     "name": "stderr",
     "output_type": "stream",
     "text": [
      "INFO  : Cached data used. Use `pymaid.clear_cache()` to clear. (pymaid)\n",
      "INFO  : Cached data used. Use `pymaid.clear_cache()` to clear. (pymaid)\n"
     ]
    },
    {
     "name": "stdout",
     "output_type": "stream",
     "text": [
      "187113.31\n"
     ]
    },
    {
     "data": {
      "application/vnd.jupyter.widget-view+json": {
       "model_id": "47336c65366448ca9779e073c5a23845",
       "version_major": 2,
       "version_minor": 0
      },
      "text/plain": [
       "Regenerating:   0%|          | 0/7 [00:00<?, ?it/s]"
      ]
     },
     "metadata": {},
     "output_type": "display_data"
    },
    {
     "name": "stderr",
     "output_type": "stream",
     "text": [
      "INFO  : Cached data used. Use `pymaid.clear_cache()` to clear. (pymaid)\n",
      "INFO  : Cached data used. Use `pymaid.clear_cache()` to clear. (pymaid)\n"
     ]
    },
    {
     "name": "stdout",
     "output_type": "stream",
     "text": [
      "133549.25\n"
     ]
    },
    {
     "data": {
      "application/vnd.jupyter.widget-view+json": {
       "model_id": "a2e6855d739541e1a75ce487c5911bd5",
       "version_major": 2,
       "version_minor": 0
      },
      "text/plain": [
       "Regenerating:   0%|          | 0/6 [00:00<?, ?it/s]"
      ]
     },
     "metadata": {},
     "output_type": "display_data"
    },
    {
     "name": "stderr",
     "output_type": "stream",
     "text": [
      "INFO  : Cached data used. Use `pymaid.clear_cache()` to clear. (pymaid)\n",
      "INFO  : Cached data used. Use `pymaid.clear_cache()` to clear. (pymaid)\n"
     ]
    },
    {
     "name": "stdout",
     "output_type": "stream",
     "text": [
      "137935.17\n"
     ]
    },
    {
     "data": {
      "application/vnd.jupyter.widget-view+json": {
       "model_id": "2596ad3f364548c18ea0c23091465567",
       "version_major": 2,
       "version_minor": 0
      },
      "text/plain": [
       "Regenerating:   0%|          | 0/4 [00:00<?, ?it/s]"
      ]
     },
     "metadata": {},
     "output_type": "display_data"
    },
    {
     "name": "stderr",
     "output_type": "stream",
     "text": [
      "INFO  : Cached data used. Use `pymaid.clear_cache()` to clear. (pymaid)\n",
      "INFO  : Cached data used. Use `pymaid.clear_cache()` to clear. (pymaid)\n"
     ]
    },
    {
     "name": "stdout",
     "output_type": "stream",
     "text": [
      "108313.91\n"
     ]
    },
    {
     "data": {
      "application/vnd.jupyter.widget-view+json": {
       "model_id": "6c88ca07e23f43688b6e2b520dfeab2d",
       "version_major": 2,
       "version_minor": 0
      },
      "text/plain": [
       "Regenerating:   0%|          | 0/7 [00:00<?, ?it/s]"
      ]
     },
     "metadata": {},
     "output_type": "display_data"
    },
    {
     "name": "stderr",
     "output_type": "stream",
     "text": [
      "INFO  : Cached data used. Use `pymaid.clear_cache()` to clear. (pymaid)\n",
      "INFO  : Cached data used. Use `pymaid.clear_cache()` to clear. (pymaid)\n"
     ]
    },
    {
     "name": "stdout",
     "output_type": "stream",
     "text": [
      "143697.12\n"
     ]
    },
    {
     "data": {
      "application/vnd.jupyter.widget-view+json": {
       "model_id": "43ef2e3378eb4c4c8af8f543bdd88d49",
       "version_major": 2,
       "version_minor": 0
      },
      "text/plain": [
       "Regenerating:   0%|          | 0/6 [00:00<?, ?it/s]"
      ]
     },
     "metadata": {},
     "output_type": "display_data"
    },
    {
     "name": "stderr",
     "output_type": "stream",
     "text": [
      "INFO  : Cached data used. Use `pymaid.clear_cache()` to clear. (pymaid)\n",
      "INFO  : Cached data used. Use `pymaid.clear_cache()` to clear. (pymaid)\n"
     ]
    },
    {
     "name": "stdout",
     "output_type": "stream",
     "text": [
      "107448.984\n"
     ]
    },
    {
     "data": {
      "application/vnd.jupyter.widget-view+json": {
       "model_id": "32117e9a274a4b1ea70ecb4b62239eb3",
       "version_major": 2,
       "version_minor": 0
      },
      "text/plain": [
       "Regenerating:   0%|          | 0/8 [00:00<?, ?it/s]"
      ]
     },
     "metadata": {},
     "output_type": "display_data"
    },
    {
     "name": "stderr",
     "output_type": "stream",
     "text": [
      "INFO  : Cached data used. Use `pymaid.clear_cache()` to clear. (pymaid)\n",
      "INFO  : Cached data used. Use `pymaid.clear_cache()` to clear. (pymaid)\n"
     ]
    },
    {
     "name": "stdout",
     "output_type": "stream",
     "text": [
      "122648.234\n"
     ]
    },
    {
     "data": {
      "application/vnd.jupyter.widget-view+json": {
       "model_id": "0c90e4adad0d42748521b54b3fa0879c",
       "version_major": 2,
       "version_minor": 0
      },
      "text/plain": [
       "Regenerating:   0%|          | 0/7 [00:00<?, ?it/s]"
      ]
     },
     "metadata": {},
     "output_type": "display_data"
    }
   ],
   "source": [
    "for n in MD3neurons:\n",
    "    skeletonid=n.skeleton_id\n",
    "    skelid=int(skeletonid)\n",
    "    labels = pymaid.get_label_list()\n",
    "    neuronlabels=labels[labels.skeleton_id==skelid]\n",
    "    branchpoint=neuronlabels[neuronlabels.tag=='first branch point']\n",
    "\n",
    "    if len(branchpoint) !=1:\n",
    "        print('error, neuron skelid=%i does not have exactly 1 branchpoint tag'% skelid)\n",
    "    else: bpnode=branchpoint.node_id.values[0]\n",
    "\n",
    "    #cut the neuron\n",
    "    dist,prox=navis.cut_skeleton(n, bpnode)\n",
    "    dlength=dist.cable_length\n",
    "    plength=prox.cable_length\n",
    "    print(dlength)\n",
    "    #pymaid.clear_cache()\n",
    "\n",
    "    #get connectivity from OSNs to PN in volume\n",
    "    connectivity = pymaid.adjacency_matrix(n, targets=MD3neurons)\n",
    "    glom_connectivity=pymaid.filter_connectivity(connectivity, restrict_to=MD3neurons)\n",
    "    connect= list(connectivity.loc[int(n.id),:])\n",
    "    sumconnect = sum(connect)\n",
    "    glomconnect=list(glom_connectivity.loc[n.id,:])\n",
    "    sumglomconnect=sum(glomconnect)\n",
    "\n",
    "    #divide connectivity by length within glomerulus\n",
    "    control= sumglomconnect/dlength\n",
    "    glomcontrol=glomcontrol.append({'glomerulus':'md3','id':int(n.id),'path length in glom':dlength, 'total recurrent connections':sumconnect, 'recurrent connections in glom':sumglomconnect, 'recurrent connections density':control}, ignore_index=True)"
   ]
  },
  {
   "cell_type": "code",
   "execution_count": 211,
   "metadata": {},
   "outputs": [
    {
     "data": {
      "text/html": [
       "<div>\n",
       "<style scoped>\n",
       "    .dataframe tbody tr th:only-of-type {\n",
       "        vertical-align: middle;\n",
       "    }\n",
       "\n",
       "    .dataframe tbody tr th {\n",
       "        vertical-align: top;\n",
       "    }\n",
       "\n",
       "    .dataframe thead th {\n",
       "        text-align: right;\n",
       "    }\n",
       "</style>\n",
       "<table border=\"1\" class=\"dataframe\">\n",
       "  <thead>\n",
       "    <tr style=\"text-align: right;\">\n",
       "      <th></th>\n",
       "      <th>glomerulus</th>\n",
       "      <th>id</th>\n",
       "      <th>path length in glom</th>\n",
       "      <th>total recurrent connections</th>\n",
       "      <th>recurrent connections in glom</th>\n",
       "      <th>recurrent connections density</th>\n",
       "    </tr>\n",
       "  </thead>\n",
       "  <tbody>\n",
       "    <tr>\n",
       "      <th>10</th>\n",
       "      <td>md2</td>\n",
       "      <td>9064</td>\n",
       "      <td>204651.921875</td>\n",
       "      <td>10</td>\n",
       "      <td>10.0</td>\n",
       "      <td>0.000049</td>\n",
       "    </tr>\n",
       "    <tr>\n",
       "      <th>11</th>\n",
       "      <td>md2</td>\n",
       "      <td>7209</td>\n",
       "      <td>139823.968750</td>\n",
       "      <td>15</td>\n",
       "      <td>15.0</td>\n",
       "      <td>0.000107</td>\n",
       "    </tr>\n",
       "    <tr>\n",
       "      <th>12</th>\n",
       "      <td>md2</td>\n",
       "      <td>718</td>\n",
       "      <td>138637.031250</td>\n",
       "      <td>12</td>\n",
       "      <td>12.0</td>\n",
       "      <td>0.000087</td>\n",
       "    </tr>\n",
       "    <tr>\n",
       "      <th>13</th>\n",
       "      <td>md2</td>\n",
       "      <td>7983</td>\n",
       "      <td>151320.843750</td>\n",
       "      <td>9</td>\n",
       "      <td>9.0</td>\n",
       "      <td>0.000059</td>\n",
       "    </tr>\n",
       "    <tr>\n",
       "      <th>14</th>\n",
       "      <td>md2</td>\n",
       "      <td>947</td>\n",
       "      <td>165390.640625</td>\n",
       "      <td>11</td>\n",
       "      <td>11.0</td>\n",
       "      <td>0.000067</td>\n",
       "    </tr>\n",
       "  </tbody>\n",
       "</table>\n",
       "</div>"
      ],
      "text/plain": [
       "   glomerulus    id  path length in glom total recurrent connections  \\\n",
       "10        md2  9064        204651.921875                          10   \n",
       "11        md2  7209        139823.968750                          15   \n",
       "12        md2   718        138637.031250                          12   \n",
       "13        md2  7983        151320.843750                           9   \n",
       "14        md2   947        165390.640625                          11   \n",
       "\n",
       "    recurrent connections in glom  recurrent connections density  \n",
       "10                           10.0                       0.000049  \n",
       "11                           15.0                       0.000107  \n",
       "12                           12.0                       0.000087  \n",
       "13                            9.0                       0.000059  \n",
       "14                           11.0                       0.000067  "
      ]
     },
     "execution_count": 211,
     "metadata": {},
     "output_type": "execute_result"
    }
   ],
   "source": [
    "df=glomcontrol\n",
    "\n",
    "md1=df[df[\"glomerulus\"]==\"md1\"]\n",
    "md2=df[df[\"glomerulus\"]==\"md2\"]\n",
    "md3=df[df['glomerulus']==\"md3\"]\n",
    "md2.head()"
   ]
  },
  {
   "cell_type": "code",
   "execution_count": null,
   "metadata": {},
   "outputs": [],
   "source": []
  },
  {
   "cell_type": "code",
   "execution_count": 212,
   "metadata": {},
   "outputs": [
    {
     "name": "stdout",
     "output_type": "stream",
     "text": [
      "[93.0, 51.0, 67.0, 55.0, 71.0, 82.0, 77.0, 67.0, 40.0, 71.0]\n"
     ]
    }
   ],
   "source": [
    "#make lists like a noob\n",
    "md1_recurrent_inglom=md1[\"recurrent connections in glom\"].values.tolist()\n",
    "#md1_recurrent_inglom_total=list(np.concatenate(md1_recurrent_inglom))\n",
    "\n",
    "md2_recurrent_inglom=md2[\"recurrent connections in glom\"].values.tolist()\n",
    "#md2_recurrent_inglom=list(np.concatenate(md2_recurrent_inglom))\n",
    "\n",
    "md3_recurrent_inglom=md3[\"recurrent connections in glom\"].values.tolist()\n",
    "#md3_recurrent_inglom=list(np.concatenate(md3_recurrent_inglom))\n",
    "\n",
    "print(md1_recurrent_inglom)"
   ]
  },
  {
   "cell_type": "code",
   "execution_count": 213,
   "metadata": {},
   "outputs": [
    {
     "data": {
      "text/html": [
       "<div>\n",
       "<style scoped>\n",
       "    .dataframe tbody tr th:only-of-type {\n",
       "        vertical-align: middle;\n",
       "    }\n",
       "\n",
       "    .dataframe tbody tr th {\n",
       "        vertical-align: top;\n",
       "    }\n",
       "\n",
       "    .dataframe thead th {\n",
       "        text-align: right;\n",
       "    }\n",
       "</style>\n",
       "<table border=\"1\" class=\"dataframe\">\n",
       "  <thead>\n",
       "    <tr style=\"text-align: right;\">\n",
       "      <th></th>\n",
       "      <th>Glomerulus</th>\n",
       "      <th>OSN → OSN synapses in glomerulus</th>\n",
       "    </tr>\n",
       "  </thead>\n",
       "  <tbody>\n",
       "    <tr>\n",
       "      <th>0</th>\n",
       "      <td>1</td>\n",
       "      <td>93.0</td>\n",
       "    </tr>\n",
       "    <tr>\n",
       "      <th>1</th>\n",
       "      <td>1</td>\n",
       "      <td>51.0</td>\n",
       "    </tr>\n",
       "    <tr>\n",
       "      <th>2</th>\n",
       "      <td>1</td>\n",
       "      <td>67.0</td>\n",
       "    </tr>\n",
       "    <tr>\n",
       "      <th>3</th>\n",
       "      <td>1</td>\n",
       "      <td>55.0</td>\n",
       "    </tr>\n",
       "    <tr>\n",
       "      <th>4</th>\n",
       "      <td>1</td>\n",
       "      <td>71.0</td>\n",
       "    </tr>\n",
       "    <tr>\n",
       "      <th>5</th>\n",
       "      <td>1</td>\n",
       "      <td>82.0</td>\n",
       "    </tr>\n",
       "    <tr>\n",
       "      <th>6</th>\n",
       "      <td>1</td>\n",
       "      <td>77.0</td>\n",
       "    </tr>\n",
       "    <tr>\n",
       "      <th>7</th>\n",
       "      <td>1</td>\n",
       "      <td>67.0</td>\n",
       "    </tr>\n",
       "    <tr>\n",
       "      <th>8</th>\n",
       "      <td>1</td>\n",
       "      <td>40.0</td>\n",
       "    </tr>\n",
       "    <tr>\n",
       "      <th>9</th>\n",
       "      <td>1</td>\n",
       "      <td>71.0</td>\n",
       "    </tr>\n",
       "    <tr>\n",
       "      <th>10</th>\n",
       "      <td>2</td>\n",
       "      <td>10.0</td>\n",
       "    </tr>\n",
       "    <tr>\n",
       "      <th>11</th>\n",
       "      <td>2</td>\n",
       "      <td>15.0</td>\n",
       "    </tr>\n",
       "    <tr>\n",
       "      <th>12</th>\n",
       "      <td>2</td>\n",
       "      <td>12.0</td>\n",
       "    </tr>\n",
       "    <tr>\n",
       "      <th>13</th>\n",
       "      <td>2</td>\n",
       "      <td>9.0</td>\n",
       "    </tr>\n",
       "    <tr>\n",
       "      <th>14</th>\n",
       "      <td>2</td>\n",
       "      <td>11.0</td>\n",
       "    </tr>\n",
       "    <tr>\n",
       "      <th>15</th>\n",
       "      <td>2</td>\n",
       "      <td>12.0</td>\n",
       "    </tr>\n",
       "    <tr>\n",
       "      <th>16</th>\n",
       "      <td>2</td>\n",
       "      <td>7.0</td>\n",
       "    </tr>\n",
       "    <tr>\n",
       "      <th>17</th>\n",
       "      <td>2</td>\n",
       "      <td>7.0</td>\n",
       "    </tr>\n",
       "    <tr>\n",
       "      <th>18</th>\n",
       "      <td>2</td>\n",
       "      <td>15.0</td>\n",
       "    </tr>\n",
       "    <tr>\n",
       "      <th>19</th>\n",
       "      <td>2</td>\n",
       "      <td>5.0</td>\n",
       "    </tr>\n",
       "    <tr>\n",
       "      <th>20</th>\n",
       "      <td>3</td>\n",
       "      <td>21.0</td>\n",
       "    </tr>\n",
       "    <tr>\n",
       "      <th>21</th>\n",
       "      <td>3</td>\n",
       "      <td>22.0</td>\n",
       "    </tr>\n",
       "    <tr>\n",
       "      <th>22</th>\n",
       "      <td>3</td>\n",
       "      <td>11.0</td>\n",
       "    </tr>\n",
       "    <tr>\n",
       "      <th>23</th>\n",
       "      <td>3</td>\n",
       "      <td>21.0</td>\n",
       "    </tr>\n",
       "    <tr>\n",
       "      <th>24</th>\n",
       "      <td>3</td>\n",
       "      <td>14.0</td>\n",
       "    </tr>\n",
       "    <tr>\n",
       "      <th>25</th>\n",
       "      <td>3</td>\n",
       "      <td>14.0</td>\n",
       "    </tr>\n",
       "    <tr>\n",
       "      <th>26</th>\n",
       "      <td>3</td>\n",
       "      <td>26.0</td>\n",
       "    </tr>\n",
       "    <tr>\n",
       "      <th>27</th>\n",
       "      <td>3</td>\n",
       "      <td>23.0</td>\n",
       "    </tr>\n",
       "    <tr>\n",
       "      <th>28</th>\n",
       "      <td>3</td>\n",
       "      <td>17.0</td>\n",
       "    </tr>\n",
       "    <tr>\n",
       "      <th>29</th>\n",
       "      <td>3</td>\n",
       "      <td>22.0</td>\n",
       "    </tr>\n",
       "  </tbody>\n",
       "</table>\n",
       "</div>"
      ],
      "text/plain": [
       "   Glomerulus  OSN → OSN synapses in glomerulus\n",
       "0           1                              93.0\n",
       "1           1                              51.0\n",
       "2           1                              67.0\n",
       "3           1                              55.0\n",
       "4           1                              71.0\n",
       "5           1                              82.0\n",
       "6           1                              77.0\n",
       "7           1                              67.0\n",
       "8           1                              40.0\n",
       "9           1                              71.0\n",
       "10          2                              10.0\n",
       "11          2                              15.0\n",
       "12          2                              12.0\n",
       "13          2                               9.0\n",
       "14          2                              11.0\n",
       "15          2                              12.0\n",
       "16          2                               7.0\n",
       "17          2                               7.0\n",
       "18          2                              15.0\n",
       "19          2                               5.0\n",
       "20          3                              21.0\n",
       "21          3                              22.0\n",
       "22          3                              11.0\n",
       "23          3                              21.0\n",
       "24          3                              14.0\n",
       "25          3                              14.0\n",
       "26          3                              26.0\n",
       "27          3                              23.0\n",
       "28          3                              17.0\n",
       "29          3                              22.0"
      ]
     },
     "execution_count": 213,
     "metadata": {},
     "output_type": "execute_result"
    }
   ],
   "source": [
    "data_dict = {\"1\": md1_recurrent_inglom, \"2\": md2_recurrent_inglom, \"3\": md3_recurrent_inglom}\n",
    "pre_df = {\"Glomerulus\": [], \"OSN → OSN synapses in glomerulus\": []}\n",
    "for glom, dists in data_dict.items():\n",
    "    glom_list = [glom,]*len(dists)\n",
    "    pre_df[\"Glomerulus\"].extend(glom_list)    \n",
    "    pre_df[\"OSN → OSN synapses in glomerulus\"].extend(dists)\n",
    "\n",
    "df = pd.DataFrame.from_dict(pre_df)\n",
    "df"
   ]
  },
  {
   "cell_type": "code",
   "execution_count": 214,
   "metadata": {},
   "outputs": [],
   "source": [
    "from seaborn.categorical import _ViolinPlotter\n",
    "class MyVPlot(_ViolinPlotter):\n",
    "    def draw_quartiles(self, ax, data, support, density, center, split=False, color='k'):\n",
    "        \"\"\"Draw the quartiles as lines at width of density.\"\"\"\n",
    "        q50 = np.mean(data)\n",
    "        self.draw_to_density(ax, center, q50, support, density, split,\n",
    "                             linewidth=self.linewidth, color=color)\n",
    "\n",
    "def my_violinplot2(x=None, y=None, hue=None, data=None, order=None, hue_order=None,\n",
    "                  bw=\"scott\", cut=0, scale=\"area\", scale_hue=True, gridsize=100,\n",
    "                  width=.8, inner=\"quartiles\", split=False, dodge=True, orient=None,\n",
    "                  linewidth=None, color=None, palette=None, saturation=.75,alpha=1,\n",
    "                  ax=None, edgecolor=None, **kwargs):\n",
    "\n",
    "    plotter = MyVPlot(x, y, hue, data, order, hue_order,\n",
    "                      bw, cut, scale, scale_hue, gridsize,\n",
    "                      width, inner, split, dodge, orient, linewidth,\n",
    "                      color, palette, saturation)\n",
    "    if ax is None:\n",
    "        ax = plt.gca()\n",
    "\n",
    "    plotter.plot(ax)\n",
    "    # change outlines\n",
    "    colors=[\"violet\", \"#0000FF\", 'mediumspringgreen']\n",
    "    for idx, violin in enumerate(ax.collections):\n",
    "        violin.set_edgecolor(colors[idx])\n",
    "    for l in ax.lines:\n",
    "        l.set_linestyle('-')\n",
    "        l.set_color('k')\n",
    "    return ax"
   ]
  },
  {
   "cell_type": "code",
   "execution_count": 215,
   "metadata": {},
   "outputs": [
    {
     "name": "stdout",
     "output_type": "stream",
     "text": [
      "1 v.s. 2: Mann-Whitney-Wilcoxon test two-sided with Bonferroni correction, P_val=5.328e-04 U_stat=1.000e+02\n",
      "2 v.s. 3: Mann-Whitney-Wilcoxon test two-sided with Bonferroni correction, P_val=5.660e-03 U_stat=8.500e+00\n"
     ]
    },
    {
     "name": "stderr",
     "output_type": "stream",
     "text": [
      "/tmp/ipykernel_32231/2506857738.py:6: FutureWarning: Passing `palette` without assigning `hue` is deprecated.\n",
      "  ax = sns.stripplot(data=df, x=x, y=y, order=order, palette=[\"violet\", \"#0000FF\", \"mediumspringgreen\"])\n"
     ]
    },
    {
     "name": "stdout",
     "output_type": "stream",
     "text": [
      "1 v.s. 3: Mann-Whitney-Wilcoxon test two-sided with Bonferroni correction, P_val=5.328e-04 U_stat=1.000e+02\n"
     ]
    },
    {
     "data": {
      "image/png": "[encoded data removed]",
      "text/plain": [
       "<Figure size 640x480 with 1 Axes>"
      ]
     },
     "metadata": {},
     "output_type": "display_data"
    }
   ],
   "source": [
    "#make plot with annotations, from dataframe\n",
    "x = \"Glomerulus\"\n",
    "y = \"OSN → OSN synapses in glomerulus\"\n",
    "order = ['1', '2', '3']\n",
    "ax = my_violinplot2(data=df, x=x, y=y, order=order, color=\"1\")\n",
    "ax = sns.stripplot(data=df, x=x, y=y, order=order, palette=[\"violet\", \"#0000FF\", \"mediumspringgreen\"])\n",
    "ax.set_xlabel('Glomerulus', size=12, fontname=\"Liberation Sans\")\n",
    "ax.set_ylabel('OSN → OSN synapses in glomerulus', size=12, fontname=\"Liberation Sans\")\n",
    "ax.set_aspect(0.05)\n",
    "plt.tick_params(axis='x', which='both', bottom=False, top=False)\n",
    "plt.tick_params(axis='y', which='both', left=True, right=False)\n",
    "sns.despine(fig=None, ax=None, top=True, right=True, left=False, bottom=True, offset=None, trim=False)\n",
    "add_stat_annotation(ax, data=df, x=x, y=y, order=order,\n",
    "                    box_pairs=[(\"1\", \"2\"), (\"1\", \"3\"), (\"2\", \"3\")],\n",
    "                    test='Mann-Whitney', text_format='simple', loc='outside', verbose=2)\n",
    "plt.savefig('/home/jb534/pymaid_scripts/aedes/aedes/svg/cablelength.svg', format=\"svg\")\n",
    "plt.show()"
   ]
  },
  {
   "cell_type": "code",
   "execution_count": 216,
   "metadata": {},
   "outputs": [
    {
     "data": {
      "image/png": "[encoded data removed]",
      "text/plain": [
       "<Figure size 640x480 with 1 Axes>"
      ]
     },
     "metadata": {},
     "output_type": "display_data"
    }
   ],
   "source": [
    "ax = my_violinplot2(data=[md1_recurrent_inglom, md2_recurrent_inglom, md3_recurrent_inglom], color=\"1\")\n",
    "ax = sns.stripplot(data=[md1_recurrent_inglom, md2_recurrent_inglom, md3_recurrent_inglom], palette=[\"violet\", \"#0000FF\", \"mediumspringgreen\"])\n",
    "labels = ['MD1', 'MD2', 'MD3']\n",
    "ax.set_ylabel('OSN → OSN synapses in glomerulus', size=14, fontname=\"Liberation Sans\")\n",
    "ax.set_xlabel('Glomerulus', size=14, fontname=\"Liberation Sans\")\n",
    "ax.set_aspect(0.35)\n",
    "sns.despine(fig=None, ax=None, top=True, right=True, left=False, bottom=True, offset=None, trim=False)\n",
    "ax.set_xticklabels(labels,rotation = 30, fontname=\"Liberation Sans\")\n",
    "plt.tick_params(axis='x', which='both', bottom=False, top=False)\n",
    "plt.tick_params(axis='y', which='both', left=True, right=False)\n",
    "\n",
    "plt.savefig('/home/jb534/pymaid_scripts/aedes/svg/recurrentinglom.svg', format=\"svg\")"
   ]
  },
  {
   "cell_type": "code",
   "execution_count": 217,
   "metadata": {},
   "outputs": [
    {
     "data": {
      "text/plain": [
       "KruskalResult(statistic=23.847102095407948, pvalue=6.632352118325223e-06)"
      ]
     },
     "execution_count": 217,
     "metadata": {},
     "output_type": "execute_result"
    }
   ],
   "source": [
    "#kruskal-wallis test\n",
    "stats.kruskal(md1_recurrent_inglom, md2_recurrent_inglom, md3_recurrent_inglom)"
   ]
  },
  {
   "cell_type": "code",
   "execution_count": 218,
   "metadata": {},
   "outputs": [
    {
     "data": {
      "text/html": [
       "<div>\n",
       "<style scoped>\n",
       "    .dataframe tbody tr th:only-of-type {\n",
       "        vertical-align: middle;\n",
       "    }\n",
       "\n",
       "    .dataframe tbody tr th {\n",
       "        vertical-align: top;\n",
       "    }\n",
       "\n",
       "    .dataframe thead th {\n",
       "        text-align: right;\n",
       "    }\n",
       "</style>\n",
       "<table border=\"1\" class=\"dataframe\">\n",
       "  <thead>\n",
       "    <tr style=\"text-align: right;\">\n",
       "      <th></th>\n",
       "      <th>1</th>\n",
       "      <th>2</th>\n",
       "      <th>3</th>\n",
       "    </tr>\n",
       "  </thead>\n",
       "  <tbody>\n",
       "    <tr>\n",
       "      <th>1</th>\n",
       "      <td>1.000000</td>\n",
       "      <td>0.000003</td>\n",
       "      <td>0.017411</td>\n",
       "    </tr>\n",
       "    <tr>\n",
       "      <th>2</th>\n",
       "      <td>0.000003</td>\n",
       "      <td>1.000000</td>\n",
       "      <td>0.104493</td>\n",
       "    </tr>\n",
       "    <tr>\n",
       "      <th>3</th>\n",
       "      <td>0.017411</td>\n",
       "      <td>0.104493</td>\n",
       "      <td>1.000000</td>\n",
       "    </tr>\n",
       "  </tbody>\n",
       "</table>\n",
       "</div>"
      ],
      "text/plain": [
       "          1         2         3\n",
       "1  1.000000  0.000003  0.017411\n",
       "2  0.000003  1.000000  0.104493\n",
       "3  0.017411  0.104493  1.000000"
      ]
     },
     "execution_count": 218,
     "metadata": {},
     "output_type": "execute_result"
    }
   ],
   "source": [
    "#posthocs\n",
    "sp.posthoc_dunn([md1_recurrent_inglom, md2_recurrent_inglom, md3_recurrent_inglom], p_adjust = 'bonferroni')"
   ]
  },
  {
   "cell_type": "code",
   "execution_count": 219,
   "metadata": {},
   "outputs": [],
   "source": [
    "#make lists like a noob\n",
    "md1_recurrent_density=md1[\"recurrent connections density\"].values.tolist()\n",
    "md2_recurrent_density=md2[\"recurrent connections density\"].values.tolist()\n",
    "md3_recurrent_density=md3[\"recurrent connections density\"].values.tolist()\n",
    "\n",
    "#put them in a dataframe"
   ]
  },
  {
   "cell_type": "code",
   "execution_count": 220,
   "metadata": {},
   "outputs": [
    {
     "data": {
      "text/html": [
       "<div>\n",
       "<style scoped>\n",
       "    .dataframe tbody tr th:only-of-type {\n",
       "        vertical-align: middle;\n",
       "    }\n",
       "\n",
       "    .dataframe tbody tr th {\n",
       "        vertical-align: top;\n",
       "    }\n",
       "\n",
       "    .dataframe thead th {\n",
       "        text-align: right;\n",
       "    }\n",
       "</style>\n",
       "<table border=\"1\" class=\"dataframe\">\n",
       "  <thead>\n",
       "    <tr style=\"text-align: right;\">\n",
       "      <th></th>\n",
       "      <th>Glomerulus</th>\n",
       "      <th>OSN → OSN synapses density (synapses/µm)</th>\n",
       "    </tr>\n",
       "  </thead>\n",
       "  <tbody>\n",
       "    <tr>\n",
       "      <th>0</th>\n",
       "      <td>1</td>\n",
       "      <td>0.000205</td>\n",
       "    </tr>\n",
       "    <tr>\n",
       "      <th>1</th>\n",
       "      <td>1</td>\n",
       "      <td>0.000125</td>\n",
       "    </tr>\n",
       "    <tr>\n",
       "      <th>2</th>\n",
       "      <td>1</td>\n",
       "      <td>0.000118</td>\n",
       "    </tr>\n",
       "    <tr>\n",
       "      <th>3</th>\n",
       "      <td>1</td>\n",
       "      <td>0.000123</td>\n",
       "    </tr>\n",
       "    <tr>\n",
       "      <th>4</th>\n",
       "      <td>1</td>\n",
       "      <td>0.000140</td>\n",
       "    </tr>\n",
       "    <tr>\n",
       "      <th>5</th>\n",
       "      <td>1</td>\n",
       "      <td>0.000210</td>\n",
       "    </tr>\n",
       "    <tr>\n",
       "      <th>6</th>\n",
       "      <td>1</td>\n",
       "      <td>0.000185</td>\n",
       "    </tr>\n",
       "    <tr>\n",
       "      <th>7</th>\n",
       "      <td>1</td>\n",
       "      <td>0.000127</td>\n",
       "    </tr>\n",
       "    <tr>\n",
       "      <th>8</th>\n",
       "      <td>1</td>\n",
       "      <td>0.000140</td>\n",
       "    </tr>\n",
       "    <tr>\n",
       "      <th>9</th>\n",
       "      <td>1</td>\n",
       "      <td>0.000113</td>\n",
       "    </tr>\n",
       "    <tr>\n",
       "      <th>10</th>\n",
       "      <td>2</td>\n",
       "      <td>0.000049</td>\n",
       "    </tr>\n",
       "    <tr>\n",
       "      <th>11</th>\n",
       "      <td>2</td>\n",
       "      <td>0.000107</td>\n",
       "    </tr>\n",
       "    <tr>\n",
       "      <th>12</th>\n",
       "      <td>2</td>\n",
       "      <td>0.000087</td>\n",
       "    </tr>\n",
       "    <tr>\n",
       "      <th>13</th>\n",
       "      <td>2</td>\n",
       "      <td>0.000059</td>\n",
       "    </tr>\n",
       "    <tr>\n",
       "      <th>14</th>\n",
       "      <td>2</td>\n",
       "      <td>0.000067</td>\n",
       "    </tr>\n",
       "    <tr>\n",
       "      <th>15</th>\n",
       "      <td>2</td>\n",
       "      <td>0.000086</td>\n",
       "    </tr>\n",
       "    <tr>\n",
       "      <th>16</th>\n",
       "      <td>2</td>\n",
       "      <td>0.000069</td>\n",
       "    </tr>\n",
       "    <tr>\n",
       "      <th>17</th>\n",
       "      <td>2</td>\n",
       "      <td>0.000037</td>\n",
       "    </tr>\n",
       "    <tr>\n",
       "      <th>18</th>\n",
       "      <td>2</td>\n",
       "      <td>0.000093</td>\n",
       "    </tr>\n",
       "    <tr>\n",
       "      <th>19</th>\n",
       "      <td>2</td>\n",
       "      <td>0.000030</td>\n",
       "    </tr>\n",
       "    <tr>\n",
       "      <th>20</th>\n",
       "      <td>3</td>\n",
       "      <td>0.000123</td>\n",
       "    </tr>\n",
       "    <tr>\n",
       "      <th>21</th>\n",
       "      <td>3</td>\n",
       "      <td>0.000146</td>\n",
       "    </tr>\n",
       "    <tr>\n",
       "      <th>22</th>\n",
       "      <td>3</td>\n",
       "      <td>0.000071</td>\n",
       "    </tr>\n",
       "    <tr>\n",
       "      <th>23</th>\n",
       "      <td>3</td>\n",
       "      <td>0.000112</td>\n",
       "    </tr>\n",
       "    <tr>\n",
       "      <th>24</th>\n",
       "      <td>3</td>\n",
       "      <td>0.000105</td>\n",
       "    </tr>\n",
       "    <tr>\n",
       "      <th>25</th>\n",
       "      <td>3</td>\n",
       "      <td>0.000101</td>\n",
       "    </tr>\n",
       "    <tr>\n",
       "      <th>26</th>\n",
       "      <td>3</td>\n",
       "      <td>0.000240</td>\n",
       "    </tr>\n",
       "    <tr>\n",
       "      <th>27</th>\n",
       "      <td>3</td>\n",
       "      <td>0.000160</td>\n",
       "    </tr>\n",
       "    <tr>\n",
       "      <th>28</th>\n",
       "      <td>3</td>\n",
       "      <td>0.000158</td>\n",
       "    </tr>\n",
       "    <tr>\n",
       "      <th>29</th>\n",
       "      <td>3</td>\n",
       "      <td>0.000179</td>\n",
       "    </tr>\n",
       "  </tbody>\n",
       "</table>\n",
       "</div>"
      ],
      "text/plain": [
       "   Glomerulus  OSN → OSN synapses density (synapses/µm)\n",
       "0           1                                  0.000205\n",
       "1           1                                  0.000125\n",
       "2           1                                  0.000118\n",
       "3           1                                  0.000123\n",
       "4           1                                  0.000140\n",
       "5           1                                  0.000210\n",
       "6           1                                  0.000185\n",
       "7           1                                  0.000127\n",
       "8           1                                  0.000140\n",
       "9           1                                  0.000113\n",
       "10          2                                  0.000049\n",
       "11          2                                  0.000107\n",
       "12          2                                  0.000087\n",
       "13          2                                  0.000059\n",
       "14          2                                  0.000067\n",
       "15          2                                  0.000086\n",
       "16          2                                  0.000069\n",
       "17          2                                  0.000037\n",
       "18          2                                  0.000093\n",
       "19          2                                  0.000030\n",
       "20          3                                  0.000123\n",
       "21          3                                  0.000146\n",
       "22          3                                  0.000071\n",
       "23          3                                  0.000112\n",
       "24          3                                  0.000105\n",
       "25          3                                  0.000101\n",
       "26          3                                  0.000240\n",
       "27          3                                  0.000160\n",
       "28          3                                  0.000158\n",
       "29          3                                  0.000179"
      ]
     },
     "execution_count": 220,
     "metadata": {},
     "output_type": "execute_result"
    }
   ],
   "source": [
    "data_dict = {\"1\": md1_recurrent_density, \"2\": md2_recurrent_density, \"3\": md3_recurrent_density}\n",
    "pre_df = {\"Glomerulus\": [], \"OSN → OSN synapses density (synapses/µm)\": []}\n",
    "for glom, dists in data_dict.items():\n",
    "    glom_list = [glom,]*len(dists)\n",
    "    pre_df[\"Glomerulus\"].extend(glom_list)    \n",
    "    pre_df[\"OSN → OSN synapses density (synapses/µm)\"].extend(dists)\n",
    "\n",
    "df = pd.DataFrame.from_dict(pre_df)\n",
    "df"
   ]
  },
  {
   "cell_type": "code",
   "execution_count": 221,
   "metadata": {},
   "outputs": [
    {
     "name": "stdout",
     "output_type": "stream",
     "text": [
      "1 v.s. 2: Mann-Whitney-Wilcoxon test two-sided with Bonferroni correction, P_val=5.480e-04 U_stat=1.000e+02\n",
      "2 v.s. 3: Mann-Whitney-Wilcoxon test two-sided with Bonferroni correction, P_val=3.024e-03 U_stat=6.000e+00\n",
      "1 v.s. 3: Mann-Whitney-Wilcoxon test two-sided with Bonferroni correction, P_val=1.000e+00 U_stat=6.000e+01\n"
     ]
    },
    {
     "name": "stderr",
     "output_type": "stream",
     "text": [
      "/tmp/ipykernel_32231/1694292309.py:6: FutureWarning: Passing `palette` without assigning `hue` is deprecated.\n",
      "  ax = sns.stripplot(data=df, x=x, y=y, order=order, palette=[\"violet\", \"#0000FF\", \"mediumspringgreen\"])\n"
     ]
    },
    {
     "data": {
      "image/png": "[encoded data removed]",
      "text/plain": [
       "<Figure size 640x480 with 1 Axes>"
      ]
     },
     "metadata": {},
     "output_type": "display_data"
    }
   ],
   "source": [
    "#make plot with annotations, from dataframe\n",
    "x = \"Glomerulus\"\n",
    "y = \"OSN → OSN synapses density (synapses/µm)\"\n",
    "order = ['1', '2', '3']\n",
    "ax = my_violinplot2(data=df, x=x, y=y, order=order, color=\"1\")\n",
    "ax = sns.stripplot(data=df, x=x, y=y, order=order, palette=[\"violet\", \"#0000FF\", \"mediumspringgreen\"])\n",
    "ax.set_xlabel('Glomerulus', size=12, fontname=\"Liberation Sans\")\n",
    "ax.set_ylabel('OSN → OSN synapses density (synapses/µm)', size=12, fontname=\"Liberation Sans\")\n",
    "ax.set_aspect(25000)\n",
    "plt.tick_params(axis='x', which='both', bottom=False, top=False)\n",
    "plt.tick_params(axis='y', which='both', left=True, right=False)\n",
    "sns.despine(fig=None, ax=None, top=True, right=True, left=False, bottom=True, offset=None, trim=False)\n",
    "add_stat_annotation(ax, data=df, x=x, y=y, order=order,\n",
    "                    box_pairs=[(\"1\", \"2\"), (\"1\", \"3\"), (\"2\", \"3\")],\n",
    "                    test='Mann-Whitney', text_format='simple', loc='outside', verbose=2)\n",
    "plt.savefig('/home/jb534/pymaid_scripts/aedes/aedes/svg/recurrentdensity.svg', format=\"svg\")\n",
    "plt.show()"
   ]
  },
  {
   "cell_type": "code",
   "execution_count": null,
   "metadata": {},
   "outputs": [],
   "source": []
  },
  {
   "cell_type": "code",
   "execution_count": 222,
   "metadata": {},
   "outputs": [
    {
     "data": {
      "image/png": "[encoded data removed]",
      "text/plain": [
       "<Figure size 640x480 with 1 Axes>"
      ]
     },
     "metadata": {},
     "output_type": "display_data"
    }
   ],
   "source": [
    "ax = my_violinplot2(data=[md1_recurrent_density, md2_recurrent_density, md2_recurrent_density], color=\"1\")\n",
    "ax = sns.stripplot(data=[md1_recurrent_density, md2_recurrent_density, md3_recurrent_density], palette=[\"violet\", \"#0000FF\", \"mediumspringgreen\"])\n",
    "labels = ['MD1', 'MD2', 'MD3']\n",
    "ax.set_ylabel('OSN → OSN connections density (synapses/µm)', size=12, fontname=\"Liberation Sans\")\n",
    "ax.set_xlabel('Glomerulus', size=14, fontname=\"Liberation Sans\")\n",
    "ax.set_aspect(30000)\n",
    "sns.despine(fig=None, ax=None, top=True, right=True, left=False, bottom=True, offset=None, trim=False)\n",
    "ax.set_xticklabels(labels,rotation = 30, fontname=\"Liberation Sans\", size=11)\n",
    "plt.tick_params(axis='x', which='both', bottom=False, top=False)\n",
    "plt.tick_params(axis='y', which='both', left=True, right=False)\n",
    "\n",
    "plt.savefig('/home/jb534/pymaid_scripts/aedes/svg/feedforwardinglom_density.svg', format=\"svg\")"
   ]
  },
  {
   "cell_type": "code",
   "execution_count": 223,
   "metadata": {},
   "outputs": [
    {
     "data": {
      "text/plain": [
       "KruskalResult(statistic=17.53806451612904, pvalue=0.000155473966547086)"
      ]
     },
     "execution_count": 223,
     "metadata": {},
     "output_type": "execute_result"
    }
   ],
   "source": [
    "stats.kruskal(md1_recurrent_density, md2_recurrent_density, md3_recurrent_density)\n"
   ]
  },
  {
   "cell_type": "code",
   "execution_count": 224,
   "metadata": {},
   "outputs": [
    {
     "data": {
      "text/html": [
       "<div>\n",
       "<style scoped>\n",
       "    .dataframe tbody tr th:only-of-type {\n",
       "        vertical-align: middle;\n",
       "    }\n",
       "\n",
       "    .dataframe tbody tr th {\n",
       "        vertical-align: top;\n",
       "    }\n",
       "\n",
       "    .dataframe thead th {\n",
       "        text-align: right;\n",
       "    }\n",
       "</style>\n",
       "<table border=\"1\" class=\"dataframe\">\n",
       "  <thead>\n",
       "    <tr style=\"text-align: right;\">\n",
       "      <th></th>\n",
       "      <th>1</th>\n",
       "      <th>2</th>\n",
       "      <th>3</th>\n",
       "    </tr>\n",
       "  </thead>\n",
       "  <tbody>\n",
       "    <tr>\n",
       "      <th>1</th>\n",
       "      <td>1.000000</td>\n",
       "      <td>0.000275</td>\n",
       "      <td>1.000000</td>\n",
       "    </tr>\n",
       "    <tr>\n",
       "      <th>2</th>\n",
       "      <td>0.000275</td>\n",
       "      <td>1.000000</td>\n",
       "      <td>0.003448</td>\n",
       "    </tr>\n",
       "    <tr>\n",
       "      <th>3</th>\n",
       "      <td>1.000000</td>\n",
       "      <td>0.003448</td>\n",
       "      <td>1.000000</td>\n",
       "    </tr>\n",
       "  </tbody>\n",
       "</table>\n",
       "</div>"
      ],
      "text/plain": [
       "          1         2         3\n",
       "1  1.000000  0.000275  1.000000\n",
       "2  0.000275  1.000000  0.003448\n",
       "3  1.000000  0.003448  1.000000"
      ]
     },
     "execution_count": 224,
     "metadata": {},
     "output_type": "execute_result"
    }
   ],
   "source": [
    "#posthocs\n",
    "sp.posthoc_dunn([md1_recurrent_density, md2_recurrent_density, md3_recurrent_density], p_adjust = 'bonferroni')"
   ]
  }
 ],
 "metadata": {
  "kernelspec": {
   "display_name": "Python 3.9.15 ('wuzzy')",
   "language": "python",
   "name": "python3"
  },
  "language_info": {
   "codemirror_mode": {
    "name": "ipython",
    "version": 3
   },
   "file_extension": ".py",
   "mimetype": "text/x-python",
   "name": "python",
   "nbconvert_exporter": "python",
   "pygments_lexer": "ipython3",
   "version": "3.9.15"
  },
  "orig_nbformat": 4,
  "vscode": {
   "interpreter": {
    "hash": "bbc61e08eb74b41ad38e0e06b5d47af793336d408360cccbd7d9a84e8f2bb674"
   }
  }
 },
 "nbformat": 4,
 "nbformat_minor": 2
}
