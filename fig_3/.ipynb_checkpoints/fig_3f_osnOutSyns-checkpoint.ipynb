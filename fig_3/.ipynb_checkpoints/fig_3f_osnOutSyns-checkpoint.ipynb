{
 "cells": [
  {
   "cell_type": "code",
   "execution_count": 1,
   "id": "5c481712",
   "metadata": {},
   "outputs": [
    {
     "name": "stderr",
     "output_type": "stream",
     "text": [
      "INFO  : Global CATMAID instance set. Caching is ON. (pymaid)\n"
     ]
    }
   ],
   "source": [
    "import pymaid\n",
    "import navis as nv\n",
    "import pandas as pd\n",
    "import numpy as np\n",
    "import seaborn as sns\n",
    "import matplotlib.pyplot as plt\n",
    "from matplotlib.ticker import PercentFormatter\n",
    "import scipy.stats as stats\n",
    "import scikit_posthocs as sp\n",
    "import matplotlib.font_manager as font_manager\n",
    "\n",
    "#connect your catmaid instance\n",
    "instance=pymaid.CatmaidInstance('https://radagast.hms.harvard.edu/catmaidaedes',\"d2a69935210ef282654219ea391094e8599c851e\")"
   ]
  },
  {
   "cell_type": "code",
   "execution_count": 2,
   "id": "43d4363d",
   "metadata": {},
   "outputs": [
    {
     "data": {
      "application/vnd.jupyter.widget-view+json": {
       "model_id": "",
       "version_major": 2,
       "version_minor": 0
      },
      "text/plain": [
       "CN details:   0%|          | 0/1226 [00:00<?, ?it/s]"
      ]
     },
     "metadata": {},
     "output_type": "display_data"
    },
    {
     "name": "stderr",
     "output_type": "stream",
     "text": [
      "INFO  : Data for 1226 of 1226 unique connector IDs retrieved (pymaid)\n",
      "INFO  : Fetching connectivity table for 1 neurons (pymaid)\n",
      "INFO  : Done. Found 157 pre-, 441 postsynaptic and 0 gap junction-connected neurons (pymaid)\n"
     ]
    },
    {
     "data": {
      "application/vnd.jupyter.widget-view+json": {
       "model_id": "",
       "version_major": 2,
       "version_minor": 0
      },
      "text/plain": [
       "CN details:   0%|          | 0/739 [00:00<?, ?it/s]"
      ]
     },
     "metadata": {},
     "output_type": "display_data"
    },
    {
     "name": "stderr",
     "output_type": "stream",
     "text": [
      "INFO  : Data for 739 of 739 unique connector IDs retrieved (pymaid)\n",
      "INFO  : Fetching connectivity table for 1 neurons (pymaid)\n",
      "INFO  : Done. Found 92 pre-, 409 postsynaptic and 0 gap junction-connected neurons (pymaid)\n"
     ]
    },
    {
     "data": {
      "application/vnd.jupyter.widget-view+json": {
       "model_id": "",
       "version_major": 2,
       "version_minor": 0
      },
      "text/plain": [
       "CN details:   0%|          | 0/695 [00:00<?, ?it/s]"
      ]
     },
     "metadata": {},
     "output_type": "display_data"
    },
    {
     "name": "stderr",
     "output_type": "stream",
     "text": [
      "INFO  : Data for 695 of 695 unique connector IDs retrieved (pymaid)\n",
      "INFO  : Fetching connectivity table for 1 neurons (pymaid)\n",
      "INFO  : Done. Found 94 pre-, 310 postsynaptic and 0 gap junction-connected neurons (pymaid)\n"
     ]
    },
    {
     "data": {
      "application/vnd.jupyter.widget-view+json": {
       "model_id": "",
       "version_major": 2,
       "version_minor": 0
      },
      "text/plain": [
       "CN details:   0%|          | 0/929 [00:00<?, ?it/s]"
      ]
     },
     "metadata": {},
     "output_type": "display_data"
    },
    {
     "name": "stderr",
     "output_type": "stream",
     "text": [
      "INFO  : Data for 929 of 929 unique connector IDs retrieved (pymaid)\n",
      "INFO  : Fetching connectivity table for 1 neurons (pymaid)\n",
      "INFO  : Done. Found 128 pre-, 232 postsynaptic and 0 gap junction-connected neurons (pymaid)\n"
     ]
    },
    {
     "data": {
      "application/vnd.jupyter.widget-view+json": {
       "model_id": "",
       "version_major": 2,
       "version_minor": 0
      },
      "text/plain": [
       "CN details:   0%|          | 0/1095 [00:00<?, ?it/s]"
      ]
     },
     "metadata": {},
     "output_type": "display_data"
    },
    {
     "name": "stderr",
     "output_type": "stream",
     "text": [
      "INFO  : Data for 1095 of 1095 unique connector IDs retrieved (pymaid)\n",
      "INFO  : Fetching connectivity table for 1 neurons (pymaid)\n",
      "INFO  : Done. Found 145 pre-, 340 postsynaptic and 0 gap junction-connected neurons (pymaid)\n"
     ]
    },
    {
     "data": {
      "application/vnd.jupyter.widget-view+json": {
       "model_id": "",
       "version_major": 2,
       "version_minor": 0
      },
      "text/plain": [
       "CN details:   0%|          | 0/665 [00:00<?, ?it/s]"
      ]
     },
     "metadata": {},
     "output_type": "display_data"
    },
    {
     "name": "stderr",
     "output_type": "stream",
     "text": [
      "INFO  : Data for 665 of 665 unique connector IDs retrieved (pymaid)\n",
      "INFO  : Fetching connectivity table for 1 neurons (pymaid)\n",
      "INFO  : Done. Found 92 pre-, 339 postsynaptic and 0 gap junction-connected neurons (pymaid)\n"
     ]
    },
    {
     "data": {
      "application/vnd.jupyter.widget-view+json": {
       "model_id": "",
       "version_major": 2,
       "version_minor": 0
      },
      "text/plain": [
       "CN details:   0%|          | 0/1055 [00:00<?, ?it/s]"
      ]
     },
     "metadata": {},
     "output_type": "display_data"
    },
    {
     "name": "stderr",
     "output_type": "stream",
     "text": [
      "INFO  : Data for 1055 of 1055 unique connector IDs retrieved (pymaid)\n",
      "INFO  : Fetching connectivity table for 1 neurons (pymaid)\n",
      "INFO  : Done. Found 151 pre-, 418 postsynaptic and 0 gap junction-connected neurons (pymaid)\n"
     ]
    },
    {
     "data": {
      "application/vnd.jupyter.widget-view+json": {
       "model_id": "",
       "version_major": 2,
       "version_minor": 0
      },
      "text/plain": [
       "CN details:   0%|          | 0/1068 [00:00<?, ?it/s]"
      ]
     },
     "metadata": {},
     "output_type": "display_data"
    },
    {
     "name": "stderr",
     "output_type": "stream",
     "text": [
      "INFO  : Data for 1068 of 1068 unique connector IDs retrieved (pymaid)\n",
      "INFO  : Fetching connectivity table for 1 neurons (pymaid)\n",
      "INFO  : Done. Found 141 pre-, 386 postsynaptic and 0 gap junction-connected neurons (pymaid)\n"
     ]
    },
    {
     "data": {
      "application/vnd.jupyter.widget-view+json": {
       "model_id": "",
       "version_major": 2,
       "version_minor": 0
      },
      "text/plain": [
       "CN details:   0%|          | 0/388 [00:00<?, ?it/s]"
      ]
     },
     "metadata": {},
     "output_type": "display_data"
    },
    {
     "name": "stderr",
     "output_type": "stream",
     "text": [
      "INFO  : Data for 388 of 388 unique connector IDs retrieved (pymaid)\n",
      "INFO  : Fetching connectivity table for 1 neurons (pymaid)\n",
      "INFO  : Done. Found 68 pre-, 231 postsynaptic and 0 gap junction-connected neurons (pymaid)\n"
     ]
    },
    {
     "data": {
      "application/vnd.jupyter.widget-view+json": {
       "model_id": "",
       "version_major": 2,
       "version_minor": 0
      },
      "text/plain": [
       "CN details:   0%|          | 0/1107 [00:00<?, ?it/s]"
      ]
     },
     "metadata": {},
     "output_type": "display_data"
    },
    {
     "name": "stderr",
     "output_type": "stream",
     "text": [
      "INFO  : Data for 1107 of 1107 unique connector IDs retrieved (pymaid)\n",
      "INFO  : Fetching connectivity table for 1 neurons (pymaid)\n",
      "INFO  : Done. Found 160 pre-, 487 postsynaptic and 0 gap junction-connected neurons (pymaid)\n"
     ]
    },
    {
     "name": "stdout",
     "output_type": "stream",
     "text": [
      "[1854.0, 1672.0, 1324.0, 1292.0, 1574.0, 1523.0, 1837.0, 1584.0, 800.0, 1670.0]\n"
     ]
    }
   ],
   "source": [
    "MD1_OSNs = pymaid.get_skids_by_annotation(['sensory neuron', 'left palp nerve', 'PSPs done', 'innervates MD1'], intersect=True)\n",
    "\n",
    "md1_total_OSN_synapses_all=[]\n",
    "\n",
    "for OSN in MD1_OSNs:\n",
    "    # Finds all of the synapses the given OSN is presynaptic to\n",
    "    OSN_neuron = pymaid.get_neuron(OSN)\n",
    "    df = pymaid.get_connector_details(OSN_neuron)\n",
    "    #total_OSN_synapses = len(df[df.presynaptic_to == OSNid])\n",
    "    \n",
    "    # Finds partners\n",
    "    df1 = pymaid.get_partners(OSN).set_index('skeleton_id')\n",
    "    \n",
    "    #sum ALL outgoing synapses\n",
    "    total_OSN_synapses=sum(df1[df1.relation=='downstream'].total)\n",
    "    md1_total_OSN_synapses_all.append(total_OSN_synapses)\n",
    "print(md1_total_OSN_synapses_all)"
   ]
  },
  {
   "cell_type": "code",
   "execution_count": 3,
   "id": "a014eaab",
   "metadata": {},
   "outputs": [
    {
     "name": "stderr",
     "output_type": "stream",
     "text": [
      "INFO  : Cached data used. Use `pymaid.clear_cache()` to clear. (pymaid)\n"
     ]
    },
    {
     "data": {
      "application/vnd.jupyter.widget-view+json": {
       "model_id": "",
       "version_major": 2,
       "version_minor": 0
      },
      "text/plain": [
       "CN details:   0%|          | 0/310 [00:00<?, ?it/s]"
      ]
     },
     "metadata": {},
     "output_type": "display_data"
    },
    {
     "name": "stderr",
     "output_type": "stream",
     "text": [
      "INFO  : Data for 310 of 310 unique connector IDs retrieved (pymaid)\n",
      "INFO  : Fetching connectivity table for 1 neurons (pymaid)\n",
      "INFO  : Done. Found 86 pre-, 222 postsynaptic and 0 gap junction-connected neurons (pymaid)\n"
     ]
    },
    {
     "data": {
      "application/vnd.jupyter.widget-view+json": {
       "model_id": "",
       "version_major": 2,
       "version_minor": 0
      },
      "text/plain": [
       "CN details:   0%|          | 0/270 [00:00<?, ?it/s]"
      ]
     },
     "metadata": {},
     "output_type": "display_data"
    },
    {
     "name": "stderr",
     "output_type": "stream",
     "text": [
      "INFO  : Data for 270 of 270 unique connector IDs retrieved (pymaid)\n",
      "INFO  : Fetching connectivity table for 1 neurons (pymaid)\n",
      "INFO  : Done. Found 66 pre-, 200 postsynaptic and 0 gap junction-connected neurons (pymaid)\n"
     ]
    },
    {
     "data": {
      "application/vnd.jupyter.widget-view+json": {
       "model_id": "",
       "version_major": 2,
       "version_minor": 0
      },
      "text/plain": [
       "CN details:   0%|          | 0/223 [00:00<?, ?it/s]"
      ]
     },
     "metadata": {},
     "output_type": "display_data"
    },
    {
     "name": "stderr",
     "output_type": "stream",
     "text": [
      "INFO  : Data for 223 of 223 unique connector IDs retrieved (pymaid)\n",
      "INFO  : Fetching connectivity table for 1 neurons (pymaid)\n",
      "INFO  : Done. Found 44 pre-, 177 postsynaptic and 0 gap junction-connected neurons (pymaid)\n"
     ]
    },
    {
     "data": {
      "application/vnd.jupyter.widget-view+json": {
       "model_id": "",
       "version_major": 2,
       "version_minor": 0
      },
      "text/plain": [
       "CN details:   0%|          | 0/219 [00:00<?, ?it/s]"
      ]
     },
     "metadata": {},
     "output_type": "display_data"
    },
    {
     "name": "stderr",
     "output_type": "stream",
     "text": [
      "INFO  : Data for 219 of 219 unique connector IDs retrieved (pymaid)\n",
      "INFO  : Fetching connectivity table for 1 neurons (pymaid)\n",
      "INFO  : Done. Found 51 pre-, 199 postsynaptic and 0 gap junction-connected neurons (pymaid)\n"
     ]
    },
    {
     "data": {
      "application/vnd.jupyter.widget-view+json": {
       "model_id": "",
       "version_major": 2,
       "version_minor": 0
      },
      "text/plain": [
       "CN details:   0%|          | 0/219 [00:00<?, ?it/s]"
      ]
     },
     "metadata": {},
     "output_type": "display_data"
    },
    {
     "name": "stderr",
     "output_type": "stream",
     "text": [
      "INFO  : Data for 219 of 219 unique connector IDs retrieved (pymaid)\n",
      "INFO  : Fetching connectivity table for 1 neurons (pymaid)\n",
      "INFO  : Done. Found 44 pre-, 223 postsynaptic and 0 gap junction-connected neurons (pymaid)\n"
     ]
    },
    {
     "data": {
      "application/vnd.jupyter.widget-view+json": {
       "model_id": "",
       "version_major": 2,
       "version_minor": 0
      },
      "text/plain": [
       "CN details:   0%|          | 0/229 [00:00<?, ?it/s]"
      ]
     },
     "metadata": {},
     "output_type": "display_data"
    },
    {
     "name": "stderr",
     "output_type": "stream",
     "text": [
      "INFO  : Data for 229 of 229 unique connector IDs retrieved (pymaid)\n",
      "INFO  : Fetching connectivity table for 1 neurons (pymaid)\n",
      "INFO  : Done. Found 55 pre-, 195 postsynaptic and 0 gap junction-connected neurons (pymaid)\n"
     ]
    },
    {
     "data": {
      "application/vnd.jupyter.widget-view+json": {
       "model_id": "",
       "version_major": 2,
       "version_minor": 0
      },
      "text/plain": [
       "CN details:   0%|          | 0/199 [00:00<?, ?it/s]"
      ]
     },
     "metadata": {},
     "output_type": "display_data"
    },
    {
     "name": "stderr",
     "output_type": "stream",
     "text": [
      "INFO  : Data for 199 of 199 unique connector IDs retrieved (pymaid)\n",
      "INFO  : Fetching connectivity table for 1 neurons (pymaid)\n",
      "INFO  : Done. Found 48 pre-, 187 postsynaptic and 0 gap junction-connected neurons (pymaid)\n"
     ]
    },
    {
     "data": {
      "application/vnd.jupyter.widget-view+json": {
       "model_id": "",
       "version_major": 2,
       "version_minor": 0
      },
      "text/plain": [
       "CN details:   0%|          | 0/222 [00:00<?, ?it/s]"
      ]
     },
     "metadata": {},
     "output_type": "display_data"
    },
    {
     "name": "stderr",
     "output_type": "stream",
     "text": [
      "INFO  : Data for 222 of 222 unique connector IDs retrieved (pymaid)\n",
      "INFO  : Fetching connectivity table for 1 neurons (pymaid)\n",
      "INFO  : Done. Found 58 pre-, 211 postsynaptic and 0 gap junction-connected neurons (pymaid)\n"
     ]
    },
    {
     "data": {
      "application/vnd.jupyter.widget-view+json": {
       "model_id": "",
       "version_major": 2,
       "version_minor": 0
      },
      "text/plain": [
       "CN details:   0%|          | 0/250 [00:00<?, ?it/s]"
      ]
     },
     "metadata": {},
     "output_type": "display_data"
    },
    {
     "name": "stderr",
     "output_type": "stream",
     "text": [
      "INFO  : Data for 250 of 250 unique connector IDs retrieved (pymaid)\n",
      "INFO  : Fetching connectivity table for 1 neurons (pymaid)\n",
      "INFO  : Done. Found 68 pre-, 245 postsynaptic and 0 gap junction-connected neurons (pymaid)\n"
     ]
    },
    {
     "data": {
      "application/vnd.jupyter.widget-view+json": {
       "model_id": "",
       "version_major": 2,
       "version_minor": 0
      },
      "text/plain": [
       "CN details:   0%|          | 0/143 [00:00<?, ?it/s]"
      ]
     },
     "metadata": {},
     "output_type": "display_data"
    },
    {
     "name": "stderr",
     "output_type": "stream",
     "text": [
      "INFO  : Data for 143 of 143 unique connector IDs retrieved (pymaid)\n",
      "INFO  : Fetching connectivity table for 1 neurons (pymaid)\n",
      "INFO  : Done. Found 52 pre-, 112 postsynaptic and 0 gap junction-connected neurons (pymaid)\n"
     ]
    },
    {
     "name": "stdout",
     "output_type": "stream",
     "text": [
      "[506.0, 514.0, 425.0, 499.0, 525.0, 498.0, 461.0, 471.0, 520.0, 251.0]\n"
     ]
    }
   ],
   "source": [
    "MD2_OSNs = pymaid.get_skids_by_annotation(['sensory neuron', 'left palp nerve', 'PSPs done', 'innervates MD2'], intersect=True)\n",
    "md2_total_OSN_synapses_all=[]\n",
    "\n",
    "for OSN in MD2_OSNs:\n",
    "    # Finds all of the synapses the given OSN is presynaptic to\n",
    "    OSN_neuron = pymaid.get_neuron(OSN)\n",
    "    df = pymaid.get_connector_details(OSN_neuron)\n",
    "    #total_OSN_synapses = len(df[df.presynaptic_to == OSNid])\n",
    "    \n",
    "    # Finds partners\n",
    "    df1 = pymaid.get_partners(OSN).set_index('skeleton_id')\n",
    "    \n",
    "    #sum ALL outgoing synapses\n",
    "    total_OSN_synapses=sum(df1[df1.relation=='downstream'].total)\n",
    "    md2_total_OSN_synapses_all.append(total_OSN_synapses)\n",
    "\n",
    "print(md2_total_OSN_synapses_all)"
   ]
  },
  {
   "cell_type": "code",
   "execution_count": 4,
   "id": "2feb68ed",
   "metadata": {},
   "outputs": [
    {
     "name": "stderr",
     "output_type": "stream",
     "text": [
      "INFO  : Cached data used. Use `pymaid.clear_cache()` to clear. (pymaid)\n"
     ]
    },
    {
     "data": {
      "application/vnd.jupyter.widget-view+json": {
       "model_id": "",
       "version_major": 2,
       "version_minor": 0
      },
      "text/plain": [
       "CN details:   0%|          | 0/354 [00:00<?, ?it/s]"
      ]
     },
     "metadata": {},
     "output_type": "display_data"
    },
    {
     "name": "stderr",
     "output_type": "stream",
     "text": [
      "INFO  : Data for 354 of 354 unique connector IDs retrieved (pymaid)\n",
      "INFO  : Fetching connectivity table for 1 neurons (pymaid)\n",
      "INFO  : Done. Found 77 pre-, 166 postsynaptic and 0 gap junction-connected neurons (pymaid)\n"
     ]
    },
    {
     "data": {
      "application/vnd.jupyter.widget-view+json": {
       "model_id": "",
       "version_major": 2,
       "version_minor": 0
      },
      "text/plain": [
       "CN details:   0%|          | 0/295 [00:00<?, ?it/s]"
      ]
     },
     "metadata": {},
     "output_type": "display_data"
    },
    {
     "name": "stderr",
     "output_type": "stream",
     "text": [
      "INFO  : Data for 295 of 295 unique connector IDs retrieved (pymaid)\n",
      "INFO  : Fetching connectivity table for 1 neurons (pymaid)\n",
      "INFO  : Done. Found 72 pre-, 170 postsynaptic and 0 gap junction-connected neurons (pymaid)\n"
     ]
    },
    {
     "data": {
      "application/vnd.jupyter.widget-view+json": {
       "model_id": "",
       "version_major": 2,
       "version_minor": 0
      },
      "text/plain": [
       "CN details:   0%|          | 0/262 [00:00<?, ?it/s]"
      ]
     },
     "metadata": {},
     "output_type": "display_data"
    },
    {
     "name": "stderr",
     "output_type": "stream",
     "text": [
      "INFO  : Data for 262 of 262 unique connector IDs retrieved (pymaid)\n",
      "INFO  : Fetching connectivity table for 1 neurons (pymaid)\n",
      "INFO  : Done. Found 52 pre-, 150 postsynaptic and 0 gap junction-connected neurons (pymaid)\n"
     ]
    },
    {
     "data": {
      "application/vnd.jupyter.widget-view+json": {
       "model_id": "",
       "version_major": 2,
       "version_minor": 0
      },
      "text/plain": [
       "CN details:   0%|          | 0/304 [00:00<?, ?it/s]"
      ]
     },
     "metadata": {},
     "output_type": "display_data"
    },
    {
     "name": "stderr",
     "output_type": "stream",
     "text": [
      "INFO  : Data for 304 of 304 unique connector IDs retrieved (pymaid)\n",
      "INFO  : Fetching connectivity table for 1 neurons (pymaid)\n",
      "INFO  : Done. Found 57 pre-, 218 postsynaptic and 0 gap junction-connected neurons (pymaid)\n"
     ]
    },
    {
     "data": {
      "application/vnd.jupyter.widget-view+json": {
       "model_id": "",
       "version_major": 2,
       "version_minor": 0
      },
      "text/plain": [
       "CN details:   0%|          | 0/266 [00:00<?, ?it/s]"
      ]
     },
     "metadata": {},
     "output_type": "display_data"
    },
    {
     "name": "stderr",
     "output_type": "stream",
     "text": [
      "INFO  : Data for 266 of 266 unique connector IDs retrieved (pymaid)\n",
      "INFO  : Fetching connectivity table for 1 neurons (pymaid)\n",
      "INFO  : Done. Found 48 pre-, 157 postsynaptic and 0 gap junction-connected neurons (pymaid)\n"
     ]
    },
    {
     "data": {
      "application/vnd.jupyter.widget-view+json": {
       "model_id": "",
       "version_major": 2,
       "version_minor": 0
      },
      "text/plain": [
       "CN details:   0%|          | 0/284 [00:00<?, ?it/s]"
      ]
     },
     "metadata": {},
     "output_type": "display_data"
    },
    {
     "name": "stderr",
     "output_type": "stream",
     "text": [
      "INFO  : Data for 284 of 284 unique connector IDs retrieved (pymaid)\n",
      "INFO  : Fetching connectivity table for 1 neurons (pymaid)\n",
      "INFO  : Done. Found 53 pre-, 191 postsynaptic and 0 gap junction-connected neurons (pymaid)\n"
     ]
    },
    {
     "data": {
      "application/vnd.jupyter.widget-view+json": {
       "model_id": "",
       "version_major": 2,
       "version_minor": 0
      },
      "text/plain": [
       "CN details:   0%|          | 0/238 [00:00<?, ?it/s]"
      ]
     },
     "metadata": {},
     "output_type": "display_data"
    },
    {
     "name": "stderr",
     "output_type": "stream",
     "text": [
      "INFO  : Data for 238 of 238 unique connector IDs retrieved (pymaid)\n",
      "INFO  : Fetching connectivity table for 1 neurons (pymaid)\n",
      "INFO  : Done. Found 51 pre-, 152 postsynaptic and 0 gap junction-connected neurons (pymaid)\n"
     ]
    },
    {
     "data": {
      "application/vnd.jupyter.widget-view+json": {
       "model_id": "",
       "version_major": 2,
       "version_minor": 0
      },
      "text/plain": [
       "CN details:   0%|          | 0/286 [00:00<?, ?it/s]"
      ]
     },
     "metadata": {},
     "output_type": "display_data"
    },
    {
     "name": "stderr",
     "output_type": "stream",
     "text": [
      "INFO  : Data for 286 of 286 unique connector IDs retrieved (pymaid)\n",
      "INFO  : Fetching connectivity table for 1 neurons (pymaid)\n",
      "INFO  : Done. Found 60 pre-, 176 postsynaptic and 0 gap junction-connected neurons (pymaid)\n"
     ]
    },
    {
     "data": {
      "application/vnd.jupyter.widget-view+json": {
       "model_id": "",
       "version_major": 2,
       "version_minor": 0
      },
      "text/plain": [
       "CN details:   0%|          | 0/272 [00:00<?, ?it/s]"
      ]
     },
     "metadata": {},
     "output_type": "display_data"
    },
    {
     "name": "stderr",
     "output_type": "stream",
     "text": [
      "INFO  : Data for 272 of 272 unique connector IDs retrieved (pymaid)\n",
      "INFO  : Fetching connectivity table for 1 neurons (pymaid)\n",
      "INFO  : Done. Found 65 pre-, 195 postsynaptic and 0 gap junction-connected neurons (pymaid)\n"
     ]
    },
    {
     "data": {
      "application/vnd.jupyter.widget-view+json": {
       "model_id": "",
       "version_major": 2,
       "version_minor": 0
      },
      "text/plain": [
       "CN details:   0%|          | 0/262 [00:00<?, ?it/s]"
      ]
     },
     "metadata": {},
     "output_type": "display_data"
    },
    {
     "name": "stderr",
     "output_type": "stream",
     "text": [
      "INFO  : Data for 262 of 262 unique connector IDs retrieved (pymaid)\n",
      "INFO  : Fetching connectivity table for 1 neurons (pymaid)\n",
      "INFO  : Done. Found 56 pre-, 179 postsynaptic and 0 gap junction-connected neurons (pymaid)\n"
     ]
    },
    {
     "name": "stdout",
     "output_type": "stream",
     "text": [
      "[527.0, 525.0, 466.0, 643.0, 514.0, 570.0, 489.0, 577.0, 581.0, 517.0]\n"
     ]
    }
   ],
   "source": [
    "MD3_OSNs = pymaid.get_skids_by_annotation(['sensory neuron', 'left palp nerve', 'PSPs done', 'innervates MD3'], intersect=True)\n",
    "md3_total_OSN_synapses_all=[]\n",
    "\n",
    "for OSN in MD3_OSNs:\n",
    "    # Finds all of the synapses the given OSN is presynaptic to\n",
    "    OSN_neuron = pymaid.get_neuron(OSN)\n",
    "    df = pymaid.get_connector_details(OSN_neuron)\n",
    "    #total_OSN_synapses = len(df[df.presynaptic_to == OSNid])\n",
    "    \n",
    "    # Finds partners\n",
    "    df1 = pymaid.get_partners(OSN).set_index('skeleton_id')\n",
    "    \n",
    "    #sum ALL outgoing synapses\n",
    "    total_OSN_synapses=sum(df1[df1.relation=='downstream'].total)\n",
    "    md3_total_OSN_synapses_all.append(total_OSN_synapses)\n",
    "\n",
    "print(md3_total_OSN_synapses_all)"
   ]
  },
  {
   "cell_type": "code",
   "execution_count": 5,
   "id": "c6ef599a",
   "metadata": {},
   "outputs": [
    {
     "data": {
      "text/html": [
       "<div>\n",
       "<style scoped>\n",
       "    .dataframe tbody tr th:only-of-type {\n",
       "        vertical-align: middle;\n",
       "    }\n",
       "\n",
       "    .dataframe tbody tr th {\n",
       "        vertical-align: top;\n",
       "    }\n",
       "\n",
       "    .dataframe thead th {\n",
       "        text-align: right;\n",
       "    }\n",
       "</style>\n",
       "<table border=\"1\" class=\"dataframe\">\n",
       "  <thead>\n",
       "    <tr style=\"text-align: right;\">\n",
       "      <th></th>\n",
       "      <th>Glomerulus</th>\n",
       "      <th>Total outgoing synapses</th>\n",
       "    </tr>\n",
       "  </thead>\n",
       "  <tbody>\n",
       "    <tr>\n",
       "      <th>0</th>\n",
       "      <td>1</td>\n",
       "      <td>1854.0</td>\n",
       "    </tr>\n",
       "    <tr>\n",
       "      <th>1</th>\n",
       "      <td>1</td>\n",
       "      <td>1672.0</td>\n",
       "    </tr>\n",
       "    <tr>\n",
       "      <th>2</th>\n",
       "      <td>1</td>\n",
       "      <td>1324.0</td>\n",
       "    </tr>\n",
       "    <tr>\n",
       "      <th>3</th>\n",
       "      <td>1</td>\n",
       "      <td>1292.0</td>\n",
       "    </tr>\n",
       "    <tr>\n",
       "      <th>4</th>\n",
       "      <td>1</td>\n",
       "      <td>1574.0</td>\n",
       "    </tr>\n",
       "    <tr>\n",
       "      <th>5</th>\n",
       "      <td>1</td>\n",
       "      <td>1523.0</td>\n",
       "    </tr>\n",
       "    <tr>\n",
       "      <th>6</th>\n",
       "      <td>1</td>\n",
       "      <td>1837.0</td>\n",
       "    </tr>\n",
       "    <tr>\n",
       "      <th>7</th>\n",
       "      <td>1</td>\n",
       "      <td>1584.0</td>\n",
       "    </tr>\n",
       "    <tr>\n",
       "      <th>8</th>\n",
       "      <td>1</td>\n",
       "      <td>800.0</td>\n",
       "    </tr>\n",
       "    <tr>\n",
       "      <th>9</th>\n",
       "      <td>1</td>\n",
       "      <td>1670.0</td>\n",
       "    </tr>\n",
       "    <tr>\n",
       "      <th>10</th>\n",
       "      <td>2</td>\n",
       "      <td>506.0</td>\n",
       "    </tr>\n",
       "    <tr>\n",
       "      <th>11</th>\n",
       "      <td>2</td>\n",
       "      <td>514.0</td>\n",
       "    </tr>\n",
       "    <tr>\n",
       "      <th>12</th>\n",
       "      <td>2</td>\n",
       "      <td>425.0</td>\n",
       "    </tr>\n",
       "    <tr>\n",
       "      <th>13</th>\n",
       "      <td>2</td>\n",
       "      <td>499.0</td>\n",
       "    </tr>\n",
       "    <tr>\n",
       "      <th>14</th>\n",
       "      <td>2</td>\n",
       "      <td>525.0</td>\n",
       "    </tr>\n",
       "    <tr>\n",
       "      <th>15</th>\n",
       "      <td>2</td>\n",
       "      <td>498.0</td>\n",
       "    </tr>\n",
       "    <tr>\n",
       "      <th>16</th>\n",
       "      <td>2</td>\n",
       "      <td>461.0</td>\n",
       "    </tr>\n",
       "    <tr>\n",
       "      <th>17</th>\n",
       "      <td>2</td>\n",
       "      <td>471.0</td>\n",
       "    </tr>\n",
       "    <tr>\n",
       "      <th>18</th>\n",
       "      <td>2</td>\n",
       "      <td>520.0</td>\n",
       "    </tr>\n",
       "    <tr>\n",
       "      <th>19</th>\n",
       "      <td>2</td>\n",
       "      <td>251.0</td>\n",
       "    </tr>\n",
       "    <tr>\n",
       "      <th>20</th>\n",
       "      <td>3</td>\n",
       "      <td>527.0</td>\n",
       "    </tr>\n",
       "    <tr>\n",
       "      <th>21</th>\n",
       "      <td>3</td>\n",
       "      <td>525.0</td>\n",
       "    </tr>\n",
       "    <tr>\n",
       "      <th>22</th>\n",
       "      <td>3</td>\n",
       "      <td>466.0</td>\n",
       "    </tr>\n",
       "    <tr>\n",
       "      <th>23</th>\n",
       "      <td>3</td>\n",
       "      <td>643.0</td>\n",
       "    </tr>\n",
       "    <tr>\n",
       "      <th>24</th>\n",
       "      <td>3</td>\n",
       "      <td>514.0</td>\n",
       "    </tr>\n",
       "    <tr>\n",
       "      <th>25</th>\n",
       "      <td>3</td>\n",
       "      <td>570.0</td>\n",
       "    </tr>\n",
       "    <tr>\n",
       "      <th>26</th>\n",
       "      <td>3</td>\n",
       "      <td>489.0</td>\n",
       "    </tr>\n",
       "    <tr>\n",
       "      <th>27</th>\n",
       "      <td>3</td>\n",
       "      <td>577.0</td>\n",
       "    </tr>\n",
       "    <tr>\n",
       "      <th>28</th>\n",
       "      <td>3</td>\n",
       "      <td>581.0</td>\n",
       "    </tr>\n",
       "    <tr>\n",
       "      <th>29</th>\n",
       "      <td>3</td>\n",
       "      <td>517.0</td>\n",
       "    </tr>\n",
       "  </tbody>\n",
       "</table>\n",
       "</div>"
      ],
      "text/plain": [
       "   Glomerulus  Total outgoing synapses\n",
       "0           1                   1854.0\n",
       "1           1                   1672.0\n",
       "2           1                   1324.0\n",
       "3           1                   1292.0\n",
       "4           1                   1574.0\n",
       "5           1                   1523.0\n",
       "6           1                   1837.0\n",
       "7           1                   1584.0\n",
       "8           1                    800.0\n",
       "9           1                   1670.0\n",
       "10          2                    506.0\n",
       "11          2                    514.0\n",
       "12          2                    425.0\n",
       "13          2                    499.0\n",
       "14          2                    525.0\n",
       "15          2                    498.0\n",
       "16          2                    461.0\n",
       "17          2                    471.0\n",
       "18          2                    520.0\n",
       "19          2                    251.0\n",
       "20          3                    527.0\n",
       "21          3                    525.0\n",
       "22          3                    466.0\n",
       "23          3                    643.0\n",
       "24          3                    514.0\n",
       "25          3                    570.0\n",
       "26          3                    489.0\n",
       "27          3                    577.0\n",
       "28          3                    581.0\n",
       "29          3                    517.0"
      ]
     },
     "execution_count": 5,
     "metadata": {},
     "output_type": "execute_result"
    }
   ],
   "source": [
    "#make dataframe\n",
    "\n",
    "data_dict = {\"1\": md1_total_OSN_synapses_all, \"2\": md2_total_OSN_synapses_all, \"3\": md3_total_OSN_synapses_all}\n",
    "pre_df = {\"Glomerulus\": [], \"Total outgoing synapses\": []}\n",
    "for glom, dists in data_dict.items():\n",
    "    glom_list = [glom,]*len(dists)\n",
    "    pre_df[\"Glomerulus\"].extend(glom_list)    \n",
    "    pre_df[\"Total outgoing synapses\"].extend(dists)\n",
    "\n",
    "df = pd.DataFrame.from_dict(pre_df)\n",
    "df"
   ]
  },
  {
   "cell_type": "code",
   "execution_count": 6,
   "id": "3b006533",
   "metadata": {},
   "outputs": [],
   "source": [
    "from seaborn.categorical import _ViolinPlotter\n",
    "class MyVPlot(_ViolinPlotter):\n",
    "    def draw_quartiles(self, ax, data, support, density, center, split=False, color='k'):\n",
    "        \"\"\"Draw the quartiles as lines at width of density.\"\"\"\n",
    "        q50 = np.mean(data)\n",
    "        self.draw_to_density(ax, center, q50, support, density, split,\n",
    "                             linewidth=self.linewidth, color=color)\n",
    "\n",
    "def my_violinplot2(x=None, y=None, hue=None, data=None, order=None, hue_order=None,\n",
    "                  bw=\"scott\", cut=0, scale=\"area\", scale_hue=True, gridsize=100,\n",
    "                  width=.8, inner=\"quartiles\", split=False, dodge=True, orient=None,\n",
    "                  linewidth=None, color=None, palette=None, saturation=.75,alpha=1,\n",
    "                  ax=None, edgecolor=None, **kwargs):\n",
    "\n",
    "    plotter = MyVPlot(x, y, hue, data, order, hue_order,\n",
    "                      bw, cut, scale, scale_hue, gridsize,\n",
    "                      width, inner, split, dodge, orient, linewidth,\n",
    "                      color, palette, saturation)\n",
    "    if ax is None:\n",
    "        ax = plt.gca()\n",
    "\n",
    "    plotter.plot(ax)\n",
    "    # change outlines\n",
    "    colors=[\"violet\", \"#0000FF\", 'mediumspringgreen']\n",
    "    for idx, violin in enumerate(ax.collections):\n",
    "        violin.set_edgecolor(colors[idx])\n",
    "    for l in ax.lines:\n",
    "        l.set_linestyle('-')\n",
    "        l.set_color('k')\n",
    "    return ax"
   ]
  },
  {
   "cell_type": "code",
   "execution_count": 7,
   "id": "8639e979",
   "metadata": {},
   "outputs": [
    {
     "name": "stderr",
     "output_type": "stream",
     "text": [
      "findfont: Font family ['Liberation Sans'] not found. Falling back to DejaVu Sans.\n"
     ]
    },
    {
     "data": {
      "image/png": "[encoded data removed]",
      "text/plain": [
       "<Figure size 432x288 with 1 Axes>"
      ]
     },
     "metadata": {
      "needs_background": "light"
     },
     "output_type": "display_data"
    }
   ],
   "source": [
    "x = \"Glomerulus\"\n",
    "y = \"Total outgoing synapses\"\n",
    "order = ['1', '2', '3']\n",
    "ax = my_violinplot2(data=df, x=x, y=y, order=order, color=\"1\")\n",
    "ax = sns.stripplot(data=df, x=x, y=y, order=order, palette=[\"violet\", \"#0000FF\", \"mediumspringgreen\"])\n",
    "ax.set_xlabel('Glomerulus', size=12, fontname=\"Liberation Sans\")\n",
    "ax.set_ylabel('Total # of presynaptic sites', size=12, fontname=\"Liberation Sans\")\n",
    "ax.set_aspect(0.003)\n",
    "plt.ylim(0,1900)\n",
    "plt.tick_params(axis='x', which='both', bottom=False, top=False)\n",
    "plt.tick_params(axis='y', which='both', left=True, right=False)\n",
    "sns.despine(fig=None, ax=None, top=True, right=True, left=False, bottom=True, offset=None, trim=False)\n",
    "\n",
    "plt.savefig('../svg/outgoing_synapses.svg', format=\"svg\")\n",
    "plt.show()"
   ]
  },
  {
   "cell_type": "code",
   "execution_count": 8,
   "id": "4ecb6f96",
   "metadata": {},
   "outputs": [
    {
     "name": "stdout",
     "output_type": "stream",
     "text": [
      "KruskalResult(statistic=22.007211217449353, pvalue=1.6641589426311255e-05)\n"
     ]
    }
   ],
   "source": [
    "kruskal=stats.kruskal(md1_total_OSN_synapses_all, md2_total_OSN_synapses_all, md3_total_OSN_synapses_all)\n",
    "print(kruskal)"
   ]
  },
  {
   "cell_type": "code",
   "execution_count": 9,
   "id": "5729313a",
   "metadata": {},
   "outputs": [
    {
     "data": {
      "text/html": [
       "<div>\n",
       "<style scoped>\n",
       "    .dataframe tbody tr th:only-of-type {\n",
       "        vertical-align: middle;\n",
       "    }\n",
       "\n",
       "    .dataframe tbody tr th {\n",
       "        vertical-align: top;\n",
       "    }\n",
       "\n",
       "    .dataframe thead th {\n",
       "        text-align: right;\n",
       "    }\n",
       "</style>\n",
       "<table border=\"1\" class=\"dataframe\">\n",
       "  <thead>\n",
       "    <tr style=\"text-align: right;\">\n",
       "      <th></th>\n",
       "      <th>1</th>\n",
       "      <th>2</th>\n",
       "      <th>3</th>\n",
       "    </tr>\n",
       "  </thead>\n",
       "  <tbody>\n",
       "    <tr>\n",
       "      <th>1</th>\n",
       "      <td>1.000000</td>\n",
       "      <td>0.000011</td>\n",
       "      <td>0.008156</td>\n",
       "    </tr>\n",
       "    <tr>\n",
       "      <th>2</th>\n",
       "      <td>0.000011</td>\n",
       "      <td>1.000000</td>\n",
       "      <td>0.311872</td>\n",
       "    </tr>\n",
       "    <tr>\n",
       "      <th>3</th>\n",
       "      <td>0.008156</td>\n",
       "      <td>0.311872</td>\n",
       "      <td>1.000000</td>\n",
       "    </tr>\n",
       "  </tbody>\n",
       "</table>\n",
       "</div>"
      ],
      "text/plain": [
       "          1         2         3\n",
       "1  1.000000  0.000011  0.008156\n",
       "2  0.000011  1.000000  0.311872\n",
       "3  0.008156  0.311872  1.000000"
      ]
     },
     "execution_count": 9,
     "metadata": {},
     "output_type": "execute_result"
    }
   ],
   "source": [
    "sp.posthoc_dunn([md1_total_OSN_synapses_all, md2_total_OSN_synapses_all, md3_total_OSN_synapses_all], p_adjust = 'bonferroni')"
   ]
  },
  {
   "cell_type": "code",
   "execution_count": null,
   "id": "33f8c7b8",
   "metadata": {},
   "outputs": [],
   "source": []
  }
 ],
 "metadata": {
  "kernelspec": {
   "display_name": "Python 3 (ipykernel)",
   "language": "python",
   "name": "python3"
  },
  "language_info": {
   "codemirror_mode": {
    "name": "ipython",
    "version": 3
   },
   "file_extension": ".py",
   "mimetype": "text/x-python",
   "name": "python",
   "nbconvert_exporter": "python",
   "pygments_lexer": "ipython3",
   "version": "3.9.10"
  }
 },
 "nbformat": 4,
 "nbformat_minor": 5
}
