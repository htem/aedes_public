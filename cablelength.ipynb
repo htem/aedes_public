{
 "cells": [
  {
   "cell_type": "code",
   "execution_count": 1,
   "metadata": {},
   "outputs": [
    {
     "name": "stderr",
     "output_type": "stream",
     "text": [
      "INFO  : Global CATMAID instance set. Caching is ON. (pymaid)\n"
     ]
    }
   ],
   "source": [
    "import numpy as np\n",
    "import matplotlib.pyplot as plt\n",
    "import pandas as pd\n",
    "import scipy.stats as stats\n",
    "import pymaid\n",
    "import navis\n",
    "import seaborn as sns\n",
    "from statannot import add_stat_annotation\n",
    "\n",
    "#connect your catmaid instance\n",
    "instance=pymaid.CatmaidInstance('https://radagast.hms.harvard.edu/catmaidaedes',\"\")"
   ]
  },
  {
   "cell_type": "code",
   "execution_count": 2,
   "metadata": {},
   "outputs": [
    {
     "data": {
      "application/vnd.jupyter.widget-view+json": {
       "model_id": "caee6a3cd2a74c0680da74bd5a3b566a",
       "version_major": 2,
       "version_minor": 0
      },
      "text/plain": [
       "Fetch neurons:   0%|          | 0/10 [00:00<?, ?it/s]"
      ]
     },
     "metadata": {},
     "output_type": "display_data"
    },
    {
     "data": {
      "application/vnd.jupyter.widget-view+json": {
       "model_id": "fe627c76f3fb4b47ad156fd2dd3e68a4",
       "version_major": 2,
       "version_minor": 0
      },
      "text/plain": [
       "Make nrn:   0%|          | 0/10 [00:00<?, ?it/s]"
      ]
     },
     "metadata": {},
     "output_type": "display_data"
    },
    {
     "name": "stdout",
     "output_type": "stream",
     "text": [
      "[648.5470625, 516.87840625, 645.1099375, 534.275375, 619.301625, 536.363625, 477.346125, 622.254875, 366.482375, 722.904375]\n"
     ]
    }
   ],
   "source": [
    "#fetch MD1 neurons\n",
    "celltype = pymaid.get_skids_by_annotation(['sensory neuron', 'innervates MD1', 'left palp nerve', 'PSPs done'], allow_partial = False, intersect = True)\n",
    "neurons = pymaid.get_neuron(celltype)\n",
    "\n",
    "#loop through all the neurons and append cable length to a list\n",
    "MD1=[]\n",
    "for n in neurons:\n",
    "\tcablelength=n.cable_length\n",
    "\tMD1.append(cablelength)\n",
    "int=1000\n",
    "MD1=[x/int for x in MD1]\n",
    "print(MD1)"
   ]
  },
  {
   "cell_type": "code",
   "execution_count": 3,
   "metadata": {},
   "outputs": [
    {
     "name": "stderr",
     "output_type": "stream",
     "text": [
      "INFO  : Cached data used. Use `pymaid.clear_cache()` to clear. (pymaid)\n"
     ]
    },
    {
     "data": {
      "application/vnd.jupyter.widget-view+json": {
       "model_id": "c9680d19fa474a819dce4694ae2d4fc4",
       "version_major": 2,
       "version_minor": 0
      },
      "text/plain": [
       "Fetch neurons:   0%|          | 0/10 [00:00<?, ?it/s]"
      ]
     },
     "metadata": {},
     "output_type": "display_data"
    },
    {
     "data": {
      "application/vnd.jupyter.widget-view+json": {
       "model_id": "5a8673e723c8431cb1eb314ea80c85d1",
       "version_major": 2,
       "version_minor": 0
      },
      "text/plain": [
       "Make nrn:   0%|          | 0/10 [00:00<?, ?it/s]"
      ]
     },
     "metadata": {},
     "output_type": "display_data"
    },
    {
     "name": "stdout",
     "output_type": "stream",
     "text": [
      "[297.5906875, 277.9376875, 254.93265625, 263.1436875, 280.22009375, 237.392125, 210.45590625, 271.05221875, 270.22446875, 251.13403125]\n"
     ]
    }
   ],
   "source": [
    "#fetch MD2 neurons\n",
    "celltype = pymaid.get_skids_by_annotation(['sensory neuron', 'innervates MD2', 'left palp nerve', 'PSPs done'], allow_partial = False, intersect = True)\n",
    "neurons = pymaid.get_neuron(celltype)\n",
    "\n",
    "#loop through all the neurons and append cable length to a list\n",
    "MD2=[]\n",
    "for n in neurons:\n",
    "\tcablelength=n.cable_length\n",
    "\tMD2.append(cablelength)\n",
    "MD2=[x/int for x in MD2]\n",
    "print(MD2)\n"
   ]
  },
  {
   "cell_type": "code",
   "execution_count": 4,
   "metadata": {},
   "outputs": [
    {
     "name": "stderr",
     "output_type": "stream",
     "text": [
      "INFO  : Cached data used. Use `pymaid.clear_cache()` to clear. (pymaid)\n"
     ]
    },
    {
     "data": {
      "application/vnd.jupyter.widget-view+json": {
       "model_id": "2bcf5ace19504002b92df14c9b31d8af",
       "version_major": 2,
       "version_minor": 0
      },
      "text/plain": [
       "Fetch neurons:   0%|          | 0/10 [00:00<?, ?it/s]"
      ]
     },
     "metadata": {},
     "output_type": "display_data"
    },
    {
     "data": {
      "application/vnd.jupyter.widget-view+json": {
       "model_id": "afda0ab3af6b4a9296c0e834b0e73b90",
       "version_major": 2,
       "version_minor": 0
      },
      "text/plain": [
       "Make nrn:   0%|          | 0/10 [00:00<?, ?it/s]"
      ]
     },
     "metadata": {},
     "output_type": "display_data"
    },
    {
     "name": "stdout",
     "output_type": "stream",
     "text": [
      "[251.515609375, 230.697125, 236.4140625, 281.8871875, 219.927296875, 242.8990625, 194.83296875, 223.904828125, 231.768296875, 205.486375]\n"
     ]
    }
   ],
   "source": [
    "#fetch MD3 neurons\n",
    "celltype = pymaid.get_skids_by_annotation(['sensory neuron', 'innervates MD3', 'left palp nerve', 'PSPs done'], allow_partial = False, intersect = True)\n",
    "neurons = pymaid.get_neuron(celltype)\n",
    "\n",
    "#loop through all the neurons and append cable length to a list\n",
    "MD3=[]\n",
    "for n in neurons:\n",
    "\tcablelength=n.cable_length\n",
    "\tMD3.append(cablelength)\n",
    "MD3=[x/int for x in MD3]\n",
    "print(MD3)\n"
   ]
  },
  {
   "cell_type": "code",
   "execution_count": 5,
   "metadata": {},
   "outputs": [
    {
     "data": {
      "text/plain": [
       "F_onewayResult(statistic=88.47848330277074, pvalue=1.3952128561172346e-12)"
      ]
     },
     "execution_count": 5,
     "metadata": {},
     "output_type": "execute_result"
    }
   ],
   "source": [
    "stats.f_oneway(MD1, MD2, MD3)"
   ]
  },
  {
   "cell_type": "code",
   "execution_count": 6,
   "metadata": {},
   "outputs": [
    {
     "name": "stdout",
     "output_type": "stream",
     "text": [
      "KruskalResult(statistic=21.834838709677427, pvalue=1.8139487705309684e-05)\n"
     ]
    }
   ],
   "source": [
    "kruskal=stats.kruskal(MD1, MD2, MD3)\n",
    "print(kruskal)"
   ]
  },
  {
   "cell_type": "code",
   "execution_count": 7,
   "metadata": {},
   "outputs": [],
   "source": [
    "from seaborn.categorical import _ViolinPlotter\n",
    "class MyVPlot(_ViolinPlotter):\n",
    "    def draw_quartiles(self, ax, data, support, density, center, split=False, color='k'):\n",
    "        \"\"\"Draw the quartiles as lines at width of density.\"\"\"\n",
    "        q50 = np.mean(data)\n",
    "        self.draw_to_density(ax, center, q50, support, density, split,\n",
    "                             linewidth=self.linewidth, color=color)\n",
    "\n",
    "def my_violinplot2(x=None, y=None, hue=None, data=None, order=None, hue_order=None,\n",
    "                  bw=\"scott\", cut=0, scale=\"area\", scale_hue=True, gridsize=100,\n",
    "                  width=.8, inner=\"quartiles\", split=False, dodge=True, orient=None,\n",
    "                  linewidth=None, color=None, palette=None, saturation=.75,alpha=1,\n",
    "                  ax=None, edgecolor=None, **kwargs):\n",
    "\n",
    "    plotter = MyVPlot(x, y, hue, data, order, hue_order,\n",
    "                      bw, cut, scale, scale_hue, gridsize,\n",
    "                      width, inner, split, dodge, orient, linewidth,\n",
    "                      color, palette, saturation)\n",
    "    if ax is None:\n",
    "        ax = plt.gca()\n",
    "\n",
    "    plotter.plot(ax)\n",
    "    # change outlines\n",
    "    colors=[\"violet\", \"#0000FF\", 'mediumspringgreen']\n",
    "    for idx, violin in enumerate(ax.collections):\n",
    "        violin.set_edgecolor(colors[idx])\n",
    "    for l in ax.lines:\n",
    "        l.set_linestyle('-')\n",
    "        l.set_color('k')\n",
    "    return ax"
   ]
  },
  {
   "cell_type": "code",
   "execution_count": 9,
   "metadata": {},
   "outputs": [
    {
     "data": {
      "text/html": [
       "<div>\n",
       "<style scoped>\n",
       "    .dataframe tbody tr th:only-of-type {\n",
       "        vertical-align: middle;\n",
       "    }\n",
       "\n",
       "    .dataframe tbody tr th {\n",
       "        vertical-align: top;\n",
       "    }\n",
       "\n",
       "    .dataframe thead th {\n",
       "        text-align: right;\n",
       "    }\n",
       "</style>\n",
       "<table border=\"1\" class=\"dataframe\">\n",
       "  <thead>\n",
       "    <tr style=\"text-align: right;\">\n",
       "      <th></th>\n",
       "      <th>Glomerulus</th>\n",
       "      <th>OSN cable length (µm)</th>\n",
       "    </tr>\n",
       "  </thead>\n",
       "  <tbody>\n",
       "    <tr>\n",
       "      <th>0</th>\n",
       "      <td>1</td>\n",
       "      <td>648.547063</td>\n",
       "    </tr>\n",
       "    <tr>\n",
       "      <th>1</th>\n",
       "      <td>1</td>\n",
       "      <td>516.878406</td>\n",
       "    </tr>\n",
       "    <tr>\n",
       "      <th>2</th>\n",
       "      <td>1</td>\n",
       "      <td>645.109938</td>\n",
       "    </tr>\n",
       "    <tr>\n",
       "      <th>3</th>\n",
       "      <td>1</td>\n",
       "      <td>534.275375</td>\n",
       "    </tr>\n",
       "    <tr>\n",
       "      <th>4</th>\n",
       "      <td>1</td>\n",
       "      <td>619.301625</td>\n",
       "    </tr>\n",
       "    <tr>\n",
       "      <th>5</th>\n",
       "      <td>1</td>\n",
       "      <td>536.363625</td>\n",
       "    </tr>\n",
       "    <tr>\n",
       "      <th>6</th>\n",
       "      <td>1</td>\n",
       "      <td>477.346125</td>\n",
       "    </tr>\n",
       "    <tr>\n",
       "      <th>7</th>\n",
       "      <td>1</td>\n",
       "      <td>622.254875</td>\n",
       "    </tr>\n",
       "    <tr>\n",
       "      <th>8</th>\n",
       "      <td>1</td>\n",
       "      <td>366.482375</td>\n",
       "    </tr>\n",
       "    <tr>\n",
       "      <th>9</th>\n",
       "      <td>1</td>\n",
       "      <td>722.904375</td>\n",
       "    </tr>\n",
       "    <tr>\n",
       "      <th>10</th>\n",
       "      <td>2</td>\n",
       "      <td>297.590688</td>\n",
       "    </tr>\n",
       "    <tr>\n",
       "      <th>11</th>\n",
       "      <td>2</td>\n",
       "      <td>277.937687</td>\n",
       "    </tr>\n",
       "    <tr>\n",
       "      <th>12</th>\n",
       "      <td>2</td>\n",
       "      <td>254.932656</td>\n",
       "    </tr>\n",
       "    <tr>\n",
       "      <th>13</th>\n",
       "      <td>2</td>\n",
       "      <td>263.143687</td>\n",
       "    </tr>\n",
       "    <tr>\n",
       "      <th>14</th>\n",
       "      <td>2</td>\n",
       "      <td>280.220094</td>\n",
       "    </tr>\n",
       "    <tr>\n",
       "      <th>15</th>\n",
       "      <td>2</td>\n",
       "      <td>237.392125</td>\n",
       "    </tr>\n",
       "    <tr>\n",
       "      <th>16</th>\n",
       "      <td>2</td>\n",
       "      <td>210.455906</td>\n",
       "    </tr>\n",
       "    <tr>\n",
       "      <th>17</th>\n",
       "      <td>2</td>\n",
       "      <td>271.052219</td>\n",
       "    </tr>\n",
       "    <tr>\n",
       "      <th>18</th>\n",
       "      <td>2</td>\n",
       "      <td>270.224469</td>\n",
       "    </tr>\n",
       "    <tr>\n",
       "      <th>19</th>\n",
       "      <td>2</td>\n",
       "      <td>251.134031</td>\n",
       "    </tr>\n",
       "    <tr>\n",
       "      <th>20</th>\n",
       "      <td>3</td>\n",
       "      <td>251.515609</td>\n",
       "    </tr>\n",
       "    <tr>\n",
       "      <th>21</th>\n",
       "      <td>3</td>\n",
       "      <td>230.697125</td>\n",
       "    </tr>\n",
       "    <tr>\n",
       "      <th>22</th>\n",
       "      <td>3</td>\n",
       "      <td>236.414062</td>\n",
       "    </tr>\n",
       "    <tr>\n",
       "      <th>23</th>\n",
       "      <td>3</td>\n",
       "      <td>281.887187</td>\n",
       "    </tr>\n",
       "    <tr>\n",
       "      <th>24</th>\n",
       "      <td>3</td>\n",
       "      <td>219.927297</td>\n",
       "    </tr>\n",
       "    <tr>\n",
       "      <th>25</th>\n",
       "      <td>3</td>\n",
       "      <td>242.899063</td>\n",
       "    </tr>\n",
       "    <tr>\n",
       "      <th>26</th>\n",
       "      <td>3</td>\n",
       "      <td>194.832969</td>\n",
       "    </tr>\n",
       "    <tr>\n",
       "      <th>27</th>\n",
       "      <td>3</td>\n",
       "      <td>223.904828</td>\n",
       "    </tr>\n",
       "    <tr>\n",
       "      <th>28</th>\n",
       "      <td>3</td>\n",
       "      <td>231.768297</td>\n",
       "    </tr>\n",
       "    <tr>\n",
       "      <th>29</th>\n",
       "      <td>3</td>\n",
       "      <td>205.486375</td>\n",
       "    </tr>\n",
       "  </tbody>\n",
       "</table>\n",
       "</div>"
      ],
      "text/plain": [
       "   Glomerulus  OSN cable length (µm)\n",
       "0           1             648.547063\n",
       "1           1             516.878406\n",
       "2           1             645.109938\n",
       "3           1             534.275375\n",
       "4           1             619.301625\n",
       "5           1             536.363625\n",
       "6           1             477.346125\n",
       "7           1             622.254875\n",
       "8           1             366.482375\n",
       "9           1             722.904375\n",
       "10          2             297.590688\n",
       "11          2             277.937687\n",
       "12          2             254.932656\n",
       "13          2             263.143687\n",
       "14          2             280.220094\n",
       "15          2             237.392125\n",
       "16          2             210.455906\n",
       "17          2             271.052219\n",
       "18          2             270.224469\n",
       "19          2             251.134031\n",
       "20          3             251.515609\n",
       "21          3             230.697125\n",
       "22          3             236.414062\n",
       "23          3             281.887187\n",
       "24          3             219.927297\n",
       "25          3             242.899063\n",
       "26          3             194.832969\n",
       "27          3             223.904828\n",
       "28          3             231.768297\n",
       "29          3             205.486375"
      ]
     },
     "execution_count": 9,
     "metadata": {},
     "output_type": "execute_result"
    }
   ],
   "source": [
    "#make dataframe\n",
    "\n",
    "data_dict = {\"1\": MD1, \"2\": MD2, \"3\": MD3}\n",
    "pre_df = {\"Glomerulus\": [], \"OSN cable length (µm)\": []}\n",
    "for glom, dists in data_dict.items():\n",
    "    glom_list = [glom,]*len(dists)\n",
    "    pre_df[\"Glomerulus\"].extend(glom_list)    \n",
    "    pre_df[\"OSN cable length (µm)\"].extend(dists)\n",
    "\n",
    "df = pd.DataFrame.from_dict(pre_df)\n",
    "df"
   ]
  },
  {
   "cell_type": "code",
   "execution_count": 10,
   "metadata": {},
   "outputs": [
    {
     "name": "stderr",
     "output_type": "stream",
     "text": [
      "/tmp/ipykernel_12479/3806385394.py:6: FutureWarning: Passing `palette` without assigning `hue` is deprecated.\n",
      "  ax = sns.stripplot(data=df, x=x, y=y, order=order, palette=[\"violet\", \"#0000FF\", \"mediumspringgreen\"])\n"
     ]
    },
    {
     "name": "stdout",
     "output_type": "stream",
     "text": [
      "1 v.s. 2: Mann-Whitney-Wilcoxon test two-sided with Bonferroni correction, P_val=5.480e-04 U_stat=1.000e+02\n",
      "2 v.s. 3: Mann-Whitney-Wilcoxon test two-sided with Bonferroni correction, P_val=6.340e-02 U_stat=8.100e+01\n",
      "1 v.s. 3: Mann-Whitney-Wilcoxon test two-sided with Bonferroni correction, P_val=5.480e-04 U_stat=1.000e+02\n"
     ]
    },
    {
     "data": {
      "image/png": "[encoded data removed]",
      "text/plain": [
       "<Figure size 640x480 with 1 Axes>"
      ]
     },
     "metadata": {},
     "output_type": "display_data"
    }
   ],
   "source": [
    "#make plot with annotations, from dataframe\n",
    "x = \"Glomerulus\"\n",
    "y = \"OSN cable length (µm)\"\n",
    "order = ['1', '2', '3']\n",
    "ax = my_violinplot2(data=df, x=x, y=y, order=order, color=\"1\")\n",
    "ax = sns.stripplot(data=df, x=x, y=y, order=order, palette=[\"violet\", \"#0000FF\", \"mediumspringgreen\"])\n",
    "ax.set_xlabel('Glomerulus', size=12, fontname=\"Liberation Sans\")\n",
    "ax.set_ylabel('OSN cable length (µm)', size=12, fontname=\"Liberation Sans\")\n",
    "plt.xticks(fontsize=11, fontname=\"Liberation Sans\")\n",
    "plt.yticks(fontsize=11, fontname=\"Liberation Sans\")\n",
    "ax.set_aspect(0.007)\n",
    "plt.tick_params(axis='x', which='both', bottom=False, top=False)\n",
    "plt.tick_params(axis='y', which='both', left=True, right=False)\n",
    "sns.despine(fig=None, ax=None, top=True, right=True, left=False, bottom=True, offset=None, trim=False)\n",
    "add_stat_annotation(ax, data=df, x=x, y=y, order=order,\n",
    "                    box_pairs=[(\"1\", \"2\"), (\"1\", \"3\"), (\"2\", \"3\")],\n",
    "                    test='Mann-Whitney', text_format='simple', loc='outside', verbose=2)\n",
    "#plt.savefig('cablelength.svg', format=\"svg\")\n",
    "plt.show()\n"
   ]
  }
 ],
 "metadata": {
  "kernelspec": {
   "display_name": "Python 3.9.15 ('wuzzy')",
   "language": "python",
   "name": "python3"
  },
  "language_info": {
   "codemirror_mode": {
    "name": "ipython",
    "version": 3
   },
   "file_extension": ".py",
   "mimetype": "text/x-python",
   "name": "python",
   "nbconvert_exporter": "python",
   "pygments_lexer": "ipython3",
   "version": "3.9.15"
  },
  "vscode": {
   "interpreter": {
    "hash": "bbc61e08eb74b41ad38e0e06b5d47af793336d408360cccbd7d9a84e8f2bb674"
   }
  }
 },
 "nbformat": 4,
 "nbformat_minor": 2
}
