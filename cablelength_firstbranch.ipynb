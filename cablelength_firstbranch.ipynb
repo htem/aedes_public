{
 "cells": [
  {
   "cell_type": "code",
   "execution_count": 1,
   "metadata": {},
   "outputs": [],
   "source": [
    "import numpy as np\n",
    "import matplotlib.pyplot as plt\n",
    "import pandas as pd\n",
    "import scipy.stats as stats\n",
    "import seaborn as sns\n",
    "import pymaid\n",
    "import navis\n",
    "from statannot import add_stat_annotation\n",
    "import scikit_posthocs as sp"
   ]
  },
  {
   "cell_type": "code",
   "execution_count": 2,
   "metadata": {},
   "outputs": [
    {
     "name": "stderr",
     "output_type": "stream",
     "text": [
      "INFO  : Global CATMAID instance set. Caching is ON. (pymaid)\n"
     ]
    }
   ],
   "source": [
    "#connect your catmaid instance\n",
    "instance=pymaid.CatmaidInstance('https://radagast.hms.harvard.edu/catmaidaedes',\"\")"
   ]
  },
  {
   "cell_type": "code",
   "execution_count": 3,
   "metadata": {},
   "outputs": [],
   "source": [
    "df= pd.DataFrame(columns=['glomerulus','id', 'cable length in glom'])\n",
    "df\n",
    "integer=1000"
   ]
  },
  {
   "cell_type": "code",
   "execution_count": 4,
   "metadata": {},
   "outputs": [
    {
     "data": {
      "application/vnd.jupyter.widget-view+json": {
       "model_id": "db341c30e44c41828bc7a24cf356f1c4",
       "version_major": 2,
       "version_minor": 0
      },
      "text/plain": [
       "Fetch neurons:   0%|          | 0/10 [00:00<?, ?it/s]"
      ]
     },
     "metadata": {},
     "output_type": "display_data"
    },
    {
     "data": {
      "application/vnd.jupyter.widget-view+json": {
       "model_id": "b4827d4f0844475695e365dd6876ef1a",
       "version_major": 2,
       "version_minor": 0
      },
      "text/plain": [
       "Make nrn:   0%|          | 0/10 [00:00<?, ?it/s]"
      ]
     },
     "metadata": {},
     "output_type": "display_data"
    },
    {
     "name": "stderr",
     "output_type": "stream",
     "text": [
      "INFO  : Cached data used. Use `pymaid.clear_cache()` to clear. (pymaid)\n",
      "INFO  : Cached data used. Use `pymaid.clear_cache()` to clear. (pymaid)\n",
      "INFO  : Cached data used. Use `pymaid.clear_cache()` to clear. (pymaid)\n",
      "INFO  : Cached data used. Use `pymaid.clear_cache()` to clear. (pymaid)\n",
      "INFO  : Cached data used. Use `pymaid.clear_cache()` to clear. (pymaid)\n",
      "INFO  : Cached data used. Use `pymaid.clear_cache()` to clear. (pymaid)\n",
      "INFO  : Cached data used. Use `pymaid.clear_cache()` to clear. (pymaid)\n",
      "INFO  : Cached data used. Use `pymaid.clear_cache()` to clear. (pymaid)\n",
      "INFO  : Cached data used. Use `pymaid.clear_cache()` to clear. (pymaid)\n"
     ]
    }
   ],
   "source": [
    "#fetch MD1 neurons\n",
    "MD1OSNs = pymaid.get_skids_by_annotation(['innervates MD1', 'left palp nerve', 'sensory neuron', 'PSPs done'], allow_partial = False, intersect = True)\n",
    "MD1neurons = pymaid.get_neuron(MD1OSNs)\n",
    "\n",
    "#loop through all the neurons and append cable length to a dataframe\n",
    "for n in MD1neurons:\n",
    "    skeletonid=n.skeleton_id\n",
    "    skelid=int(skeletonid)\n",
    "    labels = pymaid.get_label_list()\n",
    "    neuronlabels=labels[labels.skeleton_id==skelid]\n",
    "    branchpoint=neuronlabels[neuronlabels.tag=='first branch point']\n",
    "\n",
    "    if len(branchpoint) !=1:\n",
    "        print('error, neuron skelid=%i does not have exactly 1 branchpoint tag'% skelid)\n",
    "    else: bpnode=branchpoint.node_id.values[0]\n",
    "\n",
    "    #cut the neuron\n",
    "    dist,prox=navis.cut_skeleton(n, bpnode)\n",
    "    dlength=dist.cable_length\n",
    "    dlength=dlength/integer\n",
    "    #plength=prox.cable_length\n",
    "\n",
    "    #append to dataframe\n",
    "    df=df.append({'glomerulus': '1', 'id':n.id,'cable length in glom':dlength}, ignore_index=True)"
   ]
  },
  {
   "cell_type": "code",
   "execution_count": 5,
   "metadata": {},
   "outputs": [
    {
     "name": "stderr",
     "output_type": "stream",
     "text": [
      "INFO  : Cached data used. Use `pymaid.clear_cache()` to clear. (pymaid)\n"
     ]
    },
    {
     "data": {
      "application/vnd.jupyter.widget-view+json": {
       "model_id": "85d89e589a654886a9913e6fc54a44d5",
       "version_major": 2,
       "version_minor": 0
      },
      "text/plain": [
       "Fetch neurons:   0%|          | 0/45 [00:00<?, ?it/s]"
      ]
     },
     "metadata": {},
     "output_type": "display_data"
    },
    {
     "data": {
      "application/vnd.jupyter.widget-view+json": {
       "model_id": "5453b02b1e7d497284b10ede4bba7e32",
       "version_major": 2,
       "version_minor": 0
      },
      "text/plain": [
       "Make nrn:   0%|          | 0/45 [00:00<?, ?it/s]"
      ]
     },
     "metadata": {},
     "output_type": "display_data"
    },
    {
     "name": "stderr",
     "output_type": "stream",
     "text": [
      "INFO  : Cached data used. Use `pymaid.clear_cache()` to clear. (pymaid)\n",
      "INFO  : Cached data used. Use `pymaid.clear_cache()` to clear. (pymaid)\n",
      "INFO  : Cached data used. Use `pymaid.clear_cache()` to clear. (pymaid)\n",
      "INFO  : Cached data used. Use `pymaid.clear_cache()` to clear. (pymaid)\n",
      "INFO  : Cached data used. Use `pymaid.clear_cache()` to clear. (pymaid)\n",
      "INFO  : Cached data used. Use `pymaid.clear_cache()` to clear. (pymaid)\n",
      "INFO  : Cached data used. Use `pymaid.clear_cache()` to clear. (pymaid)\n",
      "INFO  : Cached data used. Use `pymaid.clear_cache()` to clear. (pymaid)\n",
      "INFO  : Cached data used. Use `pymaid.clear_cache()` to clear. (pymaid)\n",
      "INFO  : Cached data used. Use `pymaid.clear_cache()` to clear. (pymaid)\n",
      "INFO  : Cached data used. Use `pymaid.clear_cache()` to clear. (pymaid)\n",
      "INFO  : Cached data used. Use `pymaid.clear_cache()` to clear. (pymaid)\n",
      "INFO  : Cached data used. Use `pymaid.clear_cache()` to clear. (pymaid)\n",
      "INFO  : Cached data used. Use `pymaid.clear_cache()` to clear. (pymaid)\n",
      "INFO  : Cached data used. Use `pymaid.clear_cache()` to clear. (pymaid)\n",
      "INFO  : Cached data used. Use `pymaid.clear_cache()` to clear. (pymaid)\n",
      "INFO  : Cached data used. Use `pymaid.clear_cache()` to clear. (pymaid)\n",
      "INFO  : Cached data used. Use `pymaid.clear_cache()` to clear. (pymaid)\n",
      "INFO  : Cached data used. Use `pymaid.clear_cache()` to clear. (pymaid)\n",
      "INFO  : Cached data used. Use `pymaid.clear_cache()` to clear. (pymaid)\n",
      "INFO  : Cached data used. Use `pymaid.clear_cache()` to clear. (pymaid)\n",
      "INFO  : Cached data used. Use `pymaid.clear_cache()` to clear. (pymaid)\n",
      "INFO  : Cached data used. Use `pymaid.clear_cache()` to clear. (pymaid)\n",
      "INFO  : Cached data used. Use `pymaid.clear_cache()` to clear. (pymaid)\n",
      "INFO  : Cached data used. Use `pymaid.clear_cache()` to clear. (pymaid)\n",
      "INFO  : Cached data used. Use `pymaid.clear_cache()` to clear. (pymaid)\n",
      "INFO  : Cached data used. Use `pymaid.clear_cache()` to clear. (pymaid)\n",
      "INFO  : Cached data used. Use `pymaid.clear_cache()` to clear. (pymaid)\n",
      "INFO  : Cached data used. Use `pymaid.clear_cache()` to clear. (pymaid)\n",
      "INFO  : Cached data used. Use `pymaid.clear_cache()` to clear. (pymaid)\n",
      "INFO  : Cached data used. Use `pymaid.clear_cache()` to clear. (pymaid)\n",
      "INFO  : Cached data used. Use `pymaid.clear_cache()` to clear. (pymaid)\n",
      "INFO  : Cached data used. Use `pymaid.clear_cache()` to clear. (pymaid)\n",
      "INFO  : Cached data used. Use `pymaid.clear_cache()` to clear. (pymaid)\n",
      "INFO  : Cached data used. Use `pymaid.clear_cache()` to clear. (pymaid)\n",
      "INFO  : Cached data used. Use `pymaid.clear_cache()` to clear. (pymaid)\n",
      "INFO  : Cached data used. Use `pymaid.clear_cache()` to clear. (pymaid)\n",
      "INFO  : Cached data used. Use `pymaid.clear_cache()` to clear. (pymaid)\n",
      "INFO  : Cached data used. Use `pymaid.clear_cache()` to clear. (pymaid)\n",
      "INFO  : Cached data used. Use `pymaid.clear_cache()` to clear. (pymaid)\n",
      "INFO  : Cached data used. Use `pymaid.clear_cache()` to clear. (pymaid)\n",
      "INFO  : Cached data used. Use `pymaid.clear_cache()` to clear. (pymaid)\n",
      "INFO  : Cached data used. Use `pymaid.clear_cache()` to clear. (pymaid)\n",
      "INFO  : Cached data used. Use `pymaid.clear_cache()` to clear. (pymaid)\n",
      "INFO  : Cached data used. Use `pymaid.clear_cache()` to clear. (pymaid)\n"
     ]
    }
   ],
   "source": [
    "#fetch MD2 neurons\n",
    "MD2OSNs = pymaid.get_skids_by_annotation(['innervates MD2', 'left palp nerve', 'sensory neuron'], allow_partial = False, intersect = True)\n",
    "MD2neurons = pymaid.get_neuron(MD2OSNs)\n",
    "\n",
    "#loop through all the neurons and append cable length to a dataframe\n",
    "for n in MD2neurons:\n",
    "    skeletonid=n.skeleton_id\n",
    "    skelid=int(skeletonid)\n",
    "    labels = pymaid.get_label_list()\n",
    "    neuronlabels=labels[labels.skeleton_id==skelid]\n",
    "    branchpoint=neuronlabels[neuronlabels.tag=='first branch point']\n",
    "\n",
    "    if len(branchpoint) !=1:\n",
    "        print('error, neuron skelid=%i does not have exactly 1 branchpoint tag'% skelid)\n",
    "    else: bpnode=branchpoint.node_id.values[0]\n",
    "\n",
    "    #cut the neuron\n",
    "    dist,prox=navis.cut_skeleton(n, bpnode)\n",
    "    dlength=dist.cable_length\n",
    "    dlength=dlength/integer\n",
    "    #plength=prox.cable_length\n",
    "\n",
    "    #append to dataframe\n",
    "    df=df.append({'glomerulus': '2', 'id':n.id,'cable length in glom':dlength}, ignore_index=True)"
   ]
  },
  {
   "cell_type": "code",
   "execution_count": 6,
   "metadata": {},
   "outputs": [
    {
     "name": "stderr",
     "output_type": "stream",
     "text": [
      "INFO  : Cached data used. Use `pymaid.clear_cache()` to clear. (pymaid)\n"
     ]
    },
    {
     "data": {
      "application/vnd.jupyter.widget-view+json": {
       "model_id": "93fe2ebc7ee64840b48515b2efa58e56",
       "version_major": 2,
       "version_minor": 0
      },
      "text/plain": [
       "Fetch neurons:   0%|          | 0/46 [00:00<?, ?it/s]"
      ]
     },
     "metadata": {},
     "output_type": "display_data"
    },
    {
     "data": {
      "application/vnd.jupyter.widget-view+json": {
       "model_id": "15639aafc63242888dc889b816c810e5",
       "version_major": 2,
       "version_minor": 0
      },
      "text/plain": [
       "Make nrn:   0%|          | 0/46 [00:00<?, ?it/s]"
      ]
     },
     "metadata": {},
     "output_type": "display_data"
    },
    {
     "name": "stderr",
     "output_type": "stream",
     "text": [
      "INFO  : Cached data used. Use `pymaid.clear_cache()` to clear. (pymaid)\n"
     ]
    },
    {
     "name": "stdout",
     "output_type": "stream",
     "text": [
      "8961\n"
     ]
    },
    {
     "name": "stderr",
     "output_type": "stream",
     "text": [
      "INFO  : Cached data used. Use `pymaid.clear_cache()` to clear. (pymaid)\n",
      "INFO  : Cached data used. Use `pymaid.clear_cache()` to clear. (pymaid)\n"
     ]
    },
    {
     "name": "stdout",
     "output_type": "stream",
     "text": [
      "7307\n",
      "14604\n"
     ]
    },
    {
     "name": "stderr",
     "output_type": "stream",
     "text": [
      "INFO  : Cached data used. Use `pymaid.clear_cache()` to clear. (pymaid)\n",
      "INFO  : Cached data used. Use `pymaid.clear_cache()` to clear. (pymaid)\n"
     ]
    },
    {
     "name": "stdout",
     "output_type": "stream",
     "text": [
      "7821\n",
      "7566\n"
     ]
    },
    {
     "name": "stderr",
     "output_type": "stream",
     "text": [
      "INFO  : Cached data used. Use `pymaid.clear_cache()` to clear. (pymaid)\n"
     ]
    },
    {
     "name": "stdout",
     "output_type": "stream",
     "text": [
      "9101\n"
     ]
    },
    {
     "name": "stderr",
     "output_type": "stream",
     "text": [
      "INFO  : Cached data used. Use `pymaid.clear_cache()` to clear. (pymaid)\n"
     ]
    },
    {
     "name": "stdout",
     "output_type": "stream",
     "text": [
      "7313\n"
     ]
    },
    {
     "name": "stderr",
     "output_type": "stream",
     "text": [
      "INFO  : Cached data used. Use `pymaid.clear_cache()` to clear. (pymaid)\n"
     ]
    },
    {
     "name": "stdout",
     "output_type": "stream",
     "text": [
      "7825\n"
     ]
    },
    {
     "name": "stderr",
     "output_type": "stream",
     "text": [
      "INFO  : Cached data used. Use `pymaid.clear_cache()` to clear. (pymaid)\n",
      "INFO  : Cached data used. Use `pymaid.clear_cache()` to clear. (pymaid)\n"
     ]
    },
    {
     "name": "stdout",
     "output_type": "stream",
     "text": [
      "7062\n",
      "7319\n"
     ]
    },
    {
     "name": "stderr",
     "output_type": "stream",
     "text": [
      "INFO  : Cached data used. Use `pymaid.clear_cache()` to clear. (pymaid)\n"
     ]
    },
    {
     "name": "stdout",
     "output_type": "stream",
     "text": [
      "7068\n"
     ]
    },
    {
     "name": "stderr",
     "output_type": "stream",
     "text": [
      "INFO  : Cached data used. Use `pymaid.clear_cache()` to clear. (pymaid)\n"
     ]
    },
    {
     "name": "stdout",
     "output_type": "stream",
     "text": [
      "7965\n"
     ]
    },
    {
     "name": "stderr",
     "output_type": "stream",
     "text": [
      "INFO  : Cached data used. Use `pymaid.clear_cache()` to clear. (pymaid)\n",
      "INFO  : Cached data used. Use `pymaid.clear_cache()` to clear. (pymaid)\n"
     ]
    },
    {
     "name": "stdout",
     "output_type": "stream",
     "text": [
      "7075\n",
      "6948\n"
     ]
    },
    {
     "name": "stderr",
     "output_type": "stream",
     "text": [
      "INFO  : Cached data used. Use `pymaid.clear_cache()` to clear. (pymaid)\n"
     ]
    },
    {
     "name": "stdout",
     "output_type": "stream",
     "text": [
      "6955\n"
     ]
    },
    {
     "name": "stderr",
     "output_type": "stream",
     "text": [
      "INFO  : Cached data used. Use `pymaid.clear_cache()` to clear. (pymaid)\n"
     ]
    },
    {
     "name": "stdout",
     "output_type": "stream",
     "text": [
      "7089\n"
     ]
    },
    {
     "name": "stderr",
     "output_type": "stream",
     "text": [
      "INFO  : Cached data used. Use `pymaid.clear_cache()` to clear. (pymaid)\n"
     ]
    },
    {
     "name": "stdout",
     "output_type": "stream",
     "text": [
      "6962\n"
     ]
    },
    {
     "name": "stderr",
     "output_type": "stream",
     "text": [
      "INFO  : Cached data used. Use `pymaid.clear_cache()` to clear. (pymaid)\n",
      "INFO  : Cached data used. Use `pymaid.clear_cache()` to clear. (pymaid)\n"
     ]
    },
    {
     "name": "stdout",
     "output_type": "stream",
     "text": [
      "7223\n",
      "7230\n"
     ]
    },
    {
     "name": "stderr",
     "output_type": "stream",
     "text": [
      "INFO  : Cached data used. Use `pymaid.clear_cache()` to clear. (pymaid)\n",
      "INFO  : Cached data used. Use `pymaid.clear_cache()` to clear. (pymaid)\n"
     ]
    },
    {
     "name": "stdout",
     "output_type": "stream",
     "text": [
      "7108\n",
      "7238\n"
     ]
    },
    {
     "name": "stderr",
     "output_type": "stream",
     "text": [
      "INFO  : Cached data used. Use `pymaid.clear_cache()` to clear. (pymaid)\n"
     ]
    },
    {
     "name": "stdout",
     "output_type": "stream",
     "text": [
      "7366\n"
     ]
    },
    {
     "name": "stderr",
     "output_type": "stream",
     "text": [
      "INFO  : Cached data used. Use `pymaid.clear_cache()` to clear. (pymaid)\n"
     ]
    },
    {
     "name": "stdout",
     "output_type": "stream",
     "text": [
      "7244\n"
     ]
    },
    {
     "name": "stderr",
     "output_type": "stream",
     "text": [
      "INFO  : Cached data used. Use `pymaid.clear_cache()` to clear. (pymaid)\n"
     ]
    },
    {
     "name": "stdout",
     "output_type": "stream",
     "text": [
      "1101\n"
     ]
    },
    {
     "name": "stderr",
     "output_type": "stream",
     "text": [
      "INFO  : Cached data used. Use `pymaid.clear_cache()` to clear. (pymaid)\n",
      "INFO  : Cached data used. Use `pymaid.clear_cache()` to clear. (pymaid)\n"
     ]
    },
    {
     "name": "stdout",
     "output_type": "stream",
     "text": [
      "7757\n",
      "8399\n"
     ]
    },
    {
     "name": "stderr",
     "output_type": "stream",
     "text": [
      "INFO  : Cached data used. Use `pymaid.clear_cache()` to clear. (pymaid)\n",
      "INFO  : Cached data used. Use `pymaid.clear_cache()` to clear. (pymaid)\n"
     ]
    },
    {
     "name": "stdout",
     "output_type": "stream",
     "text": [
      "7801\n",
      "7250\n"
     ]
    },
    {
     "name": "stderr",
     "output_type": "stream",
     "text": [
      "INFO  : Cached data used. Use `pymaid.clear_cache()` to clear. (pymaid)\n",
      "INFO  : Cached data used. Use `pymaid.clear_cache()` to clear. (pymaid)\n"
     ]
    },
    {
     "name": "stdout",
     "output_type": "stream",
     "text": [
      "7378\n",
      "7763\n"
     ]
    },
    {
     "name": "stderr",
     "output_type": "stream",
     "text": [
      "INFO  : Cached data used. Use `pymaid.clear_cache()` to clear. (pymaid)\n",
      "INFO  : Cached data used. Use `pymaid.clear_cache()` to clear. (pymaid)\n"
     ]
    },
    {
     "name": "stdout",
     "output_type": "stream",
     "text": [
      "7257\n",
      "7769\n"
     ]
    },
    {
     "name": "stderr",
     "output_type": "stream",
     "text": [
      "INFO  : Cached data used. Use `pymaid.clear_cache()` to clear. (pymaid)\n"
     ]
    },
    {
     "name": "stdout",
     "output_type": "stream",
     "text": [
      "8922\n"
     ]
    },
    {
     "name": "stderr",
     "output_type": "stream",
     "text": [
      "INFO  : Cached data used. Use `pymaid.clear_cache()` to clear. (pymaid)\n",
      "INFO  : Cached data used. Use `pymaid.clear_cache()` to clear. (pymaid)\n"
     ]
    },
    {
     "name": "stdout",
     "output_type": "stream",
     "text": [
      "8414\n",
      "7775\n"
     ]
    },
    {
     "name": "stderr",
     "output_type": "stream",
     "text": [
      "INFO  : Cached data used. Use `pymaid.clear_cache()` to clear. (pymaid)\n",
      "INFO  : Cached data used. Use `pymaid.clear_cache()` to clear. (pymaid)\n"
     ]
    },
    {
     "name": "stdout",
     "output_type": "stream",
     "text": [
      "7907\n",
      "7781\n"
     ]
    },
    {
     "name": "stderr",
     "output_type": "stream",
     "text": [
      "INFO  : Cached data used. Use `pymaid.clear_cache()` to clear. (pymaid)\n",
      "INFO  : Cached data used. Use `pymaid.clear_cache()` to clear. (pymaid)\n"
     ]
    },
    {
     "name": "stdout",
     "output_type": "stream",
     "text": [
      "7270\n",
      "8424\n"
     ]
    },
    {
     "name": "stderr",
     "output_type": "stream",
     "text": [
      "INFO  : Cached data used. Use `pymaid.clear_cache()` to clear. (pymaid)\n",
      "INFO  : Cached data used. Use `pymaid.clear_cache()` to clear. (pymaid)\n"
     ]
    },
    {
     "name": "stdout",
     "output_type": "stream",
     "text": [
      "7787\n",
      "7276\n"
     ]
    },
    {
     "name": "stderr",
     "output_type": "stream",
     "text": [
      "INFO  : Cached data used. Use `pymaid.clear_cache()` to clear. (pymaid)\n"
     ]
    },
    {
     "name": "stdout",
     "output_type": "stream",
     "text": [
      "39791\n"
     ]
    },
    {
     "name": "stderr",
     "output_type": "stream",
     "text": [
      "INFO  : Cached data used. Use `pymaid.clear_cache()` to clear. (pymaid)\n",
      "INFO  : Cached data used. Use `pymaid.clear_cache()` to clear. (pymaid)\n"
     ]
    },
    {
     "name": "stdout",
     "output_type": "stream",
     "text": [
      "8949\n",
      "7289\n"
     ]
    },
    {
     "name": "stderr",
     "output_type": "stream",
     "text": [
      "INFO  : Cached data used. Use `pymaid.clear_cache()` to clear. (pymaid)\n",
      "INFO  : Cached data used. Use `pymaid.clear_cache()` to clear. (pymaid)\n"
     ]
    },
    {
     "name": "stdout",
     "output_type": "stream",
     "text": [
      "8956\n",
      "6781\n"
     ]
    }
   ],
   "source": [
    "#fetch MD3 neurons\n",
    "MD3OSNs = pymaid.get_skids_by_annotation(['innervates MD3', 'left palp nerve', 'sensory neuron'], allow_partial = False, intersect = True)\n",
    "MD3neurons = pymaid.get_neuron(MD3OSNs)\n",
    "\n",
    "#loop through all the neurons and append cable length to a dataframe\n",
    "for n in MD3neurons:\n",
    "    skeletonid=n.skeleton_id\n",
    "    skelid=int(skeletonid)\n",
    "    print(skelid)\n",
    "    labels = pymaid.get_label_list()\n",
    "    neuronlabels=labels[labels.skeleton_id==skelid]\n",
    "    branchpoint=neuronlabels[neuronlabels.tag=='first branch point']\n",
    "\n",
    "    if len(branchpoint) !=1:\n",
    "        print('error, neuron skelid=%i does not have exactly 1 branchpoint tag'% skelid)\n",
    "    else: bpnode=branchpoint.node_id.values[0]\n",
    "\n",
    "    #cut the neuron\n",
    "    dist,prox=navis.cut_skeleton(n, bpnode)\n",
    "    dlength=dist.cable_length\n",
    "    dlength=dlength/integer\n",
    "\n",
    "    #append to dataframe\n",
    "    df=df.append({'glomerulus': '3', 'id':n.id,'cable length in glom':dlength}, ignore_index=True)\n"
   ]
  },
  {
   "cell_type": "code",
   "execution_count": 7,
   "metadata": {},
   "outputs": [
    {
     "name": "stdout",
     "output_type": "stream",
     "text": [
      "    glomerulus     id  cable length in glom\n",
      "0            1   7172            453.680437\n",
      "1            1   7815            406.781813\n",
      "2            1    873            569.447625\n",
      "3            1   6736            445.835000\n",
      "4            1    881            506.129031\n",
      "..         ...    ...                   ...\n",
      "96           3  39791             62.514633\n",
      "97           3   8949            123.672906\n",
      "98           3   7289            156.705969\n",
      "99           3   8956            142.574172\n",
      "100          3   6781            152.486375\n",
      "\n",
      "[101 rows x 3 columns]\n"
     ]
    }
   ],
   "source": [
    "print(df)"
   ]
  },
  {
   "cell_type": "code",
   "execution_count": 8,
   "metadata": {},
   "outputs": [],
   "source": [
    "from seaborn.categorical import _ViolinPlotter\n",
    "class MyVPlot(_ViolinPlotter):\n",
    "    def draw_quartiles(self, ax, data, support, density, center, split=False, color='k'):\n",
    "        \"\"\"Draw the quartiles as lines at width of density.\"\"\"\n",
    "        q50 = np.mean(data)\n",
    "        self.draw_to_density(ax, center, q50, support, density, split,\n",
    "                             linewidth=self.linewidth, color=color)\n",
    "\n",
    "def my_violinplot2(x=None, y=None, hue=None, data=None, order=None, hue_order=None,\n",
    "                  bw=\"scott\", cut=0, scale=\"area\", scale_hue=True, gridsize=100,\n",
    "                  width=.8, inner=\"quartiles\", split=False, dodge=True, orient=None,\n",
    "                  linewidth=None, color=None, palette=None, saturation=.75,alpha=1,\n",
    "                  ax=None, edgecolor=None, **kwargs):\n",
    "\n",
    "    plotter = MyVPlot(x, y, hue, data, order, hue_order,\n",
    "                      bw, cut, scale, scale_hue, gridsize,\n",
    "                      width, inner, split, dodge, orient, linewidth,\n",
    "                      color, palette, saturation)\n",
    "    if ax is None:\n",
    "        ax = plt.gca()\n",
    "\n",
    "    plotter.plot(ax)\n",
    "    # change outlines\n",
    "    colors=[\"violet\", \"#0000FF\", 'mediumspringgreen']\n",
    "    for idx, violin in enumerate(ax.collections):\n",
    "        violin.set_edgecolor(colors[idx])\n",
    "    for l in ax.lines:\n",
    "        l.set_linestyle('-')\n",
    "        l.set_color('k')\n",
    "    return ax"
   ]
  },
  {
   "cell_type": "code",
   "execution_count": 9,
   "metadata": {},
   "outputs": [
    {
     "name": "stderr",
     "output_type": "stream",
     "text": [
      "/tmp/ipykernel_28874/2060881533.py:6: FutureWarning: Passing `palette` without assigning `hue` is deprecated.\n",
      "  ax = sns.stripplot(data=df, x=x, y=y, order=order, palette=[\"violet\", \"#0000FF\", \"mediumspringgreen\"])\n"
     ]
    },
    {
     "name": "stdout",
     "output_type": "stream",
     "text": [
      "1 v.s. 2: Mann-Whitney-Wilcoxon test two-sided with Bonferroni correction, P_val=2.890e-06 U_stat=4.500e+02\n",
      "2 v.s. 3: Mann-Whitney-Wilcoxon test two-sided with Bonferroni correction, P_val=7.740e-01 U_stat=1.178e+03\n",
      "1 v.s. 3: Mann-Whitney-Wilcoxon test two-sided with Bonferroni correction, P_val=2.736e-06 U_stat=4.600e+02\n"
     ]
    },
    {
     "data": {
      "image/png": "[encoded data removed]",
      "text/plain": [
       "<Figure size 640x480 with 1 Axes>"
      ]
     },
     "metadata": {},
     "output_type": "display_data"
    }
   ],
   "source": [
    "#make plot with annotations, from dataframe\n",
    "x = \"glomerulus\"\n",
    "y = \"cable length in glom\"\n",
    "order = ['1', '2', '3']\n",
    "ax = my_violinplot2(data=df, x=x, y=y, order=order, color=\"1\")\n",
    "ax = sns.stripplot(data=df, x=x, y=y, order=order, palette=[\"violet\", \"#0000FF\", \"mediumspringgreen\"])\n",
    "ax.set_xlabel('Glomerulus', size=12, fontname=\"Liberation Sans\")\n",
    "ax.set_ylabel('OSN cable length in glomerulus (µm)', size=12, fontname=\"Liberation Sans\")\n",
    "ax.set_aspect(0.007)\n",
    "plt.tick_params(axis='x', which='both', bottom=False, top=False)\n",
    "plt.tick_params(axis='y', which='both', left=True, right=False)\n",
    "sns.despine(fig=None, ax=None, top=True, right=True, left=False, bottom=True, offset=None, trim=False)\n",
    "add_stat_annotation(ax, data=df, x=x, y=y, order=order,\n",
    "                    box_pairs=[(\"1\", \"2\"), (\"2\", \"3\"), (\"1\", \"3\")],\n",
    "                    test='Mann-Whitney', text_format='simple', loc='outside', verbose=2)\n",
    "plt.savefig('/home/jb534/pymaid_scripts/aedes/aedes/svg/cablelength_inglom.svg', format=\"svg\")\n",
    "plt.show()"
   ]
  },
  {
   "cell_type": "code",
   "execution_count": null,
   "metadata": {},
   "outputs": [],
   "source": []
  },
  {
   "cell_type": "code",
   "execution_count": null,
   "metadata": {},
   "outputs": [],
   "source": []
  },
  {
   "cell_type": "code",
   "execution_count": 10,
   "metadata": {},
   "outputs": [],
   "source": [
    "# lists\n",
    "md1=df[df[\"glomerulus\"]==\"MD1\"]\n",
    "md1=md1[\"cable length in glom\"].values.tolist()\n",
    "md2=df[df['glomerulus']=='MD2']\n",
    "md2=md2[\"cable length in glom\"].values.tolist()\n",
    "md3=df[df['glomerulus']=='MD3']\n",
    "md3=md3['cable length in glom'].values.tolist()"
   ]
  },
  {
   "cell_type": "code",
   "execution_count": 11,
   "metadata": {},
   "outputs": [
    {
     "data": {
      "text/plain": [
       "KruskalResult(statistic=nan, pvalue=nan)"
      ]
     },
     "execution_count": 11,
     "metadata": {},
     "output_type": "execute_result"
    }
   ],
   "source": [
    "stats.kruskal(md1, md2, md3) # non-parametric anova"
   ]
  },
  {
   "cell_type": "code",
   "execution_count": 12,
   "metadata": {},
   "outputs": [
    {
     "ename": "ZeroDivisionError",
     "evalue": "float division by zero",
     "output_type": "error",
     "traceback": [
      "\u001b[0;31m---------------------------------------------------------------------------\u001b[0m",
      "\u001b[0;31mZeroDivisionError\u001b[0m                         Traceback (most recent call last)",
      "Cell \u001b[0;32mIn[12], line 1\u001b[0m\n\u001b[0;32m----> 1\u001b[0m sp\u001b[39m.\u001b[39;49mposthoc_dunn([md1, md2, md3], p_adjust\u001b[39m=\u001b[39;49m\u001b[39m'\u001b[39;49m\u001b[39mbonferroni\u001b[39;49m\u001b[39m'\u001b[39;49m)\n",
      "File \u001b[0;32m~/miniconda3/envs/wuzzy/lib/python3.9/site-packages/scikit_posthocs/_posthocs.py:372\u001b[0m, in \u001b[0;36mposthoc_dunn\u001b[0;34m(a, val_col, group_col, p_adjust, sort)\u001b[0m\n\u001b[1;32m    369\u001b[0m     vs[i, j] \u001b[39m=\u001b[39m compare_dunn(x_groups_unique[i], x_groups_unique[j])\n\u001b[1;32m    371\u001b[0m \u001b[39mif\u001b[39;00m p_adjust:\n\u001b[0;32m--> 372\u001b[0m     vs[tri_upper] \u001b[39m=\u001b[39m multipletests(vs[tri_upper], method\u001b[39m=\u001b[39;49mp_adjust)[\u001b[39m1\u001b[39m]\n\u001b[1;32m    374\u001b[0m vs[tri_lower] \u001b[39m=\u001b[39m np\u001b[39m.\u001b[39mtranspose(vs)[tri_lower]\n\u001b[1;32m    375\u001b[0m np\u001b[39m.\u001b[39mfill_diagonal(vs, \u001b[39m1\u001b[39m)\n",
      "File \u001b[0;32m~/miniconda3/envs/wuzzy/lib/python3.9/site-packages/statsmodels/stats/multitest.py:147\u001b[0m, in \u001b[0;36mmultipletests\u001b[0;34m(pvals, alpha, method, is_sorted, returnsorted)\u001b[0m\n\u001b[1;32m    144\u001b[0m     pvals \u001b[39m=\u001b[39m np\u001b[39m.\u001b[39mtake(pvals, sortind)\n\u001b[1;32m    146\u001b[0m ntests \u001b[39m=\u001b[39m \u001b[39mlen\u001b[39m(pvals)\n\u001b[0;32m--> 147\u001b[0m alphacSidak \u001b[39m=\u001b[39m \u001b[39m1\u001b[39m \u001b[39m-\u001b[39m np\u001b[39m.\u001b[39mpower((\u001b[39m1.\u001b[39m \u001b[39m-\u001b[39m alphaf), \u001b[39m1.\u001b[39;49m\u001b[39m/\u001b[39;49mntests)\n\u001b[1;32m    148\u001b[0m alphacBonf \u001b[39m=\u001b[39m alphaf \u001b[39m/\u001b[39m \u001b[39mfloat\u001b[39m(ntests)\n\u001b[1;32m    149\u001b[0m \u001b[39mif\u001b[39;00m method\u001b[39m.\u001b[39mlower() \u001b[39min\u001b[39;00m [\u001b[39m'\u001b[39m\u001b[39mb\u001b[39m\u001b[39m'\u001b[39m, \u001b[39m'\u001b[39m\u001b[39mbonf\u001b[39m\u001b[39m'\u001b[39m, \u001b[39m'\u001b[39m\u001b[39mbonferroni\u001b[39m\u001b[39m'\u001b[39m]:\n",
      "\u001b[0;31mZeroDivisionError\u001b[0m: float division by zero"
     ]
    }
   ],
   "source": [
    "sp.posthoc_dunn([md1, md2, md3], p_adjust='bonferroni')"
   ]
  }
 ],
 "metadata": {
  "kernelspec": {
   "display_name": "Python 3.9.15 ('wuzzy')",
   "language": "python",
   "name": "python3"
  },
  "language_info": {
   "codemirror_mode": {
    "name": "ipython",
    "version": 3
   },
   "file_extension": ".py",
   "mimetype": "text/x-python",
   "name": "python",
   "nbconvert_exporter": "python",
   "pygments_lexer": "ipython3",
   "version": "3.9.15"
  },
  "vscode": {
   "interpreter": {
    "hash": "bbc61e08eb74b41ad38e0e06b5d47af793336d408360cccbd7d9a84e8f2bb674"
   }
  }
 },
 "nbformat": 4,
 "nbformat_minor": 2
}
