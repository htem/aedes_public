{
 "cells": [
  {
   "cell_type": "code",
   "execution_count": 1,
   "metadata": {},
   "outputs": [],
   "source": [
    "import pymaid\n",
    "import navis as nv\n",
    "import pandas as pd\n",
    "import matplotlib.pyplot as plt\n",
    "import seaborn as sns\n",
    "import numpy as np\n",
    "from statistics import mean, stdev\n",
    "import scipy.stats as stats\n",
    "from statannot import add_stat_annotation"
   ]
  },
  {
   "cell_type": "code",
   "execution_count": 2,
   "metadata": {},
   "outputs": [
    {
     "name": "stderr",
     "output_type": "stream",
     "text": [
      "INFO  : Global CATMAID instance set. Caching is ON. (pymaid)\n"
     ]
    }
   ],
   "source": [
    "rm = pymaid.CatmaidInstance('https://radagast.hms.harvard.edu/catmaidaedes',\n",
    "                            \"\")"
   ]
  },
  {
   "cell_type": "code",
   "execution_count": 3,
   "metadata": {},
   "outputs": [],
   "source": [
    "MD1_OSNs = pymaid.get_skids_by_annotation(['sensory neuron', 'left palp nerve', 'PSPs done', 'innervates MD1'], intersect=True)\n"
   ]
  },
  {
   "cell_type": "code",
   "execution_count": 4,
   "metadata": {},
   "outputs": [
    {
     "data": {
      "application/vnd.jupyter.widget-view+json": {
       "model_id": "c21fe2dab2934b67970c769163e2c3d1",
       "version_major": 2,
       "version_minor": 0
      },
      "text/plain": [
       "CN details:   0%|          | 0/1226 [00:00<?, ?it/s]"
      ]
     },
     "metadata": {},
     "output_type": "display_data"
    },
    {
     "name": "stderr",
     "output_type": "stream",
     "text": [
      "INFO  : Data for 1226 of 1226 unique connector IDs retrieved (pymaid)\n",
      "INFO  : Fetching connectivity table for 1 neurons (pymaid)\n",
      "INFO  : Done. Found 157 pre-, 441 postsynaptic and 0 gap junction-connected neurons (pymaid)\n"
     ]
    },
    {
     "data": {
      "application/vnd.jupyter.widget-view+json": {
       "model_id": "254deda952964fc99a0001af57d1770c",
       "version_major": 2,
       "version_minor": 0
      },
      "text/plain": [
       "CN details:   0%|          | 0/739 [00:00<?, ?it/s]"
      ]
     },
     "metadata": {},
     "output_type": "display_data"
    },
    {
     "name": "stderr",
     "output_type": "stream",
     "text": [
      "INFO  : Data for 739 of 739 unique connector IDs retrieved (pymaid)\n",
      "INFO  : Fetching connectivity table for 1 neurons (pymaid)\n",
      "INFO  : Done. Found 92 pre-, 409 postsynaptic and 0 gap junction-connected neurons (pymaid)\n"
     ]
    },
    {
     "data": {
      "application/vnd.jupyter.widget-view+json": {
       "model_id": "ecfd169638d147e6bafa3e9f631b467a",
       "version_major": 2,
       "version_minor": 0
      },
      "text/plain": [
       "CN details:   0%|          | 0/542 [00:00<?, ?it/s]"
      ]
     },
     "metadata": {},
     "output_type": "display_data"
    },
    {
     "name": "stderr",
     "output_type": "stream",
     "text": [
      "INFO  : Data for 542 of 542 unique connector IDs retrieved (pymaid)\n",
      "INFO  : Fetching connectivity table for 1 neurons (pymaid)\n",
      "INFO  : Done. Found 74 pre-, 249 postsynaptic and 0 gap junction-connected neurons (pymaid)\n"
     ]
    },
    {
     "data": {
      "application/vnd.jupyter.widget-view+json": {
       "model_id": "cff6117d7c5540a09595cd78d39bcda4",
       "version_major": 2,
       "version_minor": 0
      },
      "text/plain": [
       "CN details:   0%|          | 0/695 [00:00<?, ?it/s]"
      ]
     },
     "metadata": {},
     "output_type": "display_data"
    },
    {
     "name": "stderr",
     "output_type": "stream",
     "text": [
      "INFO  : Data for 695 of 695 unique connector IDs retrieved (pymaid)\n",
      "INFO  : Fetching connectivity table for 1 neurons (pymaid)\n",
      "INFO  : Done. Found 94 pre-, 310 postsynaptic and 0 gap junction-connected neurons (pymaid)\n"
     ]
    },
    {
     "data": {
      "application/vnd.jupyter.widget-view+json": {
       "model_id": "75315b187e4b454a8d1e5d1ce4450a45",
       "version_major": 2,
       "version_minor": 0
      },
      "text/plain": [
       "CN details:   0%|          | 0/929 [00:00<?, ?it/s]"
      ]
     },
     "metadata": {},
     "output_type": "display_data"
    },
    {
     "name": "stderr",
     "output_type": "stream",
     "text": [
      "INFO  : Data for 929 of 929 unique connector IDs retrieved (pymaid)\n",
      "INFO  : Fetching connectivity table for 1 neurons (pymaid)\n",
      "INFO  : Done. Found 128 pre-, 232 postsynaptic and 0 gap junction-connected neurons (pymaid)\n"
     ]
    },
    {
     "data": {
      "application/vnd.jupyter.widget-view+json": {
       "model_id": "9a6f82f628064170970132433767d6a8",
       "version_major": 2,
       "version_minor": 0
      },
      "text/plain": [
       "CN details:   0%|          | 0/1095 [00:00<?, ?it/s]"
      ]
     },
     "metadata": {},
     "output_type": "display_data"
    },
    {
     "name": "stderr",
     "output_type": "stream",
     "text": [
      "INFO  : Data for 1095 of 1095 unique connector IDs retrieved (pymaid)\n",
      "INFO  : Fetching connectivity table for 1 neurons (pymaid)\n",
      "INFO  : Done. Found 145 pre-, 340 postsynaptic and 0 gap junction-connected neurons (pymaid)\n"
     ]
    },
    {
     "data": {
      "application/vnd.jupyter.widget-view+json": {
       "model_id": "6a1cf4560a92493d859f3d9fc75585b4",
       "version_major": 2,
       "version_minor": 0
      },
      "text/plain": [
       "CN details:   0%|          | 0/665 [00:00<?, ?it/s]"
      ]
     },
     "metadata": {},
     "output_type": "display_data"
    },
    {
     "name": "stderr",
     "output_type": "stream",
     "text": [
      "INFO  : Data for 665 of 665 unique connector IDs retrieved (pymaid)\n",
      "INFO  : Fetching connectivity table for 1 neurons (pymaid)\n",
      "INFO  : Done. Found 92 pre-, 339 postsynaptic and 0 gap junction-connected neurons (pymaid)\n"
     ]
    },
    {
     "data": {
      "application/vnd.jupyter.widget-view+json": {
       "model_id": "adf074861a3443b98f7573155165853a",
       "version_major": 2,
       "version_minor": 0
      },
      "text/plain": [
       "CN details:   0%|          | 0/1055 [00:00<?, ?it/s]"
      ]
     },
     "metadata": {},
     "output_type": "display_data"
    },
    {
     "name": "stderr",
     "output_type": "stream",
     "text": [
      "INFO  : Data for 1055 of 1055 unique connector IDs retrieved (pymaid)\n",
      "INFO  : Fetching connectivity table for 1 neurons (pymaid)\n",
      "INFO  : Done. Found 151 pre-, 418 postsynaptic and 0 gap junction-connected neurons (pymaid)\n"
     ]
    },
    {
     "data": {
      "application/vnd.jupyter.widget-view+json": {
       "model_id": "e187a6f7b86a494b9e63eb4b84a69d90",
       "version_major": 2,
       "version_minor": 0
      },
      "text/plain": [
       "CN details:   0%|          | 0/1068 [00:00<?, ?it/s]"
      ]
     },
     "metadata": {},
     "output_type": "display_data"
    },
    {
     "name": "stderr",
     "output_type": "stream",
     "text": [
      "INFO  : Data for 1068 of 1068 unique connector IDs retrieved (pymaid)\n",
      "INFO  : Fetching connectivity table for 1 neurons (pymaid)\n",
      "INFO  : Done. Found 141 pre-, 386 postsynaptic and 0 gap junction-connected neurons (pymaid)\n"
     ]
    },
    {
     "data": {
      "application/vnd.jupyter.widget-view+json": {
       "model_id": "ece29d07d0d54ce8b3db175b54c3054c",
       "version_major": 2,
       "version_minor": 0
      },
      "text/plain": [
       "CN details:   0%|          | 0/388 [00:00<?, ?it/s]"
      ]
     },
     "metadata": {},
     "output_type": "display_data"
    },
    {
     "name": "stderr",
     "output_type": "stream",
     "text": [
      "INFO  : Data for 388 of 388 unique connector IDs retrieved (pymaid)\n",
      "INFO  : Fetching connectivity table for 1 neurons (pymaid)\n",
      "INFO  : Done. Found 68 pre-, 231 postsynaptic and 0 gap junction-connected neurons (pymaid)\n"
     ]
    },
    {
     "data": {
      "application/vnd.jupyter.widget-view+json": {
       "model_id": "19cba203d09042849c3131625cf2a9cc",
       "version_major": 2,
       "version_minor": 0
      },
      "text/plain": [
       "CN details:   0%|          | 0/1107 [00:00<?, ?it/s]"
      ]
     },
     "metadata": {},
     "output_type": "display_data"
    },
    {
     "name": "stderr",
     "output_type": "stream",
     "text": [
      "INFO  : Data for 1107 of 1107 unique connector IDs retrieved (pymaid)\n",
      "INFO  : Fetching connectivity table for 1 neurons (pymaid)\n",
      "INFO  : Done. Found 160 pre-, 487 postsynaptic and 0 gap junction-connected neurons (pymaid)\n"
     ]
    },
    {
     "name": "stdout",
     "output_type": "stream",
     "text": [
      "[1854.0, 1672.0, 1117.0, 1324.0, 1292.0, 1574.0, 1523.0, 1837.0, 1584.0, 800.0, 1670.0]\n"
     ]
    }
   ],
   "source": [
    "md1_total_OSN_synapses_all=[]\n",
    "\n",
    "for OSN in MD1_OSNs:\n",
    "    # Finds all of the synapses the given OSN is presynaptic to\n",
    "    OSN_neuron = pymaid.get_neuron(OSN)\n",
    "    df = pymaid.get_connector_details(OSN_neuron)\n",
    "    #total_OSN_synapses = len(df[df.presynaptic_to == OSNid])\n",
    "    \n",
    "    # Finds partners\n",
    "    df1 = pymaid.get_partners(OSN).set_index('skeleton_id')\n",
    "    \n",
    "    #sum ALL outgoing synapses\n",
    "    total_OSN_synapses=sum(df1[df1.relation=='downstream'].total)\n",
    "    md1_total_OSN_synapses_all.append(total_OSN_synapses)\n",
    "print(md1_total_OSN_synapses_all)"
   ]
  },
  {
   "cell_type": "code",
   "execution_count": null,
   "metadata": {},
   "outputs": [],
   "source": [
    "MD2_OSNs = pymaid.get_skids_by_annotation(['sensory neuron', 'left palp nerve', 'PSPs done', 'innervates MD2'], intersect=True)\n",
    "md2_total_OSN_synapses_all=[]\n",
    "\n",
    "for OSN in MD2_OSNs:\n",
    "    # Finds all of the synapses the given OSN is presynaptic to\n",
    "    OSN_neuron = pymaid.get_neuron(OSN)\n",
    "    df = pymaid.get_connector_details(OSN_neuron)\n",
    "    #total_OSN_synapses = len(df[df.presynaptic_to == OSNid])\n",
    "    \n",
    "    # Finds partners\n",
    "    df1 = pymaid.get_partners(OSN).set_index('skeleton_id')\n",
    "    \n",
    "    #sum ALL outgoing synapses\n",
    "    total_OSN_synapses=sum(df1[df1.relation=='downstream'].total)\n",
    "    md2_total_OSN_synapses_all.append(total_OSN_synapses)\n",
    "\n",
    "print(md2_total_OSN_synapses_all)"
   ]
  },
  {
   "cell_type": "code",
   "execution_count": null,
   "metadata": {},
   "outputs": [
    {
     "name": "stderr",
     "output_type": "stream",
     "text": [
      "INFO  : Cached data used. Use `pymaid.clear_cache()` to clear. (pymaid)\n"
     ]
    },
    {
     "data": {
      "application/vnd.jupyter.widget-view+json": {
       "model_id": "3307f7bffcff4fff9524d1a55793766d",
       "version_major": 2,
       "version_minor": 0
      },
      "text/plain": [
       "CN details:   0%|          | 0/353 [00:00<?, ?it/s]"
      ]
     },
     "metadata": {},
     "output_type": "display_data"
    },
    {
     "name": "stderr",
     "output_type": "stream",
     "text": [
      "INFO  : Data for 353 of 353 unique connector IDs retrieved (pymaid)\n",
      "INFO  : Fetching connectivity table for 1 neurons (pymaid)\n",
      "INFO  : Done. Found 76 pre-, 166 postsynaptic and 0 gap junction-connected neurons (pymaid)\n"
     ]
    },
    {
     "data": {
      "application/vnd.jupyter.widget-view+json": {
       "model_id": "8dc2a2831ed34f3ca15184c14b38e2c3",
       "version_major": 2,
       "version_minor": 0
      },
      "text/plain": [
       "CN details:   0%|          | 0/290 [00:00<?, ?it/s]"
      ]
     },
     "metadata": {},
     "output_type": "display_data"
    },
    {
     "name": "stderr",
     "output_type": "stream",
     "text": [
      "INFO  : Data for 290 of 290 unique connector IDs retrieved (pymaid)\n",
      "INFO  : Fetching connectivity table for 1 neurons (pymaid)\n",
      "INFO  : Done. Found 70 pre-, 169 postsynaptic and 0 gap junction-connected neurons (pymaid)\n"
     ]
    },
    {
     "data": {
      "application/vnd.jupyter.widget-view+json": {
       "model_id": "9f96d0b44e984cd0ba82f84acc8bf1ef",
       "version_major": 2,
       "version_minor": 0
      },
      "text/plain": [
       "CN details:   0%|          | 0/254 [00:00<?, ?it/s]"
      ]
     },
     "metadata": {},
     "output_type": "display_data"
    },
    {
     "name": "stderr",
     "output_type": "stream",
     "text": [
      "INFO  : Data for 254 of 254 unique connector IDs retrieved (pymaid)\n",
      "INFO  : Fetching connectivity table for 1 neurons (pymaid)\n",
      "INFO  : Done. Found 49 pre-, 148 postsynaptic and 0 gap junction-connected neurons (pymaid)\n"
     ]
    },
    {
     "data": {
      "application/vnd.jupyter.widget-view+json": {
       "model_id": "af44fc0dd2ce4021a0f65c69d9567469",
       "version_major": 2,
       "version_minor": 0
      },
      "text/plain": [
       "CN details:   0%|          | 0/294 [00:00<?, ?it/s]"
      ]
     },
     "metadata": {},
     "output_type": "display_data"
    },
    {
     "name": "stderr",
     "output_type": "stream",
     "text": [
      "INFO  : Data for 294 of 294 unique connector IDs retrieved (pymaid)\n",
      "INFO  : Fetching connectivity table for 1 neurons (pymaid)\n",
      "INFO  : Done. Found 54 pre-, 217 postsynaptic and 0 gap junction-connected neurons (pymaid)\n"
     ]
    },
    {
     "data": {
      "application/vnd.jupyter.widget-view+json": {
       "model_id": "d10521c4fa3542e0a49301464b687c86",
       "version_major": 2,
       "version_minor": 0
      },
      "text/plain": [
       "CN details:   0%|          | 0/254 [00:00<?, ?it/s]"
      ]
     },
     "metadata": {},
     "output_type": "display_data"
    },
    {
     "name": "stderr",
     "output_type": "stream",
     "text": [
      "INFO  : Data for 254 of 254 unique connector IDs retrieved (pymaid)\n",
      "INFO  : Fetching connectivity table for 1 neurons (pymaid)\n",
      "INFO  : Done. Found 45 pre-, 156 postsynaptic and 0 gap junction-connected neurons (pymaid)\n"
     ]
    },
    {
     "data": {
      "application/vnd.jupyter.widget-view+json": {
       "model_id": "5d0756321b574586998f9ce329ee039f",
       "version_major": 2,
       "version_minor": 0
      },
      "text/plain": [
       "CN details:   0%|          | 0/280 [00:00<?, ?it/s]"
      ]
     },
     "metadata": {},
     "output_type": "display_data"
    },
    {
     "name": "stderr",
     "output_type": "stream",
     "text": [
      "INFO  : Data for 280 of 280 unique connector IDs retrieved (pymaid)\n",
      "INFO  : Fetching connectivity table for 1 neurons (pymaid)\n",
      "INFO  : Done. Found 52 pre-, 191 postsynaptic and 0 gap junction-connected neurons (pymaid)\n"
     ]
    },
    {
     "data": {
      "application/vnd.jupyter.widget-view+json": {
       "model_id": "845b8059be554aa5a4d33cb42a02ec46",
       "version_major": 2,
       "version_minor": 0
      },
      "text/plain": [
       "CN details:   0%|          | 0/234 [00:00<?, ?it/s]"
      ]
     },
     "metadata": {},
     "output_type": "display_data"
    },
    {
     "name": "stderr",
     "output_type": "stream",
     "text": [
      "INFO  : Data for 234 of 234 unique connector IDs retrieved (pymaid)\n",
      "INFO  : Fetching connectivity table for 1 neurons (pymaid)\n",
      "INFO  : Done. Found 51 pre-, 151 postsynaptic and 0 gap junction-connected neurons (pymaid)\n"
     ]
    },
    {
     "data": {
      "application/vnd.jupyter.widget-view+json": {
       "model_id": "c7366350bc064608a5acf2f0312f9e2a",
       "version_major": 2,
       "version_minor": 0
      },
      "text/plain": [
       "CN details:   0%|          | 0/280 [00:00<?, ?it/s]"
      ]
     },
     "metadata": {},
     "output_type": "display_data"
    },
    {
     "name": "stderr",
     "output_type": "stream",
     "text": [
      "INFO  : Data for 280 of 280 unique connector IDs retrieved (pymaid)\n",
      "INFO  : Fetching connectivity table for 1 neurons (pymaid)\n",
      "INFO  : Done. Found 59 pre-, 175 postsynaptic and 0 gap junction-connected neurons (pymaid)\n"
     ]
    },
    {
     "data": {
      "application/vnd.jupyter.widget-view+json": {
       "model_id": "5756e4b6b9ee48488712178fc61f32eb",
       "version_major": 2,
       "version_minor": 0
      },
      "text/plain": [
       "CN details:   0%|          | 0/262 [00:00<?, ?it/s]"
      ]
     },
     "metadata": {},
     "output_type": "display_data"
    },
    {
     "name": "stderr",
     "output_type": "stream",
     "text": [
      "INFO  : Data for 262 of 262 unique connector IDs retrieved (pymaid)\n",
      "INFO  : Fetching connectivity table for 1 neurons (pymaid)\n",
      "INFO  : Done. Found 61 pre-, 195 postsynaptic and 0 gap junction-connected neurons (pymaid)\n"
     ]
    },
    {
     "data": {
      "application/vnd.jupyter.widget-view+json": {
       "model_id": "ef01d9ab734c409db5091d047e11354d",
       "version_major": 2,
       "version_minor": 0
      },
      "text/plain": [
       "CN details:   0%|          | 0/257 [00:00<?, ?it/s]"
      ]
     },
     "metadata": {},
     "output_type": "display_data"
    },
    {
     "name": "stderr",
     "output_type": "stream",
     "text": [
      "INFO  : Data for 257 of 257 unique connector IDs retrieved (pymaid)\n",
      "INFO  : Fetching connectivity table for 1 neurons (pymaid)\n",
      "INFO  : Done. Found 55 pre-, 179 postsynaptic and 0 gap junction-connected neurons (pymaid)\n"
     ]
    },
    {
     "name": "stdout",
     "output_type": "stream",
     "text": [
      "[526.0, 518.0, 453.0, 631.0, 504.0, 566.0, 486.0, 567.0, 579.0, 511.0]\n"
     ]
    }
   ],
   "source": [
    "MD3_OSNs = pymaid.get_skids_by_annotation(['sensory neuron', 'left palp nerve', 'PSPs done', 'innervates MD3'], intersect=True)\n",
    "md3_total_OSN_synapses_all=[]\n",
    "\n",
    "for OSN in MD3_OSNs:\n",
    "    # Finds all of the synapses the given OSN is presynaptic to\n",
    "    OSN_neuron = pymaid.get_neuron(OSN)\n",
    "    df = pymaid.get_connector_details(OSN_neuron)\n",
    "    #total_OSN_synapses = len(df[df.presynaptic_to == OSNid])\n",
    "    \n",
    "    # Finds partners\n",
    "    df1 = pymaid.get_partners(OSN).set_index('skeleton_id')\n",
    "    \n",
    "    #sum ALL outgoing synapses\n",
    "    total_OSN_synapses=sum(df1[df1.relation=='downstream'].total)\n",
    "    md3_total_OSN_synapses_all.append(total_OSN_synapses)\n",
    "\n",
    "print(md3_total_OSN_synapses_all)"
   ]
  },
  {
   "cell_type": "code",
   "execution_count": null,
   "metadata": {},
   "outputs": [
    {
     "data": {
      "text/html": [
       "<div>\n",
       "<style scoped>\n",
       "    .dataframe tbody tr th:only-of-type {\n",
       "        vertical-align: middle;\n",
       "    }\n",
       "\n",
       "    .dataframe tbody tr th {\n",
       "        vertical-align: top;\n",
       "    }\n",
       "\n",
       "    .dataframe thead th {\n",
       "        text-align: right;\n",
       "    }\n",
       "</style>\n",
       "<table border=\"1\" class=\"dataframe\">\n",
       "  <thead>\n",
       "    <tr style=\"text-align: right;\">\n",
       "      <th></th>\n",
       "      <th>Glomerulus</th>\n",
       "      <th>Total outgoing synapses</th>\n",
       "    </tr>\n",
       "  </thead>\n",
       "  <tbody>\n",
       "    <tr>\n",
       "      <th>0</th>\n",
       "      <td>1</td>\n",
       "      <td>1854.0</td>\n",
       "    </tr>\n",
       "    <tr>\n",
       "      <th>1</th>\n",
       "      <td>1</td>\n",
       "      <td>1672.0</td>\n",
       "    </tr>\n",
       "    <tr>\n",
       "      <th>2</th>\n",
       "      <td>1</td>\n",
       "      <td>1117.0</td>\n",
       "    </tr>\n",
       "    <tr>\n",
       "      <th>3</th>\n",
       "      <td>1</td>\n",
       "      <td>1324.0</td>\n",
       "    </tr>\n",
       "    <tr>\n",
       "      <th>4</th>\n",
       "      <td>1</td>\n",
       "      <td>1292.0</td>\n",
       "    </tr>\n",
       "    <tr>\n",
       "      <th>5</th>\n",
       "      <td>1</td>\n",
       "      <td>1574.0</td>\n",
       "    </tr>\n",
       "    <tr>\n",
       "      <th>6</th>\n",
       "      <td>1</td>\n",
       "      <td>1523.0</td>\n",
       "    </tr>\n",
       "    <tr>\n",
       "      <th>7</th>\n",
       "      <td>1</td>\n",
       "      <td>1837.0</td>\n",
       "    </tr>\n",
       "    <tr>\n",
       "      <th>8</th>\n",
       "      <td>1</td>\n",
       "      <td>1584.0</td>\n",
       "    </tr>\n",
       "    <tr>\n",
       "      <th>9</th>\n",
       "      <td>1</td>\n",
       "      <td>800.0</td>\n",
       "    </tr>\n",
       "    <tr>\n",
       "      <th>10</th>\n",
       "      <td>1</td>\n",
       "      <td>1670.0</td>\n",
       "    </tr>\n",
       "    <tr>\n",
       "      <th>11</th>\n",
       "      <td>2</td>\n",
       "      <td>506.0</td>\n",
       "    </tr>\n",
       "    <tr>\n",
       "      <th>12</th>\n",
       "      <td>2</td>\n",
       "      <td>514.0</td>\n",
       "    </tr>\n",
       "    <tr>\n",
       "      <th>13</th>\n",
       "      <td>2</td>\n",
       "      <td>425.0</td>\n",
       "    </tr>\n",
       "    <tr>\n",
       "      <th>14</th>\n",
       "      <td>2</td>\n",
       "      <td>499.0</td>\n",
       "    </tr>\n",
       "    <tr>\n",
       "      <th>15</th>\n",
       "      <td>2</td>\n",
       "      <td>525.0</td>\n",
       "    </tr>\n",
       "    <tr>\n",
       "      <th>16</th>\n",
       "      <td>2</td>\n",
       "      <td>498.0</td>\n",
       "    </tr>\n",
       "    <tr>\n",
       "      <th>17</th>\n",
       "      <td>2</td>\n",
       "      <td>461.0</td>\n",
       "    </tr>\n",
       "    <tr>\n",
       "      <th>18</th>\n",
       "      <td>2</td>\n",
       "      <td>471.0</td>\n",
       "    </tr>\n",
       "    <tr>\n",
       "      <th>19</th>\n",
       "      <td>2</td>\n",
       "      <td>520.0</td>\n",
       "    </tr>\n",
       "    <tr>\n",
       "      <th>20</th>\n",
       "      <td>2</td>\n",
       "      <td>251.0</td>\n",
       "    </tr>\n",
       "    <tr>\n",
       "      <th>21</th>\n",
       "      <td>3</td>\n",
       "      <td>526.0</td>\n",
       "    </tr>\n",
       "    <tr>\n",
       "      <th>22</th>\n",
       "      <td>3</td>\n",
       "      <td>518.0</td>\n",
       "    </tr>\n",
       "    <tr>\n",
       "      <th>23</th>\n",
       "      <td>3</td>\n",
       "      <td>453.0</td>\n",
       "    </tr>\n",
       "    <tr>\n",
       "      <th>24</th>\n",
       "      <td>3</td>\n",
       "      <td>631.0</td>\n",
       "    </tr>\n",
       "    <tr>\n",
       "      <th>25</th>\n",
       "      <td>3</td>\n",
       "      <td>504.0</td>\n",
       "    </tr>\n",
       "    <tr>\n",
       "      <th>26</th>\n",
       "      <td>3</td>\n",
       "      <td>566.0</td>\n",
       "    </tr>\n",
       "    <tr>\n",
       "      <th>27</th>\n",
       "      <td>3</td>\n",
       "      <td>486.0</td>\n",
       "    </tr>\n",
       "    <tr>\n",
       "      <th>28</th>\n",
       "      <td>3</td>\n",
       "      <td>567.0</td>\n",
       "    </tr>\n",
       "    <tr>\n",
       "      <th>29</th>\n",
       "      <td>3</td>\n",
       "      <td>579.0</td>\n",
       "    </tr>\n",
       "    <tr>\n",
       "      <th>30</th>\n",
       "      <td>3</td>\n",
       "      <td>511.0</td>\n",
       "    </tr>\n",
       "  </tbody>\n",
       "</table>\n",
       "</div>"
      ],
      "text/plain": [
       "   Glomerulus  Total outgoing synapses\n",
       "0           1                   1854.0\n",
       "1           1                   1672.0\n",
       "2           1                   1117.0\n",
       "3           1                   1324.0\n",
       "4           1                   1292.0\n",
       "5           1                   1574.0\n",
       "6           1                   1523.0\n",
       "7           1                   1837.0\n",
       "8           1                   1584.0\n",
       "9           1                    800.0\n",
       "10          1                   1670.0\n",
       "11          2                    506.0\n",
       "12          2                    514.0\n",
       "13          2                    425.0\n",
       "14          2                    499.0\n",
       "15          2                    525.0\n",
       "16          2                    498.0\n",
       "17          2                    461.0\n",
       "18          2                    471.0\n",
       "19          2                    520.0\n",
       "20          2                    251.0\n",
       "21          3                    526.0\n",
       "22          3                    518.0\n",
       "23          3                    453.0\n",
       "24          3                    631.0\n",
       "25          3                    504.0\n",
       "26          3                    566.0\n",
       "27          3                    486.0\n",
       "28          3                    567.0\n",
       "29          3                    579.0\n",
       "30          3                    511.0"
      ]
     },
     "execution_count": 8,
     "metadata": {},
     "output_type": "execute_result"
    }
   ],
   "source": [
    "#make dataframe\n",
    "\n",
    "data_dict = {\"1\": md1_total_OSN_synapses_all, \"2\": md2_total_OSN_synapses_all, \"3\": md3_total_OSN_synapses_all}\n",
    "pre_df = {\"Glomerulus\": [], \"Total outgoing synapses\": []}\n",
    "for glom, dists in data_dict.items():\n",
    "    glom_list = [glom,]*len(dists)\n",
    "    pre_df[\"Glomerulus\"].extend(glom_list)    \n",
    "    pre_df[\"Total outgoing synapses\"].extend(dists)\n",
    "\n",
    "df = pd.DataFrame.from_dict(pre_df)\n",
    "df"
   ]
  },
  {
   "cell_type": "code",
   "execution_count": null,
   "metadata": {},
   "outputs": [],
   "source": [
    "from seaborn.categorical import _ViolinPlotter\n",
    "class MyVPlot(_ViolinPlotter):\n",
    "    def draw_quartiles(self, ax, data, support, density, center, split=False, color='k'):\n",
    "        \"\"\"Draw the quartiles as lines at width of density.\"\"\"\n",
    "        q50 = np.mean(data)\n",
    "        self.draw_to_density(ax, center, q50, support, density, split,\n",
    "                             linewidth=self.linewidth, color=color)\n",
    "\n",
    "def my_violinplot2(x=None, y=None, hue=None, data=None, order=None, hue_order=None,\n",
    "                  bw=\"scott\", cut=0, scale=\"area\", scale_hue=True, gridsize=100,\n",
    "                  width=.8, inner=\"quartiles\", split=False, dodge=True, orient=None,\n",
    "                  linewidth=None, color=None, palette=None, saturation=.75,alpha=1,\n",
    "                  ax=None, edgecolor=None, **kwargs):\n",
    "\n",
    "    plotter = MyVPlot(x, y, hue, data, order, hue_order,\n",
    "                      bw, cut, scale, scale_hue, gridsize,\n",
    "                      width, inner, split, dodge, orient, linewidth,\n",
    "                      color, palette, saturation)\n",
    "    if ax is None:\n",
    "        ax = plt.gca()\n",
    "\n",
    "    plotter.plot(ax)\n",
    "    # change outlines\n",
    "    colors=[\"violet\", \"#0000FF\", 'mediumspringgreen']\n",
    "    for idx, violin in enumerate(ax.collections):\n",
    "        violin.set_edgecolor(colors[idx])\n",
    "    for l in ax.lines:\n",
    "        l.set_linestyle('-')\n",
    "        l.set_color('k')\n",
    "    return ax"
   ]
  },
  {
   "cell_type": "code",
   "execution_count": null,
   "metadata": {},
   "outputs": [
    {
     "name": "stderr",
     "output_type": "stream",
     "text": [
      "/tmp/ipykernel_4365/3505109570.py:5: FutureWarning: Passing `palette` without assigning `hue` is deprecated.\n",
      "  ax = sns.stripplot(data=df, x=x, y=y, order=order, palette=[\"violet\", \"#0000FF\", \"mediumspringgreen\"])\n"
     ]
    },
    {
     "name": "stdout",
     "output_type": "stream",
     "text": [
      "1 v.s. 2: Mann-Whitney-Wilcoxon test two-sided with Bonferroni correction, P_val=3.725e-04 U_stat=1.100e+02\n",
      "2 v.s. 3: Mann-Whitney-Wilcoxon test two-sided with Bonferroni correction, P_val=1.355e-01 U_stat=2.300e+01\n",
      "1 v.s. 3: Mann-Whitney-Wilcoxon test two-sided with Bonferroni correction, P_val=3.725e-04 U_stat=1.100e+02\n"
     ]
    },
    {
     "data": {
      "image/png": "[encoded data removed]",
      "text/plain": [
       "<Figure size 640x480 with 1 Axes>"
      ]
     },
     "metadata": {},
     "output_type": "display_data"
    }
   ],
   "source": [
    "x = \"Glomerulus\"\n",
    "y = \"Total outgoing synapses\"\n",
    "order = ['1', '2', '3']\n",
    "ax = my_violinplot2(data=df, x=x, y=y, order=order, color=\"1\")\n",
    "ax = sns.stripplot(data=df, x=x, y=y, order=order, palette=[\"violet\", \"#0000FF\", \"mediumspringgreen\"])\n",
    "ax.set_xlabel('Glomerulus', size=12, fontname=\"Liberation Sans\")\n",
    "ax.set_ylabel('Total # of presynaptic sites', size=12, fontname=\"Liberation Sans\")\n",
    "ax.set_aspect(0.003)\n",
    "plt.ylim(0,1900)\n",
    "plt.tick_params(axis='x', which='both', bottom=False, top=False)\n",
    "plt.tick_params(axis='y', which='both', left=True, right=False)\n",
    "sns.despine(fig=None, ax=None, top=True, right=True, left=False, bottom=True, offset=None, trim=False)\n",
    "add_stat_annotation(ax, data=df, x=x, y=y, order=order,\n",
    "                    box_pairs=[(\"1\", \"2\"), (\"1\", \"3\"), (\"2\", \"3\")],\n",
    "                    test='Mann-Whitney', text_format='simple', loc='outside', verbose=2)\n",
    "plt.savefig('/home/jb534/pymaid_scripts/aedes/aedes/svg/outgoing_synapses.svg', format=\"svg\")\n",
    "plt.show()"
   ]
  },
  {
   "cell_type": "code",
   "execution_count": null,
   "metadata": {},
   "outputs": [
    {
     "name": "stdout",
     "output_type": "stream",
     "text": [
      "KruskalResult(statistic=22.388709677419342, pvalue=1.3751607402149735e-05)\n"
     ]
    }
   ],
   "source": [
    "kruskal=stats.kruskal(md1_total_OSN_synapses_all, md2_total_OSN_synapses_all, md3_total_OSN_synapses_all)\n",
    "print(kruskal)"
   ]
  },
  {
   "cell_type": "code",
   "execution_count": null,
   "metadata": {},
   "outputs": [],
   "source": [
    "sp.posthoc_dunn([md1_total_OSN_synapses_all, md2_total_OSN_synapses_all, md3_total_OSN_synapses_all], p_adjust = 'bonferroni')"
   ]
  }
 ],
 "metadata": {
  "kernelspec": {
   "display_name": "Python 3.9.15 ('wuzzy')",
   "language": "python",
   "name": "python3"
  },
  "language_info": {
   "codemirror_mode": {
    "name": "ipython",
    "version": 3
   },
   "file_extension": ".py",
   "mimetype": "text/x-python",
   "name": "python",
   "nbconvert_exporter": "python",
   "pygments_lexer": "ipython3",
   "version": "3.9.15"
  },
  "orig_nbformat": 4,
  "vscode": {
   "interpreter": {
    "hash": "bbc61e08eb74b41ad38e0e06b5d47af793336d408360cccbd7d9a84e8f2bb674"
   }
  }
 },
 "nbformat": 4,
 "nbformat_minor": 2
}
