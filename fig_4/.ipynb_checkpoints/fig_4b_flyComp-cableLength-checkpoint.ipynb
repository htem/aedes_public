{
 "cells": [
  {
   "cell_type": "code",
   "execution_count": 1,
   "id": "921a8a81",
   "metadata": {},
   "outputs": [
    {
     "data": {
      "text/html": [
       "<div>\n",
       "<style scoped>\n",
       "    .dataframe tbody tr th:only-of-type {\n",
       "        vertical-align: middle;\n",
       "    }\n",
       "\n",
       "    .dataframe tbody tr th {\n",
       "        vertical-align: top;\n",
       "    }\n",
       "\n",
       "    .dataframe thead th {\n",
       "        text-align: right;\n",
       "    }\n",
       "</style>\n",
       "<table border=\"1\" class=\"dataframe\">\n",
       "  <thead>\n",
       "    <tr style=\"text-align: right;\">\n",
       "      <th></th>\n",
       "      <th>time_stamp</th>\n",
       "      <th>version</th>\n",
       "      <th>status</th>\n",
       "      <th>expires_on</th>\n",
       "      <th>is_merged</th>\n",
       "      <th>id</th>\n",
       "      <th>datastack</th>\n",
       "      <th>valid</th>\n",
       "    </tr>\n",
       "  </thead>\n",
       "  <tbody>\n",
       "    <tr>\n",
       "      <th>0</th>\n",
       "      <td>2024-01-27 05:10:00</td>\n",
       "      <td>842</td>\n",
       "      <td>AVAILABLE</td>\n",
       "      <td>2024-02-03 04:10:00</td>\n",
       "      <td>False</td>\n",
       "      <td>832</td>\n",
       "      <td>flywire_fafb_production</td>\n",
       "      <td>True</td>\n",
       "    </tr>\n",
       "    <tr>\n",
       "      <th>1</th>\n",
       "      <td>2024-01-17 05:10:00</td>\n",
       "      <td>837</td>\n",
       "      <td>AVAILABLE</td>\n",
       "      <td>2024-02-21 04:10:00</td>\n",
       "      <td>False</td>\n",
       "      <td>827</td>\n",
       "      <td>flywire_fafb_production</td>\n",
       "      <td>True</td>\n",
       "    </tr>\n",
       "    <tr>\n",
       "      <th>2</th>\n",
       "      <td>2024-01-03 05:10:00</td>\n",
       "      <td>830</td>\n",
       "      <td>AVAILABLE</td>\n",
       "      <td>2024-02-07 04:10:00</td>\n",
       "      <td>False</td>\n",
       "      <td>820</td>\n",
       "      <td>flywire_fafb_production</td>\n",
       "      <td>True</td>\n",
       "    </tr>\n",
       "    <tr>\n",
       "      <th>3</th>\n",
       "      <td>2023-09-30 05:10:00</td>\n",
       "      <td>783</td>\n",
       "      <td>AVAILABLE</td>\n",
       "      <td>2121-11-10 07:10:00</td>\n",
       "      <td>False</td>\n",
       "      <td>773</td>\n",
       "      <td>flywire_fafb_production</td>\n",
       "      <td>True</td>\n",
       "    </tr>\n",
       "    <tr>\n",
       "      <th>4</th>\n",
       "      <td>2023-03-21 08:10:00</td>\n",
       "      <td>630</td>\n",
       "      <td>AVAILABLE</td>\n",
       "      <td>2121-11-10 07:10:00</td>\n",
       "      <td>True</td>\n",
       "      <td>619</td>\n",
       "      <td>flywire_fafb_production</td>\n",
       "      <td>True</td>\n",
       "    </tr>\n",
       "    <tr>\n",
       "      <th>5</th>\n",
       "      <td>2023-01-10 08:11:00</td>\n",
       "      <td>571</td>\n",
       "      <td>AVAILABLE</td>\n",
       "      <td>2121-11-10 07:10:00</td>\n",
       "      <td>True</td>\n",
       "      <td>560</td>\n",
       "      <td>flywire_fafb_production</td>\n",
       "      <td>True</td>\n",
       "    </tr>\n",
       "    <tr>\n",
       "      <th>6</th>\n",
       "      <td>2022-11-17 08:10:00</td>\n",
       "      <td>526</td>\n",
       "      <td>AVAILABLE</td>\n",
       "      <td>2121-11-10 07:10:00</td>\n",
       "      <td>True</td>\n",
       "      <td>515</td>\n",
       "      <td>flywire_fafb_production</td>\n",
       "      <td>True</td>\n",
       "    </tr>\n",
       "    <tr>\n",
       "      <th>7</th>\n",
       "      <td>2022-01-17 08:10:00</td>\n",
       "      <td>258</td>\n",
       "      <td>AVAILABLE</td>\n",
       "      <td>2121-02-18 08:10:00</td>\n",
       "      <td>True</td>\n",
       "      <td>247</td>\n",
       "      <td>flywire_fafb_production</td>\n",
       "      <td>True</td>\n",
       "    </tr>\n",
       "  </tbody>\n",
       "</table>\n",
       "</div>"
      ],
      "text/plain": [
       "           time_stamp  version     status          expires_on  is_merged   id  \\\n",
       "0 2024-01-27 05:10:00      842  AVAILABLE 2024-02-03 04:10:00      False  832   \n",
       "1 2024-01-17 05:10:00      837  AVAILABLE 2024-02-21 04:10:00      False  827   \n",
       "2 2024-01-03 05:10:00      830  AVAILABLE 2024-02-07 04:10:00      False  820   \n",
       "3 2023-09-30 05:10:00      783  AVAILABLE 2121-11-10 07:10:00      False  773   \n",
       "4 2023-03-21 08:10:00      630  AVAILABLE 2121-11-10 07:10:00       True  619   \n",
       "5 2023-01-10 08:11:00      571  AVAILABLE 2121-11-10 07:10:00       True  560   \n",
       "6 2022-11-17 08:10:00      526  AVAILABLE 2121-11-10 07:10:00       True  515   \n",
       "7 2022-01-17 08:10:00      258  AVAILABLE 2121-02-18 08:10:00       True  247   \n",
       "\n",
       "                 datastack  valid  \n",
       "0  flywire_fafb_production   True  \n",
       "1  flywire_fafb_production   True  \n",
       "2  flywire_fafb_production   True  \n",
       "3  flywire_fafb_production   True  \n",
       "4  flywire_fafb_production   True  \n",
       "5  flywire_fafb_production   True  \n",
       "6  flywire_fafb_production   True  \n",
       "7  flywire_fafb_production   True  "
      ]
     },
     "execution_count": 1,
     "metadata": {},
     "output_type": "execute_result"
    }
   ],
   "source": [
    "import pandas as pd\n",
    "import matplotlib.pyplot as plt\n",
    "from fafbseg import flywire\n",
    "import pymaid\n",
    "import navis\n",
    "import numpy as np\n",
    "import seaborn as sns\n",
    "import scipy.stats as stats\n",
    "import scikit_posthocs as sp\n",
    "\n",
    "flywire.get_materialization_versions()"
   ]
  },
  {
   "cell_type": "code",
   "execution_count": 2,
   "id": "3209f82a",
   "metadata": {},
   "outputs": [
    {
     "name": "stderr",
     "output_type": "stream",
     "text": [
      "INFO  : Global CATMAID instance set. Caching is ON. (pymaid)\n"
     ]
    }
   ],
   "source": [
    "#connect your catmaid instance\n",
    "instance=pymaid.CatmaidInstance('https://radagast.hms.harvard.edu/catmaidaedes',\"d2a69935210ef282654219ea391094e8599c851e\")"
   ]
  },
  {
   "cell_type": "code",
   "execution_count": 3,
   "id": "79a9ec29",
   "metadata": {},
   "outputs": [],
   "source": [
    "#initialize empty dataframe\n",
    "flyneurons=pd.DataFrame(columns=['id', 'total cable length', 'cable length in glom', 'unilateral feedforward', 'bilateral left feedforward', 'bilateral right feedforward', 'recurrent connections', 'glomerulus'])"
   ]
  },
  {
   "cell_type": "code",
   "execution_count": 4,
   "id": "a8601c54",
   "metadata": {},
   "outputs": [],
   "source": [
    "#load DM1 .ply files\n",
    "\n",
    "dm1_l=navis.read_mesh(\"../glom_meshes/DM1_R.ply\", output='volume') # DM1\n",
    "v_l=navis.read_mesh(\"../glom_meshes/V_R.ply\", output='volume') # V"
   ]
  },
  {
   "cell_type": "code",
   "execution_count": 5,
   "id": "bd72d42f",
   "metadata": {},
   "outputs": [],
   "source": [
    "dm1neurons=[720575940619419757,720575940629918762, 720575940632224031, 720575940637447514, 720575940614559163, 720575940614559163, 720575940622651389, 720575940631240296,720575940623942119, 720575940627253865, 720575940639427416, 720575940605328230, 720575940625821758, 720575940636187054, 720575940620574305, 720575940637472053, 720575940630496975, 720575940623993836, 720575940622281399, 720575940627996315, 720575940622276791, 720575940630664273, 720575940627316303,720575940629350782,720575940606001074, 720575940635562096, 720575940624223888, 720575940629918762, 720575940643980910, 720575940627526735, 720575940606001074, 720575940635562096, 720575940627253865, 720575940626779644, 720575940643980910, 720575940630496975]\n",
    "\n",
    "dm1_pn=720575940624688363"
   ]
  },
  {
   "cell_type": "code",
   "execution_count": 6,
   "id": "4b3dd6a6",
   "metadata": {},
   "outputs": [
    {
     "data": {
      "text/plain": [
       "array([], shape=(0, 8), dtype=int64)"
      ]
     },
     "execution_count": 6,
     "metadata": {},
     "output_type": "execute_result"
    }
   ],
   "source": [
    "flywire.supervoxels_to_roots(flyneurons, progress=True, dataset='production')"
   ]
  },
  {
   "cell_type": "code",
   "execution_count": 7,
   "id": "1591a51e",
   "metadata": {},
   "outputs": [
    {
     "name": "stdout",
     "output_type": "stream",
     "text": [
      "Using materialization version 571\n",
      "Using materialization version 630\n",
      "Using materialization version 571\n",
      "Using materialization version 630\n",
      "Using materialization version 571\n",
      "Using materialization version 630\n",
      "Using materialization version 571\n",
      "Using materialization version 630\n",
      "Using materialization version 571\n",
      "Using materialization version 630\n",
      "Using materialization version 571\n",
      "Using materialization version 630\n",
      "Using materialization version 571\n",
      "Using materialization version 630\n",
      "Using materialization version 571\n",
      "Using materialization version 630\n",
      "Using materialization version 571\n",
      "Using materialization version 630\n",
      "Using materialization version 571\n",
      "Using materialization version 630\n",
      "Using materialization version 571\n",
      "Using materialization version 630\n",
      "Using materialization version 571\n",
      "Using materialization version 630\n",
      "Using materialization version 571\n",
      "Using materialization version 630\n",
      "Using materialization version 571\n",
      "Using materialization version 630\n",
      "Using materialization version 571\n",
      "Using materialization version 630\n",
      "Using materialization version 571\n",
      "Using materialization version 630\n",
      "Using materialization version 571\n",
      "Using materialization version 630\n",
      "Using materialization version 571\n",
      "Using materialization version 630\n",
      "Using materialization version 571\n",
      "Using materialization version 630\n",
      "Using materialization version 571\n",
      "Using materialization version 630\n",
      "Using materialization version 571\n",
      "Using materialization version 630\n",
      "Using materialization version 571\n",
      "Using materialization version 630\n",
      "Using materialization version 571\n",
      "Using materialization version 630\n",
      "Using materialization version 571\n",
      "Using materialization version 630\n",
      "Using materialization version 571\n",
      "Using materialization version 630\n",
      "Using materialization version 571\n",
      "Using materialization version 630\n",
      "Using materialization version 571\n",
      "Using materialization version 630\n",
      "Using materialization version 571\n",
      "Using materialization version 630\n",
      "Using materialization version 571\n",
      "Using materialization version 630\n",
      "Using materialization version 571\n",
      "Using materialization version 630\n",
      "Using materialization version 571\n",
      "Using materialization version 630\n",
      "Using materialization version 571\n",
      "Using materialization version 630\n",
      "Using materialization version 571\n",
      "Using materialization version 630\n",
      "Using materialization version 571\n",
      "Using materialization version 630\n",
      "Using materialization version 571\n",
      "Using materialization version 630\n",
      "Using materialization version 571\n",
      "Using materialization version 630\n"
     ]
    }
   ],
   "source": [
    "for n in dm1neurons:\n",
    "    #get cable length in the glomerulus\n",
    "    skel=flywire.skeletonize_neuron(n, progress=False)\n",
    "    skel_involume=navis.in_volume(skel, dm1_l)\n",
    "\n",
    "    #get feedforward connectivity in the glomerulus\n",
    "    feedforward_connectivity=flywire.synapses.fetch_adjacency(skel, targets=dm1_pn, dataset='production', min_score=65, progress=True)\n",
    "#    feedforward_connectivity=flywire.synapses.get_adjacency(skel, targets=dm1_pn, dataset='production', min_score=65, progress=True)\n",
    "\n",
    "    #extract values from the dataframes\n",
    "    feedforward_value=int(feedforward_connectivity.iloc[0])\n",
    "\n",
    "\n",
    "    #get recurrent connectivity in the glomerulus\n",
    "    recurrent_connectivity=flywire.synapses.fetch_adjacency(skel_involume,targets=dm1neurons, dataset='production', min_score=65, progress=True)\n",
    "    #recurrent_connectivity=flywire.synapses.get_adjacency(skel_involume,targets=dm1neurons, dataset='production', min_score=65, progress=True)\n",
    "    sum_recurrent=recurrent_connectivity.iloc[0].sum()\n",
    "\n",
    "    #append to the dataframe\n",
    "    flyneurons=flyneurons.append({'id':n, 'total cable length':skel.cable_length, 'cable length in glom':skel_involume.cable_length, 'unilateral feedforward':feedforward_value, 'recurrent connections':sum_recurrent, 'glomerulus':'DM1'}, ignore_index=True)"
   ]
  },
  {
   "cell_type": "code",
   "execution_count": 8,
   "id": "69883884",
   "metadata": {},
   "outputs": [],
   "source": [
    "vneurons=[720575940642968776, 720575940627586091, 720575940626822916, 720575940621315293, 720575940617067305, 720575940614548765, 720575940617989417, 720575940633817405, 720575940614053149, 720575940614037533, 720575940612901807, 720575940626329993, 720575940620411764, 720575940614054685, 720575940629644375, 720575940620511732, 720575940623854311, 720575940627817260, 720575940614548253, 720575940614053405, 720575940612700450, 720575940626822916, 720575940638026842, 720575940607239947, 720575940633509949,720575940629424195, 720575940628499322, 720575940616923945, 720575940623771580, 720575940612704802, 720575940617650407, 720575940633802045, 720575940621192436, 720575940627890231]\n",
    "\n",
    "v_bilateral_rightsoma=720575940626143806\n",
    "v_bilateral_leftsoma=720575940630546540\n",
    "v_unilateral=720575940637910106"
   ]
  },
  {
   "cell_type": "code",
   "execution_count": 9,
   "id": "05540f7e",
   "metadata": {},
   "outputs": [
    {
     "name": "stdout",
     "output_type": "stream",
     "text": [
      "Using materialization version 842\n",
      "Using materialization version 842\n",
      "Using materialization version 842\n",
      "Using materialization version 842\n",
      "Using materialization version 842\n",
      "Using materialization version 842\n",
      "Using materialization version 842\n",
      "Using materialization version 842\n",
      "Using materialization version 842\n",
      "Using materialization version 842\n",
      "Using materialization version 842\n",
      "Using materialization version 842\n",
      "Using materialization version 842\n",
      "Using materialization version 842\n",
      "Using materialization version 842\n",
      "Using materialization version 842\n",
      "Using materialization version 842\n",
      "Using materialization version 842\n",
      "Using materialization version 842\n",
      "Using materialization version 842\n",
      "Using materialization version 842\n",
      "Using materialization version 842\n",
      "Using materialization version 842\n",
      "Using materialization version 842\n",
      "Using materialization version 842\n",
      "Using materialization version 842\n",
      "Using materialization version 842\n",
      "Using materialization version 842\n",
      "Using materialization version 842\n",
      "Using materialization version 842\n",
      "Using materialization version 842\n",
      "Using materialization version 842\n",
      "Using materialization version 842\n",
      "Using materialization version 842\n",
      "Using materialization version 842\n",
      "Using materialization version 842\n",
      "Using materialization version 842\n",
      "Using materialization version 842\n",
      "Using materialization version 842\n",
      "Using materialization version 842\n",
      "Using materialization version 842\n",
      "Using materialization version 842\n",
      "Using materialization version 842\n",
      "Using materialization version 842\n",
      "Using materialization version 842\n",
      "Using materialization version 842\n",
      "Using materialization version 842\n",
      "Using materialization version 842\n",
      "Using materialization version 842\n",
      "Using materialization version 842\n",
      "Using materialization version 842\n",
      "Using materialization version 842\n",
      "Using materialization version 842\n",
      "Using materialization version 842\n",
      "Using materialization version 842\n",
      "Using materialization version 842\n",
      "Using materialization version 842\n",
      "Using materialization version 842\n",
      "Using materialization version 842\n",
      "Using materialization version 842\n",
      "Using materialization version 842\n",
      "Using materialization version 842\n",
      "Using materialization version 842\n",
      "Using materialization version 842\n",
      "Using materialization version 842\n",
      "Using materialization version 842\n",
      "Using materialization version 842\n",
      "Using materialization version 842\n",
      "Using materialization version 842\n",
      "Using materialization version 842\n",
      "Using materialization version 842\n",
      "Using materialization version 842\n",
      "Using materialization version 842\n",
      "Using materialization version 842\n",
      "Using materialization version 842\n",
      "Using materialization version 842\n",
      "Using materialization version 842\n",
      "Using materialization version 842\n",
      "Using materialization version 842\n",
      "Using materialization version 842\n",
      "Using materialization version 842\n",
      "Using materialization version 842\n",
      "Using materialization version 842\n",
      "Using materialization version 842\n",
      "Using materialization version 842\n",
      "Using materialization version 842\n",
      "Using materialization version 842\n",
      "Using materialization version 842\n",
      "Using materialization version 842\n",
      "Using materialization version 842\n",
      "Using materialization version 842\n",
      "Using materialization version 842\n",
      "Using materialization version 842\n",
      "Using materialization version 842\n",
      "Using materialization version 842\n",
      "Using materialization version 842\n",
      "Using materialization version 842\n",
      "Using materialization version 842\n",
      "Using materialization version 842\n",
      "Using materialization version 842\n",
      "Using materialization version 842\n",
      "Using materialization version 842\n",
      "Using materialization version 842\n",
      "Using materialization version 842\n",
      "Using materialization version 842\n",
      "Using materialization version 842\n",
      "Using materialization version 842\n",
      "Using materialization version 842\n",
      "Using materialization version 842\n",
      "Using materialization version 842\n",
      "Using materialization version 842\n",
      "Using materialization version 842\n",
      "Using materialization version 842\n",
      "Using materialization version 842\n",
      "Using materialization version 842\n",
      "Using materialization version 842\n",
      "Using materialization version 842\n",
      "Using materialization version 842\n",
      "Using materialization version 842\n",
      "Using materialization version 842\n",
      "Using materialization version 842\n",
      "Using materialization version 842\n",
      "Using materialization version 842\n",
      "Using materialization version 842\n",
      "Using materialization version 842\n",
      "Using materialization version 842\n",
      "Using materialization version 842\n",
      "Using materialization version 842\n",
      "Using materialization version 842\n",
      "Using materialization version 842\n",
      "Using materialization version 842\n",
      "Using materialization version 842\n",
      "Using materialization version 842\n",
      "Using materialization version 842\n",
      "Using materialization version 842\n",
      "Using materialization version 842\n"
     ]
    }
   ],
   "source": [
    "for n in vneurons:\n",
    "    #get cable length in the glomerulus\n",
    "    skel=flywire.skeletonize_neuron(n, progress=False)\n",
    "    skel_involume=navis.in_volume(skel, v_l)\n",
    "\n",
    "    #get feedforward connectivity in the glomerulus\n",
    "    feedforward_bilateral_rightsoma_connectivity=flywire.synapses.fetch_adjacency(skel, targets=v_bilateral_rightsoma, min_score=65, dataset='production', progress=True)\n",
    "    feedforward_bilateral_leftsoma_connectivity=flywire.synapses.fetch_adjacency(skel, targets=v_bilateral_leftsoma, min_score=65, dataset='production', progress=True)\n",
    "    feedforward_unilateral=flywire.synapses.fetch_adjacency(skel, targets=v_unilateral, dataset='production', min_score=60, progress=True)\n",
    "\n",
    "    #extract values from the dataframes\n",
    "    bilateral_leftsoma_value=int(feedforward_bilateral_leftsoma_connectivity.iloc[0])\n",
    "    bilateral_rightsoma_value=int(feedforward_bilateral_rightsoma_connectivity.iloc[0])\n",
    "    unilateral_value=int(feedforward_unilateral.iloc[0])\n",
    "\n",
    "    #find total synapses to all V uPNs\n",
    "    total_value=bilateral_leftsoma_value + bilateral_rightsoma_value + unilateral_value\n",
    "\n",
    "\n",
    "    #get recurrent connectivity in the glomerulus\n",
    "    recurrent_connectivity=flywire.synapses.fetch_adjacency(skel_involume,targets=vneurons, min_score=65, dataset='production', progress=True)\n",
    "    sum_recurrent=recurrent_connectivity.iloc[0].sum()\n",
    "\n",
    "    #append to the dataframe\n",
    "    flyneurons=flyneurons.append({'id':n, 'total cable length':skel.cable_length, 'cable length in glom':skel_involume.cable_length, 'unilateral feedforward':unilateral_value, 'bilateral left feedforward':bilateral_leftsoma_value, 'bilateral right feedforward':bilateral_rightsoma_value, 'feedforward total': total_value,'recurrent connections':sum_recurrent, 'glomerulus':'V'}, ignore_index=True)"
   ]
  },
  {
   "cell_type": "code",
   "execution_count": 10,
   "id": "88028073",
   "metadata": {},
   "outputs": [
    {
     "name": "stderr",
     "output_type": "stream",
     "text": [
      "INFO  : Cached data used. Use `pymaid.clear_cache()` to clear. (pymaid)\n"
     ]
    },
    {
     "data": {
      "application/vnd.jupyter.widget-view+json": {
       "model_id": "",
       "version_major": 2,
       "version_minor": 0
      },
      "text/plain": [
       "Fetch neurons:   0%|          | 0/10 [00:00<?, ?it/s]"
      ]
     },
     "metadata": {},
     "output_type": "display_data"
    },
    {
     "data": {
      "application/vnd.jupyter.widget-view+json": {
       "model_id": "",
       "version_major": 2,
       "version_minor": 0
      },
      "text/plain": [
       "Make nrn:   0%|          | 0/10 [00:00<?, ?it/s]"
      ]
     },
     "metadata": {},
     "output_type": "display_data"
    },
    {
     "data": {
      "application/vnd.jupyter.widget-view+json": {
       "model_id": "",
       "version_major": 2,
       "version_minor": 0
      },
      "text/plain": [
       "Fetch neurons:   0%|          | 0/45 [00:00<?, ?it/s]"
      ]
     },
     "metadata": {},
     "output_type": "display_data"
    },
    {
     "name": "stderr",
     "output_type": "stream",
     "text": [
      "INFO  : Cached data used. Use `pymaid.clear_cache()` to clear. (pymaid)\n"
     ]
    },
    {
     "data": {
      "application/vnd.jupyter.widget-view+json": {
       "model_id": "",
       "version_major": 2,
       "version_minor": 0
      },
      "text/plain": [
       "Make nrn:   0%|          | 0/45 [00:00<?, ?it/s]"
      ]
     },
     "metadata": {},
     "output_type": "display_data"
    }
   ],
   "source": [
    "#MD1\n",
    "MD1OSNs = pymaid.get_skids_by_annotation(['innervates MD1', 'left palp nerve', 'sensory neuron', 'PSPs done'], allow_partial = False, intersect = True)\n",
    "MD1OSNsALL = pymaid.get_skids_by_annotation(['innervates MD1', 'left palp nerve', 'sensory neuron'], allow_partial = False, intersect = True)\n",
    "MD1neurons = pymaid.get_neuron(MD1OSNs)\n",
    "MD1neuronsALL = pymaid.get_neuron(MD1OSNsALL)"
   ]
  },
  {
   "cell_type": "code",
   "execution_count": 11,
   "id": "0dad4f46",
   "metadata": {},
   "outputs": [
    {
     "name": "stdout",
     "output_type": "stream",
     "text": [
      "7172\n"
     ]
    },
    {
     "name": "stderr",
     "output_type": "stream",
     "text": [
      "INFO  : Cached data used. Use `pymaid.clear_cache()` to clear. (pymaid)\n"
     ]
    },
    {
     "name": "stdout",
     "output_type": "stream",
     "text": [
      "453680.44\n",
      "7815\n",
      "406781.8\n"
     ]
    },
    {
     "name": "stderr",
     "output_type": "stream",
     "text": [
      "INFO  : Cached data used. Use `pymaid.clear_cache()` to clear. (pymaid)\n"
     ]
    },
    {
     "name": "stdout",
     "output_type": "stream",
     "text": [
      "873\n",
      "569447.6\n"
     ]
    },
    {
     "name": "stderr",
     "output_type": "stream",
     "text": [
      "INFO  : Cached data used. Use `pymaid.clear_cache()` to clear. (pymaid)\n"
     ]
    },
    {
     "name": "stdout",
     "output_type": "stream",
     "text": [
      "6736\n",
      "445835.0\n"
     ]
    },
    {
     "name": "stderr",
     "output_type": "stream",
     "text": [
      "INFO  : Cached data used. Use `pymaid.clear_cache()` to clear. (pymaid)\n"
     ]
    },
    {
     "name": "stdout",
     "output_type": "stream",
     "text": [
      "881\n",
      "506129.0\n"
     ]
    },
    {
     "name": "stderr",
     "output_type": "stream",
     "text": [
      "INFO  : Cached data used. Use `pymaid.clear_cache()` to clear. (pymaid)\n"
     ]
    },
    {
     "name": "stdout",
     "output_type": "stream",
     "text": [
      "6975\n",
      "391274.06\n"
     ]
    },
    {
     "name": "stderr",
     "output_type": "stream",
     "text": [
      "INFO  : Cached data used. Use `pymaid.clear_cache()` to clear. (pymaid)\n"
     ]
    },
    {
     "name": "stdout",
     "output_type": "stream",
     "text": [
      "324409\n",
      "416095.0\n"
     ]
    },
    {
     "name": "stderr",
     "output_type": "stream",
     "text": [
      "INFO  : Cached data used. Use `pymaid.clear_cache()` to clear. (pymaid)\n"
     ]
    },
    {
     "name": "stdout",
     "output_type": "stream",
     "text": [
      "953\n",
      "529873.44\n"
     ]
    },
    {
     "name": "stderr",
     "output_type": "stream",
     "text": [
      "INFO  : Cached data used. Use `pymaid.clear_cache()` to clear. (pymaid)\n"
     ]
    },
    {
     "name": "stdout",
     "output_type": "stream",
     "text": [
      "5021\n",
      "284710.38\n"
     ]
    },
    {
     "name": "stderr",
     "output_type": "stream",
     "text": [
      "INFO  : Cached data used. Use `pymaid.clear_cache()` to clear. (pymaid)\n"
     ]
    },
    {
     "name": "stdout",
     "output_type": "stream",
     "text": [
      "671\n",
      "629597.1\n"
     ]
    }
   ],
   "source": [
    "for n in MD1neurons:\n",
    "    skeletonid=n.skeleton_id\n",
    "    skelid=int(skeletonid)\n",
    "    print(skelid)\n",
    "    labels = pymaid.get_label_list()\n",
    "    neuronlabels=labels[labels.skeleton_id==skelid]\n",
    "    branchpoint=neuronlabels[neuronlabels.tag=='first branch point']\n",
    "\n",
    "    if len(branchpoint) !=1:\n",
    "        print('error, neuron skelid=%i does not have exactly 1 branchpoint tag'% skelid)\n",
    "    else: bpnode=branchpoint.node_id.values[0]\n",
    "\n",
    "    #cut the neuron\n",
    "    dist,prox=navis.cut_skeleton(n, bpnode)\n",
    "    dlength=dist.cable_length\n",
    "    print(dlength)\n",
    "    plength=prox.cable_length\n",
    "\n",
    "    #feedforward connections\n",
    "    feedforward = pymaid.adjacency_matrix(n, targets=295)\n",
    "    feedforward_value=int(feedforward.iloc[0])\n",
    "\n",
    "    #recurrent connections\n",
    "    recurrent = pymaid.adjacency_matrix(n, targets=MD1neuronsALL)\n",
    "    sum_recurrent=recurrent.iloc[0].sum()\n",
    "\n",
    "    #append to dataframe\n",
    "    flyneurons=flyneurons.append({'id':n, 'total cable length':n.cable_length, 'cable length in glom':dlength, \n",
    "    'unilateral feedforward':feedforward_value, 'recurrent connections': sum_recurrent, 'glomerulus':'Glomerulus 1'}, ignore_index=True)"
   ]
  },
  {
   "cell_type": "code",
   "execution_count": 12,
   "id": "7e132132",
   "metadata": {},
   "outputs": [
    {
     "data": {
      "text/html": [
       "<div>\n",
       "<style scoped>\n",
       "    .dataframe tbody tr th:only-of-type {\n",
       "        vertical-align: middle;\n",
       "    }\n",
       "\n",
       "    .dataframe tbody tr th {\n",
       "        vertical-align: top;\n",
       "    }\n",
       "\n",
       "    .dataframe thead th {\n",
       "        text-align: right;\n",
       "    }\n",
       "</style>\n",
       "<table border=\"1\" class=\"dataframe\">\n",
       "  <thead>\n",
       "    <tr style=\"text-align: right;\">\n",
       "      <th></th>\n",
       "      <th>id</th>\n",
       "      <th>total cable length</th>\n",
       "      <th>cable length in glom</th>\n",
       "      <th>unilateral feedforward</th>\n",
       "      <th>bilateral left feedforward</th>\n",
       "      <th>bilateral right feedforward</th>\n",
       "      <th>recurrent connections</th>\n",
       "      <th>glomerulus</th>\n",
       "      <th>feedforward total</th>\n",
       "    </tr>\n",
       "  </thead>\n",
       "  <tbody>\n",
       "    <tr>\n",
       "      <th>0</th>\n",
       "      <td>720575940619419757</td>\n",
       "      <td>599570.069701</td>\n",
       "      <td>135.537659</td>\n",
       "      <td>81</td>\n",
       "      <td>NaN</td>\n",
       "      <td>NaN</td>\n",
       "      <td>43.0</td>\n",
       "      <td>DM1</td>\n",
       "      <td>NaN</td>\n",
       "    </tr>\n",
       "    <tr>\n",
       "      <th>1</th>\n",
       "      <td>720575940629918762</td>\n",
       "      <td>581451.449598</td>\n",
       "      <td>135.301469</td>\n",
       "      <td>53</td>\n",
       "      <td>NaN</td>\n",
       "      <td>NaN</td>\n",
       "      <td>77.0</td>\n",
       "      <td>DM1</td>\n",
       "      <td>NaN</td>\n",
       "    </tr>\n",
       "    <tr>\n",
       "      <th>2</th>\n",
       "      <td>720575940632224031</td>\n",
       "      <td>587856.167319</td>\n",
       "      <td>181.379494</td>\n",
       "      <td>117</td>\n",
       "      <td>NaN</td>\n",
       "      <td>NaN</td>\n",
       "      <td>61.0</td>\n",
       "      <td>DM1</td>\n",
       "      <td>NaN</td>\n",
       "    </tr>\n",
       "    <tr>\n",
       "      <th>3</th>\n",
       "      <td>720575940637447514</td>\n",
       "      <td>612622.871568</td>\n",
       "      <td>153.90387</td>\n",
       "      <td>89</td>\n",
       "      <td>NaN</td>\n",
       "      <td>NaN</td>\n",
       "      <td>46.0</td>\n",
       "      <td>DM1</td>\n",
       "      <td>NaN</td>\n",
       "    </tr>\n",
       "    <tr>\n",
       "      <th>4</th>\n",
       "      <td>720575940614559163</td>\n",
       "      <td>669748.750743</td>\n",
       "      <td>150.689067</td>\n",
       "      <td>84</td>\n",
       "      <td>NaN</td>\n",
       "      <td>NaN</td>\n",
       "      <td>79.0</td>\n",
       "      <td>DM1</td>\n",
       "      <td>NaN</td>\n",
       "    </tr>\n",
       "    <tr>\n",
       "      <th>...</th>\n",
       "      <td>...</td>\n",
       "      <td>...</td>\n",
       "      <td>...</td>\n",
       "      <td>...</td>\n",
       "      <td>...</td>\n",
       "      <td>...</td>\n",
       "      <td>...</td>\n",
       "      <td>...</td>\n",
       "      <td>...</td>\n",
       "    </tr>\n",
       "    <tr>\n",
       "      <th>75</th>\n",
       "      <td>type            CatmaidNeuron\\nname           ...</td>\n",
       "      <td>536363.625</td>\n",
       "      <td>391.274063</td>\n",
       "      <td>145</td>\n",
       "      <td>NaN</td>\n",
       "      <td>NaN</td>\n",
       "      <td>333</td>\n",
       "      <td>Glomerulus 1</td>\n",
       "      <td>NaN</td>\n",
       "    </tr>\n",
       "    <tr>\n",
       "      <th>76</th>\n",
       "      <td>type            CatmaidNeuron\\nname           ...</td>\n",
       "      <td>477346.125</td>\n",
       "      <td>416.095</td>\n",
       "      <td>184</td>\n",
       "      <td>NaN</td>\n",
       "      <td>NaN</td>\n",
       "      <td>294</td>\n",
       "      <td>Glomerulus 1</td>\n",
       "      <td>NaN</td>\n",
       "    </tr>\n",
       "    <tr>\n",
       "      <th>77</th>\n",
       "      <td>type            CatmaidNeuron\\nname           ...</td>\n",
       "      <td>622672.9375</td>\n",
       "      <td>529.873438</td>\n",
       "      <td>151</td>\n",
       "      <td>NaN</td>\n",
       "      <td>NaN</td>\n",
       "      <td>303</td>\n",
       "      <td>Glomerulus 1</td>\n",
       "      <td>NaN</td>\n",
       "    </tr>\n",
       "    <tr>\n",
       "      <th>78</th>\n",
       "      <td>type            CatmaidNeuron\\nname           ...</td>\n",
       "      <td>366456.9375</td>\n",
       "      <td>284.710375</td>\n",
       "      <td>89</td>\n",
       "      <td>NaN</td>\n",
       "      <td>NaN</td>\n",
       "      <td>148</td>\n",
       "      <td>Glomerulus 1</td>\n",
       "      <td>NaN</td>\n",
       "    </tr>\n",
       "    <tr>\n",
       "      <th>79</th>\n",
       "      <td>type            CatmaidNeuron\\nname           ...</td>\n",
       "      <td>722904.375</td>\n",
       "      <td>629.597125</td>\n",
       "      <td>132</td>\n",
       "      <td>NaN</td>\n",
       "      <td>NaN</td>\n",
       "      <td>261</td>\n",
       "      <td>Glomerulus 1</td>\n",
       "      <td>NaN</td>\n",
       "    </tr>\n",
       "  </tbody>\n",
       "</table>\n",
       "<p>80 rows × 9 columns</p>\n",
       "</div>"
      ],
      "text/plain": [
       "                                                   id total cable length  \\\n",
       "0                                  720575940619419757      599570.069701   \n",
       "1                                  720575940629918762      581451.449598   \n",
       "2                                  720575940632224031      587856.167319   \n",
       "3                                  720575940637447514      612622.871568   \n",
       "4                                  720575940614559163      669748.750743   \n",
       "..                                                ...                ...   \n",
       "75  type            CatmaidNeuron\\nname           ...         536363.625   \n",
       "76  type            CatmaidNeuron\\nname           ...         477346.125   \n",
       "77  type            CatmaidNeuron\\nname           ...        622672.9375   \n",
       "78  type            CatmaidNeuron\\nname           ...        366456.9375   \n",
       "79  type            CatmaidNeuron\\nname           ...         722904.375   \n",
       "\n",
       "   cable length in glom unilateral feedforward bilateral left feedforward  \\\n",
       "0            135.537659                     81                        NaN   \n",
       "1            135.301469                     53                        NaN   \n",
       "2            181.379494                    117                        NaN   \n",
       "3             153.90387                     89                        NaN   \n",
       "4            150.689067                     84                        NaN   \n",
       "..                  ...                    ...                        ...   \n",
       "75           391.274063                    145                        NaN   \n",
       "76              416.095                    184                        NaN   \n",
       "77           529.873438                    151                        NaN   \n",
       "78           284.710375                     89                        NaN   \n",
       "79           629.597125                    132                        NaN   \n",
       "\n",
       "   bilateral right feedforward recurrent connections    glomerulus  \\\n",
       "0                          NaN                  43.0           DM1   \n",
       "1                          NaN                  77.0           DM1   \n",
       "2                          NaN                  61.0           DM1   \n",
       "3                          NaN                  46.0           DM1   \n",
       "4                          NaN                  79.0           DM1   \n",
       "..                         ...                   ...           ...   \n",
       "75                         NaN                   333  Glomerulus 1   \n",
       "76                         NaN                   294  Glomerulus 1   \n",
       "77                         NaN                   303  Glomerulus 1   \n",
       "78                         NaN                   148  Glomerulus 1   \n",
       "79                         NaN                   261  Glomerulus 1   \n",
       "\n",
       "    feedforward total  \n",
       "0                 NaN  \n",
       "1                 NaN  \n",
       "2                 NaN  \n",
       "3                 NaN  \n",
       "4                 NaN  \n",
       "..                ...  \n",
       "75                NaN  \n",
       "76                NaN  \n",
       "77                NaN  \n",
       "78                NaN  \n",
       "79                NaN  \n",
       "\n",
       "[80 rows x 9 columns]"
      ]
     },
     "execution_count": 12,
     "metadata": {},
     "output_type": "execute_result"
    }
   ],
   "source": [
    "flyneurons['cable length in glom']=flyneurons['cable length in glom']/1000\n",
    "flyneurons"
   ]
  },
  {
   "cell_type": "code",
   "execution_count": 13,
   "id": "1f5883d9",
   "metadata": {},
   "outputs": [],
   "source": [
    "flycsv=flyneurons.to_csv('../csvs/flyneurons.csv')"
   ]
  },
  {
   "cell_type": "code",
   "execution_count": 14,
   "id": "a07cdf32",
   "metadata": {},
   "outputs": [
    {
     "data": {
      "text/plain": [
       "70    453.680437\n",
       "71    406.781813\n",
       "72    569.447625\n",
       "73       445.835\n",
       "74       506.129\n",
       "75    391.274063\n",
       "76       416.095\n",
       "77    529.873438\n",
       "78    284.710375\n",
       "79    629.597125\n",
       "Name: cable length in glom, dtype: object"
      ]
     },
     "execution_count": 14,
     "metadata": {},
     "output_type": "execute_result"
    }
   ],
   "source": [
    "# cable\n",
    "Vcable=flyneurons.loc[flyneurons['glomerulus']=='V']['cable length in glom']\n",
    "DM1cable=flyneurons.loc[flyneurons['glomerulus']=='DM1']['cable length in glom']\n",
    "MD1cable=flyneurons.loc[flyneurons['glomerulus']=='Glomerulus 1']['cable length in glom']\n",
    "MD1cable"
   ]
  },
  {
   "cell_type": "code",
   "execution_count": 15,
   "id": "f8d8f402",
   "metadata": {},
   "outputs": [
    {
     "data": {
      "text/plain": [
       "[453.6804375,\n",
       " 406.7818125,\n",
       " 569.447625,\n",
       " 445.835,\n",
       " 506.129,\n",
       " 391.2740625,\n",
       " 416.095,\n",
       " 529.8734375,\n",
       " 284.710375,\n",
       " 629.597125]"
      ]
     },
     "execution_count": 15,
     "metadata": {},
     "output_type": "execute_result"
    }
   ],
   "source": [
    "# cable\n",
    "Vcable=flyneurons.loc[flyneurons['glomerulus']=='V']\n",
    "Vcl=Vcable['cable length in glom'].tolist()\n",
    "\n",
    "DM1cable=flyneurons.loc[flyneurons['glomerulus']=='DM1']\n",
    "DM1cl=DM1cable['cable length in glom'].tolist()\n",
    "\n",
    "MD1cable=flyneurons.loc[flyneurons['glomerulus']=='Glomerulus 1']\n",
    "MD1cl=MD1cable['cable length in glom'].tolist()\n",
    "MD1cl"
   ]
  },
  {
   "cell_type": "code",
   "execution_count": 16,
   "id": "5e97215d",
   "metadata": {},
   "outputs": [
    {
     "data": {
      "text/html": [
       "<div>\n",
       "<style scoped>\n",
       "    .dataframe tbody tr th:only-of-type {\n",
       "        vertical-align: middle;\n",
       "    }\n",
       "\n",
       "    .dataframe tbody tr th {\n",
       "        vertical-align: top;\n",
       "    }\n",
       "\n",
       "    .dataframe thead th {\n",
       "        text-align: right;\n",
       "    }\n",
       "</style>\n",
       "<table border=\"1\" class=\"dataframe\">\n",
       "  <thead>\n",
       "    <tr style=\"text-align: right;\">\n",
       "      <th></th>\n",
       "      <th>Glomerulus</th>\n",
       "      <th>cable length in glom</th>\n",
       "    </tr>\n",
       "  </thead>\n",
       "  <tbody>\n",
       "    <tr>\n",
       "      <th>0</th>\n",
       "      <td>V</td>\n",
       "      <td>210.406983</td>\n",
       "    </tr>\n",
       "    <tr>\n",
       "      <th>1</th>\n",
       "      <td>V</td>\n",
       "      <td>195.346567</td>\n",
       "    </tr>\n",
       "    <tr>\n",
       "      <th>2</th>\n",
       "      <td>V</td>\n",
       "      <td>187.644754</td>\n",
       "    </tr>\n",
       "    <tr>\n",
       "      <th>3</th>\n",
       "      <td>V</td>\n",
       "      <td>211.512249</td>\n",
       "    </tr>\n",
       "    <tr>\n",
       "      <th>4</th>\n",
       "      <td>V</td>\n",
       "      <td>196.249463</td>\n",
       "    </tr>\n",
       "    <tr>\n",
       "      <th>...</th>\n",
       "      <td>...</td>\n",
       "      <td>...</td>\n",
       "    </tr>\n",
       "    <tr>\n",
       "      <th>75</th>\n",
       "      <td>Glomerulus 1</td>\n",
       "      <td>391.274063</td>\n",
       "    </tr>\n",
       "    <tr>\n",
       "      <th>76</th>\n",
       "      <td>Glomerulus 1</td>\n",
       "      <td>416.095000</td>\n",
       "    </tr>\n",
       "    <tr>\n",
       "      <th>77</th>\n",
       "      <td>Glomerulus 1</td>\n",
       "      <td>529.873438</td>\n",
       "    </tr>\n",
       "    <tr>\n",
       "      <th>78</th>\n",
       "      <td>Glomerulus 1</td>\n",
       "      <td>284.710375</td>\n",
       "    </tr>\n",
       "    <tr>\n",
       "      <th>79</th>\n",
       "      <td>Glomerulus 1</td>\n",
       "      <td>629.597125</td>\n",
       "    </tr>\n",
       "  </tbody>\n",
       "</table>\n",
       "<p>80 rows × 2 columns</p>\n",
       "</div>"
      ],
      "text/plain": [
       "      Glomerulus  cable length in glom\n",
       "0              V            210.406983\n",
       "1              V            195.346567\n",
       "2              V            187.644754\n",
       "3              V            211.512249\n",
       "4              V            196.249463\n",
       "..           ...                   ...\n",
       "75  Glomerulus 1            391.274063\n",
       "76  Glomerulus 1            416.095000\n",
       "77  Glomerulus 1            529.873438\n",
       "78  Glomerulus 1            284.710375\n",
       "79  Glomerulus 1            629.597125\n",
       "\n",
       "[80 rows x 2 columns]"
      ]
     },
     "execution_count": 16,
     "metadata": {},
     "output_type": "execute_result"
    }
   ],
   "source": [
    "#make dataframe\n",
    "\n",
    "data_dict = {\"V\": Vcl, \"DM1\": DM1cl, \"Glomerulus 1\": MD1cl}\n",
    "pre_df = {\"Glomerulus\": [], \"cable length in glom\": []}\n",
    "for glom, dists in data_dict.items():\n",
    "    glom_list = [glom,]*len(dists)\n",
    "    pre_df[\"Glomerulus\"].extend(glom_list)    \n",
    "    pre_df[\"cable length in glom\"].extend(dists)\n",
    "\n",
    "df = pd.DataFrame.from_dict(pre_df)\n",
    "df"
   ]
  },
  {
   "cell_type": "code",
   "execution_count": 17,
   "id": "ee51b34d",
   "metadata": {},
   "outputs": [],
   "source": [
    "from seaborn.categorical import _ViolinPlotter\n",
    "class MyVPlot(_ViolinPlotter):\n",
    "    def draw_quartiles(self, ax, data, support, density, center, split=False, color='k'):\n",
    "        \"\"\"Draw the quartiles as lines at width of density.\"\"\"\n",
    "        q50 = np.mean(data)\n",
    "        self.draw_to_density(ax, center, q50, support, density, split,\n",
    "                             linewidth=self.linewidth, color=color)\n",
    "\n",
    "def my_violinplot2(x=None, y=None, hue=None, data=None, order=None, hue_order=None,\n",
    "                  bw=\"scott\", cut=0, scale=\"area\", scale_hue=True, gridsize=100,\n",
    "                  width=.8, inner=\"quartiles\", split=False, dodge=True, orient=None,\n",
    "                  linewidth=None, color=None, palette=None, saturation=.75,alpha=1,\n",
    "                  ax=None, edgecolor=None, **kwargs):\n",
    "\n",
    "    plotter = MyVPlot(x, y, hue, data, order, hue_order,\n",
    "                      bw, cut, scale, scale_hue, gridsize,\n",
    "                      width, inner, split, dodge, orient, linewidth,\n",
    "                      color, palette, saturation)\n",
    "    if ax is None:\n",
    "        ax = plt.gca()\n",
    "\n",
    "    plotter.plot(ax)\n",
    "    # change outlines\n",
    "    colors=[\"indigo\", \"darkorange\", \"violet\"]\n",
    "    for idx, violin in enumerate(ax.collections):\n",
    "        violin.set_edgecolor(colors[idx])\n",
    "    for l in ax.lines:\n",
    "        l.set_linestyle('-')\n",
    "        l.set_color('k')\n",
    "    return ax"
   ]
  },
  {
   "cell_type": "code",
   "execution_count": 18,
   "id": "9c643d68",
   "metadata": {},
   "outputs": [
    {
     "name": "stderr",
     "output_type": "stream",
     "text": [
      "findfont: Font family ['Liberation Sans'] not found. Falling back to DejaVu Sans.\n",
      "findfont: Font family ['Liberation Sans'] not found. Falling back to DejaVu Sans.\n"
     ]
    },
    {
     "data": {
      "image/png": "[encoded data removed]",
      "text/plain": [
       "<Figure size 432x432 with 1 Axes>"
      ]
     },
     "metadata": {
      "needs_background": "light"
     },
     "output_type": "display_data"
    }
   ],
   "source": [
    "#make cable length plot with annotations, from dataframe\n",
    "x = \"Glomerulus\"\n",
    "y = \"cable length in glom\"\n",
    "order = ['V', 'DM1', 'Glomerulus 1']\n",
    "plt.figure(figsize=(6,6))\n",
    "#ax = my_violinplot2(data=flyneurons, x=x, y=y, order=order, color=\"1\")\n",
    "#ax = sns.stripplot(data=flyneurons, x=x, y=y, order=order, palette=[\"indigo\", \"darkorange\", \"violet\"])\n",
    "ax = my_violinplot2(data=df,  x=x, y=y, order=order, color=\"1\")\n",
    "ax = sns.stripplot(data=df, x=x, y=y, order=order, palette=[\"indigo\", \"darkorange\", \"violet\"])\n",
    "ax.set_xlabel('Glomerulus', size=16, fontname=\"Liberation Sans\")\n",
    "ax.set_ylabel('OSN cable length in glomerulus (µm)', size=16, fontname=\"Liberation Sans\")\n",
    "plt.xticks(fontsize=14, fontname=\"Liberation Sans\")\n",
    "plt.yticks(fontsize=14, fontname=\"Liberation Sans\")\n",
    "ax.set_aspect(0.008)\n",
    "plt.ylim(0,650)\n",
    "plt.tick_params(axis='x', which='both', bottom=False, top=False)\n",
    "plt.tick_params(axis='y', which='both', left=True, right=False)\n",
    "sns.despine(fig=None, ax=None, top=True, right=True, left=False, bottom=True, offset=None, trim=False)\n",
    "\n",
    "plt.savefig('../svg/cablelength_MD1_DM1_V.svg', format=\"svg\")\n",
    "plt.show()"
   ]
  },
  {
   "cell_type": "code",
   "execution_count": 19,
   "id": "7f9b6429",
   "metadata": {},
   "outputs": [
    {
     "data": {
      "text/plain": [
       "KruskalResult(statistic=43.81987672929263, pvalue=3.052352379454173e-10)"
      ]
     },
     "execution_count": 19,
     "metadata": {},
     "output_type": "execute_result"
    }
   ],
   "source": [
    "kruskal=stats.kruskal(Vcl, DM1cl, MD1cl)\n",
    "kruskal"
   ]
  },
  {
   "cell_type": "code",
   "execution_count": 20,
   "id": "cada723b",
   "metadata": {},
   "outputs": [
    {
     "data": {
      "text/html": [
       "<div>\n",
       "<style scoped>\n",
       "    .dataframe tbody tr th:only-of-type {\n",
       "        vertical-align: middle;\n",
       "    }\n",
       "\n",
       "    .dataframe tbody tr th {\n",
       "        vertical-align: top;\n",
       "    }\n",
       "\n",
       "    .dataframe thead th {\n",
       "        text-align: right;\n",
       "    }\n",
       "</style>\n",
       "<table border=\"1\" class=\"dataframe\">\n",
       "  <thead>\n",
       "    <tr style=\"text-align: right;\">\n",
       "      <th></th>\n",
       "      <th>1</th>\n",
       "      <th>2</th>\n",
       "      <th>3</th>\n",
       "    </tr>\n",
       "  </thead>\n",
       "  <tbody>\n",
       "    <tr>\n",
       "      <th>1</th>\n",
       "      <td>1.000000</td>\n",
       "      <td>7.015826e-05</td>\n",
       "      <td>2.521895e-03</td>\n",
       "    </tr>\n",
       "    <tr>\n",
       "      <th>2</th>\n",
       "      <td>0.000070</td>\n",
       "      <td>1.000000e+00</td>\n",
       "      <td>1.803444e-09</td>\n",
       "    </tr>\n",
       "    <tr>\n",
       "      <th>3</th>\n",
       "      <td>0.002522</td>\n",
       "      <td>1.803444e-09</td>\n",
       "      <td>1.000000e+00</td>\n",
       "    </tr>\n",
       "  </tbody>\n",
       "</table>\n",
       "</div>"
      ],
      "text/plain": [
       "          1             2             3\n",
       "1  1.000000  7.015826e-05  2.521895e-03\n",
       "2  0.000070  1.000000e+00  1.803444e-09\n",
       "3  0.002522  1.803444e-09  1.000000e+00"
      ]
     },
     "execution_count": 20,
     "metadata": {},
     "output_type": "execute_result"
    }
   ],
   "source": [
    "sp.posthoc_dunn([Vcl, DM1cl, MD1cl], p_adjust = 'bonferroni')"
   ]
  },
  {
   "cell_type": "code",
   "execution_count": null,
   "id": "069a7d8b",
   "metadata": {},
   "outputs": [],
   "source": []
  }
 ],
 "metadata": {
  "kernelspec": {
   "display_name": "Python 3 (ipykernel)",
   "language": "python",
   "name": "python3"
  },
  "language_info": {
   "codemirror_mode": {
    "name": "ipython",
    "version": 3
   },
   "file_extension": ".py",
   "mimetype": "text/x-python",
   "name": "python",
   "nbconvert_exporter": "python",
   "pygments_lexer": "ipython3",
   "version": "3.9.10"
  }
 },
 "nbformat": 4,
 "nbformat_minor": 5
}
