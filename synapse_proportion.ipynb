{
 "cells": [
  {
   "cell_type": "code",
   "execution_count": 1,
   "id": "3f5729d2",
   "metadata": {},
   "outputs": [],
   "source": [
    "import pymaid\n",
    "import navis as nv\n",
    "import pandas as pd\n",
    "import matplotlib.pyplot as plt\n",
    "import seaborn as sns\n",
    "import numpy as np\n",
    "from statistics import mean, stdev\n",
    "import scipy.stats as stats\n",
    "from statannot import add_stat_annotation"
   ]
  },
  {
   "cell_type": "code",
   "execution_count": 2,
   "id": "f805c01e",
   "metadata": {},
   "outputs": [
    {
     "name": "stderr",
     "output_type": "stream",
     "text": [
      "INFO  : Global CATMAID instance set. Caching is ON. (pymaid)\n"
     ]
    }
   ],
   "source": [
    "rm = pymaid.CatmaidInstance('https://radagast.hms.harvard.edu/catmaidaedes',\n",
    "                            \"\")"
   ]
  },
  {
   "cell_type": "code",
   "execution_count": 3,
   "id": "5a8e9db7",
   "metadata": {},
   "outputs": [],
   "source": [
    "def uPN_synapses_over_OSN_synapses(OSNid, uPNid):\n",
    "    # Feedforward synapses / total output synapses.\n",
    "    # uPN must be '295', '690', '11126' as type() == string.\n",
    "    # for OSNs, can be either type() == string or int.\n",
    "    # Only use skeleton id, NOT SKELETON NAME.\n",
    "    \n",
    "    uPNid = str(uPNid)\n",
    "    uPNdict = {'295': \"MD1\", '690': 'MD2', '11126': 'MD3'}\n",
    "    \n",
    "    # These annotations are used to get and compare OSNs with provided OSN\n",
    "    OSN_annotations = ['sensory neuron', 'left palp nerve', 'PSPs done']\n",
    "    \n",
    "    # adds annotation based on provided uPN.\n",
    "    OSN_annotations.append('innervates ' + uPNdict.get(uPNid))\n",
    "\n",
    "    # Finds all of the synapses the given OSN is presynaptic to\n",
    "    OSN_neuron = pymaid.get_neuron(OSNid)\n",
    "    df = pymaid.get_connector_details(OSN_neuron)\n",
    "    #total_OSN_synapses = len(df[df.presynaptic_to == OSNid])\n",
    "    \n",
    "    # Finds partners\n",
    "    df1 = pymaid.get_partners(OSNid).set_index('skeleton_id')\n",
    "    \n",
    "    #sum ALL outgoing synapses\n",
    "    total_OSN_synapses=sum(df1[df1.relation=='downstream'].total)\n",
    "\n",
    "    # Tries to find the given OSN and uPN connections, and finds their totals\n",
    "    try:\n",
    "        total_uPN_synapses = df1[df1.relation == 'downstream'].loc[uPNid].total\n",
    "    except:\n",
    "        return \"OSN is not connected to given uPN.\"\n",
    "    \n",
    "    # Gets skeletons by given annotations above\n",
    "    OSNs = pymaid.get_skids_by_annotation('sensory neuron', 'left palp nerve', intersect=True)\n",
    "\n",
    "    # finds the total recurrent connectivity by summing along the axis of a 1-dimensional adjacency matrix\n",
    "    total_recurrent = float(pymaid.adjacency_matrix(sources=OSNid, targets=OSNs).sum(axis=1))\n",
    "    \n",
    "    # Print statements cuz why not\n",
    "    print(f\"Total Recurrent Synapses   = {total_recurrent}\")\n",
    "    print(f\"Total Feedforward Synapses = {total_uPN_synapses}\")\n",
    "    print(f\"Total {OSNid} Synapses     = {total_OSN_synapses}\")\n",
    "    print()\n",
    "    print(\"(Recurrent / Total Output Synapses, Feedforward / Total Output Synapses)\")\n",
    "    \n",
    "    # returns dictionary of data, can be converted to DataFrame by looping over target synapses\n",
    "    return {'uPN id': uPNid, 'OSN id': OSNid, 'Recurrent Synapses': total_recurrent, 'Feedforward Synapses': total_uPN_synapses, \n",
    "            \"Total OSN Synapses (Presynaptic)\": total_OSN_synapses, \"Recurrent Fraction\": (total_recurrent / total_OSN_synapses), \n",
    "            \"Feedforward Fraction\": (total_uPN_synapses / total_OSN_synapses)}"
   ]
  },
  {
   "cell_type": "code",
   "execution_count": 4,
   "id": "9f07bf77",
   "metadata": {
    "scrolled": true
   },
   "outputs": [
    {
     "data": {
      "application/vnd.jupyter.widget-view+json": {
       "model_id": "c2ca2aa5027348e8a3f61304e15382a4",
       "version_major": 2,
       "version_minor": 0
      },
      "text/plain": [
       "CN details:   0%|          | 0/1226 [00:00<?, ?it/s]"
      ]
     },
     "metadata": {},
     "output_type": "display_data"
    },
    {
     "name": "stderr",
     "output_type": "stream",
     "text": [
      "INFO  : Data for 1226 of 1226 unique connector IDs retrieved (pymaid)\n",
      "INFO  : Fetching connectivity table for 1 neurons (pymaid)\n",
      "INFO  : Done. Found 157 pre-, 441 postsynaptic and 0 gap junction-connected neurons (pymaid)\n",
      "INFO  : Cached data used. Use `pymaid.clear_cache()` to clear. (pymaid)\n"
     ]
    },
    {
     "name": "stdout",
     "output_type": "stream",
     "text": [
      "Total Recurrent Synapses   = 336.0\n",
      "Total Feedforward Synapses = 160.0\n",
      "Total 7172 Synapses     = 1854.0\n",
      "\n",
      "(Recurrent / Total Output Synapses, Feedforward / Total Output Synapses)\n"
     ]
    },
    {
     "data": {
      "application/vnd.jupyter.widget-view+json": {
       "model_id": "25121f7e211f4536b5e0090eabb23d5a",
       "version_major": 2,
       "version_minor": 0
      },
      "text/plain": [
       "CN details:   0%|          | 0/739 [00:00<?, ?it/s]"
      ]
     },
     "metadata": {},
     "output_type": "display_data"
    },
    {
     "name": "stderr",
     "output_type": "stream",
     "text": [
      "INFO  : Data for 739 of 739 unique connector IDs retrieved (pymaid)\n",
      "INFO  : Fetching connectivity table for 1 neurons (pymaid)\n",
      "INFO  : Done. Found 92 pre-, 409 postsynaptic and 0 gap junction-connected neurons (pymaid)\n",
      "INFO  : Cached data used. Use `pymaid.clear_cache()` to clear. (pymaid)\n",
      "INFO  : Cached data used. Use `pymaid.clear_cache()` to clear. (pymaid)\n"
     ]
    },
    {
     "name": "stdout",
     "output_type": "stream",
     "text": [
      "Total Recurrent Synapses   = 288.0\n",
      "Total Feedforward Synapses = 158.0\n",
      "Total 7815 Synapses     = 1672.0\n",
      "\n",
      "(Recurrent / Total Output Synapses, Feedforward / Total Output Synapses)\n"
     ]
    },
    {
     "data": {
      "application/vnd.jupyter.widget-view+json": {
       "model_id": "ec28171e7aac486c82c035dab8fe7770",
       "version_major": 2,
       "version_minor": 0
      },
      "text/plain": [
       "CN details:   0%|          | 0/542 [00:00<?, ?it/s]"
      ]
     },
     "metadata": {},
     "output_type": "display_data"
    },
    {
     "name": "stderr",
     "output_type": "stream",
     "text": [
      "INFO  : Data for 542 of 542 unique connector IDs retrieved (pymaid)\n",
      "INFO  : Fetching connectivity table for 1 neurons (pymaid)\n",
      "INFO  : Done. Found 74 pre-, 249 postsynaptic and 0 gap junction-connected neurons (pymaid)\n",
      "INFO  : Cached data used. Use `pymaid.clear_cache()` to clear. (pymaid)\n",
      "INFO  : Cached data used. Use `pymaid.clear_cache()` to clear. (pymaid)\n"
     ]
    },
    {
     "name": "stdout",
     "output_type": "stream",
     "text": [
      "Total Recurrent Synapses   = 240.0\n",
      "Total Feedforward Synapses = 131.0\n",
      "Total 1608 Synapses     = 1117.0\n",
      "\n",
      "(Recurrent / Total Output Synapses, Feedforward / Total Output Synapses)\n"
     ]
    },
    {
     "data": {
      "application/vnd.jupyter.widget-view+json": {
       "model_id": "4b4f6b75ac774ab098841f04f5a7f016",
       "version_major": 2,
       "version_minor": 0
      },
      "text/plain": [
       "CN details:   0%|          | 0/695 [00:00<?, ?it/s]"
      ]
     },
     "metadata": {},
     "output_type": "display_data"
    },
    {
     "name": "stderr",
     "output_type": "stream",
     "text": [
      "INFO  : Data for 695 of 695 unique connector IDs retrieved (pymaid)\n",
      "INFO  : Fetching connectivity table for 1 neurons (pymaid)\n",
      "INFO  : Done. Found 94 pre-, 310 postsynaptic and 0 gap junction-connected neurons (pymaid)\n",
      "INFO  : Cached data used. Use `pymaid.clear_cache()` to clear. (pymaid)\n",
      "INFO  : Cached data used. Use `pymaid.clear_cache()` to clear. (pymaid)\n"
     ]
    },
    {
     "name": "stdout",
     "output_type": "stream",
     "text": [
      "Total Recurrent Synapses   = 298.0\n",
      "Total Feedforward Synapses = 113.0\n",
      "Total 873 Synapses     = 1324.0\n",
      "\n",
      "(Recurrent / Total Output Synapses, Feedforward / Total Output Synapses)\n"
     ]
    },
    {
     "data": {
      "application/vnd.jupyter.widget-view+json": {
       "model_id": "a23824bbfb364e238db1e3ed0c33ed8d",
       "version_major": 2,
       "version_minor": 0
      },
      "text/plain": [
       "CN details:   0%|          | 0/929 [00:00<?, ?it/s]"
      ]
     },
     "metadata": {},
     "output_type": "display_data"
    },
    {
     "name": "stderr",
     "output_type": "stream",
     "text": [
      "INFO  : Data for 929 of 929 unique connector IDs retrieved (pymaid)\n",
      "INFO  : Fetching connectivity table for 1 neurons (pymaid)\n",
      "INFO  : Done. Found 128 pre-, 232 postsynaptic and 0 gap junction-connected neurons (pymaid)\n",
      "INFO  : Cached data used. Use `pymaid.clear_cache()` to clear. (pymaid)\n",
      "INFO  : Cached data used. Use `pymaid.clear_cache()` to clear. (pymaid)\n"
     ]
    },
    {
     "name": "stdout",
     "output_type": "stream",
     "text": [
      "Total Recurrent Synapses   = 301.0\n",
      "Total Feedforward Synapses = 115.0\n",
      "Total 6736 Synapses     = 1292.0\n",
      "\n",
      "(Recurrent / Total Output Synapses, Feedforward / Total Output Synapses)\n"
     ]
    },
    {
     "data": {
      "application/vnd.jupyter.widget-view+json": {
       "model_id": "921b9a2535a04fbca18d45f195ebdcc3",
       "version_major": 2,
       "version_minor": 0
      },
      "text/plain": [
       "CN details:   0%|          | 0/1095 [00:00<?, ?it/s]"
      ]
     },
     "metadata": {},
     "output_type": "display_data"
    },
    {
     "name": "stderr",
     "output_type": "stream",
     "text": [
      "INFO  : Data for 1095 of 1095 unique connector IDs retrieved (pymaid)\n",
      "INFO  : Fetching connectivity table for 1 neurons (pymaid)\n",
      "INFO  : Done. Found 145 pre-, 340 postsynaptic and 0 gap junction-connected neurons (pymaid)\n",
      "INFO  : Cached data used. Use `pymaid.clear_cache()` to clear. (pymaid)\n",
      "INFO  : Cached data used. Use `pymaid.clear_cache()` to clear. (pymaid)\n"
     ]
    },
    {
     "name": "stdout",
     "output_type": "stream",
     "text": [
      "Total Recurrent Synapses   = 365.0\n",
      "Total Feedforward Synapses = 155.0\n",
      "Total 881 Synapses     = 1574.0\n",
      "\n",
      "(Recurrent / Total Output Synapses, Feedforward / Total Output Synapses)\n"
     ]
    },
    {
     "data": {
      "application/vnd.jupyter.widget-view+json": {
       "model_id": "f2e249264eac428ca17d77f9840ffe77",
       "version_major": 2,
       "version_minor": 0
      },
      "text/plain": [
       "CN details:   0%|          | 0/665 [00:00<?, ?it/s]"
      ]
     },
     "metadata": {},
     "output_type": "display_data"
    },
    {
     "name": "stderr",
     "output_type": "stream",
     "text": [
      "INFO  : Data for 665 of 665 unique connector IDs retrieved (pymaid)\n",
      "INFO  : Fetching connectivity table for 1 neurons (pymaid)\n",
      "INFO  : Done. Found 92 pre-, 339 postsynaptic and 0 gap junction-connected neurons (pymaid)\n",
      "INFO  : Cached data used. Use `pymaid.clear_cache()` to clear. (pymaid)\n",
      "INFO  : Cached data used. Use `pymaid.clear_cache()` to clear. (pymaid)\n"
     ]
    },
    {
     "name": "stdout",
     "output_type": "stream",
     "text": [
      "Total Recurrent Synapses   = 334.0\n",
      "Total Feedforward Synapses = 145.0\n",
      "Total 6975 Synapses     = 1523.0\n",
      "\n",
      "(Recurrent / Total Output Synapses, Feedforward / Total Output Synapses)\n"
     ]
    },
    {
     "data": {
      "application/vnd.jupyter.widget-view+json": {
       "model_id": "f0a74cab579c42f184f7f109b4782785",
       "version_major": 2,
       "version_minor": 0
      },
      "text/plain": [
       "CN details:   0%|          | 0/1055 [00:00<?, ?it/s]"
      ]
     },
     "metadata": {},
     "output_type": "display_data"
    },
    {
     "name": "stderr",
     "output_type": "stream",
     "text": [
      "INFO  : Data for 1055 of 1055 unique connector IDs retrieved (pymaid)\n",
      "INFO  : Fetching connectivity table for 1 neurons (pymaid)\n",
      "INFO  : Done. Found 151 pre-, 418 postsynaptic and 0 gap junction-connected neurons (pymaid)\n",
      "INFO  : Cached data used. Use `pymaid.clear_cache()` to clear. (pymaid)\n",
      "INFO  : Cached data used. Use `pymaid.clear_cache()` to clear. (pymaid)\n"
     ]
    },
    {
     "name": "stdout",
     "output_type": "stream",
     "text": [
      "Total Recurrent Synapses   = 305.0\n",
      "Total Feedforward Synapses = 184.0\n",
      "Total 324409 Synapses     = 1837.0\n",
      "\n",
      "(Recurrent / Total Output Synapses, Feedforward / Total Output Synapses)\n"
     ]
    },
    {
     "data": {
      "application/vnd.jupyter.widget-view+json": {
       "model_id": "68a650bfff384180b8445d117d68a45c",
       "version_major": 2,
       "version_minor": 0
      },
      "text/plain": [
       "CN details:   0%|          | 0/1068 [00:00<?, ?it/s]"
      ]
     },
     "metadata": {},
     "output_type": "display_data"
    },
    {
     "name": "stderr",
     "output_type": "stream",
     "text": [
      "INFO  : Data for 1068 of 1068 unique connector IDs retrieved (pymaid)\n",
      "INFO  : Fetching connectivity table for 1 neurons (pymaid)\n",
      "INFO  : Done. Found 141 pre-, 386 postsynaptic and 0 gap junction-connected neurons (pymaid)\n",
      "INFO  : Cached data used. Use `pymaid.clear_cache()` to clear. (pymaid)\n",
      "INFO  : Cached data used. Use `pymaid.clear_cache()` to clear. (pymaid)\n"
     ]
    },
    {
     "name": "stdout",
     "output_type": "stream",
     "text": [
      "Total Recurrent Synapses   = 309.0\n",
      "Total Feedforward Synapses = 151.0\n",
      "Total 953 Synapses     = 1584.0\n",
      "\n",
      "(Recurrent / Total Output Synapses, Feedforward / Total Output Synapses)\n"
     ]
    },
    {
     "data": {
      "application/vnd.jupyter.widget-view+json": {
       "model_id": "9361e83231df4ebeba8ed414b23153c5",
       "version_major": 2,
       "version_minor": 0
      },
      "text/plain": [
       "CN details:   0%|          | 0/388 [00:00<?, ?it/s]"
      ]
     },
     "metadata": {},
     "output_type": "display_data"
    },
    {
     "name": "stderr",
     "output_type": "stream",
     "text": [
      "INFO  : Data for 388 of 388 unique connector IDs retrieved (pymaid)\n",
      "INFO  : Fetching connectivity table for 1 neurons (pymaid)\n",
      "INFO  : Done. Found 68 pre-, 231 postsynaptic and 0 gap junction-connected neurons (pymaid)\n",
      "INFO  : Cached data used. Use `pymaid.clear_cache()` to clear. (pymaid)\n",
      "INFO  : Cached data used. Use `pymaid.clear_cache()` to clear. (pymaid)\n"
     ]
    },
    {
     "name": "stdout",
     "output_type": "stream",
     "text": [
      "Total Recurrent Synapses   = 148.0\n",
      "Total Feedforward Synapses = 89.0\n",
      "Total 5021 Synapses     = 800.0\n",
      "\n",
      "(Recurrent / Total Output Synapses, Feedforward / Total Output Synapses)\n"
     ]
    },
    {
     "data": {
      "application/vnd.jupyter.widget-view+json": {
       "model_id": "fb1ab21d84564afeb26f8885bfbfd297",
       "version_major": 2,
       "version_minor": 0
      },
      "text/plain": [
       "CN details:   0%|          | 0/1107 [00:00<?, ?it/s]"
      ]
     },
     "metadata": {},
     "output_type": "display_data"
    },
    {
     "name": "stderr",
     "output_type": "stream",
     "text": [
      "INFO  : Data for 1107 of 1107 unique connector IDs retrieved (pymaid)\n",
      "INFO  : Fetching connectivity table for 1 neurons (pymaid)\n",
      "INFO  : Done. Found 160 pre-, 487 postsynaptic and 0 gap junction-connected neurons (pymaid)\n",
      "INFO  : Cached data used. Use `pymaid.clear_cache()` to clear. (pymaid)\n",
      "INFO  : Cached data used. Use `pymaid.clear_cache()` to clear. (pymaid)\n"
     ]
    },
    {
     "name": "stdout",
     "output_type": "stream",
     "text": [
      "Total Recurrent Synapses   = 267.0\n",
      "Total Feedforward Synapses = 132.0\n",
      "Total 671 Synapses     = 1670.0\n",
      "\n",
      "(Recurrent / Total Output Synapses, Feedforward / Total Output Synapses)\n"
     ]
    }
   ],
   "source": [
    "MD1_OSNs = pymaid.get_skids_by_annotation(['sensory neuron', 'left palp nerve', 'PSPs done', 'innervates MD1'], \n",
    "                                                intersect=True)\n",
    "\n",
    "MD1_OSNs = [uPN_synapses_over_OSN_synapses(i, '295') for i in MD1_OSNs]\n",
    "\n",
    "MD1_OSNs = pd.DataFrame(MD1_OSNs).set_index('OSN id')"
   ]
  },
  {
   "cell_type": "code",
   "execution_count": 5,
   "id": "5e466286",
   "metadata": {},
   "outputs": [
    {
     "name": "stdout",
     "output_type": "stream",
     "text": [
      "[0.08629989212513485, 0.09449760765550239, 0.11727842435094002, 0.08534743202416918, 0.0890092879256966, 0.09847522236340533, 0.09520682862770848, 0.10016330974414807, 0.09532828282828283, 0.11125, 0.07904191616766468]\n",
      "[0.18122977346278318, 0.1722488038277512, 0.21486123545210384, 0.22507552870090636, 0.23297213622291021, 0.23189326556543838, 0.21930400525279053, 0.16603157321720197, 0.19507575757575757, 0.185, 0.1598802395209581]\n"
     ]
    }
   ],
   "source": [
    "md1_feedforward=MD1_OSNs['Feedforward Fraction'].tolist()\n",
    "print(md1_feedforward)\n",
    "md1_recurrent=MD1_OSNs['Recurrent Fraction'].tolist()\n",
    "print(md1_recurrent)"
   ]
  },
  {
   "cell_type": "code",
   "execution_count": 6,
   "id": "7a1fc0d3",
   "metadata": {},
   "outputs": [
    {
     "name": "stderr",
     "output_type": "stream",
     "text": [
      "INFO  : Cached data used. Use `pymaid.clear_cache()` to clear. (pymaid)\n"
     ]
    },
    {
     "data": {
      "application/vnd.jupyter.widget-view+json": {
       "model_id": "788337298fe646e9b801378112845162",
       "version_major": 2,
       "version_minor": 0
      },
      "text/plain": [
       "CN details:   0%|          | 0/310 [00:00<?, ?it/s]"
      ]
     },
     "metadata": {},
     "output_type": "display_data"
    },
    {
     "name": "stderr",
     "output_type": "stream",
     "text": [
      "INFO  : Data for 310 of 310 unique connector IDs retrieved (pymaid)\n",
      "INFO  : Fetching connectivity table for 1 neurons (pymaid)\n",
      "INFO  : Done. Found 86 pre-, 222 postsynaptic and 0 gap junction-connected neurons (pymaid)\n",
      "INFO  : Cached data used. Use `pymaid.clear_cache()` to clear. (pymaid)\n",
      "INFO  : Cached data used. Use `pymaid.clear_cache()` to clear. (pymaid)\n"
     ]
    },
    {
     "name": "stdout",
     "output_type": "stream",
     "text": [
      "Total Recurrent Synapses   = 60.0\n",
      "Total Feedforward Synapses = 103.0\n",
      "Total 9064 Synapses     = 506.0\n",
      "\n",
      "(Recurrent / Total Output Synapses, Feedforward / Total Output Synapses)\n"
     ]
    },
    {
     "data": {
      "application/vnd.jupyter.widget-view+json": {
       "model_id": "0854163b813049a8bc950683929a9da5",
       "version_major": 2,
       "version_minor": 0
      },
      "text/plain": [
       "CN details:   0%|          | 0/270 [00:00<?, ?it/s]"
      ]
     },
     "metadata": {},
     "output_type": "display_data"
    },
    {
     "name": "stderr",
     "output_type": "stream",
     "text": [
      "INFO  : Data for 270 of 270 unique connector IDs retrieved (pymaid)\n",
      "INFO  : Fetching connectivity table for 1 neurons (pymaid)\n",
      "INFO  : Done. Found 66 pre-, 200 postsynaptic and 0 gap junction-connected neurons (pymaid)\n",
      "INFO  : Cached data used. Use `pymaid.clear_cache()` to clear. (pymaid)\n",
      "INFO  : Cached data used. Use `pymaid.clear_cache()` to clear. (pymaid)\n"
     ]
    },
    {
     "name": "stdout",
     "output_type": "stream",
     "text": [
      "Total Recurrent Synapses   = 86.0\n",
      "Total Feedforward Synapses = 112.0\n",
      "Total 7209 Synapses     = 514.0\n",
      "\n",
      "(Recurrent / Total Output Synapses, Feedforward / Total Output Synapses)\n"
     ]
    },
    {
     "data": {
      "application/vnd.jupyter.widget-view+json": {
       "model_id": "d9d174314f1042a7ac5b308f81682147",
       "version_major": 2,
       "version_minor": 0
      },
      "text/plain": [
       "CN details:   0%|          | 0/223 [00:00<?, ?it/s]"
      ]
     },
     "metadata": {},
     "output_type": "display_data"
    },
    {
     "name": "stderr",
     "output_type": "stream",
     "text": [
      "INFO  : Data for 223 of 223 unique connector IDs retrieved (pymaid)\n",
      "INFO  : Fetching connectivity table for 1 neurons (pymaid)\n",
      "INFO  : Done. Found 44 pre-, 177 postsynaptic and 0 gap junction-connected neurons (pymaid)\n",
      "INFO  : Cached data used. Use `pymaid.clear_cache()` to clear. (pymaid)\n",
      "INFO  : Cached data used. Use `pymaid.clear_cache()` to clear. (pymaid)\n"
     ]
    },
    {
     "name": "stdout",
     "output_type": "stream",
     "text": [
      "Total Recurrent Synapses   = 73.0\n",
      "Total Feedforward Synapses = 100.0\n",
      "Total 718 Synapses     = 425.0\n",
      "\n",
      "(Recurrent / Total Output Synapses, Feedforward / Total Output Synapses)\n"
     ]
    },
    {
     "data": {
      "application/vnd.jupyter.widget-view+json": {
       "model_id": "f95c08e51163427d921db9689761b8bf",
       "version_major": 2,
       "version_minor": 0
      },
      "text/plain": [
       "CN details:   0%|          | 0/219 [00:00<?, ?it/s]"
      ]
     },
     "metadata": {},
     "output_type": "display_data"
    },
    {
     "name": "stderr",
     "output_type": "stream",
     "text": [
      "INFO  : Data for 219 of 219 unique connector IDs retrieved (pymaid)\n",
      "INFO  : Fetching connectivity table for 1 neurons (pymaid)\n",
      "INFO  : Done. Found 51 pre-, 199 postsynaptic and 0 gap junction-connected neurons (pymaid)\n",
      "INFO  : Cached data used. Use `pymaid.clear_cache()` to clear. (pymaid)\n",
      "INFO  : Cached data used. Use `pymaid.clear_cache()` to clear. (pymaid)\n"
     ]
    },
    {
     "name": "stdout",
     "output_type": "stream",
     "text": [
      "Total Recurrent Synapses   = 50.0\n",
      "Total Feedforward Synapses = 111.0\n",
      "Total 7983 Synapses     = 499.0\n",
      "\n",
      "(Recurrent / Total Output Synapses, Feedforward / Total Output Synapses)\n"
     ]
    },
    {
     "data": {
      "application/vnd.jupyter.widget-view+json": {
       "model_id": "d0312347d3864029be63e846d10e085b",
       "version_major": 2,
       "version_minor": 0
      },
      "text/plain": [
       "CN details:   0%|          | 0/219 [00:00<?, ?it/s]"
      ]
     },
     "metadata": {},
     "output_type": "display_data"
    },
    {
     "name": "stderr",
     "output_type": "stream",
     "text": [
      "INFO  : Data for 219 of 219 unique connector IDs retrieved (pymaid)\n",
      "INFO  : Fetching connectivity table for 1 neurons (pymaid)\n",
      "INFO  : Done. Found 44 pre-, 223 postsynaptic and 0 gap junction-connected neurons (pymaid)\n",
      "INFO  : Cached data used. Use `pymaid.clear_cache()` to clear. (pymaid)\n",
      "INFO  : Cached data used. Use `pymaid.clear_cache()` to clear. (pymaid)\n"
     ]
    },
    {
     "name": "stdout",
     "output_type": "stream",
     "text": [
      "Total Recurrent Synapses   = 69.0\n",
      "Total Feedforward Synapses = 95.0\n",
      "Total 947 Synapses     = 525.0\n",
      "\n",
      "(Recurrent / Total Output Synapses, Feedforward / Total Output Synapses)\n"
     ]
    },
    {
     "data": {
      "application/vnd.jupyter.widget-view+json": {
       "model_id": "7cbc936dbbbe46af8bec0e5f694daf03",
       "version_major": 2,
       "version_minor": 0
      },
      "text/plain": [
       "CN details:   0%|          | 0/229 [00:00<?, ?it/s]"
      ]
     },
     "metadata": {},
     "output_type": "display_data"
    },
    {
     "name": "stderr",
     "output_type": "stream",
     "text": [
      "INFO  : Data for 229 of 229 unique connector IDs retrieved (pymaid)\n",
      "INFO  : Fetching connectivity table for 1 neurons (pymaid)\n",
      "INFO  : Done. Found 55 pre-, 195 postsynaptic and 0 gap junction-connected neurons (pymaid)\n",
      "INFO  : Cached data used. Use `pymaid.clear_cache()` to clear. (pymaid)\n",
      "INFO  : Cached data used. Use `pymaid.clear_cache()` to clear. (pymaid)\n"
     ]
    },
    {
     "name": "stdout",
     "output_type": "stream",
     "text": [
      "Total Recurrent Synapses   = 63.0\n",
      "Total Feedforward Synapses = 112.0\n",
      "Total 7325 Synapses     = 498.0\n",
      "\n",
      "(Recurrent / Total Output Synapses, Feedforward / Total Output Synapses)\n"
     ]
    },
    {
     "data": {
      "application/vnd.jupyter.widget-view+json": {
       "model_id": "684958f88e3d4f198064bb6f0c2c7e67",
       "version_major": 2,
       "version_minor": 0
      },
      "text/plain": [
       "CN details:   0%|          | 0/199 [00:00<?, ?it/s]"
      ]
     },
     "metadata": {},
     "output_type": "display_data"
    },
    {
     "name": "stderr",
     "output_type": "stream",
     "text": [
      "INFO  : Data for 199 of 199 unique connector IDs retrieved (pymaid)\n",
      "INFO  : Fetching connectivity table for 1 neurons (pymaid)\n",
      "INFO  : Done. Found 48 pre-, 187 postsynaptic and 0 gap junction-connected neurons (pymaid)\n",
      "INFO  : Cached data used. Use `pymaid.clear_cache()` to clear. (pymaid)\n",
      "INFO  : Cached data used. Use `pymaid.clear_cache()` to clear. (pymaid)\n"
     ]
    },
    {
     "name": "stdout",
     "output_type": "stream",
     "text": [
      "Total Recurrent Synapses   = 62.0\n",
      "Total Feedforward Synapses = 117.0\n",
      "Total 728 Synapses     = 461.0\n",
      "\n",
      "(Recurrent / Total Output Synapses, Feedforward / Total Output Synapses)\n"
     ]
    },
    {
     "data": {
      "application/vnd.jupyter.widget-view+json": {
       "model_id": "8360b768692548d5b17f872bae7a1c96",
       "version_major": 2,
       "version_minor": 0
      },
      "text/plain": [
       "CN details:   0%|          | 0/222 [00:00<?, ?it/s]"
      ]
     },
     "metadata": {},
     "output_type": "display_data"
    },
    {
     "name": "stderr",
     "output_type": "stream",
     "text": [
      "INFO  : Data for 222 of 222 unique connector IDs retrieved (pymaid)\n",
      "INFO  : Fetching connectivity table for 1 neurons (pymaid)\n",
      "INFO  : Done. Found 58 pre-, 211 postsynaptic and 0 gap junction-connected neurons (pymaid)\n",
      "INFO  : Cached data used. Use `pymaid.clear_cache()` to clear. (pymaid)\n",
      "INFO  : Cached data used. Use `pymaid.clear_cache()` to clear. (pymaid)\n"
     ]
    },
    {
     "name": "stdout",
     "output_type": "stream",
     "text": [
      "Total Recurrent Synapses   = 59.0\n",
      "Total Feedforward Synapses = 103.0\n",
      "Total 7353 Synapses     = 471.0\n",
      "\n",
      "(Recurrent / Total Output Synapses, Feedforward / Total Output Synapses)\n"
     ]
    },
    {
     "data": {
      "application/vnd.jupyter.widget-view+json": {
       "model_id": "d993f6fc029c46deb0cecf215cb93e74",
       "version_major": 2,
       "version_minor": 0
      },
      "text/plain": [
       "CN details:   0%|          | 0/250 [00:00<?, ?it/s]"
      ]
     },
     "metadata": {},
     "output_type": "display_data"
    },
    {
     "name": "stderr",
     "output_type": "stream",
     "text": [
      "INFO  : Data for 250 of 250 unique connector IDs retrieved (pymaid)\n",
      "INFO  : Fetching connectivity table for 1 neurons (pymaid)\n",
      "INFO  : Done. Found 68 pre-, 245 postsynaptic and 0 gap junction-connected neurons (pymaid)\n",
      "INFO  : Cached data used. Use `pymaid.clear_cache()` to clear. (pymaid)\n",
      "INFO  : Cached data used. Use `pymaid.clear_cache()` to clear. (pymaid)\n"
     ]
    },
    {
     "name": "stdout",
     "output_type": "stream",
     "text": [
      "Total Recurrent Synapses   = 78.0\n",
      "Total Feedforward Synapses = 114.0\n",
      "Total 7197 Synapses     = 520.0\n",
      "\n",
      "(Recurrent / Total Output Synapses, Feedforward / Total Output Synapses)\n"
     ]
    },
    {
     "data": {
      "application/vnd.jupyter.widget-view+json": {
       "model_id": "a03dcf667d85423daa024fdb3c1c4f45",
       "version_major": 2,
       "version_minor": 0
      },
      "text/plain": [
       "CN details:   0%|          | 0/143 [00:00<?, ?it/s]"
      ]
     },
     "metadata": {},
     "output_type": "display_data"
    },
    {
     "name": "stderr",
     "output_type": "stream",
     "text": [
      "INFO  : Data for 143 of 143 unique connector IDs retrieved (pymaid)\n",
      "INFO  : Fetching connectivity table for 1 neurons (pymaid)\n",
      "INFO  : Done. Found 52 pre-, 112 postsynaptic and 0 gap junction-connected neurons (pymaid)\n",
      "INFO  : Cached data used. Use `pymaid.clear_cache()` to clear. (pymaid)\n",
      "INFO  : Cached data used. Use `pymaid.clear_cache()` to clear. (pymaid)\n"
     ]
    },
    {
     "name": "stdout",
     "output_type": "stream",
     "text": [
      "Total Recurrent Synapses   = 28.0\n",
      "Total Feedforward Synapses = 51.0\n",
      "Total 7135 Synapses     = 251.0\n",
      "\n",
      "(Recurrent / Total Output Synapses, Feedforward / Total Output Synapses)\n",
      "[0.20355731225296442, 0.2178988326848249, 0.23529411764705882, 0.22244488977955912, 0.18095238095238095, 0.2248995983935743, 0.25379609544468545, 0.21868365180467092, 0.21923076923076923, 0.20318725099601595]\n",
      "[0.11857707509881422, 0.16731517509727625, 0.17176470588235293, 0.10020040080160321, 0.13142857142857142, 0.12650602409638553, 0.13449023861171366, 0.12526539278131635, 0.15, 0.11155378486055777]\n"
     ]
    }
   ],
   "source": [
    "MD2_OSNs = pymaid.get_skids_by_annotation(['sensory neuron', 'left palp nerve', 'PSPs done', 'innervates MD2'], \n",
    "                                                intersect=True)\n",
    "\n",
    "MD2_OSNs = [uPN_synapses_over_OSN_synapses(i, '690') for i in MD2_OSNs]\n",
    "\n",
    "MD2_OSNs = pd.DataFrame(MD2_OSNs).set_index('OSN id')\n",
    "md2_feedforward=MD2_OSNs['Feedforward Fraction'].tolist()\n",
    "print(md2_feedforward)\n",
    "md2_recurrent=MD2_OSNs['Recurrent Fraction'].tolist()\n",
    "print(md2_recurrent)"
   ]
  },
  {
   "cell_type": "code",
   "execution_count": 7,
   "id": "363af590",
   "metadata": {},
   "outputs": [
    {
     "name": "stderr",
     "output_type": "stream",
     "text": [
      "INFO  : Cached data used. Use `pymaid.clear_cache()` to clear. (pymaid)\n"
     ]
    },
    {
     "data": {
      "application/vnd.jupyter.widget-view+json": {
       "model_id": "a9c964d66710417f8811dc73762bc9e8",
       "version_major": 2,
       "version_minor": 0
      },
      "text/plain": [
       "CN details:   0%|          | 0/350 [00:00<?, ?it/s]"
      ]
     },
     "metadata": {},
     "output_type": "display_data"
    },
    {
     "name": "stderr",
     "output_type": "stream",
     "text": [
      "INFO  : Data for 350 of 350 unique connector IDs retrieved (pymaid)\n",
      "INFO  : Fetching connectivity table for 1 neurons (pymaid)\n",
      "INFO  : Done. Found 76 pre-, 165 postsynaptic and 0 gap junction-connected neurons (pymaid)\n",
      "INFO  : Cached data used. Use `pymaid.clear_cache()` to clear. (pymaid)\n",
      "INFO  : Cached data used. Use `pymaid.clear_cache()` to clear. (pymaid)\n"
     ]
    },
    {
     "name": "stdout",
     "output_type": "stream",
     "text": [
      "Total Recurrent Synapses   = 86.0\n",
      "Total Feedforward Synapses = 151.0\n",
      "Total 8961 Synapses     = 520.0\n",
      "\n",
      "(Recurrent / Total Output Synapses, Feedforward / Total Output Synapses)\n"
     ]
    },
    {
     "data": {
      "application/vnd.jupyter.widget-view+json": {
       "model_id": "709a52f05258485496d2c5778f80d6a1",
       "version_major": 2,
       "version_minor": 0
      },
      "text/plain": [
       "CN details:   0%|          | 0/242 [00:00<?, ?it/s]"
      ]
     },
     "metadata": {},
     "output_type": "display_data"
    },
    {
     "name": "stderr",
     "output_type": "stream",
     "text": [
      "INFO  : Data for 242 of 242 unique connector IDs retrieved (pymaid)\n",
      "INFO  : Fetching connectivity table for 1 neurons (pymaid)\n",
      "INFO  : Done. Found 48 pre-, 166 postsynaptic and 0 gap junction-connected neurons (pymaid)\n",
      "INFO  : Cached data used. Use `pymaid.clear_cache()` to clear. (pymaid)\n",
      "INFO  : Cached data used. Use `pymaid.clear_cache()` to clear. (pymaid)\n"
     ]
    },
    {
     "name": "stdout",
     "output_type": "stream",
     "text": [
      "Total Recurrent Synapses   = 59.0\n",
      "Total Feedforward Synapses = 151.0\n",
      "Total 7075 Synapses     = 477.0\n",
      "\n",
      "(Recurrent / Total Output Synapses, Feedforward / Total Output Synapses)\n"
     ]
    },
    {
     "data": {
      "application/vnd.jupyter.widget-view+json": {
       "model_id": "989623ab7e7d46eca9b7b44d1f036eae",
       "version_major": 2,
       "version_minor": 0
      },
      "text/plain": [
       "CN details:   0%|          | 0/202 [00:00<?, ?it/s]"
      ]
     },
     "metadata": {},
     "output_type": "display_data"
    },
    {
     "name": "stderr",
     "output_type": "stream",
     "text": [
      "INFO  : Data for 202 of 202 unique connector IDs retrieved (pymaid)\n",
      "INFO  : Fetching connectivity table for 1 neurons (pymaid)\n",
      "INFO  : Done. Found 35 pre-, 144 postsynaptic and 0 gap junction-connected neurons (pymaid)\n",
      "INFO  : Cached data used. Use `pymaid.clear_cache()` to clear. (pymaid)\n",
      "INFO  : Cached data used. Use `pymaid.clear_cache()` to clear. (pymaid)\n"
     ]
    },
    {
     "name": "stdout",
     "output_type": "stream",
     "text": [
      "Total Recurrent Synapses   = 44.0\n",
      "Total Feedforward Synapses = 114.0\n",
      "Total 7270 Synapses     = 387.0\n",
      "\n",
      "(Recurrent / Total Output Synapses, Feedforward / Total Output Synapses)\n"
     ]
    },
    {
     "data": {
      "application/vnd.jupyter.widget-view+json": {
       "model_id": "f336b15277e64f928aab26593097fc93",
       "version_major": 2,
       "version_minor": 0
      },
      "text/plain": [
       "CN details:   0%|          | 0/255 [00:00<?, ?it/s]"
      ]
     },
     "metadata": {},
     "output_type": "display_data"
    },
    {
     "name": "stderr",
     "output_type": "stream",
     "text": [
      "INFO  : Data for 255 of 255 unique connector IDs retrieved (pymaid)\n",
      "INFO  : Fetching connectivity table for 1 neurons (pymaid)\n",
      "INFO  : Done. Found 43 pre-, 212 postsynaptic and 0 gap junction-connected neurons (pymaid)\n",
      "INFO  : Cached data used. Use `pymaid.clear_cache()` to clear. (pymaid)\n",
      "INFO  : Cached data used. Use `pymaid.clear_cache()` to clear. (pymaid)\n"
     ]
    },
    {
     "name": "stdout",
     "output_type": "stream",
     "text": [
      "Total Recurrent Synapses   = 79.0\n",
      "Total Feedforward Synapses = 169.0\n",
      "Total 7787 Synapses     = 595.0\n",
      "\n",
      "(Recurrent / Total Output Synapses, Feedforward / Total Output Synapses)\n"
     ]
    },
    {
     "data": {
      "application/vnd.jupyter.widget-view+json": {
       "model_id": "bd3ff3206c7a477a99ff3203225c2a25",
       "version_major": 2,
       "version_minor": 0
      },
      "text/plain": [
       "CN details:   0%|          | 0/219 [00:00<?, ?it/s]"
      ]
     },
     "metadata": {},
     "output_type": "display_data"
    },
    {
     "name": "stderr",
     "output_type": "stream",
     "text": [
      "INFO  : Data for 219 of 219 unique connector IDs retrieved (pymaid)\n",
      "INFO  : Fetching connectivity table for 1 neurons (pymaid)\n",
      "INFO  : Done. Found 31 pre-, 152 postsynaptic and 0 gap junction-connected neurons (pymaid)\n",
      "INFO  : Cached data used. Use `pymaid.clear_cache()` to clear. (pymaid)\n",
      "INFO  : Cached data used. Use `pymaid.clear_cache()` to clear. (pymaid)\n"
     ]
    },
    {
     "name": "stdout",
     "output_type": "stream",
     "text": [
      "Total Recurrent Synapses   = 68.0\n",
      "Total Feedforward Synapses = 140.0\n",
      "Total 1101 Synapses     = 473.0\n",
      "\n",
      "(Recurrent / Total Output Synapses, Feedforward / Total Output Synapses)\n"
     ]
    },
    {
     "data": {
      "application/vnd.jupyter.widget-view+json": {
       "model_id": "41656045138047908a40514e8087505d",
       "version_major": 2,
       "version_minor": 0
      },
      "text/plain": [
       "CN details:   0%|          | 0/231 [00:00<?, ?it/s]"
      ]
     },
     "metadata": {},
     "output_type": "display_data"
    },
    {
     "name": "stderr",
     "output_type": "stream",
     "text": [
      "INFO  : Data for 231 of 231 unique connector IDs retrieved (pymaid)\n",
      "INFO  : Fetching connectivity table for 1 neurons (pymaid)\n",
      "INFO  : Done. Found 37 pre-, 189 postsynaptic and 0 gap junction-connected neurons (pymaid)\n",
      "INFO  : Cached data used. Use `pymaid.clear_cache()` to clear. (pymaid)\n",
      "INFO  : Cached data used. Use `pymaid.clear_cache()` to clear. (pymaid)\n"
     ]
    },
    {
     "name": "stdout",
     "output_type": "stream",
     "text": [
      "Total Recurrent Synapses   = 77.0\n",
      "Total Feedforward Synapses = 131.0\n",
      "Total 8399 Synapses     = 517.0\n",
      "\n",
      "(Recurrent / Total Output Synapses, Feedforward / Total Output Synapses)\n"
     ]
    },
    {
     "data": {
      "application/vnd.jupyter.widget-view+json": {
       "model_id": "a3c5b32c6c5d47efbcb390e8c8241eba",
       "version_major": 2,
       "version_minor": 0
      },
      "text/plain": [
       "CN details:   0%|          | 0/202 [00:00<?, ?it/s]"
      ]
     },
     "metadata": {},
     "output_type": "display_data"
    },
    {
     "name": "stderr",
     "output_type": "stream",
     "text": [
      "INFO  : Data for 202 of 202 unique connector IDs retrieved (pymaid)\n",
      "INFO  : Fetching connectivity table for 1 neurons (pymaid)\n",
      "INFO  : Done. Found 41 pre-, 144 postsynaptic and 0 gap junction-connected neurons (pymaid)\n",
      "INFO  : Cached data used. Use `pymaid.clear_cache()` to clear. (pymaid)\n",
      "INFO  : Cached data used. Use `pymaid.clear_cache()` to clear. (pymaid)\n"
     ]
    },
    {
     "name": "stdout",
     "output_type": "stream",
     "text": [
      "Total Recurrent Synapses   = 64.0\n",
      "Total Feedforward Synapses = 141.0\n",
      "Total 7089 Synapses     = 448.0\n",
      "\n",
      "(Recurrent / Total Output Synapses, Feedforward / Total Output Synapses)\n"
     ]
    },
    {
     "data": {
      "application/vnd.jupyter.widget-view+json": {
       "model_id": "3a04a8d575b246768f5e8e8722222ff3",
       "version_major": 2,
       "version_minor": 0
      },
      "text/plain": [
       "CN details:   0%|          | 0/238 [00:00<?, ?it/s]"
      ]
     },
     "metadata": {},
     "output_type": "display_data"
    },
    {
     "name": "stderr",
     "output_type": "stream",
     "text": [
      "INFO  : Data for 238 of 238 unique connector IDs retrieved (pymaid)\n",
      "INFO  : Fetching connectivity table for 1 neurons (pymaid)\n",
      "INFO  : Done. Found 48 pre-, 168 postsynaptic and 0 gap junction-connected neurons (pymaid)\n",
      "INFO  : Cached data used. Use `pymaid.clear_cache()` to clear. (pymaid)\n",
      "INFO  : Cached data used. Use `pymaid.clear_cache()` to clear. (pymaid)\n"
     ]
    },
    {
     "name": "stdout",
     "output_type": "stream",
     "text": [
      "Total Recurrent Synapses   = 87.0\n",
      "Total Feedforward Synapses = 146.0\n",
      "Total 7769 Synapses     = 527.0\n",
      "\n",
      "(Recurrent / Total Output Synapses, Feedforward / Total Output Synapses)\n"
     ]
    },
    {
     "data": {
      "application/vnd.jupyter.widget-view+json": {
       "model_id": "7bc1e7c5777d4333a243ba97d8b3911f",
       "version_major": 2,
       "version_minor": 0
      },
      "text/plain": [
       "CN details:   0%|          | 0/212 [00:00<?, ?it/s]"
      ]
     },
     "metadata": {},
     "output_type": "display_data"
    },
    {
     "name": "stderr",
     "output_type": "stream",
     "text": [
      "INFO  : Data for 212 of 212 unique connector IDs retrieved (pymaid)\n",
      "INFO  : Fetching connectivity table for 1 neurons (pymaid)\n",
      "INFO  : Done. Found 44 pre-, 187 postsynaptic and 0 gap junction-connected neurons (pymaid)\n",
      "INFO  : Cached data used. Use `pymaid.clear_cache()` to clear. (pymaid)\n",
      "INFO  : Cached data used. Use `pymaid.clear_cache()` to clear. (pymaid)\n"
     ]
    },
    {
     "name": "stdout",
     "output_type": "stream",
     "text": [
      "Total Recurrent Synapses   = 71.0\n",
      "Total Feedforward Synapses = 156.0\n",
      "Total 7230 Synapses     = 541.0\n",
      "\n",
      "(Recurrent / Total Output Synapses, Feedforward / Total Output Synapses)\n"
     ]
    },
    {
     "data": {
      "application/vnd.jupyter.widget-view+json": {
       "model_id": "92f19d6ca5524f1d95ce39d904252e75",
       "version_major": 2,
       "version_minor": 0
      },
      "text/plain": [
       "CN details:   0%|          | 0/219 [00:00<?, ?it/s]"
      ]
     },
     "metadata": {},
     "output_type": "display_data"
    },
    {
     "name": "stderr",
     "output_type": "stream",
     "text": [
      "INFO  : Data for 219 of 219 unique connector IDs retrieved (pymaid)\n",
      "INFO  : Fetching connectivity table for 1 neurons (pymaid)\n",
      "INFO  : Done. Found 46 pre-, 174 postsynaptic and 0 gap junction-connected neurons (pymaid)\n",
      "INFO  : Cached data used. Use `pymaid.clear_cache()` to clear. (pymaid)\n",
      "INFO  : Cached data used. Use `pymaid.clear_cache()` to clear. (pymaid)\n"
     ]
    },
    {
     "name": "stdout",
     "output_type": "stream",
     "text": [
      "Total Recurrent Synapses   = 69.0\n",
      "Total Feedforward Synapses = 137.0\n",
      "Total 7775 Synapses     = 463.0\n",
      "\n",
      "(Recurrent / Total Output Synapses, Feedforward / Total Output Synapses)\n",
      "[0.2903846153846154, 0.3165618448637317, 0.29457364341085274, 0.28403361344537814, 0.2959830866807611, 0.25338491295938104, 0.31473214285714285, 0.27703984819734345, 0.28835489833641403, 0.2958963282937365]\n",
      "[0.16538461538461538, 0.12368972746331237, 0.11369509043927649, 0.13277310924369748, 0.14376321353065538, 0.14893617021276595, 0.14285714285714285, 0.1650853889943074, 0.13123844731977818, 0.1490280777537797]\n"
     ]
    }
   ],
   "source": [
    "MD3_OSNs = pymaid.get_skids_by_annotation(['sensory neuron', 'left palp nerve', 'PSPs done', 'innervates MD3'], \n",
    "                                                intersect=True)\n",
    "\n",
    "MD3_OSNs = [uPN_synapses_over_OSN_synapses(i, '11126') for i in MD3_OSNs]\n",
    "\n",
    "MD3_OSNs = pd.DataFrame(MD3_OSNs).set_index('OSN id')\n",
    "md3_feedforward=MD3_OSNs['Feedforward Fraction'].tolist()\n",
    "print(md3_feedforward)\n",
    "md3_recurrent=MD3_OSNs['Recurrent Fraction'].tolist()\n",
    "print(md3_recurrent)\n"
   ]
  },
  {
   "cell_type": "code",
   "execution_count": 8,
   "id": "7a7de88e",
   "metadata": {},
   "outputs": [],
   "source": [
    "from seaborn.categorical import _ViolinPlotter\n",
    "class MyVPlot(_ViolinPlotter):\n",
    "    def draw_quartiles(self, ax, data, support, density, center, split=False, color='k'):\n",
    "        \"\"\"Draw the quartiles as lines at width of density.\"\"\"\n",
    "        q50 = np.mean(data)\n",
    "        self.draw_to_density(ax, center, q50, support, density, split,\n",
    "                             linewidth=self.linewidth, color=color)\n",
    "\n",
    "def my_violinplot2(x=None, y=None, hue=None, data=None, order=None, hue_order=None,\n",
    "                  bw=\"scott\", cut=0, scale=\"area\", scale_hue=True, gridsize=100,\n",
    "                  width=.8, inner=\"quartiles\", split=False, dodge=True, orient=None,\n",
    "                  linewidth=None, color=None, palette=None, saturation=.75,alpha=1,\n",
    "                  ax=None, edgecolor=None, **kwargs):\n",
    "\n",
    "    plotter = MyVPlot(x, y, hue, data, order, hue_order,\n",
    "                      bw, cut, scale, scale_hue, gridsize,\n",
    "                      width, inner, split, dodge, orient, linewidth,\n",
    "                      color, palette, saturation)\n",
    "    if ax is None:\n",
    "        ax = plt.gca()\n",
    "\n",
    "    plotter.plot(ax)\n",
    "    # change outlines\n",
    "    colors=[\"violet\", \"#0000FF\", 'mediumspringgreen']\n",
    "    for idx, violin in enumerate(ax.collections):\n",
    "        violin.set_edgecolor(colors[idx])\n",
    "    for l in ax.lines:\n",
    "        l.set_linestyle('-')\n",
    "        l.set_color('k')\n",
    "    return ax"
   ]
  },
  {
   "cell_type": "code",
   "execution_count": 9,
   "id": "1d2c6e70",
   "metadata": {},
   "outputs": [
    {
     "data": {
      "text/html": [
       "<div>\n",
       "<style scoped>\n",
       "    .dataframe tbody tr th:only-of-type {\n",
       "        vertical-align: middle;\n",
       "    }\n",
       "\n",
       "    .dataframe tbody tr th {\n",
       "        vertical-align: top;\n",
       "    }\n",
       "\n",
       "    .dataframe thead th {\n",
       "        text-align: right;\n",
       "    }\n",
       "</style>\n",
       "<table border=\"1\" class=\"dataframe\">\n",
       "  <thead>\n",
       "    <tr style=\"text-align: right;\">\n",
       "      <th></th>\n",
       "      <th>Glomerulus</th>\n",
       "      <th>OSN → uPN synapses as proportion of OSN → X synapses</th>\n",
       "    </tr>\n",
       "  </thead>\n",
       "  <tbody>\n",
       "    <tr>\n",
       "      <th>0</th>\n",
       "      <td>1</td>\n",
       "      <td>0.086300</td>\n",
       "    </tr>\n",
       "    <tr>\n",
       "      <th>1</th>\n",
       "      <td>1</td>\n",
       "      <td>0.094498</td>\n",
       "    </tr>\n",
       "    <tr>\n",
       "      <th>2</th>\n",
       "      <td>1</td>\n",
       "      <td>0.117278</td>\n",
       "    </tr>\n",
       "    <tr>\n",
       "      <th>3</th>\n",
       "      <td>1</td>\n",
       "      <td>0.085347</td>\n",
       "    </tr>\n",
       "    <tr>\n",
       "      <th>4</th>\n",
       "      <td>1</td>\n",
       "      <td>0.089009</td>\n",
       "    </tr>\n",
       "    <tr>\n",
       "      <th>5</th>\n",
       "      <td>1</td>\n",
       "      <td>0.098475</td>\n",
       "    </tr>\n",
       "    <tr>\n",
       "      <th>6</th>\n",
       "      <td>1</td>\n",
       "      <td>0.095207</td>\n",
       "    </tr>\n",
       "    <tr>\n",
       "      <th>7</th>\n",
       "      <td>1</td>\n",
       "      <td>0.100163</td>\n",
       "    </tr>\n",
       "    <tr>\n",
       "      <th>8</th>\n",
       "      <td>1</td>\n",
       "      <td>0.095328</td>\n",
       "    </tr>\n",
       "    <tr>\n",
       "      <th>9</th>\n",
       "      <td>1</td>\n",
       "      <td>0.111250</td>\n",
       "    </tr>\n",
       "    <tr>\n",
       "      <th>10</th>\n",
       "      <td>1</td>\n",
       "      <td>0.079042</td>\n",
       "    </tr>\n",
       "    <tr>\n",
       "      <th>11</th>\n",
       "      <td>2</td>\n",
       "      <td>0.203557</td>\n",
       "    </tr>\n",
       "    <tr>\n",
       "      <th>12</th>\n",
       "      <td>2</td>\n",
       "      <td>0.217899</td>\n",
       "    </tr>\n",
       "    <tr>\n",
       "      <th>13</th>\n",
       "      <td>2</td>\n",
       "      <td>0.235294</td>\n",
       "    </tr>\n",
       "    <tr>\n",
       "      <th>14</th>\n",
       "      <td>2</td>\n",
       "      <td>0.222445</td>\n",
       "    </tr>\n",
       "    <tr>\n",
       "      <th>15</th>\n",
       "      <td>2</td>\n",
       "      <td>0.180952</td>\n",
       "    </tr>\n",
       "    <tr>\n",
       "      <th>16</th>\n",
       "      <td>2</td>\n",
       "      <td>0.224900</td>\n",
       "    </tr>\n",
       "    <tr>\n",
       "      <th>17</th>\n",
       "      <td>2</td>\n",
       "      <td>0.253796</td>\n",
       "    </tr>\n",
       "    <tr>\n",
       "      <th>18</th>\n",
       "      <td>2</td>\n",
       "      <td>0.218684</td>\n",
       "    </tr>\n",
       "    <tr>\n",
       "      <th>19</th>\n",
       "      <td>2</td>\n",
       "      <td>0.219231</td>\n",
       "    </tr>\n",
       "    <tr>\n",
       "      <th>20</th>\n",
       "      <td>2</td>\n",
       "      <td>0.203187</td>\n",
       "    </tr>\n",
       "    <tr>\n",
       "      <th>21</th>\n",
       "      <td>3</td>\n",
       "      <td>0.290385</td>\n",
       "    </tr>\n",
       "    <tr>\n",
       "      <th>22</th>\n",
       "      <td>3</td>\n",
       "      <td>0.316562</td>\n",
       "    </tr>\n",
       "    <tr>\n",
       "      <th>23</th>\n",
       "      <td>3</td>\n",
       "      <td>0.294574</td>\n",
       "    </tr>\n",
       "    <tr>\n",
       "      <th>24</th>\n",
       "      <td>3</td>\n",
       "      <td>0.284034</td>\n",
       "    </tr>\n",
       "    <tr>\n",
       "      <th>25</th>\n",
       "      <td>3</td>\n",
       "      <td>0.295983</td>\n",
       "    </tr>\n",
       "    <tr>\n",
       "      <th>26</th>\n",
       "      <td>3</td>\n",
       "      <td>0.253385</td>\n",
       "    </tr>\n",
       "    <tr>\n",
       "      <th>27</th>\n",
       "      <td>3</td>\n",
       "      <td>0.314732</td>\n",
       "    </tr>\n",
       "    <tr>\n",
       "      <th>28</th>\n",
       "      <td>3</td>\n",
       "      <td>0.277040</td>\n",
       "    </tr>\n",
       "    <tr>\n",
       "      <th>29</th>\n",
       "      <td>3</td>\n",
       "      <td>0.288355</td>\n",
       "    </tr>\n",
       "    <tr>\n",
       "      <th>30</th>\n",
       "      <td>3</td>\n",
       "      <td>0.295896</td>\n",
       "    </tr>\n",
       "  </tbody>\n",
       "</table>\n",
       "</div>"
      ],
      "text/plain": [
       "   Glomerulus  OSN → uPN synapses as proportion of OSN → X synapses\n",
       "0           1                                           0.086300   \n",
       "1           1                                           0.094498   \n",
       "2           1                                           0.117278   \n",
       "3           1                                           0.085347   \n",
       "4           1                                           0.089009   \n",
       "5           1                                           0.098475   \n",
       "6           1                                           0.095207   \n",
       "7           1                                           0.100163   \n",
       "8           1                                           0.095328   \n",
       "9           1                                           0.111250   \n",
       "10          1                                           0.079042   \n",
       "11          2                                           0.203557   \n",
       "12          2                                           0.217899   \n",
       "13          2                                           0.235294   \n",
       "14          2                                           0.222445   \n",
       "15          2                                           0.180952   \n",
       "16          2                                           0.224900   \n",
       "17          2                                           0.253796   \n",
       "18          2                                           0.218684   \n",
       "19          2                                           0.219231   \n",
       "20          2                                           0.203187   \n",
       "21          3                                           0.290385   \n",
       "22          3                                           0.316562   \n",
       "23          3                                           0.294574   \n",
       "24          3                                           0.284034   \n",
       "25          3                                           0.295983   \n",
       "26          3                                           0.253385   \n",
       "27          3                                           0.314732   \n",
       "28          3                                           0.277040   \n",
       "29          3                                           0.288355   \n",
       "30          3                                           0.295896   "
      ]
     },
     "execution_count": 9,
     "metadata": {},
     "output_type": "execute_result"
    }
   ],
   "source": [
    "#make dataframe#make dataframe\n",
    "\n",
    "data_dict = {\"1\": md1_feedforward, \"2\": md2_feedforward, \"3\": md3_feedforward}\n",
    "pre_df = {\"Glomerulus\": [], \"OSN → uPN synapses as proportion of OSN → X synapses\": []}\n",
    "for glom, dists in data_dict.items():\n",
    "    glom_list = [glom,]*len(dists)\n",
    "    pre_df[\"Glomerulus\"].extend(glom_list)    \n",
    "    pre_df[\"OSN → uPN synapses as proportion of OSN → X synapses\"].extend(dists)\n",
    "\n",
    "df = pd.DataFrame.from_dict(pre_df)\n",
    "df"
   ]
  },
  {
   "cell_type": "code",
   "execution_count": 10,
   "id": "5a50c22c",
   "metadata": {},
   "outputs": [
    {
     "name": "stdout",
     "output_type": "stream",
     "text": [
      "KruskalResult(statistic=26.43387096774194, pvalue=1.819524265056062e-06)\n"
     ]
    }
   ],
   "source": [
    "#feedforward statistics\n",
    "kruskal=stats.kruskal(md1_feedforward, md2_feedforward, md3_feedforward)\n",
    "print(kruskal)"
   ]
  },
  {
   "cell_type": "code",
   "execution_count": 11,
   "id": "7135212d",
   "metadata": {},
   "outputs": [
    {
     "name": "stdout",
     "output_type": "stream",
     "text": [
      "KruskalResult(statistic=18.632331378299128, pvalue=8.995817758391422e-05)\n"
     ]
    }
   ],
   "source": [
    "#recurrent statistics\n",
    "kruskalr=stats.kruskal(md1_recurrent, md2_recurrent, md3_recurrent)\n",
    "print(kruskalr)"
   ]
  },
  {
   "cell_type": "code",
   "execution_count": 12,
   "id": "abd65254",
   "metadata": {},
   "outputs": [
    {
     "name": "stdout",
     "output_type": "stream",
     "text": [
      "1 v.s. 2: Mann-Whitney-Wilcoxon test two-sided with Bonferroni correction, P_val=3.725e-04 U_stat=0.000e+00\n",
      "2 v.s. 3: Mann-Whitney-Wilcoxon test two-sided with Bonferroni correction, P_val=7.384e-04 U_stat=1.000e+00\n"
     ]
    },
    {
     "name": "stderr",
     "output_type": "stream",
     "text": [
      "/tmp/ipykernel_19638/862224948.py:5: FutureWarning: Passing `palette` without assigning `hue` is deprecated.\n",
      "  ax = sns.stripplot(data=df, x=x, y=y, order=order, palette=[\"violet\", \"#0000FF\", \"mediumspringgreen\"])\n"
     ]
    },
    {
     "name": "stdout",
     "output_type": "stream",
     "text": [
      "1 v.s. 3: Mann-Whitney-Wilcoxon test two-sided with Bonferroni correction, P_val=3.725e-04 U_stat=0.000e+00\n"
     ]
    },
    {
     "data": {
      "image/png": "[encoded data removed]",
      "text/plain": [
       "<Figure size 640x480 with 1 Axes>"
      ]
     },
     "metadata": {},
     "output_type": "display_data"
    }
   ],
   "source": [
    "x = \"Glomerulus\"\n",
    "y = \"OSN → uPN synapses as proportion of OSN → X synapses\"\n",
    "order = ['1', '2', '3']\n",
    "ax = my_violinplot2(data=df, x=x, y=y, order=order, color=\"1\")\n",
    "ax = sns.stripplot(data=df, x=x, y=y, order=order, palette=[\"violet\", \"#0000FF\", \"mediumspringgreen\"])\n",
    "ax.set_xlabel('Glomerulus', size=12, fontname=\"Liberation Sans\")\n",
    "ax.set_ylabel('Fraction of OSN → uPN synapses (OSN → uPN/OSN → X)', size=12, fontname=\"Liberation Sans\")\n",
    "ax.set_aspect(19)\n",
    "plt.tick_params(axis='x', which='both', bottom=False, top=False)\n",
    "plt.tick_params(axis='y', which='both', left=True, right=False)\n",
    "sns.despine(fig=None, ax=None, top=True, right=True, left=False, bottom=True, offset=None, trim=False)\n",
    "add_stat_annotation(ax, data=df, x=x, y=y, order=order,\n",
    "                    box_pairs=[(\"1\", \"2\"), (\"1\", \"3\"), (\"2\", \"3\")],\n",
    "                    test='Mann-Whitney', text_format='simple', loc='outside', verbose=2)\n",
    "#plt.savefig('feedforward_proportion.svg', format=\"svg\")\n",
    "plt.show()"
   ]
  },
  {
   "cell_type": "code",
   "execution_count": 13,
   "id": "71abafaf",
   "metadata": {},
   "outputs": [
    {
     "data": {
      "text/html": [
       "<div>\n",
       "<style scoped>\n",
       "    .dataframe tbody tr th:only-of-type {\n",
       "        vertical-align: middle;\n",
       "    }\n",
       "\n",
       "    .dataframe tbody tr th {\n",
       "        vertical-align: top;\n",
       "    }\n",
       "\n",
       "    .dataframe thead th {\n",
       "        text-align: right;\n",
       "    }\n",
       "</style>\n",
       "<table border=\"1\" class=\"dataframe\">\n",
       "  <thead>\n",
       "    <tr style=\"text-align: right;\">\n",
       "      <th></th>\n",
       "      <th>Glomerulus</th>\n",
       "      <th>OSN → OSN synapses as proportion of OSN → X synapses</th>\n",
       "    </tr>\n",
       "  </thead>\n",
       "  <tbody>\n",
       "    <tr>\n",
       "      <th>0</th>\n",
       "      <td>1</td>\n",
       "      <td>0.181230</td>\n",
       "    </tr>\n",
       "    <tr>\n",
       "      <th>1</th>\n",
       "      <td>1</td>\n",
       "      <td>0.172249</td>\n",
       "    </tr>\n",
       "    <tr>\n",
       "      <th>2</th>\n",
       "      <td>1</td>\n",
       "      <td>0.214861</td>\n",
       "    </tr>\n",
       "    <tr>\n",
       "      <th>3</th>\n",
       "      <td>1</td>\n",
       "      <td>0.225076</td>\n",
       "    </tr>\n",
       "    <tr>\n",
       "      <th>4</th>\n",
       "      <td>1</td>\n",
       "      <td>0.232972</td>\n",
       "    </tr>\n",
       "    <tr>\n",
       "      <th>5</th>\n",
       "      <td>1</td>\n",
       "      <td>0.231893</td>\n",
       "    </tr>\n",
       "    <tr>\n",
       "      <th>6</th>\n",
       "      <td>1</td>\n",
       "      <td>0.219304</td>\n",
       "    </tr>\n",
       "    <tr>\n",
       "      <th>7</th>\n",
       "      <td>1</td>\n",
       "      <td>0.166032</td>\n",
       "    </tr>\n",
       "    <tr>\n",
       "      <th>8</th>\n",
       "      <td>1</td>\n",
       "      <td>0.195076</td>\n",
       "    </tr>\n",
       "    <tr>\n",
       "      <th>9</th>\n",
       "      <td>1</td>\n",
       "      <td>0.185000</td>\n",
       "    </tr>\n",
       "    <tr>\n",
       "      <th>10</th>\n",
       "      <td>1</td>\n",
       "      <td>0.159880</td>\n",
       "    </tr>\n",
       "    <tr>\n",
       "      <th>11</th>\n",
       "      <td>2</td>\n",
       "      <td>0.118577</td>\n",
       "    </tr>\n",
       "    <tr>\n",
       "      <th>12</th>\n",
       "      <td>2</td>\n",
       "      <td>0.167315</td>\n",
       "    </tr>\n",
       "    <tr>\n",
       "      <th>13</th>\n",
       "      <td>2</td>\n",
       "      <td>0.171765</td>\n",
       "    </tr>\n",
       "    <tr>\n",
       "      <th>14</th>\n",
       "      <td>2</td>\n",
       "      <td>0.100200</td>\n",
       "    </tr>\n",
       "    <tr>\n",
       "      <th>15</th>\n",
       "      <td>2</td>\n",
       "      <td>0.131429</td>\n",
       "    </tr>\n",
       "    <tr>\n",
       "      <th>16</th>\n",
       "      <td>2</td>\n",
       "      <td>0.126506</td>\n",
       "    </tr>\n",
       "    <tr>\n",
       "      <th>17</th>\n",
       "      <td>2</td>\n",
       "      <td>0.134490</td>\n",
       "    </tr>\n",
       "    <tr>\n",
       "      <th>18</th>\n",
       "      <td>2</td>\n",
       "      <td>0.125265</td>\n",
       "    </tr>\n",
       "    <tr>\n",
       "      <th>19</th>\n",
       "      <td>2</td>\n",
       "      <td>0.150000</td>\n",
       "    </tr>\n",
       "    <tr>\n",
       "      <th>20</th>\n",
       "      <td>2</td>\n",
       "      <td>0.111554</td>\n",
       "    </tr>\n",
       "    <tr>\n",
       "      <th>21</th>\n",
       "      <td>3</td>\n",
       "      <td>0.165385</td>\n",
       "    </tr>\n",
       "    <tr>\n",
       "      <th>22</th>\n",
       "      <td>3</td>\n",
       "      <td>0.123690</td>\n",
       "    </tr>\n",
       "    <tr>\n",
       "      <th>23</th>\n",
       "      <td>3</td>\n",
       "      <td>0.113695</td>\n",
       "    </tr>\n",
       "    <tr>\n",
       "      <th>24</th>\n",
       "      <td>3</td>\n",
       "      <td>0.132773</td>\n",
       "    </tr>\n",
       "    <tr>\n",
       "      <th>25</th>\n",
       "      <td>3</td>\n",
       "      <td>0.143763</td>\n",
       "    </tr>\n",
       "    <tr>\n",
       "      <th>26</th>\n",
       "      <td>3</td>\n",
       "      <td>0.148936</td>\n",
       "    </tr>\n",
       "    <tr>\n",
       "      <th>27</th>\n",
       "      <td>3</td>\n",
       "      <td>0.142857</td>\n",
       "    </tr>\n",
       "    <tr>\n",
       "      <th>28</th>\n",
       "      <td>3</td>\n",
       "      <td>0.165085</td>\n",
       "    </tr>\n",
       "    <tr>\n",
       "      <th>29</th>\n",
       "      <td>3</td>\n",
       "      <td>0.131238</td>\n",
       "    </tr>\n",
       "    <tr>\n",
       "      <th>30</th>\n",
       "      <td>3</td>\n",
       "      <td>0.149028</td>\n",
       "    </tr>\n",
       "  </tbody>\n",
       "</table>\n",
       "</div>"
      ],
      "text/plain": [
       "   Glomerulus  OSN → OSN synapses as proportion of OSN → X synapses\n",
       "0           1                                           0.181230   \n",
       "1           1                                           0.172249   \n",
       "2           1                                           0.214861   \n",
       "3           1                                           0.225076   \n",
       "4           1                                           0.232972   \n",
       "5           1                                           0.231893   \n",
       "6           1                                           0.219304   \n",
       "7           1                                           0.166032   \n",
       "8           1                                           0.195076   \n",
       "9           1                                           0.185000   \n",
       "10          1                                           0.159880   \n",
       "11          2                                           0.118577   \n",
       "12          2                                           0.167315   \n",
       "13          2                                           0.171765   \n",
       "14          2                                           0.100200   \n",
       "15          2                                           0.131429   \n",
       "16          2                                           0.126506   \n",
       "17          2                                           0.134490   \n",
       "18          2                                           0.125265   \n",
       "19          2                                           0.150000   \n",
       "20          2                                           0.111554   \n",
       "21          3                                           0.165385   \n",
       "22          3                                           0.123690   \n",
       "23          3                                           0.113695   \n",
       "24          3                                           0.132773   \n",
       "25          3                                           0.143763   \n",
       "26          3                                           0.148936   \n",
       "27          3                                           0.142857   \n",
       "28          3                                           0.165085   \n",
       "29          3                                           0.131238   \n",
       "30          3                                           0.149028   "
      ]
     },
     "execution_count": 13,
     "metadata": {},
     "output_type": "execute_result"
    }
   ],
   "source": [
    "#make dataframe#make dataframe\n",
    "\n",
    "data_dict = {\"1\": md1_recurrent, \"2\": md2_recurrent, \"3\": md3_recurrent}\n",
    "pre_df = {\"Glomerulus\": [], \"OSN → OSN synapses as proportion of OSN → X synapses\": []}\n",
    "for glom, dists in data_dict.items():\n",
    "    glom_list = [glom,]*len(dists)\n",
    "    pre_df[\"Glomerulus\"].extend(glom_list)    \n",
    "    pre_df[\"OSN → OSN synapses as proportion of OSN → X synapses\"].extend(dists)\n",
    "\n",
    "df = pd.DataFrame.from_dict(pre_df)\n",
    "df"
   ]
  },
  {
   "cell_type": "code",
   "execution_count": 14,
   "id": "775c1089",
   "metadata": {},
   "outputs": [
    {
     "name": "stderr",
     "output_type": "stream",
     "text": [
      "/tmp/ipykernel_19638/2577199335.py:6: FutureWarning: Passing `palette` without assigning `hue` is deprecated.\n",
      "  ax = sns.stripplot(data=df, x=x, y=y, order=order, palette=[\"violet\", \"#0000FF\", \"mediumspringgreen\"])\n"
     ]
    },
    {
     "name": "stdout",
     "output_type": "stream",
     "text": [
      "1 v.s. 2: Mann-Whitney-Wilcoxon test two-sided with Bonferroni correction, P_val=1.129e-03 U_stat=1.060e+02\n",
      "2 v.s. 3: Mann-Whitney-Wilcoxon test two-sided with Bonferroni correction, P_val=1.000e+00 U_stat=4.000e+01\n",
      "1 v.s. 3: Mann-Whitney-Wilcoxon test two-sided with Bonferroni correction, P_val=6.546e-04 U_stat=1.080e+02\n"
     ]
    },
    {
     "data": {
      "image/png": "[encoded data removed]",
      "text/plain": [
       "<Figure size 640x480 with 1 Axes>"
      ]
     },
     "metadata": {},
     "output_type": "display_data"
    }
   ],
   "source": [
    "#make violinplot\n",
    "x = \"Glomerulus\"\n",
    "y = \"OSN → OSN synapses as proportion of OSN → X synapses\"\n",
    "order = ['1', '2', '3']\n",
    "ax = my_violinplot2(data=df, x=x, y=y, order=order, color=\"1\")\n",
    "ax = sns.stripplot(data=df, x=x, y=y, order=order, palette=[\"violet\", \"#0000FF\", \"mediumspringgreen\"])\n",
    "ax.set_xlabel('Glomerulus', size=12, fontname=\"Liberation Sans\")\n",
    "ax.set_ylabel('Fraction of OSN → OSN synapses (OSN → OSN / OSN → X)', size=12, fontname=\"Liberation Sans\")\n",
    "ax.set_aspect(30)\n",
    "plt.tick_params(axis='x', which='both', bottom=False, top=False)\n",
    "plt.tick_params(axis='y', which='both', left=True, right=False)\n",
    "sns.despine(fig=None, ax=None, top=True, right=True, left=False, bottom=True, offset=None, trim=False)\n",
    "add_stat_annotation(ax, data=df, x=x, y=y, order=order,\n",
    "                    box_pairs=[(\"1\", \"2\"), (\"1\", \"3\"), (\"2\", \"3\")],\n",
    "                    test='Mann-Whitney', text_format='simple', loc='outside', verbose=2)\n",
    "#plt.savefig('feedforward_proportion.svg', format=\"svg\")\n",
    "plt.show()"
   ]
  }
 ],
 "metadata": {
  "kernelspec": {
   "display_name": "Python 3.9.15 ('wuzzy')",
   "language": "python",
   "name": "python3"
  },
  "language_info": {
   "codemirror_mode": {
    "name": "ipython",
    "version": 3
   },
   "file_extension": ".py",
   "mimetype": "text/x-python",
   "name": "python",
   "nbconvert_exporter": "python",
   "pygments_lexer": "ipython3",
   "version": "3.9.15"
  },
  "vscode": {
   "interpreter": {
    "hash": "bbc61e08eb74b41ad38e0e06b5d47af793336d408360cccbd7d9a84e8f2bb674"
   }
  }
 },
 "nbformat": 4,
 "nbformat_minor": 5
}
