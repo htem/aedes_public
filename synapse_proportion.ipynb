{
 "cells": [
  {
   "cell_type": "code",
   "execution_count": 13,
   "id": "3f5729d2",
   "metadata": {},
   "outputs": [],
   "source": [
    "import pymaid\n",
    "import navis as nv\n",
    "import pandas as pd\n",
    "import matplotlib.pyplot as plt\n",
    "import seaborn as sns\n",
    "import numpy as np\n",
    "from statistics import mean, stdev\n",
    "import scipy.stats as stats\n",
    "from statannot import add_stat_annotation\n",
    "import scikit_posthocs as sp"
   ]
  },
  {
   "cell_type": "code",
   "execution_count": 2,
   "id": "f805c01e",
   "metadata": {},
   "outputs": [
    {
     "name": "stderr",
     "output_type": "stream",
     "text": [
      "INFO  : Global CATMAID instance set. Caching is ON. (pymaid)\n"
     ]
    }
   ],
   "source": [
    "rm = pymaid.CatmaidInstance('https://radagast.hms.harvard.edu/catmaidaedes',\n",
    "                            \"\")"
   ]
  },
  {
   "cell_type": "markdown",
   "id": "71adf291",
   "metadata": {},
   "source": []
  },
  {
   "cell_type": "code",
   "execution_count": 3,
   "id": "5a8e9db7",
   "metadata": {},
   "outputs": [],
   "source": [
    "def uPN_synapses_over_OSN_synapses(OSNid, uPNid):\n",
    "    # Feedforward synapses / total output synapses.\n",
    "    # uPN must be '295', '690', '11126' as type() == string.\n",
    "    # for OSNs, can be either type() == string or int.\n",
    "    # Only use skeleton id, NOT SKELETON NAME.\n",
    "    \n",
    "    uPNid = str(uPNid)\n",
    "    uPNdict = {'295': \"MD1\", '690': 'MD2', '11126': 'MD3'}\n",
    "    \n",
    "    # These annotations are used to get and compare OSNs with provided OSN\n",
    "    OSN_annotations = ['sensory neuron', 'left palp nerve', 'PSPs done']\n",
    "    \n",
    "    # adds annotation based on provided uPN.\n",
    "    OSN_annotations.append('innervates ' + uPNdict.get(uPNid))\n",
    "\n",
    "    # Finds all of the synapses the given OSN is presynaptic to\n",
    "    OSN_neuron = pymaid.get_neuron(OSNid)\n",
    "    df = pymaid.get_connector_details(OSN_neuron)\n",
    "    #total_OSN_synapses = len(df[df.presynaptic_to == OSNid])\n",
    "    \n",
    "    # Finds partners\n",
    "    df1 = pymaid.get_partners(OSNid).set_index('skeleton_id')\n",
    "    \n",
    "    #sum ALL outgoing synapses\n",
    "    total_OSN_synapses=sum(df1[df1.relation=='downstream'].total)\n",
    "\n",
    "    # Tries to find the given OSN and uPN connections, and finds their totals\n",
    "    try:\n",
    "        total_uPN_synapses = df1[df1.relation == 'downstream'].loc[uPNid].total\n",
    "    except:\n",
    "        return \"OSN is not connected to given uPN.\"\n",
    "    \n",
    "    # Gets skeletons by given annotations above\n",
    "    OSNs = pymaid.get_skids_by_annotation('sensory neuron', 'left palp nerve', intersect=True)\n",
    "\n",
    "    # finds the total recurrent connectivity by summing along the axis of a 1-dimensional adjacency matrix\n",
    "    total_recurrent = float(pymaid.adjacency_matrix(sources=OSNid, targets=OSNs).sum(axis=1))\n",
    "    \n",
    "    # Print statements cuz why not\n",
    "    print(f\"Total Recurrent Synapses   = {total_recurrent}\")\n",
    "    print(f\"Total Feedforward Synapses = {total_uPN_synapses}\")\n",
    "    print(f\"Total {OSNid} Synapses     = {total_OSN_synapses}\")\n",
    "    print()\n",
    "    print(\"(Recurrent / Total Output Synapses, Feedforward / Total Output Synapses)\")\n",
    "    \n",
    "    # returns dictionary of data, can be converted to DataFrame by looping over target synapses\n",
    "    return {'uPN id': uPNid, 'OSN id': OSNid, 'Recurrent Synapses': total_recurrent, 'Feedforward Synapses': total_uPN_synapses, \n",
    "            \"Total OSN Synapses (Presynaptic)\": total_OSN_synapses, \"Recurrent Fraction\": (total_recurrent / total_OSN_synapses), \n",
    "            \"Feedforward Fraction\": (total_uPN_synapses / total_OSN_synapses)}"
   ]
  },
  {
   "cell_type": "code",
   "execution_count": 4,
   "id": "9f07bf77",
   "metadata": {
    "scrolled": true
   },
   "outputs": [
    {
     "data": {
      "application/vnd.jupyter.widget-view+json": {
       "model_id": "cf3c827b61d24f5a947df22bd6a987c4",
       "version_major": 2,
       "version_minor": 0
      },
      "text/plain": [
       "CN details:   0%|          | 0/1226 [00:00<?, ?it/s]"
      ]
     },
     "metadata": {},
     "output_type": "display_data"
    },
    {
     "name": "stderr",
     "output_type": "stream",
     "text": [
      "INFO  : Data for 1226 of 1226 unique connector IDs retrieved (pymaid)\n",
      "INFO  : Fetching connectivity table for 1 neurons (pymaid)\n",
      "INFO  : Done. Found 157 pre-, 441 postsynaptic and 0 gap junction-connected neurons (pymaid)\n",
      "INFO  : Cached data used. Use `pymaid.clear_cache()` to clear. (pymaid)\n"
     ]
    },
    {
     "name": "stdout",
     "output_type": "stream",
     "text": [
      "Total Recurrent Synapses   = 336.0\n",
      "Total Feedforward Synapses = 160.0\n",
      "Total 7172 Synapses     = 1854.0\n",
      "\n",
      "(Recurrent / Total Output Synapses, Feedforward / Total Output Synapses)\n"
     ]
    },
    {
     "data": {
      "application/vnd.jupyter.widget-view+json": {
       "model_id": "7f3e2ab1423d4989baadf8f392ed1b2a",
       "version_major": 2,
       "version_minor": 0
      },
      "text/plain": [
       "CN details:   0%|          | 0/739 [00:00<?, ?it/s]"
      ]
     },
     "metadata": {},
     "output_type": "display_data"
    },
    {
     "name": "stderr",
     "output_type": "stream",
     "text": [
      "INFO  : Data for 739 of 739 unique connector IDs retrieved (pymaid)\n",
      "INFO  : Fetching connectivity table for 1 neurons (pymaid)\n",
      "INFO  : Done. Found 92 pre-, 409 postsynaptic and 0 gap junction-connected neurons (pymaid)\n",
      "INFO  : Cached data used. Use `pymaid.clear_cache()` to clear. (pymaid)\n",
      "INFO  : Cached data used. Use `pymaid.clear_cache()` to clear. (pymaid)\n"
     ]
    },
    {
     "name": "stdout",
     "output_type": "stream",
     "text": [
      "Total Recurrent Synapses   = 288.0\n",
      "Total Feedforward Synapses = 158.0\n",
      "Total 7815 Synapses     = 1672.0\n",
      "\n",
      "(Recurrent / Total Output Synapses, Feedforward / Total Output Synapses)\n"
     ]
    },
    {
     "data": {
      "application/vnd.jupyter.widget-view+json": {
       "model_id": "63f5530a41854060afab2a2f133b0113",
       "version_major": 2,
       "version_minor": 0
      },
      "text/plain": [
       "CN details:   0%|          | 0/542 [00:00<?, ?it/s]"
      ]
     },
     "metadata": {},
     "output_type": "display_data"
    },
    {
     "name": "stderr",
     "output_type": "stream",
     "text": [
      "INFO  : Data for 542 of 542 unique connector IDs retrieved (pymaid)\n",
      "INFO  : Fetching connectivity table for 1 neurons (pymaid)\n",
      "INFO  : Done. Found 74 pre-, 249 postsynaptic and 0 gap junction-connected neurons (pymaid)\n",
      "INFO  : Cached data used. Use `pymaid.clear_cache()` to clear. (pymaid)\n",
      "INFO  : Cached data used. Use `pymaid.clear_cache()` to clear. (pymaid)\n"
     ]
    },
    {
     "name": "stdout",
     "output_type": "stream",
     "text": [
      "Total Recurrent Synapses   = 240.0\n",
      "Total Feedforward Synapses = 131.0\n",
      "Total 1608 Synapses     = 1117.0\n",
      "\n",
      "(Recurrent / Total Output Synapses, Feedforward / Total Output Synapses)\n"
     ]
    },
    {
     "data": {
      "application/vnd.jupyter.widget-view+json": {
       "model_id": "5e091b6cb5be40c8ada0e13c31fca9b4",
       "version_major": 2,
       "version_minor": 0
      },
      "text/plain": [
       "CN details:   0%|          | 0/695 [00:00<?, ?it/s]"
      ]
     },
     "metadata": {},
     "output_type": "display_data"
    },
    {
     "name": "stderr",
     "output_type": "stream",
     "text": [
      "INFO  : Data for 695 of 695 unique connector IDs retrieved (pymaid)\n",
      "INFO  : Fetching connectivity table for 1 neurons (pymaid)\n",
      "INFO  : Done. Found 94 pre-, 310 postsynaptic and 0 gap junction-connected neurons (pymaid)\n",
      "INFO  : Cached data used. Use `pymaid.clear_cache()` to clear. (pymaid)\n",
      "INFO  : Cached data used. Use `pymaid.clear_cache()` to clear. (pymaid)\n"
     ]
    },
    {
     "name": "stdout",
     "output_type": "stream",
     "text": [
      "Total Recurrent Synapses   = 298.0\n",
      "Total Feedforward Synapses = 113.0\n",
      "Total 873 Synapses     = 1324.0\n",
      "\n",
      "(Recurrent / Total Output Synapses, Feedforward / Total Output Synapses)\n"
     ]
    },
    {
     "data": {
      "application/vnd.jupyter.widget-view+json": {
       "model_id": "5f3d8069744044c38250080a240e34ac",
       "version_major": 2,
       "version_minor": 0
      },
      "text/plain": [
       "CN details:   0%|          | 0/929 [00:00<?, ?it/s]"
      ]
     },
     "metadata": {},
     "output_type": "display_data"
    },
    {
     "name": "stderr",
     "output_type": "stream",
     "text": [
      "INFO  : Data for 929 of 929 unique connector IDs retrieved (pymaid)\n",
      "INFO  : Fetching connectivity table for 1 neurons (pymaid)\n",
      "INFO  : Done. Found 128 pre-, 232 postsynaptic and 0 gap junction-connected neurons (pymaid)\n",
      "INFO  : Cached data used. Use `pymaid.clear_cache()` to clear. (pymaid)\n",
      "INFO  : Cached data used. Use `pymaid.clear_cache()` to clear. (pymaid)\n"
     ]
    },
    {
     "name": "stdout",
     "output_type": "stream",
     "text": [
      "Total Recurrent Synapses   = 301.0\n",
      "Total Feedforward Synapses = 115.0\n",
      "Total 6736 Synapses     = 1292.0\n",
      "\n",
      "(Recurrent / Total Output Synapses, Feedforward / Total Output Synapses)\n"
     ]
    },
    {
     "data": {
      "application/vnd.jupyter.widget-view+json": {
       "model_id": "48877467098547db93281c27ec54a501",
       "version_major": 2,
       "version_minor": 0
      },
      "text/plain": [
       "CN details:   0%|          | 0/1095 [00:00<?, ?it/s]"
      ]
     },
     "metadata": {},
     "output_type": "display_data"
    },
    {
     "name": "stderr",
     "output_type": "stream",
     "text": [
      "INFO  : Data for 1095 of 1095 unique connector IDs retrieved (pymaid)\n",
      "INFO  : Fetching connectivity table for 1 neurons (pymaid)\n",
      "INFO  : Done. Found 145 pre-, 340 postsynaptic and 0 gap junction-connected neurons (pymaid)\n",
      "INFO  : Cached data used. Use `pymaid.clear_cache()` to clear. (pymaid)\n",
      "INFO  : Cached data used. Use `pymaid.clear_cache()` to clear. (pymaid)\n"
     ]
    },
    {
     "name": "stdout",
     "output_type": "stream",
     "text": [
      "Total Recurrent Synapses   = 365.0\n",
      "Total Feedforward Synapses = 155.0\n",
      "Total 881 Synapses     = 1574.0\n",
      "\n",
      "(Recurrent / Total Output Synapses, Feedforward / Total Output Synapses)\n"
     ]
    },
    {
     "data": {
      "application/vnd.jupyter.widget-view+json": {
       "model_id": "525e7ebd84ca4ec08d0b8c66bb195b80",
       "version_major": 2,
       "version_minor": 0
      },
      "text/plain": [
       "CN details:   0%|          | 0/665 [00:00<?, ?it/s]"
      ]
     },
     "metadata": {},
     "output_type": "display_data"
    },
    {
     "name": "stderr",
     "output_type": "stream",
     "text": [
      "INFO  : Data for 665 of 665 unique connector IDs retrieved (pymaid)\n",
      "INFO  : Fetching connectivity table for 1 neurons (pymaid)\n",
      "INFO  : Done. Found 92 pre-, 339 postsynaptic and 0 gap junction-connected neurons (pymaid)\n",
      "INFO  : Cached data used. Use `pymaid.clear_cache()` to clear. (pymaid)\n",
      "INFO  : Cached data used. Use `pymaid.clear_cache()` to clear. (pymaid)\n"
     ]
    },
    {
     "name": "stdout",
     "output_type": "stream",
     "text": [
      "Total Recurrent Synapses   = 334.0\n",
      "Total Feedforward Synapses = 145.0\n",
      "Total 6975 Synapses     = 1523.0\n",
      "\n",
      "(Recurrent / Total Output Synapses, Feedforward / Total Output Synapses)\n"
     ]
    },
    {
     "data": {
      "application/vnd.jupyter.widget-view+json": {
       "model_id": "db0601f97c8f4824bf6c444dbde0d424",
       "version_major": 2,
       "version_minor": 0
      },
      "text/plain": [
       "CN details:   0%|          | 0/1055 [00:00<?, ?it/s]"
      ]
     },
     "metadata": {},
     "output_type": "display_data"
    },
    {
     "name": "stderr",
     "output_type": "stream",
     "text": [
      "INFO  : Data for 1055 of 1055 unique connector IDs retrieved (pymaid)\n",
      "INFO  : Fetching connectivity table for 1 neurons (pymaid)\n",
      "INFO  : Done. Found 151 pre-, 418 postsynaptic and 0 gap junction-connected neurons (pymaid)\n",
      "INFO  : Cached data used. Use `pymaid.clear_cache()` to clear. (pymaid)\n",
      "INFO  : Cached data used. Use `pymaid.clear_cache()` to clear. (pymaid)\n"
     ]
    },
    {
     "name": "stdout",
     "output_type": "stream",
     "text": [
      "Total Recurrent Synapses   = 305.0\n",
      "Total Feedforward Synapses = 184.0\n",
      "Total 324409 Synapses     = 1837.0\n",
      "\n",
      "(Recurrent / Total Output Synapses, Feedforward / Total Output Synapses)\n"
     ]
    },
    {
     "data": {
      "application/vnd.jupyter.widget-view+json": {
       "model_id": "96efbcdb4c8d44b39c273bfd075e041f",
       "version_major": 2,
       "version_minor": 0
      },
      "text/plain": [
       "CN details:   0%|          | 0/1068 [00:00<?, ?it/s]"
      ]
     },
     "metadata": {},
     "output_type": "display_data"
    },
    {
     "name": "stderr",
     "output_type": "stream",
     "text": [
      "INFO  : Data for 1068 of 1068 unique connector IDs retrieved (pymaid)\n",
      "INFO  : Fetching connectivity table for 1 neurons (pymaid)\n",
      "INFO  : Done. Found 141 pre-, 386 postsynaptic and 0 gap junction-connected neurons (pymaid)\n",
      "INFO  : Cached data used. Use `pymaid.clear_cache()` to clear. (pymaid)\n",
      "INFO  : Cached data used. Use `pymaid.clear_cache()` to clear. (pymaid)\n"
     ]
    },
    {
     "name": "stdout",
     "output_type": "stream",
     "text": [
      "Total Recurrent Synapses   = 309.0\n",
      "Total Feedforward Synapses = 151.0\n",
      "Total 953 Synapses     = 1584.0\n",
      "\n",
      "(Recurrent / Total Output Synapses, Feedforward / Total Output Synapses)\n"
     ]
    },
    {
     "data": {
      "application/vnd.jupyter.widget-view+json": {
       "model_id": "a5ab04b7b6604ae9bc7c6ad7118dccdc",
       "version_major": 2,
       "version_minor": 0
      },
      "text/plain": [
       "CN details:   0%|          | 0/388 [00:00<?, ?it/s]"
      ]
     },
     "metadata": {},
     "output_type": "display_data"
    },
    {
     "name": "stderr",
     "output_type": "stream",
     "text": [
      "INFO  : Data for 388 of 388 unique connector IDs retrieved (pymaid)\n",
      "INFO  : Fetching connectivity table for 1 neurons (pymaid)\n",
      "INFO  : Done. Found 68 pre-, 231 postsynaptic and 0 gap junction-connected neurons (pymaid)\n",
      "INFO  : Cached data used. Use `pymaid.clear_cache()` to clear. (pymaid)\n",
      "INFO  : Cached data used. Use `pymaid.clear_cache()` to clear. (pymaid)\n"
     ]
    },
    {
     "name": "stdout",
     "output_type": "stream",
     "text": [
      "Total Recurrent Synapses   = 148.0\n",
      "Total Feedforward Synapses = 89.0\n",
      "Total 5021 Synapses     = 800.0\n",
      "\n",
      "(Recurrent / Total Output Synapses, Feedforward / Total Output Synapses)\n"
     ]
    },
    {
     "data": {
      "application/vnd.jupyter.widget-view+json": {
       "model_id": "3a31e6303005463184bc6c14e7d711ad",
       "version_major": 2,
       "version_minor": 0
      },
      "text/plain": [
       "CN details:   0%|          | 0/1107 [00:00<?, ?it/s]"
      ]
     },
     "metadata": {},
     "output_type": "display_data"
    },
    {
     "name": "stderr",
     "output_type": "stream",
     "text": [
      "INFO  : Data for 1107 of 1107 unique connector IDs retrieved (pymaid)\n",
      "INFO  : Fetching connectivity table for 1 neurons (pymaid)\n",
      "INFO  : Done. Found 160 pre-, 487 postsynaptic and 0 gap junction-connected neurons (pymaid)\n",
      "INFO  : Cached data used. Use `pymaid.clear_cache()` to clear. (pymaid)\n",
      "INFO  : Cached data used. Use `pymaid.clear_cache()` to clear. (pymaid)\n"
     ]
    },
    {
     "name": "stdout",
     "output_type": "stream",
     "text": [
      "Total Recurrent Synapses   = 267.0\n",
      "Total Feedforward Synapses = 132.0\n",
      "Total 671 Synapses     = 1670.0\n",
      "\n",
      "(Recurrent / Total Output Synapses, Feedforward / Total Output Synapses)\n"
     ]
    }
   ],
   "source": [
    "MD1_OSNs = pymaid.get_skids_by_annotation(['sensory neuron', 'left palp nerve', 'PSPs done', 'innervates MD1'], \n",
    "                                                intersect=True)\n",
    "\n",
    "MD1_OSNs = [uPN_synapses_over_OSN_synapses(i, '295') for i in MD1_OSNs]\n",
    "\n",
    "MD1_OSNs = pd.DataFrame(MD1_OSNs).set_index('OSN id')"
   ]
  },
  {
   "cell_type": "code",
   "execution_count": 5,
   "id": "98c4feb6",
   "metadata": {},
   "outputs": [
    {
     "data": {
      "text/html": [
       "<div>\n",
       "<style scoped>\n",
       "    .dataframe tbody tr th:only-of-type {\n",
       "        vertical-align: middle;\n",
       "    }\n",
       "\n",
       "    .dataframe tbody tr th {\n",
       "        vertical-align: top;\n",
       "    }\n",
       "\n",
       "    .dataframe thead th {\n",
       "        text-align: right;\n",
       "    }\n",
       "</style>\n",
       "<table border=\"1\" class=\"dataframe\">\n",
       "  <thead>\n",
       "    <tr style=\"text-align: right;\">\n",
       "      <th></th>\n",
       "      <th>uPN id</th>\n",
       "      <th>Recurrent Synapses</th>\n",
       "      <th>Feedforward Synapses</th>\n",
       "      <th>Total OSN Synapses (Presynaptic)</th>\n",
       "      <th>Recurrent Fraction</th>\n",
       "      <th>Feedforward Fraction</th>\n",
       "    </tr>\n",
       "    <tr>\n",
       "      <th>OSN id</th>\n",
       "      <th></th>\n",
       "      <th></th>\n",
       "      <th></th>\n",
       "      <th></th>\n",
       "      <th></th>\n",
       "      <th></th>\n",
       "    </tr>\n",
       "  </thead>\n",
       "  <tbody>\n",
       "    <tr>\n",
       "      <th>7172</th>\n",
       "      <td>295</td>\n",
       "      <td>336.0</td>\n",
       "      <td>160.0</td>\n",
       "      <td>1854.0</td>\n",
       "      <td>0.181230</td>\n",
       "      <td>0.086300</td>\n",
       "    </tr>\n",
       "    <tr>\n",
       "      <th>7815</th>\n",
       "      <td>295</td>\n",
       "      <td>288.0</td>\n",
       "      <td>158.0</td>\n",
       "      <td>1672.0</td>\n",
       "      <td>0.172249</td>\n",
       "      <td>0.094498</td>\n",
       "    </tr>\n",
       "    <tr>\n",
       "      <th>1608</th>\n",
       "      <td>295</td>\n",
       "      <td>240.0</td>\n",
       "      <td>131.0</td>\n",
       "      <td>1117.0</td>\n",
       "      <td>0.214861</td>\n",
       "      <td>0.117278</td>\n",
       "    </tr>\n",
       "    <tr>\n",
       "      <th>873</th>\n",
       "      <td>295</td>\n",
       "      <td>298.0</td>\n",
       "      <td>113.0</td>\n",
       "      <td>1324.0</td>\n",
       "      <td>0.225076</td>\n",
       "      <td>0.085347</td>\n",
       "    </tr>\n",
       "    <tr>\n",
       "      <th>6736</th>\n",
       "      <td>295</td>\n",
       "      <td>301.0</td>\n",
       "      <td>115.0</td>\n",
       "      <td>1292.0</td>\n",
       "      <td>0.232972</td>\n",
       "      <td>0.089009</td>\n",
       "    </tr>\n",
       "    <tr>\n",
       "      <th>881</th>\n",
       "      <td>295</td>\n",
       "      <td>365.0</td>\n",
       "      <td>155.0</td>\n",
       "      <td>1574.0</td>\n",
       "      <td>0.231893</td>\n",
       "      <td>0.098475</td>\n",
       "    </tr>\n",
       "    <tr>\n",
       "      <th>6975</th>\n",
       "      <td>295</td>\n",
       "      <td>334.0</td>\n",
       "      <td>145.0</td>\n",
       "      <td>1523.0</td>\n",
       "      <td>0.219304</td>\n",
       "      <td>0.095207</td>\n",
       "    </tr>\n",
       "    <tr>\n",
       "      <th>324409</th>\n",
       "      <td>295</td>\n",
       "      <td>305.0</td>\n",
       "      <td>184.0</td>\n",
       "      <td>1837.0</td>\n",
       "      <td>0.166032</td>\n",
       "      <td>0.100163</td>\n",
       "    </tr>\n",
       "    <tr>\n",
       "      <th>953</th>\n",
       "      <td>295</td>\n",
       "      <td>309.0</td>\n",
       "      <td>151.0</td>\n",
       "      <td>1584.0</td>\n",
       "      <td>0.195076</td>\n",
       "      <td>0.095328</td>\n",
       "    </tr>\n",
       "    <tr>\n",
       "      <th>5021</th>\n",
       "      <td>295</td>\n",
       "      <td>148.0</td>\n",
       "      <td>89.0</td>\n",
       "      <td>800.0</td>\n",
       "      <td>0.185000</td>\n",
       "      <td>0.111250</td>\n",
       "    </tr>\n",
       "    <tr>\n",
       "      <th>671</th>\n",
       "      <td>295</td>\n",
       "      <td>267.0</td>\n",
       "      <td>132.0</td>\n",
       "      <td>1670.0</td>\n",
       "      <td>0.159880</td>\n",
       "      <td>0.079042</td>\n",
       "    </tr>\n",
       "  </tbody>\n",
       "</table>\n",
       "</div>"
      ],
      "text/plain": [
       "       uPN id  Recurrent Synapses  Feedforward Synapses  \\\n",
       "OSN id                                                    \n",
       "7172      295               336.0                 160.0   \n",
       "7815      295               288.0                 158.0   \n",
       "1608      295               240.0                 131.0   \n",
       "873       295               298.0                 113.0   \n",
       "6736      295               301.0                 115.0   \n",
       "881       295               365.0                 155.0   \n",
       "6975      295               334.0                 145.0   \n",
       "324409    295               305.0                 184.0   \n",
       "953       295               309.0                 151.0   \n",
       "5021      295               148.0                  89.0   \n",
       "671       295               267.0                 132.0   \n",
       "\n",
       "        Total OSN Synapses (Presynaptic)  Recurrent Fraction  \\\n",
       "OSN id                                                         \n",
       "7172                              1854.0            0.181230   \n",
       "7815                              1672.0            0.172249   \n",
       "1608                              1117.0            0.214861   \n",
       "873                               1324.0            0.225076   \n",
       "6736                              1292.0            0.232972   \n",
       "881                               1574.0            0.231893   \n",
       "6975                              1523.0            0.219304   \n",
       "324409                            1837.0            0.166032   \n",
       "953                               1584.0            0.195076   \n",
       "5021                               800.0            0.185000   \n",
       "671                               1670.0            0.159880   \n",
       "\n",
       "        Feedforward Fraction  \n",
       "OSN id                        \n",
       "7172                0.086300  \n",
       "7815                0.094498  \n",
       "1608                0.117278  \n",
       "873                 0.085347  \n",
       "6736                0.089009  \n",
       "881                 0.098475  \n",
       "6975                0.095207  \n",
       "324409              0.100163  \n",
       "953                 0.095328  \n",
       "5021                0.111250  \n",
       "671                 0.079042  "
      ]
     },
     "execution_count": 5,
     "metadata": {},
     "output_type": "execute_result"
    }
   ],
   "source": [
    "MD1_OSNs"
   ]
  },
  {
   "cell_type": "code",
   "execution_count": 6,
   "id": "5e466286",
   "metadata": {},
   "outputs": [
    {
     "name": "stdout",
     "output_type": "stream",
     "text": [
      "[0.08629989212513485, 0.09449760765550239, 0.11727842435094002, 0.08534743202416918, 0.0890092879256966, 0.09847522236340533, 0.09520682862770848, 0.10016330974414807, 0.09532828282828283, 0.11125, 0.07904191616766468]\n",
      "[0.18122977346278318, 0.1722488038277512, 0.21486123545210384, 0.22507552870090636, 0.23297213622291021, 0.23189326556543838, 0.21930400525279053, 0.16603157321720197, 0.19507575757575757, 0.185, 0.1598802395209581]\n"
     ]
    }
   ],
   "source": [
    "md1_feedforward=MD1_OSNs['Feedforward Fraction'].tolist()\n",
    "print(md1_feedforward)\n",
    "md1_recurrent=MD1_OSNs['Recurrent Fraction'].tolist()\n",
    "print(md1_recurrent)"
   ]
  },
  {
   "cell_type": "code",
   "execution_count": 7,
   "id": "7a1fc0d3",
   "metadata": {},
   "outputs": [
    {
     "name": "stderr",
     "output_type": "stream",
     "text": [
      "INFO  : Cached data used. Use `pymaid.clear_cache()` to clear. (pymaid)\n"
     ]
    },
    {
     "data": {
      "application/vnd.jupyter.widget-view+json": {
       "model_id": "b6daeae90d10408a8212795a2979974f",
       "version_major": 2,
       "version_minor": 0
      },
      "text/plain": [
       "CN details:   0%|          | 0/310 [00:00<?, ?it/s]"
      ]
     },
     "metadata": {},
     "output_type": "display_data"
    },
    {
     "name": "stderr",
     "output_type": "stream",
     "text": [
      "INFO  : Data for 310 of 310 unique connector IDs retrieved (pymaid)\n",
      "INFO  : Fetching connectivity table for 1 neurons (pymaid)\n",
      "INFO  : Done. Found 86 pre-, 222 postsynaptic and 0 gap junction-connected neurons (pymaid)\n",
      "INFO  : Cached data used. Use `pymaid.clear_cache()` to clear. (pymaid)\n",
      "INFO  : Cached data used. Use `pymaid.clear_cache()` to clear. (pymaid)\n"
     ]
    },
    {
     "name": "stdout",
     "output_type": "stream",
     "text": [
      "Total Recurrent Synapses   = 60.0\n",
      "Total Feedforward Synapses = 103.0\n",
      "Total 9064 Synapses     = 506.0\n",
      "\n",
      "(Recurrent / Total Output Synapses, Feedforward / Total Output Synapses)\n"
     ]
    },
    {
     "data": {
      "application/vnd.jupyter.widget-view+json": {
       "model_id": "829cb1e928314853b791605e4c59b736",
       "version_major": 2,
       "version_minor": 0
      },
      "text/plain": [
       "CN details:   0%|          | 0/270 [00:00<?, ?it/s]"
      ]
     },
     "metadata": {},
     "output_type": "display_data"
    },
    {
     "name": "stderr",
     "output_type": "stream",
     "text": [
      "INFO  : Data for 270 of 270 unique connector IDs retrieved (pymaid)\n",
      "INFO  : Fetching connectivity table for 1 neurons (pymaid)\n",
      "INFO  : Done. Found 66 pre-, 200 postsynaptic and 0 gap junction-connected neurons (pymaid)\n",
      "INFO  : Cached data used. Use `pymaid.clear_cache()` to clear. (pymaid)\n",
      "INFO  : Cached data used. Use `pymaid.clear_cache()` to clear. (pymaid)\n"
     ]
    },
    {
     "name": "stdout",
     "output_type": "stream",
     "text": [
      "Total Recurrent Synapses   = 86.0\n",
      "Total Feedforward Synapses = 112.0\n",
      "Total 7209 Synapses     = 514.0\n",
      "\n",
      "(Recurrent / Total Output Synapses, Feedforward / Total Output Synapses)\n"
     ]
    },
    {
     "data": {
      "application/vnd.jupyter.widget-view+json": {
       "model_id": "643d71452b0347b28b919c7577bda49b",
       "version_major": 2,
       "version_minor": 0
      },
      "text/plain": [
       "CN details:   0%|          | 0/223 [00:00<?, ?it/s]"
      ]
     },
     "metadata": {},
     "output_type": "display_data"
    },
    {
     "name": "stderr",
     "output_type": "stream",
     "text": [
      "INFO  : Data for 223 of 223 unique connector IDs retrieved (pymaid)\n",
      "INFO  : Fetching connectivity table for 1 neurons (pymaid)\n",
      "INFO  : Done. Found 44 pre-, 177 postsynaptic and 0 gap junction-connected neurons (pymaid)\n",
      "INFO  : Cached data used. Use `pymaid.clear_cache()` to clear. (pymaid)\n",
      "INFO  : Cached data used. Use `pymaid.clear_cache()` to clear. (pymaid)\n"
     ]
    },
    {
     "name": "stdout",
     "output_type": "stream",
     "text": [
      "Total Recurrent Synapses   = 73.0\n",
      "Total Feedforward Synapses = 100.0\n",
      "Total 718 Synapses     = 425.0\n",
      "\n",
      "(Recurrent / Total Output Synapses, Feedforward / Total Output Synapses)\n"
     ]
    },
    {
     "data": {
      "application/vnd.jupyter.widget-view+json": {
       "model_id": "4db796fe3c064ad5a41ca6cd82cc1f53",
       "version_major": 2,
       "version_minor": 0
      },
      "text/plain": [
       "CN details:   0%|          | 0/219 [00:00<?, ?it/s]"
      ]
     },
     "metadata": {},
     "output_type": "display_data"
    },
    {
     "name": "stderr",
     "output_type": "stream",
     "text": [
      "INFO  : Data for 219 of 219 unique connector IDs retrieved (pymaid)\n",
      "INFO  : Fetching connectivity table for 1 neurons (pymaid)\n",
      "INFO  : Done. Found 51 pre-, 199 postsynaptic and 0 gap junction-connected neurons (pymaid)\n",
      "INFO  : Cached data used. Use `pymaid.clear_cache()` to clear. (pymaid)\n",
      "INFO  : Cached data used. Use `pymaid.clear_cache()` to clear. (pymaid)\n"
     ]
    },
    {
     "name": "stdout",
     "output_type": "stream",
     "text": [
      "Total Recurrent Synapses   = 50.0\n",
      "Total Feedforward Synapses = 111.0\n",
      "Total 7983 Synapses     = 499.0\n",
      "\n",
      "(Recurrent / Total Output Synapses, Feedforward / Total Output Synapses)\n"
     ]
    },
    {
     "data": {
      "application/vnd.jupyter.widget-view+json": {
       "model_id": "671df99ecfa646998c799a6ae1beaec1",
       "version_major": 2,
       "version_minor": 0
      },
      "text/plain": [
       "CN details:   0%|          | 0/219 [00:00<?, ?it/s]"
      ]
     },
     "metadata": {},
     "output_type": "display_data"
    },
    {
     "name": "stderr",
     "output_type": "stream",
     "text": [
      "INFO  : Data for 219 of 219 unique connector IDs retrieved (pymaid)\n",
      "INFO  : Fetching connectivity table for 1 neurons (pymaid)\n",
      "INFO  : Done. Found 44 pre-, 223 postsynaptic and 0 gap junction-connected neurons (pymaid)\n",
      "INFO  : Cached data used. Use `pymaid.clear_cache()` to clear. (pymaid)\n",
      "INFO  : Cached data used. Use `pymaid.clear_cache()` to clear. (pymaid)\n"
     ]
    },
    {
     "name": "stdout",
     "output_type": "stream",
     "text": [
      "Total Recurrent Synapses   = 69.0\n",
      "Total Feedforward Synapses = 95.0\n",
      "Total 947 Synapses     = 525.0\n",
      "\n",
      "(Recurrent / Total Output Synapses, Feedforward / Total Output Synapses)\n"
     ]
    },
    {
     "data": {
      "application/vnd.jupyter.widget-view+json": {
       "model_id": "1d1c8f33397b46d6b1661737b3c419a7",
       "version_major": 2,
       "version_minor": 0
      },
      "text/plain": [
       "CN details:   0%|          | 0/229 [00:00<?, ?it/s]"
      ]
     },
     "metadata": {},
     "output_type": "display_data"
    },
    {
     "name": "stderr",
     "output_type": "stream",
     "text": [
      "INFO  : Data for 229 of 229 unique connector IDs retrieved (pymaid)\n",
      "INFO  : Fetching connectivity table for 1 neurons (pymaid)\n",
      "INFO  : Done. Found 55 pre-, 195 postsynaptic and 0 gap junction-connected neurons (pymaid)\n",
      "INFO  : Cached data used. Use `pymaid.clear_cache()` to clear. (pymaid)\n",
      "INFO  : Cached data used. Use `pymaid.clear_cache()` to clear. (pymaid)\n"
     ]
    },
    {
     "name": "stdout",
     "output_type": "stream",
     "text": [
      "Total Recurrent Synapses   = 63.0\n",
      "Total Feedforward Synapses = 112.0\n",
      "Total 7325 Synapses     = 498.0\n",
      "\n",
      "(Recurrent / Total Output Synapses, Feedforward / Total Output Synapses)\n"
     ]
    },
    {
     "data": {
      "application/vnd.jupyter.widget-view+json": {
       "model_id": "c5790c4fe28043ba9e7912a70c15b39d",
       "version_major": 2,
       "version_minor": 0
      },
      "text/plain": [
       "CN details:   0%|          | 0/199 [00:00<?, ?it/s]"
      ]
     },
     "metadata": {},
     "output_type": "display_data"
    },
    {
     "name": "stderr",
     "output_type": "stream",
     "text": [
      "INFO  : Data for 199 of 199 unique connector IDs retrieved (pymaid)\n",
      "INFO  : Fetching connectivity table for 1 neurons (pymaid)\n",
      "INFO  : Done. Found 48 pre-, 187 postsynaptic and 0 gap junction-connected neurons (pymaid)\n",
      "INFO  : Cached data used. Use `pymaid.clear_cache()` to clear. (pymaid)\n",
      "INFO  : Cached data used. Use `pymaid.clear_cache()` to clear. (pymaid)\n"
     ]
    },
    {
     "name": "stdout",
     "output_type": "stream",
     "text": [
      "Total Recurrent Synapses   = 62.0\n",
      "Total Feedforward Synapses = 117.0\n",
      "Total 728 Synapses     = 461.0\n",
      "\n",
      "(Recurrent / Total Output Synapses, Feedforward / Total Output Synapses)\n"
     ]
    },
    {
     "data": {
      "application/vnd.jupyter.widget-view+json": {
       "model_id": "b27a49f315754c49bc9843e7abf3cf39",
       "version_major": 2,
       "version_minor": 0
      },
      "text/plain": [
       "CN details:   0%|          | 0/222 [00:00<?, ?it/s]"
      ]
     },
     "metadata": {},
     "output_type": "display_data"
    },
    {
     "name": "stderr",
     "output_type": "stream",
     "text": [
      "INFO  : Data for 222 of 222 unique connector IDs retrieved (pymaid)\n",
      "INFO  : Fetching connectivity table for 1 neurons (pymaid)\n",
      "INFO  : Done. Found 58 pre-, 211 postsynaptic and 0 gap junction-connected neurons (pymaid)\n",
      "INFO  : Cached data used. Use `pymaid.clear_cache()` to clear. (pymaid)\n",
      "INFO  : Cached data used. Use `pymaid.clear_cache()` to clear. (pymaid)\n"
     ]
    },
    {
     "name": "stdout",
     "output_type": "stream",
     "text": [
      "Total Recurrent Synapses   = 59.0\n",
      "Total Feedforward Synapses = 103.0\n",
      "Total 7353 Synapses     = 471.0\n",
      "\n",
      "(Recurrent / Total Output Synapses, Feedforward / Total Output Synapses)\n"
     ]
    },
    {
     "data": {
      "application/vnd.jupyter.widget-view+json": {
       "model_id": "4a28bdcd858a4cf2985da91f531c1796",
       "version_major": 2,
       "version_minor": 0
      },
      "text/plain": [
       "CN details:   0%|          | 0/250 [00:00<?, ?it/s]"
      ]
     },
     "metadata": {},
     "output_type": "display_data"
    },
    {
     "name": "stderr",
     "output_type": "stream",
     "text": [
      "INFO  : Data for 250 of 250 unique connector IDs retrieved (pymaid)\n",
      "INFO  : Fetching connectivity table for 1 neurons (pymaid)\n",
      "INFO  : Done. Found 68 pre-, 245 postsynaptic and 0 gap junction-connected neurons (pymaid)\n",
      "INFO  : Cached data used. Use `pymaid.clear_cache()` to clear. (pymaid)\n",
      "INFO  : Cached data used. Use `pymaid.clear_cache()` to clear. (pymaid)\n"
     ]
    },
    {
     "name": "stdout",
     "output_type": "stream",
     "text": [
      "Total Recurrent Synapses   = 78.0\n",
      "Total Feedforward Synapses = 114.0\n",
      "Total 7197 Synapses     = 520.0\n",
      "\n",
      "(Recurrent / Total Output Synapses, Feedforward / Total Output Synapses)\n"
     ]
    },
    {
     "data": {
      "application/vnd.jupyter.widget-view+json": {
       "model_id": "78d9dcf8767c4e4495ceaaec4e5af6fc",
       "version_major": 2,
       "version_minor": 0
      },
      "text/plain": [
       "CN details:   0%|          | 0/143 [00:00<?, ?it/s]"
      ]
     },
     "metadata": {},
     "output_type": "display_data"
    },
    {
     "name": "stderr",
     "output_type": "stream",
     "text": [
      "INFO  : Data for 143 of 143 unique connector IDs retrieved (pymaid)\n",
      "INFO  : Fetching connectivity table for 1 neurons (pymaid)\n",
      "INFO  : Done. Found 52 pre-, 112 postsynaptic and 0 gap junction-connected neurons (pymaid)\n",
      "INFO  : Cached data used. Use `pymaid.clear_cache()` to clear. (pymaid)\n",
      "INFO  : Cached data used. Use `pymaid.clear_cache()` to clear. (pymaid)\n"
     ]
    },
    {
     "name": "stdout",
     "output_type": "stream",
     "text": [
      "Total Recurrent Synapses   = 28.0\n",
      "Total Feedforward Synapses = 51.0\n",
      "Total 7135 Synapses     = 251.0\n",
      "\n",
      "(Recurrent / Total Output Synapses, Feedforward / Total Output Synapses)\n",
      "[0.20355731225296442, 0.2178988326848249, 0.23529411764705882, 0.22244488977955912, 0.18095238095238095, 0.2248995983935743, 0.25379609544468545, 0.21868365180467092, 0.21923076923076923, 0.20318725099601595]\n",
      "[0.11857707509881422, 0.16731517509727625, 0.17176470588235293, 0.10020040080160321, 0.13142857142857142, 0.12650602409638553, 0.13449023861171366, 0.12526539278131635, 0.15, 0.11155378486055777]\n"
     ]
    }
   ],
   "source": [
    "MD2_OSNs = pymaid.get_skids_by_annotation(['sensory neuron', 'left palp nerve', 'PSPs done', 'innervates MD2'], \n",
    "                                                intersect=True)\n",
    "\n",
    "MD2_OSNs = [uPN_synapses_over_OSN_synapses(i, '690') for i in MD2_OSNs]\n",
    "\n",
    "MD2_OSNs = pd.DataFrame(MD2_OSNs).set_index('OSN id')\n",
    "md2_feedforward=MD2_OSNs['Feedforward Fraction'].tolist()\n",
    "print(md2_feedforward)\n",
    "md2_recurrent=MD2_OSNs['Recurrent Fraction'].tolist()\n",
    "print(md2_recurrent)"
   ]
  },
  {
   "cell_type": "code",
   "execution_count": 8,
   "id": "363af590",
   "metadata": {},
   "outputs": [
    {
     "name": "stderr",
     "output_type": "stream",
     "text": [
      "INFO  : Cached data used. Use `pymaid.clear_cache()` to clear. (pymaid)\n"
     ]
    },
    {
     "data": {
      "application/vnd.jupyter.widget-view+json": {
       "model_id": "1c008e02065b4ae894332fb5870aa135",
       "version_major": 2,
       "version_minor": 0
      },
      "text/plain": [
       "CN details:   0%|          | 0/353 [00:00<?, ?it/s]"
      ]
     },
     "metadata": {},
     "output_type": "display_data"
    },
    {
     "name": "stderr",
     "output_type": "stream",
     "text": [
      "INFO  : Data for 353 of 353 unique connector IDs retrieved (pymaid)\n",
      "INFO  : Fetching connectivity table for 1 neurons (pymaid)\n",
      "INFO  : Done. Found 76 pre-, 166 postsynaptic and 0 gap junction-connected neurons (pymaid)\n",
      "INFO  : Cached data used. Use `pymaid.clear_cache()` to clear. (pymaid)\n",
      "INFO  : Cached data used. Use `pymaid.clear_cache()` to clear. (pymaid)\n"
     ]
    },
    {
     "name": "stdout",
     "output_type": "stream",
     "text": [
      "Total Recurrent Synapses   = 88.0\n",
      "Total Feedforward Synapses = 151.0\n",
      "Total 8961 Synapses     = 526.0\n",
      "\n",
      "(Recurrent / Total Output Synapses, Feedforward / Total Output Synapses)\n"
     ]
    },
    {
     "data": {
      "application/vnd.jupyter.widget-view+json": {
       "model_id": "b77f5f999f08429f8ee8e41c5eaa9b74",
       "version_major": 2,
       "version_minor": 0
      },
      "text/plain": [
       "CN details:   0%|          | 0/290 [00:00<?, ?it/s]"
      ]
     },
     "metadata": {},
     "output_type": "display_data"
    },
    {
     "name": "stderr",
     "output_type": "stream",
     "text": [
      "INFO  : Data for 290 of 290 unique connector IDs retrieved (pymaid)\n",
      "INFO  : Fetching connectivity table for 1 neurons (pymaid)\n",
      "INFO  : Done. Found 70 pre-, 169 postsynaptic and 0 gap junction-connected neurons (pymaid)\n",
      "INFO  : Cached data used. Use `pymaid.clear_cache()` to clear. (pymaid)\n",
      "INFO  : Cached data used. Use `pymaid.clear_cache()` to clear. (pymaid)\n"
     ]
    },
    {
     "name": "stdout",
     "output_type": "stream",
     "text": [
      "Total Recurrent Synapses   = 67.0\n",
      "Total Feedforward Synapses = 163.0\n",
      "Total 7075 Synapses     = 518.0\n",
      "\n",
      "(Recurrent / Total Output Synapses, Feedforward / Total Output Synapses)\n"
     ]
    },
    {
     "data": {
      "application/vnd.jupyter.widget-view+json": {
       "model_id": "635d98431dcf471f8336c8d87a81ce36",
       "version_major": 2,
       "version_minor": 0
      },
      "text/plain": [
       "CN details:   0%|          | 0/254 [00:00<?, ?it/s]"
      ]
     },
     "metadata": {},
     "output_type": "display_data"
    },
    {
     "name": "stderr",
     "output_type": "stream",
     "text": [
      "INFO  : Data for 254 of 254 unique connector IDs retrieved (pymaid)\n",
      "INFO  : Fetching connectivity table for 1 neurons (pymaid)\n",
      "INFO  : Done. Found 49 pre-, 148 postsynaptic and 0 gap junction-connected neurons (pymaid)\n",
      "INFO  : Cached data used. Use `pymaid.clear_cache()` to clear. (pymaid)\n",
      "INFO  : Cached data used. Use `pymaid.clear_cache()` to clear. (pymaid)\n"
     ]
    },
    {
     "name": "stdout",
     "output_type": "stream",
     "text": [
      "Total Recurrent Synapses   = 58.0\n",
      "Total Feedforward Synapses = 137.0\n",
      "Total 7270 Synapses     = 453.0\n",
      "\n",
      "(Recurrent / Total Output Synapses, Feedforward / Total Output Synapses)\n"
     ]
    },
    {
     "data": {
      "application/vnd.jupyter.widget-view+json": {
       "model_id": "c664f012d9cc4993b832315c4d9e960d",
       "version_major": 2,
       "version_minor": 0
      },
      "text/plain": [
       "CN details:   0%|          | 0/295 [00:00<?, ?it/s]"
      ]
     },
     "metadata": {},
     "output_type": "display_data"
    },
    {
     "name": "stderr",
     "output_type": "stream",
     "text": [
      "INFO  : Data for 295 of 295 unique connector IDs retrieved (pymaid)\n",
      "INFO  : Fetching connectivity table for 1 neurons (pymaid)\n",
      "INFO  : Done. Found 54 pre-, 217 postsynaptic and 0 gap junction-connected neurons (pymaid)\n",
      "INFO  : Cached data used. Use `pymaid.clear_cache()` to clear. (pymaid)\n",
      "INFO  : Cached data used. Use `pymaid.clear_cache()` to clear. (pymaid)\n"
     ]
    },
    {
     "name": "stdout",
     "output_type": "stream",
     "text": [
      "Total Recurrent Synapses   = 86.0\n",
      "Total Feedforward Synapses = 179.0\n",
      "Total 7787 Synapses     = 631.0\n",
      "\n",
      "(Recurrent / Total Output Synapses, Feedforward / Total Output Synapses)\n"
     ]
    },
    {
     "data": {
      "application/vnd.jupyter.widget-view+json": {
       "model_id": "c18044780d87451a8c3a303c4cf439b2",
       "version_major": 2,
       "version_minor": 0
      },
      "text/plain": [
       "CN details:   0%|          | 0/254 [00:00<?, ?it/s]"
      ]
     },
     "metadata": {},
     "output_type": "display_data"
    },
    {
     "name": "stderr",
     "output_type": "stream",
     "text": [
      "INFO  : Data for 254 of 254 unique connector IDs retrieved (pymaid)\n",
      "INFO  : Fetching connectivity table for 1 neurons (pymaid)\n",
      "INFO  : Done. Found 45 pre-, 156 postsynaptic and 0 gap junction-connected neurons (pymaid)\n",
      "INFO  : Cached data used. Use `pymaid.clear_cache()` to clear. (pymaid)\n",
      "INFO  : Cached data used. Use `pymaid.clear_cache()` to clear. (pymaid)\n"
     ]
    },
    {
     "name": "stdout",
     "output_type": "stream",
     "text": [
      "Total Recurrent Synapses   = 79.0\n",
      "Total Feedforward Synapses = 142.0\n",
      "Total 1101 Synapses     = 504.0\n",
      "\n",
      "(Recurrent / Total Output Synapses, Feedforward / Total Output Synapses)\n"
     ]
    },
    {
     "data": {
      "application/vnd.jupyter.widget-view+json": {
       "model_id": "45584cd154c546fab2a704bba73e68d3",
       "version_major": 2,
       "version_minor": 0
      },
      "text/plain": [
       "CN details:   0%|          | 0/280 [00:00<?, ?it/s]"
      ]
     },
     "metadata": {},
     "output_type": "display_data"
    },
    {
     "name": "stderr",
     "output_type": "stream",
     "text": [
      "INFO  : Data for 280 of 280 unique connector IDs retrieved (pymaid)\n",
      "INFO  : Fetching connectivity table for 1 neurons (pymaid)\n",
      "INFO  : Done. Found 52 pre-, 191 postsynaptic and 0 gap junction-connected neurons (pymaid)\n",
      "INFO  : Cached data used. Use `pymaid.clear_cache()` to clear. (pymaid)\n",
      "INFO  : Cached data used. Use `pymaid.clear_cache()` to clear. (pymaid)\n"
     ]
    },
    {
     "name": "stdout",
     "output_type": "stream",
     "text": [
      "Total Recurrent Synapses   = 87.0\n",
      "Total Feedforward Synapses = 147.0\n",
      "Total 8399 Synapses     = 566.0\n",
      "\n",
      "(Recurrent / Total Output Synapses, Feedforward / Total Output Synapses)\n"
     ]
    },
    {
     "data": {
      "application/vnd.jupyter.widget-view+json": {
       "model_id": "28fdf86b05724b459b2bed6f3350308c",
       "version_major": 2,
       "version_minor": 0
      },
      "text/plain": [
       "CN details:   0%|          | 0/234 [00:00<?, ?it/s]"
      ]
     },
     "metadata": {},
     "output_type": "display_data"
    },
    {
     "name": "stderr",
     "output_type": "stream",
     "text": [
      "INFO  : Data for 234 of 234 unique connector IDs retrieved (pymaid)\n",
      "INFO  : Fetching connectivity table for 1 neurons (pymaid)\n",
      "INFO  : Done. Found 51 pre-, 151 postsynaptic and 0 gap junction-connected neurons (pymaid)\n",
      "INFO  : Cached data used. Use `pymaid.clear_cache()` to clear. (pymaid)\n",
      "INFO  : Cached data used. Use `pymaid.clear_cache()` to clear. (pymaid)\n"
     ]
    },
    {
     "name": "stdout",
     "output_type": "stream",
     "text": [
      "Total Recurrent Synapses   = 71.0\n",
      "Total Feedforward Synapses = 146.0\n",
      "Total 7089 Synapses     = 486.0\n",
      "\n",
      "(Recurrent / Total Output Synapses, Feedforward / Total Output Synapses)\n"
     ]
    },
    {
     "data": {
      "application/vnd.jupyter.widget-view+json": {
       "model_id": "8f6f63f0bf7e4bcd84886a30fac8809c",
       "version_major": 2,
       "version_minor": 0
      },
      "text/plain": [
       "CN details:   0%|          | 0/280 [00:00<?, ?it/s]"
      ]
     },
     "metadata": {},
     "output_type": "display_data"
    },
    {
     "name": "stderr",
     "output_type": "stream",
     "text": [
      "INFO  : Data for 280 of 280 unique connector IDs retrieved (pymaid)\n",
      "INFO  : Fetching connectivity table for 1 neurons (pymaid)\n",
      "INFO  : Done. Found 59 pre-, 175 postsynaptic and 0 gap junction-connected neurons (pymaid)\n",
      "INFO  : Cached data used. Use `pymaid.clear_cache()` to clear. (pymaid)\n",
      "INFO  : Cached data used. Use `pymaid.clear_cache()` to clear. (pymaid)\n"
     ]
    },
    {
     "name": "stdout",
     "output_type": "stream",
     "text": [
      "Total Recurrent Synapses   = 97.0\n",
      "Total Feedforward Synapses = 156.0\n",
      "Total 7769 Synapses     = 567.0\n",
      "\n",
      "(Recurrent / Total Output Synapses, Feedforward / Total Output Synapses)\n"
     ]
    },
    {
     "data": {
      "application/vnd.jupyter.widget-view+json": {
       "model_id": "dffba898ce4246fa8fa10b04831f79cd",
       "version_major": 2,
       "version_minor": 0
      },
      "text/plain": [
       "CN details:   0%|          | 0/262 [00:00<?, ?it/s]"
      ]
     },
     "metadata": {},
     "output_type": "display_data"
    },
    {
     "name": "stderr",
     "output_type": "stream",
     "text": [
      "INFO  : Data for 262 of 262 unique connector IDs retrieved (pymaid)\n",
      "INFO  : Fetching connectivity table for 1 neurons (pymaid)\n",
      "INFO  : Done. Found 61 pre-, 195 postsynaptic and 0 gap junction-connected neurons (pymaid)\n",
      "INFO  : Cached data used. Use `pymaid.clear_cache()` to clear. (pymaid)\n",
      "INFO  : Cached data used. Use `pymaid.clear_cache()` to clear. (pymaid)\n"
     ]
    },
    {
     "name": "stdout",
     "output_type": "stream",
     "text": [
      "Total Recurrent Synapses   = 77.0\n",
      "Total Feedforward Synapses = 166.0\n",
      "Total 7230 Synapses     = 579.0\n",
      "\n",
      "(Recurrent / Total Output Synapses, Feedforward / Total Output Synapses)\n"
     ]
    },
    {
     "data": {
      "application/vnd.jupyter.widget-view+json": {
       "model_id": "0d156efc46a54c30b665172239f54844",
       "version_major": 2,
       "version_minor": 0
      },
      "text/plain": [
       "CN details:   0%|          | 0/257 [00:00<?, ?it/s]"
      ]
     },
     "metadata": {},
     "output_type": "display_data"
    },
    {
     "name": "stderr",
     "output_type": "stream",
     "text": [
      "INFO  : Data for 257 of 257 unique connector IDs retrieved (pymaid)\n",
      "INFO  : Fetching connectivity table for 1 neurons (pymaid)\n",
      "INFO  : Done. Found 55 pre-, 179 postsynaptic and 0 gap junction-connected neurons (pymaid)\n",
      "INFO  : Cached data used. Use `pymaid.clear_cache()` to clear. (pymaid)\n",
      "INFO  : Cached data used. Use `pymaid.clear_cache()` to clear. (pymaid)\n"
     ]
    },
    {
     "name": "stdout",
     "output_type": "stream",
     "text": [
      "Total Recurrent Synapses   = 79.0\n",
      "Total Feedforward Synapses = 154.0\n",
      "Total 7775 Synapses     = 511.0\n",
      "\n",
      "(Recurrent / Total Output Synapses, Feedforward / Total Output Synapses)\n",
      "[0.2870722433460076, 0.31467181467181465, 0.30242825607064017, 0.2836767036450079, 0.28174603174603174, 0.2597173144876325, 0.3004115226337449, 0.2751322751322751, 0.2867012089810017, 0.3013698630136986]\n",
      "[0.16730038022813687, 0.12934362934362933, 0.1280353200883002, 0.13629160063391443, 0.15674603174603174, 0.15371024734982333, 0.14609053497942387, 0.1710758377425044, 0.13298791018998274, 0.15459882583170254]\n"
     ]
    }
   ],
   "source": [
    "MD3_OSNs = pymaid.get_skids_by_annotation(['sensory neuron', 'left palp nerve', 'PSPs done', 'innervates MD3'], \n",
    "                                                intersect=True)\n",
    "\n",
    "MD3_OSNs = [uPN_synapses_over_OSN_synapses(i, '11126') for i in MD3_OSNs]\n",
    "\n",
    "MD3_OSNs = pd.DataFrame(MD3_OSNs).set_index('OSN id')\n",
    "md3_feedforward=MD3_OSNs['Feedforward Fraction'].tolist()\n",
    "print(md3_feedforward)\n",
    "md3_recurrent=MD3_OSNs['Recurrent Fraction'].tolist()\n",
    "print(md3_recurrent)\n"
   ]
  },
  {
   "cell_type": "code",
   "execution_count": 9,
   "id": "7a7de88e",
   "metadata": {},
   "outputs": [],
   "source": [
    "from seaborn.categorical import _ViolinPlotter\n",
    "class MyVPlot(_ViolinPlotter):\n",
    "    def draw_quartiles(self, ax, data, support, density, center, split=False, color='k'):\n",
    "        \"\"\"Draw the quartiles as lines at width of density.\"\"\"\n",
    "        q50 = np.mean(data)\n",
    "        self.draw_to_density(ax, center, q50, support, density, split,\n",
    "                             linewidth=self.linewidth, color=color)\n",
    "\n",
    "def my_violinplot2(x=None, y=None, hue=None, data=None, order=None, hue_order=None,\n",
    "                  bw=\"scott\", cut=0, scale=\"area\", scale_hue=True, gridsize=100,\n",
    "                  width=.8, inner=\"quartiles\", split=False, dodge=True, orient=None,\n",
    "                  linewidth=None, color=None, palette=None, saturation=.75,alpha=1,\n",
    "                  ax=None, edgecolor=None, **kwargs):\n",
    "\n",
    "    plotter = MyVPlot(x, y, hue, data, order, hue_order,\n",
    "                      bw, cut, scale, scale_hue, gridsize,\n",
    "                      width, inner, split, dodge, orient, linewidth,\n",
    "                      color, palette, saturation)\n",
    "    if ax is None:\n",
    "        ax = plt.gca()\n",
    "\n",
    "    plotter.plot(ax)\n",
    "    # change outlines\n",
    "    colors=[\"violet\", \"#0000FF\", 'mediumspringgreen']\n",
    "    for idx, violin in enumerate(ax.collections):\n",
    "        violin.set_edgecolor(colors[idx])\n",
    "    for l in ax.lines:\n",
    "        l.set_linestyle('-')\n",
    "        l.set_color('k')\n",
    "    return ax"
   ]
  },
  {
   "cell_type": "code",
   "execution_count": 10,
   "id": "1d2c6e70",
   "metadata": {},
   "outputs": [
    {
     "data": {
      "text/html": [
       "<div>\n",
       "<style scoped>\n",
       "    .dataframe tbody tr th:only-of-type {\n",
       "        vertical-align: middle;\n",
       "    }\n",
       "\n",
       "    .dataframe tbody tr th {\n",
       "        vertical-align: top;\n",
       "    }\n",
       "\n",
       "    .dataframe thead th {\n",
       "        text-align: right;\n",
       "    }\n",
       "</style>\n",
       "<table border=\"1\" class=\"dataframe\">\n",
       "  <thead>\n",
       "    <tr style=\"text-align: right;\">\n",
       "      <th></th>\n",
       "      <th>Glomerulus</th>\n",
       "      <th>OSN → uPN synapses as proportion of OSN → X synapses</th>\n",
       "    </tr>\n",
       "  </thead>\n",
       "  <tbody>\n",
       "    <tr>\n",
       "      <th>0</th>\n",
       "      <td>1</td>\n",
       "      <td>0.086300</td>\n",
       "    </tr>\n",
       "    <tr>\n",
       "      <th>1</th>\n",
       "      <td>1</td>\n",
       "      <td>0.094498</td>\n",
       "    </tr>\n",
       "    <tr>\n",
       "      <th>2</th>\n",
       "      <td>1</td>\n",
       "      <td>0.117278</td>\n",
       "    </tr>\n",
       "    <tr>\n",
       "      <th>3</th>\n",
       "      <td>1</td>\n",
       "      <td>0.085347</td>\n",
       "    </tr>\n",
       "    <tr>\n",
       "      <th>4</th>\n",
       "      <td>1</td>\n",
       "      <td>0.089009</td>\n",
       "    </tr>\n",
       "    <tr>\n",
       "      <th>5</th>\n",
       "      <td>1</td>\n",
       "      <td>0.098475</td>\n",
       "    </tr>\n",
       "    <tr>\n",
       "      <th>6</th>\n",
       "      <td>1</td>\n",
       "      <td>0.095207</td>\n",
       "    </tr>\n",
       "    <tr>\n",
       "      <th>7</th>\n",
       "      <td>1</td>\n",
       "      <td>0.100163</td>\n",
       "    </tr>\n",
       "    <tr>\n",
       "      <th>8</th>\n",
       "      <td>1</td>\n",
       "      <td>0.095328</td>\n",
       "    </tr>\n",
       "    <tr>\n",
       "      <th>9</th>\n",
       "      <td>1</td>\n",
       "      <td>0.111250</td>\n",
       "    </tr>\n",
       "    <tr>\n",
       "      <th>10</th>\n",
       "      <td>1</td>\n",
       "      <td>0.079042</td>\n",
       "    </tr>\n",
       "    <tr>\n",
       "      <th>11</th>\n",
       "      <td>2</td>\n",
       "      <td>0.203557</td>\n",
       "    </tr>\n",
       "    <tr>\n",
       "      <th>12</th>\n",
       "      <td>2</td>\n",
       "      <td>0.217899</td>\n",
       "    </tr>\n",
       "    <tr>\n",
       "      <th>13</th>\n",
       "      <td>2</td>\n",
       "      <td>0.235294</td>\n",
       "    </tr>\n",
       "    <tr>\n",
       "      <th>14</th>\n",
       "      <td>2</td>\n",
       "      <td>0.222445</td>\n",
       "    </tr>\n",
       "    <tr>\n",
       "      <th>15</th>\n",
       "      <td>2</td>\n",
       "      <td>0.180952</td>\n",
       "    </tr>\n",
       "    <tr>\n",
       "      <th>16</th>\n",
       "      <td>2</td>\n",
       "      <td>0.224900</td>\n",
       "    </tr>\n",
       "    <tr>\n",
       "      <th>17</th>\n",
       "      <td>2</td>\n",
       "      <td>0.253796</td>\n",
       "    </tr>\n",
       "    <tr>\n",
       "      <th>18</th>\n",
       "      <td>2</td>\n",
       "      <td>0.218684</td>\n",
       "    </tr>\n",
       "    <tr>\n",
       "      <th>19</th>\n",
       "      <td>2</td>\n",
       "      <td>0.219231</td>\n",
       "    </tr>\n",
       "    <tr>\n",
       "      <th>20</th>\n",
       "      <td>2</td>\n",
       "      <td>0.203187</td>\n",
       "    </tr>\n",
       "    <tr>\n",
       "      <th>21</th>\n",
       "      <td>3</td>\n",
       "      <td>0.287072</td>\n",
       "    </tr>\n",
       "    <tr>\n",
       "      <th>22</th>\n",
       "      <td>3</td>\n",
       "      <td>0.314672</td>\n",
       "    </tr>\n",
       "    <tr>\n",
       "      <th>23</th>\n",
       "      <td>3</td>\n",
       "      <td>0.302428</td>\n",
       "    </tr>\n",
       "    <tr>\n",
       "      <th>24</th>\n",
       "      <td>3</td>\n",
       "      <td>0.283677</td>\n",
       "    </tr>\n",
       "    <tr>\n",
       "      <th>25</th>\n",
       "      <td>3</td>\n",
       "      <td>0.281746</td>\n",
       "    </tr>\n",
       "    <tr>\n",
       "      <th>26</th>\n",
       "      <td>3</td>\n",
       "      <td>0.259717</td>\n",
       "    </tr>\n",
       "    <tr>\n",
       "      <th>27</th>\n",
       "      <td>3</td>\n",
       "      <td>0.300412</td>\n",
       "    </tr>\n",
       "    <tr>\n",
       "      <th>28</th>\n",
       "      <td>3</td>\n",
       "      <td>0.275132</td>\n",
       "    </tr>\n",
       "    <tr>\n",
       "      <th>29</th>\n",
       "      <td>3</td>\n",
       "      <td>0.286701</td>\n",
       "    </tr>\n",
       "    <tr>\n",
       "      <th>30</th>\n",
       "      <td>3</td>\n",
       "      <td>0.301370</td>\n",
       "    </tr>\n",
       "  </tbody>\n",
       "</table>\n",
       "</div>"
      ],
      "text/plain": [
       "   Glomerulus  OSN → uPN synapses as proportion of OSN → X synapses\n",
       "0           1                                           0.086300   \n",
       "1           1                                           0.094498   \n",
       "2           1                                           0.117278   \n",
       "3           1                                           0.085347   \n",
       "4           1                                           0.089009   \n",
       "5           1                                           0.098475   \n",
       "6           1                                           0.095207   \n",
       "7           1                                           0.100163   \n",
       "8           1                                           0.095328   \n",
       "9           1                                           0.111250   \n",
       "10          1                                           0.079042   \n",
       "11          2                                           0.203557   \n",
       "12          2                                           0.217899   \n",
       "13          2                                           0.235294   \n",
       "14          2                                           0.222445   \n",
       "15          2                                           0.180952   \n",
       "16          2                                           0.224900   \n",
       "17          2                                           0.253796   \n",
       "18          2                                           0.218684   \n",
       "19          2                                           0.219231   \n",
       "20          2                                           0.203187   \n",
       "21          3                                           0.287072   \n",
       "22          3                                           0.314672   \n",
       "23          3                                           0.302428   \n",
       "24          3                                           0.283677   \n",
       "25          3                                           0.281746   \n",
       "26          3                                           0.259717   \n",
       "27          3                                           0.300412   \n",
       "28          3                                           0.275132   \n",
       "29          3                                           0.286701   \n",
       "30          3                                           0.301370   "
      ]
     },
     "execution_count": 10,
     "metadata": {},
     "output_type": "execute_result"
    }
   ],
   "source": [
    "#make dataframe#make dataframe\n",
    "\n",
    "data_dict = {\"1\": md1_feedforward, \"2\": md2_feedforward, \"3\": md3_feedforward}\n",
    "pre_df = {\"Glomerulus\": [], \"OSN → uPN synapses as proportion of OSN → X synapses\": []}\n",
    "for glom, dists in data_dict.items():\n",
    "    glom_list = [glom,]*len(dists)\n",
    "    pre_df[\"Glomerulus\"].extend(glom_list)    \n",
    "    pre_df[\"OSN → uPN synapses as proportion of OSN → X synapses\"].extend(dists)\n",
    "\n",
    "df = pd.DataFrame.from_dict(pre_df)\n",
    "df"
   ]
  },
  {
   "cell_type": "code",
   "execution_count": 11,
   "id": "5a50c22c",
   "metadata": {},
   "outputs": [
    {
     "name": "stdout",
     "output_type": "stream",
     "text": [
      "KruskalResult(statistic=26.673387096774192, pvalue=1.6141637320276117e-06)\n"
     ]
    }
   ],
   "source": [
    "#feedforward statistics\n",
    "kruskal=stats.kruskal(md1_feedforward, md2_feedforward, md3_feedforward)\n",
    "print(kruskal)"
   ]
  },
  {
   "cell_type": "code",
   "execution_count": 14,
   "id": "4f9ca803",
   "metadata": {},
   "outputs": [
    {
     "data": {
      "text/html": [
       "<div>\n",
       "<style scoped>\n",
       "    .dataframe tbody tr th:only-of-type {\n",
       "        vertical-align: middle;\n",
       "    }\n",
       "\n",
       "    .dataframe tbody tr th {\n",
       "        vertical-align: top;\n",
       "    }\n",
       "\n",
       "    .dataframe thead th {\n",
       "        text-align: right;\n",
       "    }\n",
       "</style>\n",
       "<table border=\"1\" class=\"dataframe\">\n",
       "  <thead>\n",
       "    <tr style=\"text-align: right;\">\n",
       "      <th></th>\n",
       "      <th>1</th>\n",
       "      <th>2</th>\n",
       "      <th>3</th>\n",
       "    </tr>\n",
       "  </thead>\n",
       "  <tbody>\n",
       "    <tr>\n",
       "      <th>1</th>\n",
       "      <td>1.000000e+00</td>\n",
       "      <td>0.024646</td>\n",
       "      <td>7.396449e-07</td>\n",
       "    </tr>\n",
       "    <tr>\n",
       "      <th>2</th>\n",
       "      <td>2.464648e-02</td>\n",
       "      <td>1.000000</td>\n",
       "      <td>4.175702e-02</td>\n",
       "    </tr>\n",
       "    <tr>\n",
       "      <th>3</th>\n",
       "      <td>7.396449e-07</td>\n",
       "      <td>0.041757</td>\n",
       "      <td>1.000000e+00</td>\n",
       "    </tr>\n",
       "  </tbody>\n",
       "</table>\n",
       "</div>"
      ],
      "text/plain": [
       "              1         2             3\n",
       "1  1.000000e+00  0.024646  7.396449e-07\n",
       "2  2.464648e-02  1.000000  4.175702e-02\n",
       "3  7.396449e-07  0.041757  1.000000e+00"
      ]
     },
     "execution_count": 14,
     "metadata": {},
     "output_type": "execute_result"
    }
   ],
   "source": [
    "sp.posthoc_dunn([md1_feedforward, md2_feedforward, md3_feedforward], p_adjust = 'bonferroni')"
   ]
  },
  {
   "cell_type": "code",
   "execution_count": 15,
   "id": "7135212d",
   "metadata": {},
   "outputs": [
    {
     "name": "stdout",
     "output_type": "stream",
     "text": [
      "KruskalResult(statistic=18.801026392961873, pvalue=8.268162274898113e-05)\n"
     ]
    }
   ],
   "source": [
    "#recurrent statistics\n",
    "kruskalr=stats.kruskal(md1_recurrent, md2_recurrent, md3_recurrent)\n",
    "print(kruskalr)"
   ]
  },
  {
   "cell_type": "code",
   "execution_count": 16,
   "id": "77e4ac79",
   "metadata": {},
   "outputs": [
    {
     "data": {
      "text/html": [
       "<div>\n",
       "<style scoped>\n",
       "    .dataframe tbody tr th:only-of-type {\n",
       "        vertical-align: middle;\n",
       "    }\n",
       "\n",
       "    .dataframe tbody tr th {\n",
       "        vertical-align: top;\n",
       "    }\n",
       "\n",
       "    .dataframe thead th {\n",
       "        text-align: right;\n",
       "    }\n",
       "</style>\n",
       "<table border=\"1\" class=\"dataframe\">\n",
       "  <thead>\n",
       "    <tr style=\"text-align: right;\">\n",
       "      <th></th>\n",
       "      <th>1</th>\n",
       "      <th>2</th>\n",
       "      <th>3</th>\n",
       "    </tr>\n",
       "  </thead>\n",
       "  <tbody>\n",
       "    <tr>\n",
       "      <th>1</th>\n",
       "      <td>1.000000</td>\n",
       "      <td>0.000101</td>\n",
       "      <td>0.006019</td>\n",
       "    </tr>\n",
       "    <tr>\n",
       "      <th>2</th>\n",
       "      <td>0.000101</td>\n",
       "      <td>1.000000</td>\n",
       "      <td>0.904916</td>\n",
       "    </tr>\n",
       "    <tr>\n",
       "      <th>3</th>\n",
       "      <td>0.006019</td>\n",
       "      <td>0.904916</td>\n",
       "      <td>1.000000</td>\n",
       "    </tr>\n",
       "  </tbody>\n",
       "</table>\n",
       "</div>"
      ],
      "text/plain": [
       "          1         2         3\n",
       "1  1.000000  0.000101  0.006019\n",
       "2  0.000101  1.000000  0.904916\n",
       "3  0.006019  0.904916  1.000000"
      ]
     },
     "execution_count": 16,
     "metadata": {},
     "output_type": "execute_result"
    }
   ],
   "source": [
    "sp.posthoc_dunn([md1_recurrent, md2_recurrent, md3_recurrent], p_adjust = 'bonferroni')"
   ]
  },
  {
   "cell_type": "code",
   "execution_count": null,
   "id": "abd65254",
   "metadata": {},
   "outputs": [
    {
     "name": "stderr",
     "output_type": "stream",
     "text": [
      "/tmp/ipykernel_14691/3020667090.py:5: FutureWarning: Passing `palette` without assigning `hue` is deprecated.\n",
      "  ax = sns.stripplot(data=df, x=x, y=y, order=order, palette=[\"violet\", \"#0000FF\", \"mediumspringgreen\"])\n"
     ]
    },
    {
     "name": "stdout",
     "output_type": "stream",
     "text": [
      "1 v.s. 2: Mann-Whitney-Wilcoxon test two-sided with Bonferroni correction, P_val=3.725e-04 U_stat=0.000e+00\n",
      "2 v.s. 3: Mann-Whitney-Wilcoxon test two-sided with Bonferroni correction, P_val=5.480e-04 U_stat=0.000e+00\n",
      "1 v.s. 3: Mann-Whitney-Wilcoxon test two-sided with Bonferroni correction, P_val=3.725e-04 U_stat=0.000e+00\n"
     ]
    },
    {
     "data": {
      "image/png": "[encoded data removed]",
      "text/plain": [
       "<Figure size 640x480 with 1 Axes>"
      ]
     },
     "metadata": {},
     "output_type": "display_data"
    }
   ],
   "source": [
    "x = \"Glomerulus\"\n",
    "y = \"OSN → uPN synapses as proportion of OSN → X synapses\"\n",
    "order = ['1', '2', '3']\n",
    "ax = my_violinplot2(data=df, x=x, y=y, order=order, color=\"1\")\n",
    "ax = sns.stripplot(data=df, x=x, y=y, order=order, palette=[\"violet\", \"#0000FF\", \"mediumspringgreen\"])\n",
    "ax.set_xlabel('Glomerulus', size=12, fontname=\"Liberation Sans\")\n",
    "ax.set_ylabel('Fraction of total synapses', size=12, fontname=\"Liberation Sans\")\n",
    "ax.set_aspect(16)\n",
    "plt.ylim(0,0.35)\n",
    "plt.tick_params(axis='x', which='both', bottom=False, top=False)\n",
    "plt.tick_params(axis='y', which='both', left=True, right=False)\n",
    "sns.despine(fig=None, ax=None, top=True, right=True, left=False, bottom=True, offset=None, trim=False)\n",
    "add_stat_annotation(ax, data=df, x=x, y=y, order=order,\n",
    "                    box_pairs=[(\"1\", \"2\"), (\"1\", \"3\"), (\"2\", \"3\")],\n",
    "                    test='Mann-Whitney', text_format='simple', loc='outside', verbose=2)\n",
    "plt.savefig('/home/jb534/pymaid_scripts/aedes/aedes/svg/feedforward_proportion.svg', format=\"svg\")\n",
    "plt.show()"
   ]
  },
  {
   "cell_type": "code",
   "execution_count": null,
   "id": "71abafaf",
   "metadata": {},
   "outputs": [
    {
     "data": {
      "text/html": [
       "<div>\n",
       "<style scoped>\n",
       "    .dataframe tbody tr th:only-of-type {\n",
       "        vertical-align: middle;\n",
       "    }\n",
       "\n",
       "    .dataframe tbody tr th {\n",
       "        vertical-align: top;\n",
       "    }\n",
       "\n",
       "    .dataframe thead th {\n",
       "        text-align: right;\n",
       "    }\n",
       "</style>\n",
       "<table border=\"1\" class=\"dataframe\">\n",
       "  <thead>\n",
       "    <tr style=\"text-align: right;\">\n",
       "      <th></th>\n",
       "      <th>Glomerulus</th>\n",
       "      <th>OSN → OSN synapses as proportion of OSN → X synapses</th>\n",
       "    </tr>\n",
       "  </thead>\n",
       "  <tbody>\n",
       "    <tr>\n",
       "      <th>0</th>\n",
       "      <td>1</td>\n",
       "      <td>0.181230</td>\n",
       "    </tr>\n",
       "    <tr>\n",
       "      <th>1</th>\n",
       "      <td>1</td>\n",
       "      <td>0.172249</td>\n",
       "    </tr>\n",
       "    <tr>\n",
       "      <th>2</th>\n",
       "      <td>1</td>\n",
       "      <td>0.214861</td>\n",
       "    </tr>\n",
       "    <tr>\n",
       "      <th>3</th>\n",
       "      <td>1</td>\n",
       "      <td>0.225076</td>\n",
       "    </tr>\n",
       "    <tr>\n",
       "      <th>4</th>\n",
       "      <td>1</td>\n",
       "      <td>0.232972</td>\n",
       "    </tr>\n",
       "    <tr>\n",
       "      <th>5</th>\n",
       "      <td>1</td>\n",
       "      <td>0.231893</td>\n",
       "    </tr>\n",
       "    <tr>\n",
       "      <th>6</th>\n",
       "      <td>1</td>\n",
       "      <td>0.219304</td>\n",
       "    </tr>\n",
       "    <tr>\n",
       "      <th>7</th>\n",
       "      <td>1</td>\n",
       "      <td>0.166032</td>\n",
       "    </tr>\n",
       "    <tr>\n",
       "      <th>8</th>\n",
       "      <td>1</td>\n",
       "      <td>0.195076</td>\n",
       "    </tr>\n",
       "    <tr>\n",
       "      <th>9</th>\n",
       "      <td>1</td>\n",
       "      <td>0.185000</td>\n",
       "    </tr>\n",
       "    <tr>\n",
       "      <th>10</th>\n",
       "      <td>1</td>\n",
       "      <td>0.159880</td>\n",
       "    </tr>\n",
       "    <tr>\n",
       "      <th>11</th>\n",
       "      <td>2</td>\n",
       "      <td>0.118577</td>\n",
       "    </tr>\n",
       "    <tr>\n",
       "      <th>12</th>\n",
       "      <td>2</td>\n",
       "      <td>0.167315</td>\n",
       "    </tr>\n",
       "    <tr>\n",
       "      <th>13</th>\n",
       "      <td>2</td>\n",
       "      <td>0.171765</td>\n",
       "    </tr>\n",
       "    <tr>\n",
       "      <th>14</th>\n",
       "      <td>2</td>\n",
       "      <td>0.100200</td>\n",
       "    </tr>\n",
       "    <tr>\n",
       "      <th>15</th>\n",
       "      <td>2</td>\n",
       "      <td>0.131429</td>\n",
       "    </tr>\n",
       "    <tr>\n",
       "      <th>16</th>\n",
       "      <td>2</td>\n",
       "      <td>0.126506</td>\n",
       "    </tr>\n",
       "    <tr>\n",
       "      <th>17</th>\n",
       "      <td>2</td>\n",
       "      <td>0.134490</td>\n",
       "    </tr>\n",
       "    <tr>\n",
       "      <th>18</th>\n",
       "      <td>2</td>\n",
       "      <td>0.125265</td>\n",
       "    </tr>\n",
       "    <tr>\n",
       "      <th>19</th>\n",
       "      <td>2</td>\n",
       "      <td>0.150000</td>\n",
       "    </tr>\n",
       "    <tr>\n",
       "      <th>20</th>\n",
       "      <td>2</td>\n",
       "      <td>0.111554</td>\n",
       "    </tr>\n",
       "    <tr>\n",
       "      <th>21</th>\n",
       "      <td>3</td>\n",
       "      <td>0.167300</td>\n",
       "    </tr>\n",
       "    <tr>\n",
       "      <th>22</th>\n",
       "      <td>3</td>\n",
       "      <td>0.129594</td>\n",
       "    </tr>\n",
       "    <tr>\n",
       "      <th>23</th>\n",
       "      <td>3</td>\n",
       "      <td>0.128035</td>\n",
       "    </tr>\n",
       "    <tr>\n",
       "      <th>24</th>\n",
       "      <td>3</td>\n",
       "      <td>0.136725</td>\n",
       "    </tr>\n",
       "    <tr>\n",
       "      <th>25</th>\n",
       "      <td>3</td>\n",
       "      <td>0.158317</td>\n",
       "    </tr>\n",
       "    <tr>\n",
       "      <th>26</th>\n",
       "      <td>3</td>\n",
       "      <td>0.153710</td>\n",
       "    </tr>\n",
       "    <tr>\n",
       "      <th>27</th>\n",
       "      <td>3</td>\n",
       "      <td>0.145530</td>\n",
       "    </tr>\n",
       "    <tr>\n",
       "      <th>28</th>\n",
       "      <td>3</td>\n",
       "      <td>0.171986</td>\n",
       "    </tr>\n",
       "    <tr>\n",
       "      <th>29</th>\n",
       "      <td>3</td>\n",
       "      <td>0.132988</td>\n",
       "    </tr>\n",
       "    <tr>\n",
       "      <th>30</th>\n",
       "      <td>3</td>\n",
       "      <td>0.154599</td>\n",
       "    </tr>\n",
       "  </tbody>\n",
       "</table>\n",
       "</div>"
      ],
      "text/plain": [
       "   Glomerulus  OSN → OSN synapses as proportion of OSN → X synapses\n",
       "0           1                                           0.181230   \n",
       "1           1                                           0.172249   \n",
       "2           1                                           0.214861   \n",
       "3           1                                           0.225076   \n",
       "4           1                                           0.232972   \n",
       "5           1                                           0.231893   \n",
       "6           1                                           0.219304   \n",
       "7           1                                           0.166032   \n",
       "8           1                                           0.195076   \n",
       "9           1                                           0.185000   \n",
       "10          1                                           0.159880   \n",
       "11          2                                           0.118577   \n",
       "12          2                                           0.167315   \n",
       "13          2                                           0.171765   \n",
       "14          2                                           0.100200   \n",
       "15          2                                           0.131429   \n",
       "16          2                                           0.126506   \n",
       "17          2                                           0.134490   \n",
       "18          2                                           0.125265   \n",
       "19          2                                           0.150000   \n",
       "20          2                                           0.111554   \n",
       "21          3                                           0.167300   \n",
       "22          3                                           0.129594   \n",
       "23          3                                           0.128035   \n",
       "24          3                                           0.136725   \n",
       "25          3                                           0.158317   \n",
       "26          3                                           0.153710   \n",
       "27          3                                           0.145530   \n",
       "28          3                                           0.171986   \n",
       "29          3                                           0.132988   \n",
       "30          3                                           0.154599   "
      ]
     },
     "execution_count": 31,
     "metadata": {},
     "output_type": "execute_result"
    }
   ],
   "source": [
    "#make dataframe#make dataframe\n",
    "\n",
    "data_dict = {\"1\": md1_recurrent, \"2\": md2_recurrent, \"3\": md3_recurrent}\n",
    "pre_df = {\"Glomerulus\": [], \"OSN → OSN synapses as proportion of OSN → X synapses\": []}\n",
    "for glom, dists in data_dict.items():\n",
    "    glom_list = [glom,]*len(dists)\n",
    "    pre_df[\"Glomerulus\"].extend(glom_list)    \n",
    "    pre_df[\"OSN → OSN synapses as proportion of OSN → X synapses\"].extend(dists)\n",
    "\n",
    "df = pd.DataFrame.from_dict(pre_df)\n",
    "df"
   ]
  },
  {
   "cell_type": "code",
   "execution_count": null,
   "id": "775c1089",
   "metadata": {},
   "outputs": [
    {
     "name": "stderr",
     "output_type": "stream",
     "text": [
      "/tmp/ipykernel_14691/644893159.py:6: FutureWarning: Passing `palette` without assigning `hue` is deprecated.\n",
      "  ax = sns.stripplot(data=df, x=x, y=y, order=order, palette=[\"violet\", \"#0000FF\", \"mediumspringgreen\"])\n"
     ]
    },
    {
     "name": "stdout",
     "output_type": "stream",
     "text": [
      "1 v.s. 2: Mann-Whitney-Wilcoxon test two-sided with Bonferroni correction, P_val=1.129e-03 U_stat=1.060e+02\n",
      "2 v.s. 3: Mann-Whitney-Wilcoxon test two-sided with Bonferroni correction, P_val=3.123e-01 U_stat=2.800e+01\n",
      "1 v.s. 3: Mann-Whitney-Wilcoxon test two-sided with Bonferroni correction, P_val=1.129e-03 U_stat=1.060e+02\n"
     ]
    },
    {
     "data": {
      "image/png": "[encoded data removed]",
      "text/plain": [
       "<Figure size 640x480 with 1 Axes>"
      ]
     },
     "metadata": {},
     "output_type": "display_data"
    }
   ],
   "source": [
    "#make violinplot\n",
    "x = \"Glomerulus\"\n",
    "y = \"OSN → OSN synapses as proportion of OSN → X synapses\"\n",
    "order = ['1', '2', '3']\n",
    "ax = my_violinplot2(data=df, x=x, y=y, order=order, color=\"1\")\n",
    "ax = sns.stripplot(data=df, x=x, y=y, order=order, palette=[\"violet\", \"#0000FF\", \"mediumspringgreen\"])\n",
    "ax.set_xlabel('Glomerulus', size=12, fontname=\"Liberation Sans\")\n",
    "ax.set_ylabel('Fraction of total synapses', size=12, fontname=\"Liberation Sans\")\n",
    "plt.ylim(0,0.26)\n",
    "ax.set_aspect(25)\n",
    "plt.tick_params(axis='x', which='both', bottom=False, top=False)\n",
    "plt.tick_params(axis='y', which='both', left=True, right=False)\n",
    "sns.despine(fig=None, ax=None, top=True, right=True, left=False, bottom=True, offset=None, trim=False)\n",
    "add_stat_annotation(ax, data=df, x=x, y=y, order=order,\n",
    "                    box_pairs=[(\"1\", \"2\"), (\"1\", \"3\"), (\"2\", \"3\")],\n",
    "                    test='Mann-Whitney', text_format='simple', loc='outside', verbose=2)\n",
    "plt.savefig('/home/jb534/pymaid_scripts/aedes/aedes/svg/recurrent_proportion.svg', format=\"svg\")\n",
    "plt.show()"
   ]
  }
 ],
 "metadata": {
  "kernelspec": {
   "display_name": "Python 3.9.15 ('wuzzy')",
   "language": "python",
   "name": "python3"
  },
  "language_info": {
   "codemirror_mode": {
    "name": "ipython",
    "version": 3
   },
   "file_extension": ".py",
   "mimetype": "text/x-python",
   "name": "python",
   "nbconvert_exporter": "python",
   "pygments_lexer": "ipython3",
   "version": "3.9.15"
  },
  "vscode": {
   "interpreter": {
    "hash": "bbc61e08eb74b41ad38e0e06b5d47af793336d408360cccbd7d9a84e8f2bb674"
   }
  }
 },
 "nbformat": 4,
 "nbformat_minor": 5
}
